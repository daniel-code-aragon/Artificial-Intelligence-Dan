{
 "cells": [
  {
   "cell_type": "markdown",
   "id": "cb4ce55f-c353-45d9-a0ef-c2750e85d76d",
   "metadata": {},
   "source": [
    "# Examen Segunda Convocatoria"
   ]
  },
  {
   "cell_type": "code",
   "execution_count": 1,
   "id": "671f00d7-26e0-48d9-88fd-65963c684c14",
   "metadata": {},
   "outputs": [],
   "source": [
    "# Your imports HERE !!!!\n",
    "import pandas as pd\n",
    "import numpy as np"
   ]
  },
  {
   "cell_type": "markdown",
   "id": "d9c0e9c1-1a49-422e-8185-7e98384d36b5",
   "metadata": {
    "tags": []
   },
   "source": [
    "## 01 - 1pt\n",
    "- Crear una función que devuelva si un año es bisiesto o no\n",
    "- Un año es bisiesto si es divisible entre 4, excepto aquellos divisibles entre 100 pero no entre 400"
   ]
  },
  {
   "cell_type": "code",
   "execution_count": 4,
   "id": "464e7564-1460-4006-8cde-71d6c07a92bc",
   "metadata": {},
   "outputs": [],
   "source": [
    "leaps = [year for year in range(0, 2021) if is_leap(year)]  # This calls your function is_leap\n",
    "assert(len(leaps) == 491)  # This will fail if the number of leap years from year 0 is not 491"
   ]
  },
  {
   "cell_type": "code",
   "execution_count": 3,
   "id": "963cf49b-1f1f-4cad-b3b9-2445f82baf0a",
   "metadata": {},
   "outputs": [],
   "source": [
    "# Your solution HERE !!!!\n",
    "\n",
    "\n",
    "def is_leap(year):\n",
    "    years=[]\n",
    "    \n",
    "    #for i in range(2021):\n",
    "        #print(i)\n",
    "    if not year % 4 and (year % 100 or not year % 400):\n",
    "            #years.append(i)\n",
    "        return True\n",
    "    \n",
    "         \n",
    "    #print(len(years))\n",
    "        \n"
   ]
  },
  {
   "cell_type": "markdown",
   "id": "5a8a3b4a-913b-4ab5-9998-59981154f228",
   "metadata": {
    "tags": []
   },
   "source": [
    "## 02 - 1pt\n",
    "- Resolución de dos sistemas de ecuaciones\n",
    "    - $ A : \\begin{cases} x +  2y = 14 \\\\ -3y + 11x = 4                         \\end{cases}$\n",
    "    \n",
    "    - $ B : \\begin{cases} -4z + 2y = 5 \\\\ 2y + z = -12 \\\\ -x -2z + 2y = -2 \\end{cases}$\n",
    "- Verifica por código los resultados"
   ]
  },
  {
   "cell_type": "code",
   "execution_count": 5,
   "id": "563e1718-5a41-4798-ad4f-70434a5667c4",
   "metadata": {},
   "outputs": [
    {
     "name": "stdout",
     "output_type": "stream",
     "text": [
      "[2. 6.]\n",
      "[ 0.2 -4.3 -3.4]\n"
     ]
    }
   ],
   "source": [
    "# Your solution HERE !!!!\n",
    "A1 = np.array([[1, 2], [11, -3]])\n",
    "As = np.array([14, 4])\n",
    "sol1 = np.linalg.solve(A1,As)\n",
    "\n",
    "print(sol1)\n",
    "\n",
    "\n",
    "\n",
    "B1 = np.array([[0, 2, -4], [0, 2, 1], [-1, 2, -2]])\n",
    "Bs = np.array([5, -12, -2])\n",
    "sol2 = np.linalg.solve(B1,Bs)\n",
    "\n",
    "print(sol2)"
   ]
  },
  {
   "cell_type": "markdown",
   "id": "613d5513-f1a0-41b4-98d9-0f43d8303109",
   "metadata": {
    "tags": []
   },
   "source": [
    "## 03 - 1pt\n",
    "- Dadas dos Series de Pandas, implementar una función 'find_not_common' para encontrar los elementos no comunes a ambas Series"
   ]
  },
  {
   "cell_type": "code",
   "execution_count": 7,
   "id": "f61b0f0f-2dfd-4cf8-920f-f49b6c579960",
   "metadata": {},
   "outputs": [
    {
     "name": "stdout",
     "output_type": "stream",
     "text": [
      "0     4\n",
      "1     6\n",
      "2    14\n",
      "3    16\n",
      "dtype: int64\n",
      "Int64Index([1, 2, 6, 7], dtype='int64')\n",
      "Int64Index([0, 1, 2, 3], dtype='int64')\n"
     ]
    }
   ],
   "source": [
    "p1 = pd.Series([2, 4, 12, 6, 8, 10])\n",
    "p2 = pd.Series([8, 10, 12, 10, 14, 2, 16, 10])\n",
    "expected_not_common = pd.Series([4, 6, 14, 16])\n",
    "print(expected_not_common)\n",
    "not_common = find_not_common(p1, p2)  # This calls tour function find_not_common\n",
    "assert(not_common.equals(expected_not_common)) # This fails if the result is not as expected"
   ]
  },
  {
   "cell_type": "code",
   "execution_count": 8,
   "id": "305d0d60-61e5-40a7-91b5-4f9f9f89a88a",
   "metadata": {},
   "outputs": [
    {
     "name": "stdout",
     "output_type": "stream",
     "text": [
      "Int64Index([1, 2, 6, 7], dtype='int64')\n",
      "Int64Index([0, 1, 2, 3], dtype='int64')\n"
     ]
    },
    {
     "data": {
      "text/plain": [
       "0     4\n",
       "1     6\n",
       "2    14\n",
       "3    16\n",
       "dtype: int64"
      ]
     },
     "execution_count": 8,
     "metadata": {},
     "output_type": "execute_result"
    }
   ],
   "source": [
    "# Your solution HERE !!!!\n",
    "\n",
    "def find_not_common(p1,p2):\n",
    "    union = pd.Series(np.union1d(p1, p2))\n",
    "  \n",
    "    # intersection of the series\n",
    "    intersect = pd.Series(np.intersect1d(p1, p2))\n",
    "\n",
    "    # uncommon elements in both the series \n",
    "    notcommonseries = union[~union.isin(intersect)]\n",
    "    \n",
    "    print(notcommonseries.index)\n",
    "    \n",
    "    notcommonseries.index = [0,1,2,3]\n",
    "    print(notcommonseries.index)\n",
    "    return notcommonseries\n",
    "    \n",
    "\n",
    "find_not_common(p1,p2)   \n"
   ]
  },
  {
   "cell_type": "markdown",
   "id": "70a4ae51-7d2d-4b69-9cf4-29fa2bdefd94",
   "metadata": {},
   "source": [
    "## 04 - 1pt\n",
    "- Crear un array de NumPy de dimensiones 6x4, con números enteros aleatorios en el rango [-20, 20]\n",
    "- Reemplazar todos los valores impares por 1, y todos los valores pares positivos por 0, y los pares negativos por Nan\n",
    "- Averiguar cuantos elementos tienen Nan por fila"
   ]
  },
  {
   "cell_type": "code",
   "execution_count": 9,
   "id": "c675c93f-89af-4518-b676-b46ce59407f5",
   "metadata": {},
   "outputs": [
    {
     "name": "stdout",
     "output_type": "stream",
     "text": [
      "[[ -1 -18  -8  15]\n",
      " [ -1  -6  -1  18]\n",
      " [-15 -20  16 -11]\n",
      " [-11  -2   2  19]\n",
      " [ -4  19 -10  -8]\n",
      " [  9  11   8   8]] \n",
      "\n",
      "[[  1 -18  -8   1]\n",
      " [  1  -6   1  18]\n",
      " [  1 -20  16   1]\n",
      " [  1  -2   2   1]\n",
      " [ -4   1 -10  -8]\n",
      " [  1   1   8   8]] \n",
      "\n",
      "[[  1 -18  -8   1]\n",
      " [  1  -6   1   0]\n",
      " [  1 -20   0   1]\n",
      " [  1  -2   0   1]\n",
      " [ -4   1 -10  -8]\n",
      " [  1   1   0   0]] \n",
      "\n",
      "[[ 1. nan nan  1.]\n",
      " [ 1. nan  1.  0.]\n",
      " [ 1. nan  0.  1.]\n",
      " [ 1. nan  0.  1.]\n",
      " [nan  1. nan nan]\n",
      " [ 1.  1.  0.  0.]] \n",
      "\n",
      "\n",
      "Cantidad de elementos NaN por fila:\n",
      "[2 1 1 1 3 0]\n"
     ]
    }
   ],
   "source": [
    "# Your solution HERE !!!!\n",
    "\n",
    "matriz = np.random.randint(-20, 21, size=(6, 4))\n",
    "print(matriz, '\\n')\n",
    "\n",
    "# Reemplaza los valores impares por 1\n",
    "matriz = np.where(matriz% 2 != 0, 1, matriz)\n",
    "print(matriz,'\\n')\n",
    "\n",
    "# Reemplaza los valores pares positivos por 0\n",
    "matriz = np.where((matriz % 2 == 0) &( matriz > 0), 0, matriz)\n",
    "print(matriz,'\\n')\n",
    "\n",
    "# Reemplaza los valores pares negativos por Nan\n",
    "matriz = np.where((matriz % 2 == 0) &( matriz < 0), np.nan, matriz)\n",
    "print(matriz,'\\n')\n",
    "\n",
    "# Averigua cuántos elementos tienen NaN por fila\n",
    "elementos_nan_por_fila = np.sum(np.isnan(matriz), axis=1)\n",
    "\n",
    "\n",
    "# Imprime la cantidad de elementos NaN por fila\n",
    "print(\"\\nCantidad de elementos NaN por fila:\")\n",
    "print(elementos_nan_por_fila)\n"
   ]
  },
  {
   "cell_type": "markdown",
   "id": "2a06efaa-bf48-41d2-8915-57a28c58bd1e",
   "metadata": {
    "tags": []
   },
   "source": [
    "## 05 - 1pt\n",
    "- Dado un diccionario con una lista de nombres de películas y al año concatenado, crear una función que devuelva un DataFrame con dos columnas:\n",
    "  - Columna 1, el nombre de la película sin el año\n",
    "  - Columna 2, el año de la película"
   ]
  },
  {
   "cell_type": "code",
   "execution_count": 12,
   "id": "249b3861-d410-4703-97e3-f612b9630f9c",
   "metadata": {},
   "outputs": [
    {
     "name": "stdout",
     "output_type": "stream",
     "text": [
      "['Matrix', 'Cadena Perpetua', 'Parasitos', 'Vengadores, Endgame', 'Interstellar', 'Django Desencadenado', 'El Padrino', 'El Caballero Oscuro', 'Erase Una Vez En America', 'El Senyor de los Anillos, La Comunidad del Anillo']\n",
      "['1999', '1994', '2019', '2019', '2014', '2012', '1972', '2008', '1984', '2001']\n"
     ]
    }
   ],
   "source": [
    "movies = {'Name': [\"Matrix - 1999\", \"Cadena Perpetua - 1994\", \"Parasitos - 2019\", \"Vengadores, Endgame - 2019\", \"Interstellar - 2014\", \n",
    "                   \"Django Desencadenado - 2012\", \"El Padrino - 1972\", \"El Caballero Oscuro - 2008\", \"Erase Una Vez En America - 1984\", \n",
    "                   \"El Senyor de los Anillos, La Comunidad del Anillo - 2001\"]}\n",
    "expected_output = pd.DataFrame({'Name':[\"Matrix\", \"Cadena Perpetua\", \"Parasitos\", \"Vengadores, Endgame\", \"Interstellar\", \"Django Desencadenado\", \n",
    "                                        \"El Padrino\", \"El Caballero Oscuro\", \"Erase Una Vez En America\", \"El Senyor de los Anillos, La Comunidad del Anillo\"],\n",
    "                                'Year':[\"1999\", \"1994\", \"2019\", \"2019\", \"2014\", \"2012\", \"1972\", \"2008\", \"1984\", \"2001\"]})\n",
    "output = extract_year(movies)   # This will call your function extract_year\n",
    "assert(expected_output.equals(output))  # This will fail if the result is not as expected"
   ]
  },
  {
   "cell_type": "code",
   "execution_count": 11,
   "id": "fe8e03f4-1a07-4bd3-8975-644f54a02992",
   "metadata": {
    "tags": []
   },
   "outputs": [
    {
     "name": "stdout",
     "output_type": "stream",
     "text": [
      "['Matrix', 'Cadena Perpetua', 'Parasitos', 'Vengadores, Endgame', 'Interstellar', 'Django Desencadenado', 'El Padrino', 'El Caballero Oscuro', 'Erase Una Vez En America', 'El Senyor de los Anillos, La Comunidad del Anillo']\n",
      "['1999', '1994', '2019', '2019', '2014', '2012', '1972', '2008', '1984', '2001']\n"
     ]
    },
    {
     "data": {
      "text/html": [
       "<div>\n",
       "<style scoped>\n",
       "    .dataframe tbody tr th:only-of-type {\n",
       "        vertical-align: middle;\n",
       "    }\n",
       "\n",
       "    .dataframe tbody tr th {\n",
       "        vertical-align: top;\n",
       "    }\n",
       "\n",
       "    .dataframe thead th {\n",
       "        text-align: right;\n",
       "    }\n",
       "</style>\n",
       "<table border=\"1\" class=\"dataframe\">\n",
       "  <thead>\n",
       "    <tr style=\"text-align: right;\">\n",
       "      <th></th>\n",
       "      <th>Name</th>\n",
       "      <th>Year</th>\n",
       "    </tr>\n",
       "  </thead>\n",
       "  <tbody>\n",
       "    <tr>\n",
       "      <th>0</th>\n",
       "      <td>Matrix</td>\n",
       "      <td>1999</td>\n",
       "    </tr>\n",
       "    <tr>\n",
       "      <th>1</th>\n",
       "      <td>Cadena Perpetua</td>\n",
       "      <td>1994</td>\n",
       "    </tr>\n",
       "    <tr>\n",
       "      <th>2</th>\n",
       "      <td>Parasitos</td>\n",
       "      <td>2019</td>\n",
       "    </tr>\n",
       "    <tr>\n",
       "      <th>3</th>\n",
       "      <td>Vengadores, Endgame</td>\n",
       "      <td>2019</td>\n",
       "    </tr>\n",
       "    <tr>\n",
       "      <th>4</th>\n",
       "      <td>Interstellar</td>\n",
       "      <td>2014</td>\n",
       "    </tr>\n",
       "    <tr>\n",
       "      <th>5</th>\n",
       "      <td>Django Desencadenado</td>\n",
       "      <td>2012</td>\n",
       "    </tr>\n",
       "    <tr>\n",
       "      <th>6</th>\n",
       "      <td>El Padrino</td>\n",
       "      <td>1972</td>\n",
       "    </tr>\n",
       "    <tr>\n",
       "      <th>7</th>\n",
       "      <td>El Caballero Oscuro</td>\n",
       "      <td>2008</td>\n",
       "    </tr>\n",
       "    <tr>\n",
       "      <th>8</th>\n",
       "      <td>Erase Una Vez En America</td>\n",
       "      <td>1984</td>\n",
       "    </tr>\n",
       "    <tr>\n",
       "      <th>9</th>\n",
       "      <td>El Senyor de los Anillos, La Comunidad del Anillo</td>\n",
       "      <td>2001</td>\n",
       "    </tr>\n",
       "  </tbody>\n",
       "</table>\n",
       "</div>"
      ],
      "text/plain": [
       "                                                Name  Year\n",
       "0                                             Matrix  1999\n",
       "1                                    Cadena Perpetua  1994\n",
       "2                                          Parasitos  2019\n",
       "3                                Vengadores, Endgame  2019\n",
       "4                                       Interstellar  2014\n",
       "5                               Django Desencadenado  2012\n",
       "6                                         El Padrino  1972\n",
       "7                                El Caballero Oscuro  2008\n",
       "8                           Erase Una Vez En America  1984\n",
       "9  El Senyor de los Anillos, La Comunidad del Anillo  2001"
      ]
     },
     "execution_count": 11,
     "metadata": {},
     "output_type": "execute_result"
    }
   ],
   "source": [
    "# Your solution HERE !!!!\n",
    "\n",
    "def extract_year(movies):\n",
    "    pelis=[]\n",
    "    años=[]\n",
    "    #pelis=movies.values.str.split('-',expand=True)[0]\n",
    "    #print(pelis)\n",
    "    for cadena in movies.values():\n",
    "        \n",
    "        for pelicula in cadena:\n",
    "            #print(pelicula)\n",
    "            peli=pelicula.split(' - ')[0]\n",
    "            año=pelicula.split(' - ')[1]\n",
    "            pelis.append(peli)\n",
    "            años.append(año)\n",
    "            \n",
    "    print(pelis)\n",
    "    print(años)\n",
    "    \n",
    "    frame = pd.DataFrame()\n",
    "    frame['Name']=pelis\n",
    "    frame['Year']=años\n",
    "    #display(frame)\n",
    "    return frame\n",
    "\n",
    "\n",
    "extract_year(movies)"
   ]
  },
  {
   "cell_type": "markdown",
   "id": "116e331a-6b31-4c79-9049-3934b65b5dc2",
   "metadata": {
    "tags": []
   },
   "source": [
    "## 06 - 3pt\n",
    "- Se tienen tres datasets, se adjuntan sus datos como diccionarios\n",
    "  - Students, representa un conjunto de alumnos, con sus nombres, edad y sexo\n",
    "  - Subjects, un conjunto de asignaturas, con su nombre y el semestre en que se imparten\n",
    "  - Marks, un conjunto de notas que han obtenido los alumnos en las asignaturas\n",
    "- Obtener la siguiente información usando Pandas\n",
    "  - Los nombres del alumno con la peor nota, y en que asignatura ha sido\n",
    "  - Cuantos alumnos tienen asignaturas aprobadas en el primer semestre\n",
    "  - La media de edad de los asistentes a la asignatura de Math\n",
    "  - Formar una palabra con las iniciales de los nombres de los estudiantes ordenados por edad descendente, menores de 50 años\n",
    "- Representar graficamente\n",
    "  - Las notas medias de todos los estudiantes por asignatura, agrupando por sexo\n",
    "  - La densidad bivariable de la edad de los estudiantes frente a sus notas, agrupando por sexo (mostrando los datos de dispersion en la zona central, las curvas de densidad en los ejes)"
   ]
  },
  {
   "cell_type": "code",
   "execution_count": null,
   "id": "61d25d08-6539-4b9a-8119-41362676f076",
   "metadata": {},
   "outputs": [],
   "source": [
    "students = {'StudentId': [1,2,3,4,5,6], 'Name' : ['Philip','Max','Yamileh','Nathan','Uma','Paula'], 'Age' : [22,31,19,44,39,51], 'Sex' : ['M', 'M', 'F', 'M', 'F', 'F']}\n",
    "subjects = {'SubjectId': [1,2,3], 'Name': ['Python', 'Math', 'DeepLearning'], 'Semester': [1, 1, 2]}\n",
    "marks = {'StudentId' : [2,2,1,3,6,4,4,3,2,5], 'SubjectId' : [1,3,1,2,1,2,3,1,2,1], 'Mark': [6,5,8,3,5,1,7,2,4,6]}"
   ]
  },
  {
   "cell_type": "code",
   "execution_count": null,
   "id": "75073c17-d53d-4aaa-b621-bc750b1948e3",
   "metadata": {},
   "outputs": [],
   "source": [
    "# Your solution HERE !!!!\n",
    "df_students = pd.DataFrame(students)\n",
    "df_subj = pd.DataFrame(subjects)\n",
    "df_marks = pd.DataFrame(marks)\n",
    "\n",
    "display(df_students)\n",
    "display(df_subj)\n",
    "display(df_marks)\n",
    "\n"
   ]
  },
  {
   "cell_type": "markdown",
   "id": "4fda08e5-5eac-4ef1-a342-cd5600126499",
   "metadata": {},
   "source": [
    "## 07 - 1pt\n",
    "- Escribir una función 'prime_number' que cada vez que se invoque devuelva el siguiente número primo,  empezando por el 2, hasta cualquier número infinito. Usando plain Python, sin ninguna librería.  Primo es aquel número natural mayor que 1, que solo es divisible por 1 y por si mismo."
   ]
  },
  {
   "cell_type": "code",
   "execution_count": 14,
   "id": "9c63dcac-bd06-4027-b746-8d8ac215e06a",
   "metadata": {},
   "outputs": [],
   "source": [
    "expected_output = [2, 3, 5, 7, 11, 13, 17, 19, 23, 29]\n",
    "g = prime_number()  # This calls your function prime_number\n",
    "output = [next(g) for n in range(len(expected_output))]\n",
    "assert(expected_output == output)  # This will fail if the output is not as expected"
   ]
  },
  {
   "cell_type": "code",
   "execution_count": 13,
   "id": "7e08a7d7-813b-41e5-9b9a-d81f87ab9319",
   "metadata": {},
   "outputs": [],
   "source": [
    "# Your solution HERE !!!!\n",
    "\n",
    "def prime_number():\n",
    "        \"\"\" Utiliza una funcion interna para comprobar si n es primo\"\"\"\n",
    "        a=2\n",
    "        def esPrimo(a):\n",
    "                if a<= 0:\n",
    "                        return False\n",
    "                \n",
    "                for i in range(2,a):\n",
    "                        if a % i == 0:\n",
    "                                return False\n",
    "                return True\n",
    "\n",
    "        \n",
    "        while 1:\n",
    "                if esPrimo(a):\n",
    "                        yield a\n",
    "                a += 1\n",
    "                \n",
    "g = prime_number()\n",
    "#while(1):\n",
    "    #print(next(g))"
   ]
  },
  {
   "cell_type": "markdown",
   "id": "072b0334-9561-44f9-8295-c13a286a1331",
   "metadata": {
    "tags": []
   },
   "source": [
    "## 08 - 1pt\n",
    "- 100 personas hacen una review de una película, dándole una puntuación de 0.0 a 10.0 a dicha película\n",
    "- Crear una lista aleatoria con las posibles puntuaciones, es decir, 100 puntuaciones entre 0.0 y 10.0\n",
    "- Discretizar dichas puntuaciones en 4 categorias [muy mala, mala, buena, excelente], los límites de cada categoría son a libre elección\n",
    "- Discretizar dichas puntuaciones en 5 categorías distribuidas con rangos homogéneos (similar cantidad de valores en cada categoría)\n",
    "- Mostrar las categorías creadas y cuantos elementos hay en cada una de ellas"
   ]
  },
  {
   "cell_type": "code",
   "execution_count": null,
   "id": "294eca4d-5c85-44e8-b517-acca56f380cc",
   "metadata": {},
   "outputs": [],
   "source": [
    "# Your solution HERE !!!!"
   ]
  }
 ],
 "metadata": {
  "kernelspec": {
   "display_name": "Python 3 (ipykernel)",
   "language": "python",
   "name": "python3"
  },
  "language_info": {
   "codemirror_mode": {
    "name": "ipython",
    "version": 3
   },
   "file_extension": ".py",
   "mimetype": "text/x-python",
   "name": "python",
   "nbconvert_exporter": "python",
   "pygments_lexer": "ipython3",
   "version": "3.10.9"
  }
 },
 "nbformat": 4,
 "nbformat_minor": 5
}
