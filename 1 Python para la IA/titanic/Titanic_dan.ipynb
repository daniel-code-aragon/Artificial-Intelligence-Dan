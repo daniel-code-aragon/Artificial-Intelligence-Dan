{
 "cells": [
  {
   "cell_type": "code",
   "execution_count": 1,
   "id": "2a4c11c9-88f0-4c07-95c4-0730e6b719ea",
   "metadata": {},
   "outputs": [],
   "source": [
    "import numpy as np \n",
    "import pandas as pd\n",
    "import matplotlib.pyplot as plt\n",
    "import seaborn as sns "
   ]
  },
  {
   "cell_type": "code",
   "execution_count": 2,
   "id": "4a29259d-9c4e-4f83-acb4-25e0142328a8",
   "metadata": {},
   "outputs": [],
   "source": [
    "from os import path\n",
    "train_path= path.join('Documents','MasterIA','Python para la IA','titanic','train.csv')\n",
    "test_path= path.join('Documents','MasterIA','Python para la IA','titanic','test.csv')"
   ]
  },
  {
   "cell_type": "code",
   "execution_count": 4,
   "id": "52598a69-4642-4b9d-81cc-57f253060ce6",
   "metadata": {},
   "outputs": [
    {
     "ename": "FileNotFoundError",
     "evalue": "[Errno 2] No such file or directory: 'C:/Users/User/Documents/MasterIA/Python para la IA/titanic/train.csv'",
     "output_type": "error",
     "traceback": [
      "\u001b[1;31m---------------------------------------------------------------------------\u001b[0m",
      "\u001b[1;31mFileNotFoundError\u001b[0m                         Traceback (most recent call last)",
      "Cell \u001b[1;32mIn[4], line 1\u001b[0m\n\u001b[1;32m----> 1\u001b[0m train_df \u001b[38;5;241m=\u001b[39m \u001b[43mpd\u001b[49m\u001b[38;5;241;43m.\u001b[39;49m\u001b[43mread_csv\u001b[49m\u001b[43m(\u001b[49m\u001b[38;5;124;43m'\u001b[39;49m\u001b[38;5;124;43mC:/Users/User/Documents/MasterIA/Python para la IA/titanic/train.csv\u001b[39;49m\u001b[38;5;124;43m'\u001b[39;49m\u001b[43m)\u001b[49m\n\u001b[0;32m      2\u001b[0m test_df \u001b[38;5;241m=\u001b[39m pd\u001b[38;5;241m.\u001b[39mread_csv(\u001b[38;5;124m'\u001b[39m\u001b[38;5;124mC:/Users/User/Documents/MasterIA/Python para la IA/titanic/test.csv\u001b[39m\u001b[38;5;124m'\u001b[39m)\n",
      "File \u001b[1;32mC:\\ProgramData\\anaconda3\\lib\\site-packages\\pandas\\util\\_decorators.py:211\u001b[0m, in \u001b[0;36mdeprecate_kwarg.<locals>._deprecate_kwarg.<locals>.wrapper\u001b[1;34m(*args, **kwargs)\u001b[0m\n\u001b[0;32m    209\u001b[0m     \u001b[38;5;28;01melse\u001b[39;00m:\n\u001b[0;32m    210\u001b[0m         kwargs[new_arg_name] \u001b[38;5;241m=\u001b[39m new_arg_value\n\u001b[1;32m--> 211\u001b[0m \u001b[38;5;28;01mreturn\u001b[39;00m func(\u001b[38;5;241m*\u001b[39margs, \u001b[38;5;241m*\u001b[39m\u001b[38;5;241m*\u001b[39mkwargs)\n",
      "File \u001b[1;32mC:\\ProgramData\\anaconda3\\lib\\site-packages\\pandas\\util\\_decorators.py:331\u001b[0m, in \u001b[0;36mdeprecate_nonkeyword_arguments.<locals>.decorate.<locals>.wrapper\u001b[1;34m(*args, **kwargs)\u001b[0m\n\u001b[0;32m    325\u001b[0m \u001b[38;5;28;01mif\u001b[39;00m \u001b[38;5;28mlen\u001b[39m(args) \u001b[38;5;241m>\u001b[39m num_allow_args:\n\u001b[0;32m    326\u001b[0m     warnings\u001b[38;5;241m.\u001b[39mwarn(\n\u001b[0;32m    327\u001b[0m         msg\u001b[38;5;241m.\u001b[39mformat(arguments\u001b[38;5;241m=\u001b[39m_format_argument_list(allow_args)),\n\u001b[0;32m    328\u001b[0m         \u001b[38;5;167;01mFutureWarning\u001b[39;00m,\n\u001b[0;32m    329\u001b[0m         stacklevel\u001b[38;5;241m=\u001b[39mfind_stack_level(),\n\u001b[0;32m    330\u001b[0m     )\n\u001b[1;32m--> 331\u001b[0m \u001b[38;5;28;01mreturn\u001b[39;00m func(\u001b[38;5;241m*\u001b[39margs, \u001b[38;5;241m*\u001b[39m\u001b[38;5;241m*\u001b[39mkwargs)\n",
      "File \u001b[1;32mC:\\ProgramData\\anaconda3\\lib\\site-packages\\pandas\\io\\parsers\\readers.py:950\u001b[0m, in \u001b[0;36mread_csv\u001b[1;34m(filepath_or_buffer, sep, delimiter, header, names, index_col, usecols, squeeze, prefix, mangle_dupe_cols, dtype, engine, converters, true_values, false_values, skipinitialspace, skiprows, skipfooter, nrows, na_values, keep_default_na, na_filter, verbose, skip_blank_lines, parse_dates, infer_datetime_format, keep_date_col, date_parser, dayfirst, cache_dates, iterator, chunksize, compression, thousands, decimal, lineterminator, quotechar, quoting, doublequote, escapechar, comment, encoding, encoding_errors, dialect, error_bad_lines, warn_bad_lines, on_bad_lines, delim_whitespace, low_memory, memory_map, float_precision, storage_options)\u001b[0m\n\u001b[0;32m    935\u001b[0m kwds_defaults \u001b[38;5;241m=\u001b[39m _refine_defaults_read(\n\u001b[0;32m    936\u001b[0m     dialect,\n\u001b[0;32m    937\u001b[0m     delimiter,\n\u001b[1;32m   (...)\u001b[0m\n\u001b[0;32m    946\u001b[0m     defaults\u001b[38;5;241m=\u001b[39m{\u001b[38;5;124m\"\u001b[39m\u001b[38;5;124mdelimiter\u001b[39m\u001b[38;5;124m\"\u001b[39m: \u001b[38;5;124m\"\u001b[39m\u001b[38;5;124m,\u001b[39m\u001b[38;5;124m\"\u001b[39m},\n\u001b[0;32m    947\u001b[0m )\n\u001b[0;32m    948\u001b[0m kwds\u001b[38;5;241m.\u001b[39mupdate(kwds_defaults)\n\u001b[1;32m--> 950\u001b[0m \u001b[38;5;28;01mreturn\u001b[39;00m \u001b[43m_read\u001b[49m\u001b[43m(\u001b[49m\u001b[43mfilepath_or_buffer\u001b[49m\u001b[43m,\u001b[49m\u001b[43m \u001b[49m\u001b[43mkwds\u001b[49m\u001b[43m)\u001b[49m\n",
      "File \u001b[1;32mC:\\ProgramData\\anaconda3\\lib\\site-packages\\pandas\\io\\parsers\\readers.py:605\u001b[0m, in \u001b[0;36m_read\u001b[1;34m(filepath_or_buffer, kwds)\u001b[0m\n\u001b[0;32m    602\u001b[0m _validate_names(kwds\u001b[38;5;241m.\u001b[39mget(\u001b[38;5;124m\"\u001b[39m\u001b[38;5;124mnames\u001b[39m\u001b[38;5;124m\"\u001b[39m, \u001b[38;5;28;01mNone\u001b[39;00m))\n\u001b[0;32m    604\u001b[0m \u001b[38;5;66;03m# Create the parser.\u001b[39;00m\n\u001b[1;32m--> 605\u001b[0m parser \u001b[38;5;241m=\u001b[39m TextFileReader(filepath_or_buffer, \u001b[38;5;241m*\u001b[39m\u001b[38;5;241m*\u001b[39mkwds)\n\u001b[0;32m    607\u001b[0m \u001b[38;5;28;01mif\u001b[39;00m chunksize \u001b[38;5;129;01mor\u001b[39;00m iterator:\n\u001b[0;32m    608\u001b[0m     \u001b[38;5;28;01mreturn\u001b[39;00m parser\n",
      "File \u001b[1;32mC:\\ProgramData\\anaconda3\\lib\\site-packages\\pandas\\io\\parsers\\readers.py:1442\u001b[0m, in \u001b[0;36mTextFileReader.__init__\u001b[1;34m(self, f, engine, **kwds)\u001b[0m\n\u001b[0;32m   1439\u001b[0m     \u001b[38;5;28mself\u001b[39m\u001b[38;5;241m.\u001b[39moptions[\u001b[38;5;124m\"\u001b[39m\u001b[38;5;124mhas_index_names\u001b[39m\u001b[38;5;124m\"\u001b[39m] \u001b[38;5;241m=\u001b[39m kwds[\u001b[38;5;124m\"\u001b[39m\u001b[38;5;124mhas_index_names\u001b[39m\u001b[38;5;124m\"\u001b[39m]\n\u001b[0;32m   1441\u001b[0m \u001b[38;5;28mself\u001b[39m\u001b[38;5;241m.\u001b[39mhandles: IOHandles \u001b[38;5;241m|\u001b[39m \u001b[38;5;28;01mNone\u001b[39;00m \u001b[38;5;241m=\u001b[39m \u001b[38;5;28;01mNone\u001b[39;00m\n\u001b[1;32m-> 1442\u001b[0m \u001b[38;5;28mself\u001b[39m\u001b[38;5;241m.\u001b[39m_engine \u001b[38;5;241m=\u001b[39m \u001b[38;5;28;43mself\u001b[39;49m\u001b[38;5;241;43m.\u001b[39;49m\u001b[43m_make_engine\u001b[49m\u001b[43m(\u001b[49m\u001b[43mf\u001b[49m\u001b[43m,\u001b[49m\u001b[43m \u001b[49m\u001b[38;5;28;43mself\u001b[39;49m\u001b[38;5;241;43m.\u001b[39;49m\u001b[43mengine\u001b[49m\u001b[43m)\u001b[49m\n",
      "File \u001b[1;32mC:\\ProgramData\\anaconda3\\lib\\site-packages\\pandas\\io\\parsers\\readers.py:1735\u001b[0m, in \u001b[0;36mTextFileReader._make_engine\u001b[1;34m(self, f, engine)\u001b[0m\n\u001b[0;32m   1733\u001b[0m     \u001b[38;5;28;01mif\u001b[39;00m \u001b[38;5;124m\"\u001b[39m\u001b[38;5;124mb\u001b[39m\u001b[38;5;124m\"\u001b[39m \u001b[38;5;129;01mnot\u001b[39;00m \u001b[38;5;129;01min\u001b[39;00m mode:\n\u001b[0;32m   1734\u001b[0m         mode \u001b[38;5;241m+\u001b[39m\u001b[38;5;241m=\u001b[39m \u001b[38;5;124m\"\u001b[39m\u001b[38;5;124mb\u001b[39m\u001b[38;5;124m\"\u001b[39m\n\u001b[1;32m-> 1735\u001b[0m \u001b[38;5;28mself\u001b[39m\u001b[38;5;241m.\u001b[39mhandles \u001b[38;5;241m=\u001b[39m \u001b[43mget_handle\u001b[49m\u001b[43m(\u001b[49m\n\u001b[0;32m   1736\u001b[0m \u001b[43m    \u001b[49m\u001b[43mf\u001b[49m\u001b[43m,\u001b[49m\n\u001b[0;32m   1737\u001b[0m \u001b[43m    \u001b[49m\u001b[43mmode\u001b[49m\u001b[43m,\u001b[49m\n\u001b[0;32m   1738\u001b[0m \u001b[43m    \u001b[49m\u001b[43mencoding\u001b[49m\u001b[38;5;241;43m=\u001b[39;49m\u001b[38;5;28;43mself\u001b[39;49m\u001b[38;5;241;43m.\u001b[39;49m\u001b[43moptions\u001b[49m\u001b[38;5;241;43m.\u001b[39;49m\u001b[43mget\u001b[49m\u001b[43m(\u001b[49m\u001b[38;5;124;43m\"\u001b[39;49m\u001b[38;5;124;43mencoding\u001b[39;49m\u001b[38;5;124;43m\"\u001b[39;49m\u001b[43m,\u001b[49m\u001b[43m \u001b[49m\u001b[38;5;28;43;01mNone\u001b[39;49;00m\u001b[43m)\u001b[49m\u001b[43m,\u001b[49m\n\u001b[0;32m   1739\u001b[0m \u001b[43m    \u001b[49m\u001b[43mcompression\u001b[49m\u001b[38;5;241;43m=\u001b[39;49m\u001b[38;5;28;43mself\u001b[39;49m\u001b[38;5;241;43m.\u001b[39;49m\u001b[43moptions\u001b[49m\u001b[38;5;241;43m.\u001b[39;49m\u001b[43mget\u001b[49m\u001b[43m(\u001b[49m\u001b[38;5;124;43m\"\u001b[39;49m\u001b[38;5;124;43mcompression\u001b[39;49m\u001b[38;5;124;43m\"\u001b[39;49m\u001b[43m,\u001b[49m\u001b[43m \u001b[49m\u001b[38;5;28;43;01mNone\u001b[39;49;00m\u001b[43m)\u001b[49m\u001b[43m,\u001b[49m\n\u001b[0;32m   1740\u001b[0m \u001b[43m    \u001b[49m\u001b[43mmemory_map\u001b[49m\u001b[38;5;241;43m=\u001b[39;49m\u001b[38;5;28;43mself\u001b[39;49m\u001b[38;5;241;43m.\u001b[39;49m\u001b[43moptions\u001b[49m\u001b[38;5;241;43m.\u001b[39;49m\u001b[43mget\u001b[49m\u001b[43m(\u001b[49m\u001b[38;5;124;43m\"\u001b[39;49m\u001b[38;5;124;43mmemory_map\u001b[39;49m\u001b[38;5;124;43m\"\u001b[39;49m\u001b[43m,\u001b[49m\u001b[43m \u001b[49m\u001b[38;5;28;43;01mFalse\u001b[39;49;00m\u001b[43m)\u001b[49m\u001b[43m,\u001b[49m\n\u001b[0;32m   1741\u001b[0m \u001b[43m    \u001b[49m\u001b[43mis_text\u001b[49m\u001b[38;5;241;43m=\u001b[39;49m\u001b[43mis_text\u001b[49m\u001b[43m,\u001b[49m\n\u001b[0;32m   1742\u001b[0m \u001b[43m    \u001b[49m\u001b[43merrors\u001b[49m\u001b[38;5;241;43m=\u001b[39;49m\u001b[38;5;28;43mself\u001b[39;49m\u001b[38;5;241;43m.\u001b[39;49m\u001b[43moptions\u001b[49m\u001b[38;5;241;43m.\u001b[39;49m\u001b[43mget\u001b[49m\u001b[43m(\u001b[49m\u001b[38;5;124;43m\"\u001b[39;49m\u001b[38;5;124;43mencoding_errors\u001b[39;49m\u001b[38;5;124;43m\"\u001b[39;49m\u001b[43m,\u001b[49m\u001b[43m \u001b[49m\u001b[38;5;124;43m\"\u001b[39;49m\u001b[38;5;124;43mstrict\u001b[39;49m\u001b[38;5;124;43m\"\u001b[39;49m\u001b[43m)\u001b[49m\u001b[43m,\u001b[49m\n\u001b[0;32m   1743\u001b[0m \u001b[43m    \u001b[49m\u001b[43mstorage_options\u001b[49m\u001b[38;5;241;43m=\u001b[39;49m\u001b[38;5;28;43mself\u001b[39;49m\u001b[38;5;241;43m.\u001b[39;49m\u001b[43moptions\u001b[49m\u001b[38;5;241;43m.\u001b[39;49m\u001b[43mget\u001b[49m\u001b[43m(\u001b[49m\u001b[38;5;124;43m\"\u001b[39;49m\u001b[38;5;124;43mstorage_options\u001b[39;49m\u001b[38;5;124;43m\"\u001b[39;49m\u001b[43m,\u001b[49m\u001b[43m \u001b[49m\u001b[38;5;28;43;01mNone\u001b[39;49;00m\u001b[43m)\u001b[49m\u001b[43m,\u001b[49m\n\u001b[0;32m   1744\u001b[0m \u001b[43m\u001b[49m\u001b[43m)\u001b[49m\n\u001b[0;32m   1745\u001b[0m \u001b[38;5;28;01massert\u001b[39;00m \u001b[38;5;28mself\u001b[39m\u001b[38;5;241m.\u001b[39mhandles \u001b[38;5;129;01mis\u001b[39;00m \u001b[38;5;129;01mnot\u001b[39;00m \u001b[38;5;28;01mNone\u001b[39;00m\n\u001b[0;32m   1746\u001b[0m f \u001b[38;5;241m=\u001b[39m \u001b[38;5;28mself\u001b[39m\u001b[38;5;241m.\u001b[39mhandles\u001b[38;5;241m.\u001b[39mhandle\n",
      "File \u001b[1;32mC:\\ProgramData\\anaconda3\\lib\\site-packages\\pandas\\io\\common.py:856\u001b[0m, in \u001b[0;36mget_handle\u001b[1;34m(path_or_buf, mode, encoding, compression, memory_map, is_text, errors, storage_options)\u001b[0m\n\u001b[0;32m    851\u001b[0m \u001b[38;5;28;01melif\u001b[39;00m \u001b[38;5;28misinstance\u001b[39m(handle, \u001b[38;5;28mstr\u001b[39m):\n\u001b[0;32m    852\u001b[0m     \u001b[38;5;66;03m# Check whether the filename is to be opened in binary mode.\u001b[39;00m\n\u001b[0;32m    853\u001b[0m     \u001b[38;5;66;03m# Binary mode does not support 'encoding' and 'newline'.\u001b[39;00m\n\u001b[0;32m    854\u001b[0m     \u001b[38;5;28;01mif\u001b[39;00m ioargs\u001b[38;5;241m.\u001b[39mencoding \u001b[38;5;129;01mand\u001b[39;00m \u001b[38;5;124m\"\u001b[39m\u001b[38;5;124mb\u001b[39m\u001b[38;5;124m\"\u001b[39m \u001b[38;5;129;01mnot\u001b[39;00m \u001b[38;5;129;01min\u001b[39;00m ioargs\u001b[38;5;241m.\u001b[39mmode:\n\u001b[0;32m    855\u001b[0m         \u001b[38;5;66;03m# Encoding\u001b[39;00m\n\u001b[1;32m--> 856\u001b[0m         handle \u001b[38;5;241m=\u001b[39m \u001b[38;5;28;43mopen\u001b[39;49m\u001b[43m(\u001b[49m\n\u001b[0;32m    857\u001b[0m \u001b[43m            \u001b[49m\u001b[43mhandle\u001b[49m\u001b[43m,\u001b[49m\n\u001b[0;32m    858\u001b[0m \u001b[43m            \u001b[49m\u001b[43mioargs\u001b[49m\u001b[38;5;241;43m.\u001b[39;49m\u001b[43mmode\u001b[49m\u001b[43m,\u001b[49m\n\u001b[0;32m    859\u001b[0m \u001b[43m            \u001b[49m\u001b[43mencoding\u001b[49m\u001b[38;5;241;43m=\u001b[39;49m\u001b[43mioargs\u001b[49m\u001b[38;5;241;43m.\u001b[39;49m\u001b[43mencoding\u001b[49m\u001b[43m,\u001b[49m\n\u001b[0;32m    860\u001b[0m \u001b[43m            \u001b[49m\u001b[43merrors\u001b[49m\u001b[38;5;241;43m=\u001b[39;49m\u001b[43merrors\u001b[49m\u001b[43m,\u001b[49m\n\u001b[0;32m    861\u001b[0m \u001b[43m            \u001b[49m\u001b[43mnewline\u001b[49m\u001b[38;5;241;43m=\u001b[39;49m\u001b[38;5;124;43m\"\u001b[39;49m\u001b[38;5;124;43m\"\u001b[39;49m\u001b[43m,\u001b[49m\n\u001b[0;32m    862\u001b[0m \u001b[43m        \u001b[49m\u001b[43m)\u001b[49m\n\u001b[0;32m    863\u001b[0m     \u001b[38;5;28;01melse\u001b[39;00m:\n\u001b[0;32m    864\u001b[0m         \u001b[38;5;66;03m# Binary mode\u001b[39;00m\n\u001b[0;32m    865\u001b[0m         handle \u001b[38;5;241m=\u001b[39m \u001b[38;5;28mopen\u001b[39m(handle, ioargs\u001b[38;5;241m.\u001b[39mmode)\n",
      "\u001b[1;31mFileNotFoundError\u001b[0m: [Errno 2] No such file or directory: 'C:/Users/User/Documents/MasterIA/Python para la IA/titanic/train.csv'"
     ]
    }
   ],
   "source": [
    "train_df = pd.read_csv('C:/Users/User/Documents/MasterIA/Python para la IA/titanic/train.csv')\n",
    "test_df = pd.read_csv('C:/Users/User/Documents/MasterIA/Python para la IA/titanic/test.csv')"
   ]
  },
  {
   "cell_type": "code",
   "execution_count": null,
   "id": "4f471e63-f5bf-4b65-a8df-a77dbb42e7d9",
   "metadata": {
    "tags": []
   },
   "outputs": [],
   "source": [
    "train_df.head()"
   ]
  },
  {
   "cell_type": "code",
   "execution_count": null,
   "id": "2932ec5a-8f35-4adf-bb86-c55a927bddd8",
   "metadata": {},
   "outputs": [],
   "source": [
    "test_df.head()"
   ]
  },
  {
   "cell_type": "code",
   "execution_count": null,
   "id": "64b6a446-1f7c-4f36-b5df-755fbfd73b5a",
   "metadata": {},
   "outputs": [],
   "source": [
    "print(train_df.shape)\n",
    "print(test_df.shape)    #revisamos la forma del DF y vemos la proporcion entre train y test"
   ]
  },
  {
   "cell_type": "code",
   "execution_count": null,
   "id": "6f8d4f65-77f3-4dad-ba6a-5883997fac4c",
   "metadata": {},
   "outputs": [],
   "source": [
    "display(train_df.describe(include='all'))  # .describe() para ver las metricas de las diferentes variables."
   ]
  },
  {
   "cell_type": "code",
   "execution_count": null,
   "id": "15466ffa-0fbb-414c-a0b1-ddaff43964ce",
   "metadata": {},
   "outputs": [],
   "source": [
    "train_df.info()      #ver missing values"
   ]
  },
  {
   "cell_type": "code",
   "execution_count": null,
   "id": "cde8dc47-b87b-4cfd-9fb4-4f5558db97f9",
   "metadata": {},
   "outputs": [],
   "source": [
    "sns.barplot(x='Embarked', y='Survived' , hue = 'Sex' , data= train_df)  #Embarque influye en supervivencia --> NO, Sex SI"
   ]
  },
  {
   "cell_type": "code",
   "execution_count": null,
   "id": "c081f4c0-eff8-4820-bb56-0772f8df7521",
   "metadata": {},
   "outputs": [],
   "source": [
    "sns.pointplot(data= train_df , x='Pclass',y= 'Survived',hue = 'Sex') # Grafico de Clase frente a supervivencia"
   ]
  },
  {
   "cell_type": "code",
   "execution_count": null,
   "id": "267d51ba-a750-4afd-b858-bad6c867dcd8",
   "metadata": {},
   "outputs": [],
   "source": [
    "# Categorizar datos --> Age\n",
    "# Listo los valores unicos de edad\n",
    "\n",
    "so = list(train_df.Age.unique())\n",
    "so.sort()                              \n",
    "print(so)"
   ]
  },
  {
   "cell_type": "code",
   "execution_count": null,
   "id": "75f2a4ae-c63b-4116-b8ab-2120fc75544c",
   "metadata": {},
   "outputs": [],
   "source": [
    "train_df.hist(column='Age')\n",
    "plt.show()"
   ]
  },
  {
   "cell_type": "code",
   "execution_count": null,
   "id": "4ba62239-fd35-4047-9f20-cd331aeed5e2",
   "metadata": {},
   "outputs": [],
   "source": [
    "#Funcion que categoriza la edad.\n",
    "#Si valor es de la forma 0.XX multiplica por 100 para corregir el dato\n",
    "# Valores vacios sustituidos por -0.5 par despues asignar categoria a negativos\n",
    "\n",
    "\n",
    "def cat_age(data):\n",
    "    \n",
    "    data.loc[(data['Age'] > 0) & (data['Age'] <1) , 'Age']*100\n",
    "    \n",
    "    data['Age']=data['Age'].fillna(-0.5)\n",
    "    \n",
    "    bins = (-1 ,0 , 12 ,20, 35 , 60 , 110)               #intervalos en los que quiero dividir los datos\n",
    "    cat_names = ('Unknown', 'Child', 'Teenager' , 'Young Adult', 'Adult', 'Elder') # ñista de categorias en los que estan repartidos\n",
    "    \n",
    "    categories = pd.cut(data['Age'], bins , labels = cat_names)\n",
    "    data['Age']= categories\n",
    "    return"
   ]
  },
  {
   "cell_type": "code",
   "execution_count": null,
   "id": "371c219a-6ff4-406f-9e6d-f15b9a22e97d",
   "metadata": {
    "tags": []
   },
   "outputs": [],
   "source": [
    "cat_age(train_df)\n"
   ]
  },
  {
   "cell_type": "code",
   "execution_count": null,
   "id": "f30fc6ac-b1c2-423e-8402-84d46e514097",
   "metadata": {},
   "outputs": [],
   "source": [
    "train_df.sample(10)"
   ]
  },
  {
   "cell_type": "code",
   "execution_count": null,
   "id": "ebc006c8-c785-48e4-a464-91ef9cbfbf23",
   "metadata": {},
   "outputs": [],
   "source": [
    "cat_age(test_df)\n",
    "test_df.sample(5)"
   ]
  },
  {
   "cell_type": "code",
   "execution_count": null,
   "id": "01ef904b-3eab-4900-93d7-1cfae036a845",
   "metadata": {},
   "outputs": [],
   "source": [
    "sns.barplot(x='Age',y= 'Survived', data = train_df , units=True)"
   ]
  },
  {
   "cell_type": "code",
   "execution_count": null,
   "id": "8ac939fb-81c9-4f21-935d-348f3de501b5",
   "metadata": {},
   "outputs": [],
   "source": [
    "train_df.Age.value_counts()"
   ]
  },
  {
   "cell_type": "code",
   "execution_count": null,
   "id": "6db65de6-c3be-4c48-921a-12eacdac7ce3",
   "metadata": {},
   "outputs": [],
   "source": [
    "train_df['Cabin'].sample(10)"
   ]
  },
  {
   "cell_type": "code",
   "execution_count": null,
   "id": "307d5b0e-3a9a-42a5-9db6-0ba63d079563",
   "metadata": {},
   "outputs": [],
   "source": [
    "def extract_cabin(data): \n",
    "    \n",
    "    data['Cabin'] = data['Cabin'].fillna('N')            #Sustituyo los NaN por 'N'\n",
    "    \n",
    "    data['Cabin'] = data['Cabin'].apply(lambda x : x[0]) # Modificar la columna con funcion lambdapata quedarme con el primer\n",
    "                                                          #argumento del dato"
   ]
  },
  {
   "cell_type": "code",
   "execution_count": null,
   "id": "2bfb8161-11ba-4840-9c9a-242e51461850",
   "metadata": {},
   "outputs": [],
   "source": [
    "extract_cabin(train_df)\n",
    "extract_cabin(test_df)"
   ]
  },
  {
   "cell_type": "code",
   "execution_count": null,
   "id": "44cb339c-5685-4fec-945d-ad4e6812970a",
   "metadata": {},
   "outputs": [],
   "source": [
    "train_df.Cabin.sample(10)"
   ]
  },
  {
   "cell_type": "code",
   "execution_count": null,
   "id": "f6743458-2e97-4fd2-9617-d45693c3a3ed",
   "metadata": {},
   "outputs": [],
   "source": [
    "sns.countplot(x='Cabin', hue= 'Survived' , data= train_df)  # Cabin parece que no influye"
   ]
  },
  {
   "cell_type": "code",
   "execution_count": null,
   "id": "53a4c3aa-f224-4d92-8ed9-26d3269febbc",
   "metadata": {},
   "outputs": [],
   "source": [
    "#filtered_df = train_df[train_df['Cabin'] != 'N']\n"
   ]
  },
  {
   "cell_type": "code",
   "execution_count": null,
   "id": "2cc11aa4-476b-484d-b660-adafd6b992a4",
   "metadata": {},
   "outputs": [],
   "source": [
    "#sns.countplot(x='Cabin', hue= 'Survived' , data= filtered_df)"
   ]
  },
  {
   "cell_type": "code",
   "execution_count": null,
   "id": "a3bee743-f790-4f1e-9f61-69122fad633f",
   "metadata": {},
   "outputs": [],
   "source": [
    "def cat_fare(data):\n",
    "    data['Fare'] = data['Fare'].fillna(0)    #data['Fare'].mean()\n",
    "    cat_names= ['1st','2nd','3rd','4th','5th']                      #Categorizar Fare , sistituyendo por 0 los NaN\n",
    "                                                                    #Mismo proceso que con Age\n",
    "    data['Fare'] = pd.qcut(data['Fare'], 5 , labels = cat_names)"
   ]
  },
  {
   "cell_type": "code",
   "execution_count": null,
   "id": "4e2c0786-8369-4026-8a30-ec09fff00fc8",
   "metadata": {
    "tags": []
   },
   "outputs": [],
   "source": [
    "cat_fare(train_df)\n"
   ]
  },
  {
   "cell_type": "code",
   "execution_count": null,
   "id": "0b3bd137-9d4b-415d-afb7-30bb55c30349",
   "metadata": {},
   "outputs": [],
   "source": [
    "cat_fare(test_df)"
   ]
  },
  {
   "cell_type": "code",
   "execution_count": null,
   "id": "ec75c9ac-2a22-405a-8f67-13e498e85b44",
   "metadata": {},
   "outputs": [],
   "source": [
    "test_df.sample(5)"
   ]
  },
  {
   "cell_type": "code",
   "execution_count": null,
   "id": "9b71e642-02b8-45db-8c1e-bafd2c5bd90d",
   "metadata": {},
   "outputs": [],
   "source": [
    "def drop_columns(data):\n",
    "    data = data.drop(['PassengerId','Name','Ticket', 'Embarked'], axis=1, inplace= True)"
   ]
  },
  {
   "cell_type": "code",
   "execution_count": null,
   "id": "c14e98a8-c7f6-4bf8-b0a0-968d3a6a6402",
   "metadata": {},
   "outputs": [],
   "source": [
    "drop_columns(train_df)\n",
    "train_df.sample(5)"
   ]
  },
  {
   "cell_type": "code",
   "execution_count": null,
   "id": "78d35ef7-30d0-4d40-a102-2b8a12ddfa4d",
   "metadata": {},
   "outputs": [],
   "source": [
    "drop_columns(test_df)\n",
    "test_df.sample(5)"
   ]
  },
  {
   "cell_type": "code",
   "execution_count": null,
   "id": "04aa5620-4d75-465d-a47a-5b0dea45a242",
   "metadata": {},
   "outputs": [],
   "source": [
    "sns.barplot(x='Age', y='Survived', hue='Sex', data=train_df)"
   ]
  },
  {
   "cell_type": "code",
   "execution_count": null,
   "id": "429d36d4-0e99-484e-a937-9bb60c52ed50",
   "metadata": {},
   "outputs": [],
   "source": [
    "sns.barplot(x='Fare', y='Survived', hue='Sex', data=train_df)"
   ]
  },
  {
   "cell_type": "code",
   "execution_count": null,
   "id": "1f413564-18ed-42c2-94d4-080bdbc9fcc2",
   "metadata": {},
   "outputs": [],
   "source": [
    "train_df.head()"
   ]
  },
  {
   "cell_type": "markdown",
   "id": "a8327365-c692-4758-9de8-74e436e66f4f",
   "metadata": {},
   "source": [
    "***Datos Preparados para entrenarse, falta transformar variables categoricas para trabajar con algoritmos de clasificacion***"
   ]
  },
  {
   "cell_type": "code",
   "execution_count": null,
   "id": "0e63db5e-7e8c-41b0-9625-34ed6a16ac01",
   "metadata": {},
   "outputs": [],
   "source": [
    "from sklearn import preprocessing"
   ]
  },
  {
   "cell_type": "code",
   "execution_count": null,
   "id": "8d4169e9-b979-4f77-bb59-38ea1d5dd41d",
   "metadata": {},
   "outputs": [],
   "source": [
    "def encode_features(train, test, features):\n",
    "    \n",
    "    df_combined=pd.concat([train[features], test[features]])\n",
    "    \n",
    "    for f in features:\n",
    "        le=preprocessing.LabelEncoder()\n",
    "        le=le.fit(df_combined[f])\n",
    "        \n",
    "        train[f] = le.transform(train[f])\n",
    "        test[f] = le.transform(test[f])"
   ]
  },
  {
   "cell_type": "code",
   "execution_count": null,
   "id": "295d66c1-85bd-47da-9b67-b3295fc89df1",
   "metadata": {
    "tags": []
   },
   "outputs": [],
   "source": [
    "features= ['Sex','Age','Fare','Cabin']\n",
    "\n",
    "encode_features(train_df, test_df, features)\n",
    "\n",
    "train_df.head()"
   ]
  },
  {
   "cell_type": "code",
   "execution_count": null,
   "id": "3c975369-805e-49fc-b07d-71d56d649757",
   "metadata": {},
   "outputs": [],
   "source": [
    "from sklearn.model_selection import train_test_split"
   ]
  },
  {
   "cell_type": "code",
   "execution_count": null,
   "id": "64c60c39-daba-4b3a-bef2-0afd93fe8f8b",
   "metadata": {},
   "outputs": [],
   "source": [
    "X = train_df.drop(['Survived'], axis=1)  #Dataset con las varibles independientes\n",
    "Y = train_df['Survived']                 #Dataset con la dependiente (Sobrevivir)\n",
    "\n",
    "validation_size= 0.15        #Tamaño % del data Set para hacer la validacion una vez entrenado\n",
    "\n",
    "seed = np.random.randint(1000)  #semilla aleatoria\n",
    "\n",
    "X_train, X_validation, Y_train, Y_validation = train_test_split(X, Y, test_size = validation_size, random_state=seed)\n",
    "\n",
    "train_test_split(X, Y, test_size = validation_size, random_state=seed)"
   ]
  },
  {
   "cell_type": "markdown",
   "id": "420e12b3-9f7a-4856-b65c-b6eb063b4a91",
   "metadata": {},
   "source": [
    "*Esto devuelve 4 DataSets*\n",
    "\n",
    "**85% del de entrenamiento con las val dependientes       X_train**\n",
    "\n",
    "**85% del de entrenamiento con la varible 'Survived       Y_train '**\n",
    "\n",
    "\n",
    "**15% del de entrenamiento para validar con las variables dependientes    X_validation**\n",
    "\n",
    "**15% del de entrenamiento para validar con la variable 'Survived'        Y_validation**"
   ]
  },
  {
   "cell_type": "code",
   "execution_count": null,
   "id": "84c91bb1-225b-468b-b2f4-3cd37ca7eb77",
   "metadata": {},
   "outputs": [],
   "source": [
    "from sklearn.tree import DecisionTreeClassifier\n",
    "from sklearn import tree"
   ]
  },
  {
   "cell_type": "code",
   "execution_count": null,
   "id": "e3477efd-e2a2-452e-a78d-9c96914044ff",
   "metadata": {},
   "outputs": [],
   "source": [
    "model=DecisionTreeClassifier()\n",
    "model.fit(X_train, Y_train)"
   ]
  },
  {
   "cell_type": "code",
   "execution_count": null,
   "id": "db995bf3-5dc7-478a-b741-aa0c3d8f0e66",
   "metadata": {
    "tags": []
   },
   "outputs": [],
   "source": [
    "fig = plt.figure(figsize=(15, 10))\n",
    "_ = tree.plot_tree(model, feature_names=X_train.columns,class_names=['Not Survived', 'Survived'], filled=True)\n",
    "\n",
    "plt.show()"
   ]
  },
  {
   "cell_type": "code",
   "execution_count": null,
   "id": "05d9040e-7a79-4aa8-b5e4-4b8b8adcc581",
   "metadata": {},
   "outputs": [],
   "source": [
    "from sklearn.metrics import accuracy_score\n",
    "\n",
    "prediction= model.predict(X_validation)\n",
    "print(prediction)\n",
    "print(accuracy_score(prediction, Y_validation))     #Puntuacion de precision"
   ]
  },
  {
   "cell_type": "code",
   "execution_count": null,
   "id": "b8bee8b5-a99c-4eb2-8e19-31ce232b7065",
   "metadata": {},
   "outputs": [],
   "source": [
    "from sklearn.metrics import confusion_matrix\n",
    "\n",
    "print(confusion_matrix(Y_validation, prediction))    #Matriz de confusion\n"
   ]
  },
  {
   "cell_type": "code",
   "execution_count": null,
   "id": "607fc796-d899-4d3f-a929-80af3d31f105",
   "metadata": {},
   "outputs": [],
   "source": [
    "from sklearn.metrics import classification_report\n",
    "\n",
    "print(classification_report(Y_validation, prediction))\n"
   ]
  },
  {
   "cell_type": "code",
   "execution_count": null,
   "id": "2d6ebd4e-05f0-49d9-bc97-975a83e7da34",
   "metadata": {},
   "outputs": [],
   "source": [
    "n_iters = 10\n",
    "\n",
    "results= []\n",
    "\n",
    "for i in range(n_iters):\n",
    "    X_train, X_validation, Y_train, Y_validation = train_test_split(X, Y, test_size = validation_size, random_state=seed)\n",
    "    \n",
    "    model=DecisionTreeClassifier()\n",
    "    model.fit(X_train, Y_train)\n",
    "    \n",
    "    prediction= model.predict(X_validation)\n",
    "    results.append(accuracy_score(prediction, Y_validation))\n",
    "    \n",
    "print(results)\n",
    "print(sum(results)/len(results))"
   ]
  },
  {
   "cell_type": "code",
   "execution_count": null,
   "id": "d9dab797-24a6-428b-acd0-46599056a550",
   "metadata": {},
   "outputs": [],
   "source": []
  }
 ],
 "metadata": {
  "kernelspec": {
   "display_name": "Python 3 (ipykernel)",
   "language": "python",
   "name": "python3"
  },
  "language_info": {
   "codemirror_mode": {
    "name": "ipython",
    "version": 3
   },
   "file_extension": ".py",
   "mimetype": "text/x-python",
   "name": "python",
   "nbconvert_exporter": "python",
   "pygments_lexer": "ipython3",
   "version": "3.10.9"
  }
 },
 "nbformat": 4,
 "nbformat_minor": 5
}
