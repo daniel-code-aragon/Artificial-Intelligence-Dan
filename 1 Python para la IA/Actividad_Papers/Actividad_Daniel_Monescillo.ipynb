{
 "cells": [
  {
   "cell_type": "markdown",
   "id": "6a7ebc35-ea66-4d08-a61e-3f9b9bf2b79c",
   "metadata": {},
   "source": [
    "# Pregunta 1"
   ]
  },
  {
   "cell_type": "markdown",
   "id": "1062c4ec-d747-41c3-a199-1d25e934b96b",
   "metadata": {},
   "source": [
    "##### El broadcasting , lo que permite es realizar operaciones matemáticas con arrays de dimensiones diferentes ampliando los arrays pequeños a la dimensión del array de dimensiones superior. Estas operaciones se producen en C en lugar de Python , sin hacer copias lo que supone un aumento de eficiencia en los algoritmos.\n",
    "##### Las restricciones del broadcasting ocurren si los tamaños en cada dimensión no coinciden y ninguno es igual a 1, en ese caso se produce un error y la operación es incompatible.\n",
    "##### Algunos de los ejemplos de broadcasting con numpy son los siguientes:\n"
   ]
  },
  {
   "cell_type": "code",
   "execution_count": 3,
   "id": "b6e2aaef-3fd8-4698-a7e4-5c1733f03294",
   "metadata": {},
   "outputs": [
    {
     "name": "stdout",
     "output_type": "stream",
     "text": [
      "[[11 22 33]\n",
      " [14 25 36]] Se expande el segundo array\n"
     ]
    }
   ],
   "source": [
    "import numpy as np\n",
    "\n",
    "a = np.array([[1, 2, 3],\n",
    "              [4, 5, 6]])\n",
    "\n",
    "b = np.array([10, 27, 30])\n",
    "\n",
    "c = a + b\n",
    "\n",
    "print(c, 'Se expande el segundo array')"
   ]
  },
  {
   "cell_type": "code",
   "execution_count": 6,
   "id": "76509617-f25b-48d1-923a-ed253860f706",
   "metadata": {},
   "outputs": [
    {
     "name": "stdout",
     "output_type": "stream",
     "text": [
      "[[111 122 133]\n",
      " [214 225 236]]\n"
     ]
    }
   ],
   "source": [
    "\n",
    "a = np.array([[1, 2, 3],\n",
    "              [4, 5, 6]])\n",
    "b = np.array([1, 2, 33])\n",
    "\n",
    "c = np.array([[100], [200]])\n",
    "\n",
    "d = a + b + c\n",
    "\n",
    "\n",
    "print(d)"
   ]
  },
  {
   "cell_type": "markdown",
   "id": "d9bfc655-ff9d-4228-834b-c9b79c62b6ba",
   "metadata": {},
   "source": [
    "# Pregunta 2"
   ]
  },
  {
   "cell_type": "markdown",
   "id": "82f0dc07-43d8-40a6-a5ab-93aaebc1ef67",
   "metadata": {},
   "source": [
    "##### La eficacia de la memoria mapeada en Numpy se basa en manipular  los datos directamente desde un archivo en el  disco sin tener de cargarlos completamente en memoria , es util sobre todo cuando trabajas con archivo muy pesados.\n",
    "\n",
    "##### Para comprobar la eficaciade su uso bastaria con crear dos arrays , uno mapeado en memoria y otro normal , aplicar operaciones sobre ellos y comprobar el tiempo de ejecucion de uno frente a otro. \n",
    "\n",
    "##### Haciendo esto se comprueba que en efecto el tiempo de ejecucion del array mapeado es menor que el tiempo de ejecucion del array normal."
   ]
  },
  {
   "cell_type": "markdown",
   "id": "cdb010f6-64fb-4318-93aa-d3e2a1c4cfa5",
   "metadata": {},
   "source": [
    "# Pregunta 3"
   ]
  },
  {
   "cell_type": "markdown",
   "id": "8f4e7359-49f4-4037-8079-13c9bc1c599e",
   "metadata": {},
   "source": [
    "##### En primera instancia , otros lenguajes o entornos se han utilizado mas que Python para aplicaciones científicas aunque poco a poco Python esta ganando popularidad ante los usuarios gracias a librerías como Numpy , Scipy y Matplotlib entre otras. Esto se debio a la falta de librerías enfocadas a este área. \n",
    "##### A pesar de esto ha habido nuevos desarrollos en Pyhon, que intentan captar mas usuarios, pero aun así no consiguen convencer a los programadores para que lo elijan frente a R.\n",
    "##### Uno de los problemas que tiene Python es el trabajo de datasets con Numpy , que en el caso de R tiene una clase específica para ello y sus librerías fueron creadas teniendo en cuenta ese objeto.\n",
    "##### El articulo expone cuales son los “avances” o integraciones que se han hecho con Pandas para el análisis de datos estadísticos.\n",
    "##### A la hora de analizar diferentes lenguajes para este propósito , cada lenguaje destaca en unas cosas frente a los otros, y a la hora de elegir el lenguaje depende del proyecto y con que el usuario prefiere trabajar.\n",
    "##### R esta diseñado para el análisis estadístico de datos y su punto fuerte es la variedad de librerías creadas para ello y cómo se comporta cuando trabajas en el (número de errores), pero es cierto que es un lenguaje que requiere de conocimiento de programación mas profundos que otros lenguajes como Python.\n",
    "##### Python es un lenguaje que no se creó específicamente para la ciencia de datos como fue el caso de R pero poco a poco se han ido añadiendo paquetes para este tipo de desarrollos ( los que se mencionan en el artículo) y que con su mayor simplicidad ,por experiencia propia consiguen que los usuarios lo elijan antes que R.\n",
    "##### En cuanto a SQL es un lenguaje enfocado a trabajar con bases de datos relacionales , para sacar querys y trabajar con grandes volúmenes de datos personalmente es un lenguaje muy sencillo pero está muy limitado exclusivamente a ese tipo de acciones , y con ciertas librerías en Python pudes programar con SQL si asi lo quieres.\n",
    "##### Lo mismo pasa con lenguajes como por ejemplo SAS, muy parecido a SQL , se utiliza en ciertas empresas pero no creo que sea una opción elegir frente a las tres mencionadas anteriormente.\n"
   ]
  },
  {
   "cell_type": "code",
   "execution_count": null,
   "id": "3e7e6680-8df0-4519-9852-55dffe3f780c",
   "metadata": {},
   "outputs": [],
   "source": []
  }
 ],
 "metadata": {
  "kernelspec": {
   "display_name": "Python 3 (ipykernel)",
   "language": "python",
   "name": "python3"
  },
  "language_info": {
   "codemirror_mode": {
    "name": "ipython",
    "version": 3
   },
   "file_extension": ".py",
   "mimetype": "text/x-python",
   "name": "python",
   "nbconvert_exporter": "python",
   "pygments_lexer": "ipython3",
   "version": "3.10.9"
  }
 },
 "nbformat": 4,
 "nbformat_minor": 5
}
