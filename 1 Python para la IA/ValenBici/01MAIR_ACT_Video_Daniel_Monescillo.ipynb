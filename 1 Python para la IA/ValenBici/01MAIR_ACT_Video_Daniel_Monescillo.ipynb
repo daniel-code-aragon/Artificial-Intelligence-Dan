{
 "cells": [
  {
   "cell_type": "markdown",
   "metadata": {},
   "source": [
    "\n",
    "## 01MIAR - Actividad Video Valenbici\n",
    "\n",
    "## NumPy y Pandas\n",
    "\n",
    "### Objetivos:\n",
    "- Aplicar diferentes técnicas de tratamiento de estructuras numéricas con Numpy y datos estructurados con Pandas.\n",
    "\n",
    "### Instrucciones:\n",
    "- Mantener una estructura limpia, comentando código y secuenciando los apartados con el código correspondiente que resuelva la actividad.\n",
    "- Como criterio de evaluación se tendrá en cuenta el resultado, la consecución del mismo, estilo, comentarios y adecuación. Siempre será tenido en cuenta cualquier detalle técnico avanzado o no visto en clase relacionado con el tema (explicar el porqué y usabilidad).\n",
    "- No está permitido compartir los resultados ni el código en ninguno de los foros.\n",
    "- Revisar los temas 3 y 4, así como las sesiones sobre Numpy y Pandas para aplicar dichos contenidos.\n",
    "- Proponer las respuestas en las celdas a dicho efecto en cada punto, si se necesitan más celdas añadirlas en su sitio correspondiente\n",
    "- Mostrar de manera clara la respuesta a las preguntas, mediante código\n",
    "\n",
    "### Entrega:\n",
    "- Este mismo notebook con las respuetas\n",
    "\n",
    "### Evaluación\n",
    "- Esta actividad corresponde con el 10% de la nota final de la asignatura.\n",
    "\n",
    "### Fecha Realización\n",
    "- Convocatoria 1 - 19/05/2023 al 21/05/2023 hasta las 23:59 UTC+2"
   ]
  },
  {
   "cell_type": "markdown",
   "metadata": {
    "tags": []
   },
   "source": [
    "#### Descripción\n",
    "El conjunto de datos \"valenbici.db\" (fichero disponible adjunto a la actividad) proviene de una descarga de datos del servicio web de la empresa municipal Valenbici, dedicada al alquiler de bicicletas en Valencia.\n",
    "\n",
    "Los datos recabados de este servicio web son de mediciones cada 10 minutos de las estaciones:\n",
    "\n",
    "https://valencia.opendatasoft.com/explore/dataset/valenbisi-disponibilitat-valenbisi-dsiponibilidad/information/\n",
    "\n",
    "Cada estación está compuesta por un número variable de bornetas (total) donde se pueden anclar las bicicletas. Los datos obtenidos de cada estación (registros) refleja el número de bornetas libres (free) y el número de bicicletas disponibles (available).\n",
    "\n",
    "#### Columnas para trabajar:\n",
    "- number: id de la estación\n",
    "- total: número total de bornetas\n",
    "- updated (updated_at en origen): timestamp del estado en de bicis en la estación\n",
    "- available: número de bicis disponibles"
   ]
  },
  {
   "cell_type": "code",
   "execution_count": 1,
   "metadata": {},
   "outputs": [],
   "source": [
    "# Your impots here!!!\n",
    "import sqlite3\n",
    "import pandas as pd \n",
    "import numpy as np\n",
    "import matplotlib.pyplot as plt\n",
    "from datetime import datetime\n",
    "import seaborn as sns"
   ]
  },
  {
   "cell_type": "markdown",
   "metadata": {},
   "source": [
    "## 01\n",
    "Carga de datos de csv (estaciones_bici.csv) en un DataFrame y exploración de datos\n",
    "> Nota: los datos y la libreta de jupyter tienen que estar en la misma carpeta\n"
   ]
  },
  {
   "cell_type": "code",
   "execution_count": 2,
   "metadata": {},
   "outputs": [
    {
     "name": "stdout",
     "output_type": "stream",
     "text": [
      "download\n"
     ]
    }
   ],
   "source": [
    "con = sqlite3.connect('valenbisi.db')\n",
    "\n",
    "cursor = con.cursor()\n",
    "cursor.execute(\"SELECT name FROM sqlite_master WHERE type='table';\")\n",
    "name_table = cursor.fetchall()[0][0]\n",
    "print(name_table)\n",
    "\n",
    "df = pd.read_sql_query(f\"SELECT * FROM {name_table}\", con)\n",
    "con.close()"
   ]
  },
  {
   "cell_type": "code",
   "execution_count": 3,
   "metadata": {},
   "outputs": [
    {
     "data": {
      "text/html": [
       "<div>\n",
       "<style scoped>\n",
       "    .dataframe tbody tr th:only-of-type {\n",
       "        vertical-align: middle;\n",
       "    }\n",
       "\n",
       "    .dataframe tbody tr th {\n",
       "        vertical-align: top;\n",
       "    }\n",
       "\n",
       "    .dataframe thead th {\n",
       "        text-align: right;\n",
       "    }\n",
       "</style>\n",
       "<table border=\"1\" class=\"dataframe\">\n",
       "  <thead>\n",
       "    <tr style=\"text-align: right;\">\n",
       "      <th></th>\n",
       "      <th>updated</th>\n",
       "      <th>address</th>\n",
       "      <th>number</th>\n",
       "      <th>available</th>\n",
       "      <th>lat</th>\n",
       "      <th>lon</th>\n",
       "      <th>total</th>\n",
       "      <th>open</th>\n",
       "      <th>free</th>\n",
       "    </tr>\n",
       "  </thead>\n",
       "  <tbody>\n",
       "    <tr>\n",
       "      <th>0</th>\n",
       "      <td>2023-05-04 16:20:06</td>\n",
       "      <td>Peris y Valero - Cuba</td>\n",
       "      <td>39</td>\n",
       "      <td>5</td>\n",
       "      <td>39.457854</td>\n",
       "      <td>-0.373931</td>\n",
       "      <td>19</td>\n",
       "      <td>T</td>\n",
       "      <td>14</td>\n",
       "    </tr>\n",
       "    <tr>\n",
       "      <th>1</th>\n",
       "      <td>2023-05-04 16:20:06</td>\n",
       "      <td>Pintor Luis Arcas - Inst. Obrero Valenciano</td>\n",
       "      <td>46</td>\n",
       "      <td>4</td>\n",
       "      <td>39.455509</td>\n",
       "      <td>-0.358787</td>\n",
       "      <td>20</td>\n",
       "      <td>T</td>\n",
       "      <td>16</td>\n",
       "    </tr>\n",
       "    <tr>\n",
       "      <th>2</th>\n",
       "      <td>2023-05-04 16:20:06</td>\n",
       "      <td>Alfonso el Magnánimo - Nave</td>\n",
       "      <td>13</td>\n",
       "      <td>15</td>\n",
       "      <td>39.472062</td>\n",
       "      <td>-0.370874</td>\n",
       "      <td>24</td>\n",
       "      <td>T</td>\n",
       "      <td>9</td>\n",
       "    </tr>\n",
       "    <tr>\n",
       "      <th>3</th>\n",
       "      <td>2023-05-04 16:20:06</td>\n",
       "      <td>Angel Guimerá - Juan Llorens</td>\n",
       "      <td>22</td>\n",
       "      <td>4</td>\n",
       "      <td>39.469787</td>\n",
       "      <td>-0.388353</td>\n",
       "      <td>15</td>\n",
       "      <td>T</td>\n",
       "      <td>11</td>\n",
       "    </tr>\n",
       "    <tr>\n",
       "      <th>4</th>\n",
       "      <td>2023-05-04 16:20:06</td>\n",
       "      <td>Fernando el Católico - Cuenca</td>\n",
       "      <td>24</td>\n",
       "      <td>7</td>\n",
       "      <td>39.469077</td>\n",
       "      <td>-0.384027</td>\n",
       "      <td>20</td>\n",
       "      <td>T</td>\n",
       "      <td>11</td>\n",
       "    </tr>\n",
       "    <tr>\n",
       "      <th>...</th>\n",
       "      <td>...</td>\n",
       "      <td>...</td>\n",
       "      <td>...</td>\n",
       "      <td>...</td>\n",
       "      <td>...</td>\n",
       "      <td>...</td>\n",
       "      <td>...</td>\n",
       "      <td>...</td>\n",
       "      <td>...</td>\n",
       "    </tr>\n",
       "    <tr>\n",
       "      <th>222175</th>\n",
       "      <td>2023-05-10 16:00:07</td>\n",
       "      <td>Tres Cruces - Segunda República Española</td>\n",
       "      <td>249</td>\n",
       "      <td>5</td>\n",
       "      <td>39.459506</td>\n",
       "      <td>-0.402740</td>\n",
       "      <td>15</td>\n",
       "      <td>T</td>\n",
       "      <td>10</td>\n",
       "    </tr>\n",
       "    <tr>\n",
       "      <th>222176</th>\n",
       "      <td>2023-05-10 16:00:07</td>\n",
       "      <td>Plaza Salvador Soria, 8</td>\n",
       "      <td>257</td>\n",
       "      <td>7</td>\n",
       "      <td>39.445251</td>\n",
       "      <td>-0.389104</td>\n",
       "      <td>20</td>\n",
       "      <td>T</td>\n",
       "      <td>13</td>\n",
       "    </tr>\n",
       "    <tr>\n",
       "      <th>222177</th>\n",
       "      <td>2023-05-10 16:00:07</td>\n",
       "      <td>Pio IX - Músico Cabanilles</td>\n",
       "      <td>259</td>\n",
       "      <td>17</td>\n",
       "      <td>39.445460</td>\n",
       "      <td>-0.393015</td>\n",
       "      <td>20</td>\n",
       "      <td>T</td>\n",
       "      <td>2</td>\n",
       "    </tr>\n",
       "    <tr>\n",
       "      <th>222178</th>\n",
       "      <td>2023-05-10 16:00:07</td>\n",
       "      <td>Canal de Navarrés - Maestro Rodrigo</td>\n",
       "      <td>266</td>\n",
       "      <td>6</td>\n",
       "      <td>39.490289</td>\n",
       "      <td>-0.406371</td>\n",
       "      <td>18</td>\n",
       "      <td>T</td>\n",
       "      <td>12</td>\n",
       "    </tr>\n",
       "    <tr>\n",
       "      <th>222179</th>\n",
       "      <td>2023-05-10 16:00:07</td>\n",
       "      <td>Vicente la Roda - Ingeniero Fausto Elio</td>\n",
       "      <td>272</td>\n",
       "      <td>4</td>\n",
       "      <td>39.480623</td>\n",
       "      <td>-0.332190</td>\n",
       "      <td>15</td>\n",
       "      <td>T</td>\n",
       "      <td>10</td>\n",
       "    </tr>\n",
       "  </tbody>\n",
       "</table>\n",
       "<p>222180 rows × 9 columns</p>\n",
       "</div>"
      ],
      "text/plain": [
       "                    updated                                      address  \\\n",
       "0       2023-05-04 16:20:06                        Peris y Valero - Cuba   \n",
       "1       2023-05-04 16:20:06  Pintor Luis Arcas - Inst. Obrero Valenciano   \n",
       "2       2023-05-04 16:20:06                  Alfonso el Magnánimo - Nave   \n",
       "3       2023-05-04 16:20:06                 Angel Guimerá - Juan Llorens   \n",
       "4       2023-05-04 16:20:06                Fernando el Católico - Cuenca   \n",
       "...                     ...                                          ...   \n",
       "222175  2023-05-10 16:00:07     Tres Cruces - Segunda República Española   \n",
       "222176  2023-05-10 16:00:07                      Plaza Salvador Soria, 8   \n",
       "222177  2023-05-10 16:00:07                   Pio IX - Músico Cabanilles   \n",
       "222178  2023-05-10 16:00:07          Canal de Navarrés - Maestro Rodrigo   \n",
       "222179  2023-05-10 16:00:07      Vicente la Roda - Ingeniero Fausto Elio   \n",
       "\n",
       "        number  available        lat       lon  total open  free  \n",
       "0           39          5  39.457854 -0.373931     19    T    14  \n",
       "1           46          4  39.455509 -0.358787     20    T    16  \n",
       "2           13         15  39.472062 -0.370874     24    T     9  \n",
       "3           22          4  39.469787 -0.388353     15    T    11  \n",
       "4           24          7  39.469077 -0.384027     20    T    11  \n",
       "...        ...        ...        ...       ...    ...  ...   ...  \n",
       "222175     249          5  39.459506 -0.402740     15    T    10  \n",
       "222176     257          7  39.445251 -0.389104     20    T    13  \n",
       "222177     259         17  39.445460 -0.393015     20    T     2  \n",
       "222178     266          6  39.490289 -0.406371     18    T    12  \n",
       "222179     272          4  39.480623 -0.332190     15    T    10  \n",
       "\n",
       "[222180 rows x 9 columns]"
      ]
     },
     "execution_count": 3,
     "metadata": {},
     "output_type": "execute_result"
    }
   ],
   "source": [
    "# Your answer here!!!\n",
    "df"
   ]
  },
  {
   "cell_type": "code",
   "execution_count": 4,
   "metadata": {},
   "outputs": [
    {
     "name": "stdout",
     "output_type": "stream",
     "text": [
      "<class 'pandas.core.frame.DataFrame'>\n",
      "RangeIndex: 222180 entries, 0 to 222179\n",
      "Data columns (total 9 columns):\n",
      " #   Column     Non-Null Count   Dtype  \n",
      "---  ------     --------------   -----  \n",
      " 0   updated    222180 non-null  object \n",
      " 1   address    222180 non-null  object \n",
      " 2   number     222180 non-null  int64  \n",
      " 3   available  222180 non-null  int64  \n",
      " 4   lat        222180 non-null  float64\n",
      " 5   lon        222180 non-null  float64\n",
      " 6   total      222180 non-null  int64  \n",
      " 7   open       222180 non-null  object \n",
      " 8   free       222180 non-null  int64  \n",
      "dtypes: float64(2), int64(4), object(3)\n",
      "memory usage: 15.3+ MB\n"
     ]
    }
   ],
   "source": [
    "df.info()"
   ]
  },
  {
   "cell_type": "markdown",
   "metadata": {},
   "source": [
    "## 02\n",
    "Obtención del número de estaciones que tienen un total de 30 bornetas\n",
    "¿Qué estaciones son?"
   ]
  },
  {
   "cell_type": "code",
   "execution_count": 5,
   "metadata": {
    "tags": []
   },
   "outputs": [
    {
     "name": "stdout",
     "output_type": "stream",
     "text": [
      "17\n",
      "89\n",
      "117\n",
      "114\n",
      "105\n",
      "189\n",
      "111\n",
      "110\n",
      "143\n",
      "101\n",
      "226\n"
     ]
    }
   ],
   "source": [
    "# Your answer here!!!\n",
    "unique_df=df.drop_duplicates(subset=['number'])      #Hago un df con los valores unicos del nª de estacion \n",
    "#unique_df.head()\n",
    "\n",
    "\n",
    "n30= unique_df[unique_df['total'].apply(lambda x : x==30)]['number']\n",
    "\n",
    "for x in n30:\n",
    "    print(x)\n",
    "    \n",
    "\n",
    "# Hago un filtrado aplicando la funcion lambda x en la columna total para que devuelva TRUE si es igual a 30 y saque \n",
    "# cual es el nuemero de estacion que coincide "
   ]
  },
  {
   "cell_type": "markdown",
   "metadata": {
    "tags": []
   },
   "source": [
    "## 03\n",
    "Número de estación con la media más alta de bicis disponibles"
   ]
  },
  {
   "cell_type": "code",
   "execution_count": 6,
   "metadata": {},
   "outputs": [
    {
     "name": "stdout",
     "output_type": "stream",
     "text": [
      "La estacion es la: 101 , con una media de 22.859627329192545\n"
     ]
    }
   ],
   "source": [
    "# Your answer here!!!\n",
    "\n",
    "grupos =df.groupby('number')['available']\n",
    "#for grupo , datos in a:\n",
    "    #print(f'Grupo: {grupo}')\n",
    "    #print(datos)\n",
    "\n",
    "estacion=0\n",
    "id_mean=0\n",
    "\n",
    "for grupo , datos in grupos:\n",
    "    \n",
    "    #print(f'Grupo: {grupo}')\n",
    "    #print(sum(datos)/datos.count())\n",
    "    mean= sum(datos)/datos.count()\n",
    "    \n",
    "    if mean >= id_mean:\n",
    "        id_mean=mean\n",
    "        estacion= grupo\n",
    "        \n",
    "print(f'La estacion es la: {estacion} , con una media de {id_mean}')\n",
    "\n",
    "#Lo primero que he hecho ha sido agrupar las estaciones por su numero y quedandome con los datos de la columna available.\n",
    "# He probado un par de veces a iterar sobre ese groupby para ver como se comprtaba y he decidido crear dos variables\n",
    "# inicializadas a cero que al iterar con el for sobre los grupos, guardaran la media mas alta y se quedaran con el numero \n",
    "# de la estacion."
   ]
  },
  {
   "cell_type": "markdown",
   "metadata": {},
   "source": [
    "## 04\n",
    "Realizar el histograma de bicis disponibles de la estación del punto anterior"
   ]
  },
  {
   "cell_type": "code",
   "execution_count": 7,
   "metadata": {},
   "outputs": [
    {
     "data": {
      "text/plain": [
       "array([[<AxesSubplot:title={'center':'available'}>]], dtype=object)"
      ]
     },
     "execution_count": 7,
     "metadata": {},
     "output_type": "execute_result"
    },
    {
     "data": {
      "image/png": "[encoded data removed]",
      "text/plain": [
       "<Figure size 432x288 with 1 Axes>"
      ]
     },
     "metadata": {
      "needs_background": "light"
     },
     "output_type": "display_data"
    }
   ],
   "source": [
    "# Your answer here!!!\n",
    "df_101=df[df['number']==101]\n",
    "df_101.hist(column='available', bins= 20)\n",
    "#Un histograma normal , lo unico que he tocado es el numero de contenedores"
   ]
  },
  {
   "cell_type": "markdown",
   "metadata": {},
   "source": [
    "## 05\n",
    "Realizar gráfica con  la línea temporal de bicis disponibles de la estación del punto anterior. Pista, es necesario cambiar el índice a uno tipo fecha"
   ]
  },
  {
   "cell_type": "code",
   "execution_count": 8,
   "metadata": {},
   "outputs": [
    {
     "name": "stderr",
     "output_type": "stream",
     "text": [
      "C:\\Users\\F556U\\AppData\\Local\\Temp/ipykernel_12016/2186185859.py:6: SettingWithCopyWarning: \n",
      "A value is trying to be set on a copy of a slice from a DataFrame.\n",
      "Try using .loc[row_indexer,col_indexer] = value instead\n",
      "\n",
      "See the caveats in the documentation: https://pandas.pydata.org/pandas-docs/stable/user_guide/indexing.html#returning-a-view-versus-a-copy\n",
      "  df_101['Fecha'] = df_101['updated'].apply(convertir_a_fecha)\n"
     ]
    }
   ],
   "source": [
    "# Your answer here!!!\n",
    "def convertir_a_fecha(cadena):\n",
    "    return datetime.strptime(cadena, \"%Y-%m-%d %H:%M:%S\")\n",
    "\n",
    "# Aplicar la función a la columna \"Fecha\"\n",
    "df_101['Fecha'] = df_101['updated'].apply(convertir_a_fecha)\n",
    "#Aplico una funcion a la columna que pasa de object a datetime"
   ]
  },
  {
   "cell_type": "code",
   "execution_count": 9,
   "metadata": {},
   "outputs": [
    {
     "name": "stdout",
     "output_type": "stream",
     "text": [
      "236       2023-05-04 16:20:06\n",
      "433       2023-05-04 16:29:13\n",
      "708       2023-05-04 16:39:47\n",
      "1072      2023-05-04 16:49:55\n",
      "1269      2023-05-04 17:00:06\n",
      "                 ...         \n",
      "221044    2023-05-10 11:59:34\n",
      "221142    2023-05-10 12:59:27\n",
      "221521    2023-05-10 13:59:22\n",
      "221776    2023-05-10 15:00:15\n",
      "221958    2023-05-10 16:00:07\n",
      "Name: updated, Length: 805, dtype: object\n"
     ]
    }
   ],
   "source": [
    "print(df_101['updated'])"
   ]
  },
  {
   "cell_type": "code",
   "execution_count": 10,
   "metadata": {},
   "outputs": [
    {
     "data": {
      "text/html": [
       "<div>\n",
       "<style scoped>\n",
       "    .dataframe tbody tr th:only-of-type {\n",
       "        vertical-align: middle;\n",
       "    }\n",
       "\n",
       "    .dataframe tbody tr th {\n",
       "        vertical-align: top;\n",
       "    }\n",
       "\n",
       "    .dataframe thead th {\n",
       "        text-align: right;\n",
       "    }\n",
       "</style>\n",
       "<table border=\"1\" class=\"dataframe\">\n",
       "  <thead>\n",
       "    <tr style=\"text-align: right;\">\n",
       "      <th></th>\n",
       "      <th>updated</th>\n",
       "      <th>address</th>\n",
       "      <th>number</th>\n",
       "      <th>available</th>\n",
       "      <th>lat</th>\n",
       "      <th>lon</th>\n",
       "      <th>total</th>\n",
       "      <th>open</th>\n",
       "      <th>free</th>\n",
       "    </tr>\n",
       "    <tr>\n",
       "      <th>Fecha</th>\n",
       "      <th></th>\n",
       "      <th></th>\n",
       "      <th></th>\n",
       "      <th></th>\n",
       "      <th></th>\n",
       "      <th></th>\n",
       "      <th></th>\n",
       "      <th></th>\n",
       "      <th></th>\n",
       "    </tr>\n",
       "  </thead>\n",
       "  <tbody>\n",
       "    <tr>\n",
       "      <th>2023-05-04 16:20:06</th>\n",
       "      <td>2023-05-04 16:20:06</td>\n",
       "      <td>Marino Blas de Lezo (estación Cabañal Adif)</td>\n",
       "      <td>101</td>\n",
       "      <td>13</td>\n",
       "      <td>39.470068</td>\n",
       "      <td>-0.334361</td>\n",
       "      <td>30</td>\n",
       "      <td>T</td>\n",
       "      <td>17</td>\n",
       "    </tr>\n",
       "    <tr>\n",
       "      <th>2023-05-04 16:29:13</th>\n",
       "      <td>2023-05-04 16:29:13</td>\n",
       "      <td>Marino Blas de Lezo (estación Cabañal Adif)</td>\n",
       "      <td>101</td>\n",
       "      <td>15</td>\n",
       "      <td>39.470068</td>\n",
       "      <td>-0.334361</td>\n",
       "      <td>30</td>\n",
       "      <td>T</td>\n",
       "      <td>15</td>\n",
       "    </tr>\n",
       "    <tr>\n",
       "      <th>2023-05-04 16:39:47</th>\n",
       "      <td>2023-05-04 16:39:47</td>\n",
       "      <td>Marino Blas de Lezo (estación Cabañal Adif)</td>\n",
       "      <td>101</td>\n",
       "      <td>16</td>\n",
       "      <td>39.470068</td>\n",
       "      <td>-0.334361</td>\n",
       "      <td>30</td>\n",
       "      <td>T</td>\n",
       "      <td>14</td>\n",
       "    </tr>\n",
       "    <tr>\n",
       "      <th>2023-05-04 16:49:55</th>\n",
       "      <td>2023-05-04 16:49:55</td>\n",
       "      <td>Marino Blas de Lezo (estación Cabañal Adif)</td>\n",
       "      <td>101</td>\n",
       "      <td>15</td>\n",
       "      <td>39.470068</td>\n",
       "      <td>-0.334361</td>\n",
       "      <td>30</td>\n",
       "      <td>T</td>\n",
       "      <td>15</td>\n",
       "    </tr>\n",
       "    <tr>\n",
       "      <th>2023-05-04 17:00:06</th>\n",
       "      <td>2023-05-04 17:00:06</td>\n",
       "      <td>Marino Blas de Lezo (estación Cabañal Adif)</td>\n",
       "      <td>101</td>\n",
       "      <td>16</td>\n",
       "      <td>39.470068</td>\n",
       "      <td>-0.334361</td>\n",
       "      <td>30</td>\n",
       "      <td>T</td>\n",
       "      <td>14</td>\n",
       "    </tr>\n",
       "  </tbody>\n",
       "</table>\n",
       "</div>"
      ],
      "text/plain": [
       "                                 updated  \\\n",
       "Fecha                                      \n",
       "2023-05-04 16:20:06  2023-05-04 16:20:06   \n",
       "2023-05-04 16:29:13  2023-05-04 16:29:13   \n",
       "2023-05-04 16:39:47  2023-05-04 16:39:47   \n",
       "2023-05-04 16:49:55  2023-05-04 16:49:55   \n",
       "2023-05-04 17:00:06  2023-05-04 17:00:06   \n",
       "\n",
       "                                                         address  number  \\\n",
       "Fecha                                                                      \n",
       "2023-05-04 16:20:06  Marino Blas de Lezo (estación Cabañal Adif)     101   \n",
       "2023-05-04 16:29:13  Marino Blas de Lezo (estación Cabañal Adif)     101   \n",
       "2023-05-04 16:39:47  Marino Blas de Lezo (estación Cabañal Adif)     101   \n",
       "2023-05-04 16:49:55  Marino Blas de Lezo (estación Cabañal Adif)     101   \n",
       "2023-05-04 17:00:06  Marino Blas de Lezo (estación Cabañal Adif)     101   \n",
       "\n",
       "                     available        lat       lon  total open  free  \n",
       "Fecha                                                                  \n",
       "2023-05-04 16:20:06         13  39.470068 -0.334361     30    T    17  \n",
       "2023-05-04 16:29:13         15  39.470068 -0.334361     30    T    15  \n",
       "2023-05-04 16:39:47         16  39.470068 -0.334361     30    T    14  \n",
       "2023-05-04 16:49:55         15  39.470068 -0.334361     30    T    15  \n",
       "2023-05-04 17:00:06         16  39.470068 -0.334361     30    T    14  "
      ]
     },
     "execution_count": 10,
     "metadata": {},
     "output_type": "execute_result"
    }
   ],
   "source": [
    "df_101.set_index('Fecha', inplace=True)\n",
    "df_101.head()"
   ]
  },
  {
   "cell_type": "code",
   "execution_count": 11,
   "metadata": {},
   "outputs": [
    {
     "data": {
      "text/plain": [
       "<AxesSubplot:xlabel='Fecha', ylabel='available'>"
      ]
     },
     "execution_count": 11,
     "metadata": {},
     "output_type": "execute_result"
    },
    {
     "data": {
      "image/png": "[encoded data removed]",
      "text/plain": [
       "<Figure size 432x288 with 1 Axes>"
      ]
     },
     "metadata": {
      "needs_background": "light"
     },
     "output_type": "display_data"
    }
   ],
   "source": [
    "sns.lineplot(x='Fecha', y='available', data=df_101)"
   ]
  },
  {
   "cell_type": "code",
   "execution_count": 16,
   "metadata": {},
   "outputs": [
    {
     "data": {
      "text/plain": [
       "<matplotlib.legend.Legend at 0x21000ae7f70>"
      ]
     },
     "execution_count": 16,
     "metadata": {},
     "output_type": "execute_result"
    },
    {
     "data": {
      "image/png": "[encoded data removed]",
      "text/plain": [
       "<Figure size 864x432 with 1 Axes>"
      ]
     },
     "metadata": {
      "needs_background": "light"
     },
     "output_type": "display_data"
    }
   ],
   "source": [
    "plt.figure(figsize=(12, 6))\n",
    "\n",
    "plt.plot(df_101.index, df_101['available'])\n",
    "\n",
    "plt.xlabel('Fecha')\n",
    "plt.ylabel('available')\n",
    "plt.title('Gráfico de línea')\n",
    "plt.legend(['nº available'])"
   ]
  },
  {
   "cell_type": "code",
   "execution_count": null,
   "metadata": {},
   "outputs": [],
   "source": [
    "plt"
   ]
  }
 ],
 "metadata": {
  "kernelspec": {
   "display_name": "Python 3 (ipykernel)",
   "language": "python",
   "name": "python3"
  },
  "language_info": {
   "codemirror_mode": {
    "name": "ipython",
    "version": 3
   },
   "file_extension": ".py",
   "mimetype": "text/x-python",
   "name": "python",
   "nbconvert_exporter": "python",
   "pygments_lexer": "ipython3",
   "version": "3.9.7"
  }
 },
 "nbformat": 4,
 "nbformat_minor": 4
}
