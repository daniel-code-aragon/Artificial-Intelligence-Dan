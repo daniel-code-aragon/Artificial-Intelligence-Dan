{
 "cells": [
  {
   "cell_type": "markdown",
   "id": "43115e44-f75d-465a-ad62-9b2be737a6e6",
   "metadata": {},
   "source": [
    "# Examen Primera Convocatoria"
   ]
  },
  {
   "cell_type": "code",
   "execution_count": 95,
   "id": "eb8ba270-b03c-49f8-b092-8de37baa3bfe",
   "metadata": {},
   "outputs": [],
   "source": [
    "# Your imports HERE !!!!\n",
    "import pandas as pd\n",
    "import numpy as np\n",
    "import matplotlib.pyplot as plt"
   ]
  },
  {
   "cell_type": "markdown",
   "id": "2206adbd-c8e0-4665-a20b-bb6a1503d388",
   "metadata": {
    "tags": []
   },
   "source": [
    "## 01 - 1 pt\n",
    "- Dado un array de elementos, escribir una función, que reciba dicho array como parámetro de entrada y devuelva el elemento repetido. Usando plain Python, sin ninguna librería."
   ]
  },
  {
   "cell_type": "code",
   "execution_count": 3,
   "id": "748595ea-d6b6-4f35-a824-ea3631d7e15a",
   "metadata": {},
   "outputs": [],
   "source": [
    "array_src = [4, 8, 0, 3, 6, 2, 1, 5, 3, 9, 7]\n",
    "expected_rep_element = 3\n",
    "#rep_element = repeated_element(array_src) # This calls your function repeated_element\n",
    "assert(expected_rep_element == rep_element)  # This will fail if the element is not found correctly"
   ]
  },
  {
   "cell_type": "code",
   "execution_count": 5,
   "id": "3b6d4855-e751-4f45-8382-1291885aef0c",
   "metadata": {},
   "outputs": [
    {
     "name": "stdout",
     "output_type": "stream",
     "text": [
      "3\n"
     ]
    }
   ],
   "source": [
    "# Your solution HERE !!!!\n",
    "\n",
    "def repeated_element(array_src):\n",
    "    numbers=[]\n",
    "    for n in array_src:\n",
    "        if n in numbers:\n",
    "            return n\n",
    "        \n",
    "        numbers.append(n)\n",
    "\n",
    "rep_element=repeated_element(array_src)\n",
    "print(rep_element)\n",
    "\n",
    "assert(expected_rep_element == rep_element)"
   ]
  },
  {
   "cell_type": "markdown",
   "id": "5161decf-e061-44a9-a413-8d3921a10058",
   "metadata": {
    "tags": []
   },
   "source": [
    "## 02 - 1pt\n",
    "- Genera una matriz con valores aleatorios de 0 a 100 de dimensiones 16x16\n",
    "- Calcula los siguentes estadísticos en la matriz anterior, por fila (el resultado de cada uno debe ser un array de dimensiones 1x16)\n",
    "  - Suma de los elementos de cada fila\n",
    "  - Media de los elementos de cada fila\n",
    "  - Valores mínimos de cada fila\n",
    "  - Valores máximos de cada fila"
   ]
  },
  {
   "cell_type": "code",
   "execution_count": 24,
   "id": "2e7bfe3c-253f-4287-8d85-fb7e5163e6c0",
   "metadata": {},
   "outputs": [
    {
     "name": "stdout",
     "output_type": "stream",
     "text": [
      "[[48 11 92 71 65 98 90 20 94 29 19 64 49 65  1 24]\n",
      " [63 83 55 88 54 92 29 78 37 98 69 17 33  4 55 28]\n",
      " [28 44 66 25 41 66 39 47  4 90 25 46 45 14 98 52]\n",
      " [46 27 59 81 87 68 43 39 88 25 53 60 90 63 87 39]\n",
      " [93 52 48 42 98 91 31 39 77 17 68 17 30 96 59 68]\n",
      " [ 7 56 89 21 46 41 82 49  4 64 62 83  3  8 72 79]\n",
      " [88  3 44 15 40  8 20 29 44 77 85 37 40 78 81 81]\n",
      " [40 46 45 70 64 72 21 64 23 28 38 73  1 51 82 28]\n",
      " [19 79 78 71 50 24 84 78  7 22 20 51  8 73  6 93]\n",
      " [12 60 20 83 77 18 46 73 64  7 82  6  2 83 71 65]\n",
      " [92 20 28  9 67 82 43 10 84  3 59 78 67 16 82 59]\n",
      " [90 39 45 23 36 55 88 18 49 92  5 94 90 85 27 72]\n",
      " [30 15 61 62  8 87 18 69 82 73 74 85 65 92 28 87]\n",
      " [ 6 70 53 93 25  7 22 21 78 59 70 36 40 70 26 77]\n",
      " [91 77 53 26 92 10 53 76  1 52 29 58  7 30 17 72]\n",
      " [48 53 70 71 83 19 85 89 73  3 52  2 83 86 31 88]]\n"
     ]
    }
   ],
   "source": [
    "# Your solution HERE !!!!\n",
    "matrix = np.random.randint(0,100,size=(16, 16))\n",
    "print(matrix)\n",
    "arr"
   ]
  },
  {
   "cell_type": "markdown",
   "id": "9986c32f-299d-4ce7-809e-db01ee851764",
   "metadata": {
    "tags": []
   },
   "source": [
    "## 03 - 1pt\n",
    "\n",
    "- Generar un dataframe de 3x4 dimensiones con valores númericos aleatorios [0,10]\n",
    "- Darle un índice semántico alfanumérico\n",
    "- Aplicarle una función lambda que obtenga la diferencia entre el máximo y mínimo de cada fila"
   ]
  },
  {
   "cell_type": "code",
   "execution_count": 22,
   "id": "18ff9dbf-9ba4-4513-8a73-d0328b689dc9",
   "metadata": {},
   "outputs": [
    {
     "name": "stdout",
     "output_type": "stream",
     "text": [
      "    0  1  2  3\n",
      "i1  8  1  8  5\n",
      "i2  2  6  1  9\n",
      "i3  9  0  9  7 \n",
      "\n",
      "\n",
      "Las diferenecias son:\n",
      "i1    7\n",
      "i2    8\n",
      "i3    9\n",
      "dtype: int64\n"
     ]
    }
   ],
   "source": [
    "# Your solution HERE !!!!\n",
    "\n",
    "#NO CREO COLUMNA NUEVA PORQUE NO LO ESPECIFICA\n",
    "df = pd.DataFrame(np.random.randint(0,10,size=(3, 4)), index=['i1','i2','i3'])\n",
    "print(df,'\\n\\n')\n",
    "dif = df.apply(lambda row: row.max() - row.min(), axis=1)\n",
    "\n",
    "print(f'Las diferenecias son:\\n{dif}')"
   ]
  },
  {
   "cell_type": "markdown",
   "id": "1dc73e21-7283-4cd5-92e8-3a7e1e70fd02",
   "metadata": {
    "tags": []
   },
   "source": [
    "## 04 - 1pt\n",
    "- Crear un array de NumPy de dimensiones 8x5, con números enteros aleatorios en el rango [-100, 100]\n",
    "- Ejecutar en este orden\n",
    "\n",
    "  1. Reemplazar los valores de todos aquellos números múltiplos de 5 por 100\n",
    "  2. Reemplazar los valores de todos aquellos números múltiplos de 3 por Nan\n",
    "   \n",
    "  2. Averiguar cuantos elementos tienen Nan por fila\n",
    "  3. Reemplazar los valores de Nan por 0"
   ]
  },
  {
   "cell_type": "code",
   "execution_count": 46,
   "id": "2fd83be4-8626-4eaa-9ead-6f951d5ebbfb",
   "metadata": {},
   "outputs": [
    {
     "name": "stdout",
     "output_type": "stream",
     "text": [
      "[[ 12  -4  80 -56 -11]\n",
      " [-60  83  33  41 -10]\n",
      " [ 40 -98  -5  12  92]\n",
      " [-89  64 -97  96  66]\n",
      " [-48  93 -13 -69  25]\n",
      " [ 48 -66 -94 -78   6]\n",
      " [-34 -55 -67  39  -1]\n",
      " [-74  70  90 -30  24]] \n",
      "\n",
      "[[ 12  -4 100 -56 -11]\n",
      " [100  83  33  41 100]\n",
      " [100 -98 100  12  92]\n",
      " [-89  64 -97  96  66]\n",
      " [-48  93 -13 -69 100]\n",
      " [ 48 -66 -94 -78   6]\n",
      " [-34 100 -67  39  -1]\n",
      " [-74 100 100 100  24]] \n",
      "\n",
      "[[ nan  -4. 100. -56. -11.]\n",
      " [100.  83.  nan  41. 100.]\n",
      " [100. -98. 100.  nan  92.]\n",
      " [-89.  64. -97.  nan  nan]\n",
      " [ nan  nan -13.  nan 100.]\n",
      " [ nan  nan -94.  nan  nan]\n",
      " [-34. 100. -67.  nan  -1.]\n",
      " [-74. 100. 100. 100.  nan]] \n",
      "\n",
      "Valores NaN:  26 \n",
      "\n",
      "[[  0.  -4. 100. -56. -11.]\n",
      " [100.  83.   0.  41. 100.]\n",
      " [100. -98. 100.   0.  92.]\n",
      " [-89.  64. -97.   0.   0.]\n",
      " [  0.   0. -13.   0. 100.]\n",
      " [  0.   0. -94.   0.   0.]\n",
      " [-34. 100. -67.   0.  -1.]\n",
      " [-74. 100. 100. 100.   0.]]\n"
     ]
    }
   ],
   "source": [
    "# Your solution HERE !!!!\n",
    "arr1 = np.random.randint(-100,100,size=(8, 5))\n",
    "print(arr1,'\\n')\n",
    "\n",
    "arr1[arr1 % 5==0] = 100\n",
    "print(arr1,'\\n')\n",
    "\n",
    "arr1 = np.where(arr1 %3==0, np.nan, arr1)\n",
    "print(arr1,'\\n')\n",
    "\n",
    "print('Valores NaN: ',np.count_nonzero(~np.isnan(arr1)), '\\n')\n",
    "\n",
    "arr1 = np.where(np.isnan(arr1), 0, arr1)\n",
    "print(arr1)"
   ]
  },
  {
   "cell_type": "markdown",
   "id": "45fe9b96-168d-4bdc-a472-fb41c9031c0d",
   "metadata": {
    "tags": []
   },
   "source": [
    "## 05 - 1pt\n",
    "- Crear una función que reciba una lista de strings y devuelva una serie de pandas, y convierta el primer y último carácter de la palabra de cada elemento de la serie a mayúsculas"
   ]
  },
  {
   "cell_type": "code",
   "execution_count": 49,
   "id": "19fab47f-5fbe-4baa-93af-fc6776d748d1",
   "metadata": {},
   "outputs": [],
   "source": [
    "languages = ['python', 'php', 'java', 'javascript', 'c++', 'sql']\n",
    "expected_output = pd.Series(['PythoN', 'PhP', 'JavA', 'JavascripT', 'C++', 'SqL'])\n",
    "#output = first_last_uppercase(languages)  # This calls your function first_last_uppercase\n",
    "#assert(expected_output.equals(output))  # This will fail if the two lists are different"
   ]
  },
  {
   "cell_type": "code",
   "execution_count": 59,
   "id": "b6b5696b-71fd-4dc4-8536-18eb2d69a8fa",
   "metadata": {},
   "outputs": [
    {
     "name": "stdout",
     "output_type": "stream",
     "text": [
      "0        PythoN\n",
      "1           PhP\n",
      "2          JavA\n",
      "3    JavascripT\n",
      "4           C++\n",
      "5           SqL\n",
      "dtype: object\n"
     ]
    }
   ],
   "source": [
    "# Your solution HERE !!!!\n",
    "# Funcion que coge el primer y el ultimo elemento de cada palabra de la lista y les hace upper() , y se queda con el cuerpo en minuscula\n",
    "def first_last_uppercase(languages):\n",
    "    new_list=[]\n",
    "    for word in languages:\n",
    "        word=word[0].upper()+word[1:-1]+word[-1].upper()\n",
    "        new_list.append(word)\n",
    "    serie=pd.Series(new_list)\n",
    "    return serie\n",
    "\n",
    "\n",
    "output = first_last_uppercase(languages)\n",
    "print(output)\n",
    "\n",
    "assert(expected_output.equals(output))"
   ]
  },
  {
   "cell_type": "markdown",
   "id": "a6e10a57-8a63-4c16-900e-0278fc80a2eb",
   "metadata": {},
   "source": [
    "## 06 - 3 pt\n",
    "- Adjunto al notebook se puede encontrar un fichero 'ine_paro_exam.csv' que contiene datos del INE referentes al paro en España\n",
    "- Las columnas son las siguientes:\n",
    "  - Sexo, los datos de esa fila se refieren a hombres, mujeres o ambos sexos\n",
    "  - Provincias, los datos de esa fila son totales para todo el pais, o de alguna provincia en particular\n",
    "  - Tasas, que tipo de tasa representa el valor de la fila, es de actividad, paro o empleo\n",
    "  - Periodo, a que periodo de tiempo aplica el dato, año y trimestre\n",
    "  - Total, el dato de la tasa\n",
    "\n",
    "Se pide lo siguiente:\n",
    "  - Cargar los datos en un dataframe de Pandas y analizar los atributos\n",
    "  - ¿Cuantos valores nulos hay por columna? Eliminar las filas que tienen nulo en la columna \"Total\"\n",
    "  - Obtener la media anual de la tasa de paro, para ambos sexos y para el total nacional\n",
    "  - Mostrar un resumen, donde en las filas aparezcan las provincias, y las tres tasas posibles (actividad, paro, empleo) en las columnas (obteniendo la media). Ordenar dicho resumen por la media de la tasa de paro ascendentemente\n",
    "  - Representar graficamente una figura, sobre los datos para el total nacional, de las tres diferentes tasas, cada tasa en una subfigura, de manera que en cada subfigura se represente la evolución por trimestre de cada año (cada año se considera una linea con un color diferente)\n",
    "  - ![logo](plot.png)"
   ]
  },
  {
   "cell_type": "code",
   "execution_count": 80,
   "id": "95b15246-4019-4073-ae6c-6c32321cb5dd",
   "metadata": {},
   "outputs": [
    {
     "data": {
      "text/html": [
       "<div>\n",
       "<style scoped>\n",
       "    .dataframe tbody tr th:only-of-type {\n",
       "        vertical-align: middle;\n",
       "    }\n",
       "\n",
       "    .dataframe tbody tr th {\n",
       "        vertical-align: top;\n",
       "    }\n",
       "\n",
       "    .dataframe thead th {\n",
       "        text-align: right;\n",
       "    }\n",
       "</style>\n",
       "<table border=\"1\" class=\"dataframe\">\n",
       "  <thead>\n",
       "    <tr style=\"text-align: right;\">\n",
       "      <th></th>\n",
       "      <th>Sexo</th>\n",
       "      <th>Provincias</th>\n",
       "      <th>Tasas</th>\n",
       "      <th>Periodo</th>\n",
       "      <th>Total</th>\n",
       "    </tr>\n",
       "  </thead>\n",
       "  <tbody>\n",
       "    <tr>\n",
       "      <th>0</th>\n",
       "      <td>Ambos sexos</td>\n",
       "      <td>Total Nacional</td>\n",
       "      <td>Tasa de actividad</td>\n",
       "      <td>2023T1</td>\n",
       "      <td>58.55</td>\n",
       "    </tr>\n",
       "    <tr>\n",
       "      <th>1</th>\n",
       "      <td>Ambos sexos</td>\n",
       "      <td>Total Nacional</td>\n",
       "      <td>Tasa de actividad</td>\n",
       "      <td>2022T4</td>\n",
       "      <td>58.52</td>\n",
       "    </tr>\n",
       "    <tr>\n",
       "      <th>2</th>\n",
       "      <td>Ambos sexos</td>\n",
       "      <td>Total Nacional</td>\n",
       "      <td>Tasa de actividad</td>\n",
       "      <td>2022T3</td>\n",
       "      <td>58.86</td>\n",
       "    </tr>\n",
       "    <tr>\n",
       "      <th>3</th>\n",
       "      <td>Ambos sexos</td>\n",
       "      <td>Total Nacional</td>\n",
       "      <td>Tasa de actividad</td>\n",
       "      <td>2022T2</td>\n",
       "      <td>58.71</td>\n",
       "    </tr>\n",
       "    <tr>\n",
       "      <th>4</th>\n",
       "      <td>Ambos sexos</td>\n",
       "      <td>Total Nacional</td>\n",
       "      <td>Tasa de actividad</td>\n",
       "      <td>2022T1</td>\n",
       "      <td>58.50</td>\n",
       "    </tr>\n",
       "  </tbody>\n",
       "</table>\n",
       "</div>"
      ],
      "text/plain": [
       "          Sexo      Provincias              Tasas Periodo  Total\n",
       "0  Ambos sexos  Total Nacional  Tasa de actividad  2023T1  58.55\n",
       "1  Ambos sexos  Total Nacional  Tasa de actividad  2022T4  58.52\n",
       "2  Ambos sexos  Total Nacional  Tasa de actividad  2022T3  58.86\n",
       "3  Ambos sexos  Total Nacional  Tasa de actividad  2022T2  58.71\n",
       "4  Ambos sexos  Total Nacional  Tasa de actividad  2022T1  58.50"
      ]
     },
     "execution_count": 80,
     "metadata": {},
     "output_type": "execute_result"
    }
   ],
   "source": [
    "# Your solution HERE !!!!\n",
    "import os\n",
    "\n",
    "# Ruta relativa al archivo\n",
    "ruta_archivo = os.path.join('data', 'ine_paro_exam.csv')\n",
    "\n",
    "# Obtener la ruta del directorio actual del cuaderno\n",
    "directorio = os.getcwd()\n",
    "\n",
    "# Combinar la ruta del directorio actual con la ruta relativa al archivo\n",
    "ruta_absoluta = os.path.join(directorio, ruta_archivo)\n",
    "\n",
    "df=pd.read_csv(ruta_absoluta, delimiter='|')\n",
    "\n",
    "df.head()"
   ]
  },
  {
   "cell_type": "code",
   "execution_count": 81,
   "id": "550b2127-9a36-4d83-ae0b-4093536233d0",
   "metadata": {},
   "outputs": [
    {
     "data": {
      "text/html": [
       "<div>\n",
       "<style scoped>\n",
       "    .dataframe tbody tr th:only-of-type {\n",
       "        vertical-align: middle;\n",
       "    }\n",
       "\n",
       "    .dataframe tbody tr th {\n",
       "        vertical-align: top;\n",
       "    }\n",
       "\n",
       "    .dataframe thead th {\n",
       "        text-align: right;\n",
       "    }\n",
       "</style>\n",
       "<table border=\"1\" class=\"dataframe\">\n",
       "  <thead>\n",
       "    <tr style=\"text-align: right;\">\n",
       "      <th></th>\n",
       "      <th>Sexo</th>\n",
       "      <th>Provincias</th>\n",
       "      <th>Tasas</th>\n",
       "      <th>Periodo</th>\n",
       "      <th>Total</th>\n",
       "    </tr>\n",
       "  </thead>\n",
       "  <tbody>\n",
       "    <tr>\n",
       "      <th>count</th>\n",
       "      <td>40545</td>\n",
       "      <td>40545</td>\n",
       "      <td>40545</td>\n",
       "      <td>40495</td>\n",
       "      <td>40445.000000</td>\n",
       "    </tr>\n",
       "    <tr>\n",
       "      <th>unique</th>\n",
       "      <td>3</td>\n",
       "      <td>53</td>\n",
       "      <td>3</td>\n",
       "      <td>85</td>\n",
       "      <td>NaN</td>\n",
       "    </tr>\n",
       "    <tr>\n",
       "      <th>top</th>\n",
       "      <td>Ambos sexos</td>\n",
       "      <td>Total Nacional</td>\n",
       "      <td>Tasa de actividad</td>\n",
       "      <td>2023T1</td>\n",
       "      <td>NaN</td>\n",
       "    </tr>\n",
       "    <tr>\n",
       "      <th>freq</th>\n",
       "      <td>13515</td>\n",
       "      <td>765</td>\n",
       "      <td>13515</td>\n",
       "      <td>477</td>\n",
       "      <td>NaN</td>\n",
       "    </tr>\n",
       "    <tr>\n",
       "      <th>mean</th>\n",
       "      <td>NaN</td>\n",
       "      <td>NaN</td>\n",
       "      <td>NaN</td>\n",
       "      <td>NaN</td>\n",
       "      <td>40.265056</td>\n",
       "    </tr>\n",
       "    <tr>\n",
       "      <th>std</th>\n",
       "      <td>NaN</td>\n",
       "      <td>NaN</td>\n",
       "      <td>NaN</td>\n",
       "      <td>NaN</td>\n",
       "      <td>19.330065</td>\n",
       "    </tr>\n",
       "    <tr>\n",
       "      <th>min</th>\n",
       "      <td>NaN</td>\n",
       "      <td>NaN</td>\n",
       "      <td>NaN</td>\n",
       "      <td>NaN</td>\n",
       "      <td>0.000000</td>\n",
       "    </tr>\n",
       "    <tr>\n",
       "      <th>25%</th>\n",
       "      <td>NaN</td>\n",
       "      <td>NaN</td>\n",
       "      <td>NaN</td>\n",
       "      <td>NaN</td>\n",
       "      <td>21.310000</td>\n",
       "    </tr>\n",
       "    <tr>\n",
       "      <th>50%</th>\n",
       "      <td>NaN</td>\n",
       "      <td>NaN</td>\n",
       "      <td>NaN</td>\n",
       "      <td>NaN</td>\n",
       "      <td>45.540000</td>\n",
       "    </tr>\n",
       "    <tr>\n",
       "      <th>75%</th>\n",
       "      <td>NaN</td>\n",
       "      <td>NaN</td>\n",
       "      <td>NaN</td>\n",
       "      <td>NaN</td>\n",
       "      <td>55.770000</td>\n",
       "    </tr>\n",
       "    <tr>\n",
       "      <th>max</th>\n",
       "      <td>NaN</td>\n",
       "      <td>NaN</td>\n",
       "      <td>NaN</td>\n",
       "      <td>NaN</td>\n",
       "      <td>79.000000</td>\n",
       "    </tr>\n",
       "  </tbody>\n",
       "</table>\n",
       "</div>"
      ],
      "text/plain": [
       "               Sexo      Provincias              Tasas Periodo         Total\n",
       "count         40545           40545              40545   40495  40445.000000\n",
       "unique            3              53                  3      85           NaN\n",
       "top     Ambos sexos  Total Nacional  Tasa de actividad  2023T1           NaN\n",
       "freq          13515             765              13515     477           NaN\n",
       "mean            NaN             NaN                NaN     NaN     40.265056\n",
       "std             NaN             NaN                NaN     NaN     19.330065\n",
       "min             NaN             NaN                NaN     NaN      0.000000\n",
       "25%             NaN             NaN                NaN     NaN     21.310000\n",
       "50%             NaN             NaN                NaN     NaN     45.540000\n",
       "75%             NaN             NaN                NaN     NaN     55.770000\n",
       "max             NaN             NaN                NaN     NaN     79.000000"
      ]
     },
     "execution_count": 81,
     "metadata": {},
     "output_type": "execute_result"
    }
   ],
   "source": [
    "df.describe(include='all')"
   ]
  },
  {
   "cell_type": "code",
   "execution_count": 82,
   "id": "b431d9a6-9caa-4e81-944e-af283562c93d",
   "metadata": {},
   "outputs": [
    {
     "name": "stdout",
     "output_type": "stream",
     "text": [
      "<class 'pandas.core.frame.DataFrame'>\n",
      "RangeIndex: 40545 entries, 0 to 40544\n",
      "Data columns (total 5 columns):\n",
      " #   Column      Non-Null Count  Dtype  \n",
      "---  ------      --------------  -----  \n",
      " 0   Sexo        40545 non-null  object \n",
      " 1   Provincias  40545 non-null  object \n",
      " 2   Tasas       40545 non-null  object \n",
      " 3   Periodo     40495 non-null  object \n",
      " 4   Total       40445 non-null  float64\n",
      "dtypes: float64(1), object(4)\n",
      "memory usage: 1.5+ MB\n"
     ]
    }
   ],
   "source": [
    "df.info()"
   ]
  },
  {
   "cell_type": "code",
   "execution_count": 83,
   "id": "dbb96d0b-26c8-4c82-ab65-3d86998a11fd",
   "metadata": {},
   "outputs": [
    {
     "name": "stdout",
     "output_type": "stream",
     "text": [
      "Sexo            0\n",
      "Provincias      0\n",
      "Tasas           0\n",
      "Periodo        50\n",
      "Total         100\n",
      "dtype: int64\n"
     ]
    }
   ],
   "source": [
    "\n",
    "dif = df.apply(lambda col: col.isnull().sum(), axis=0)\n",
    "print(dif)"
   ]
  },
  {
   "cell_type": "code",
   "execution_count": 90,
   "id": "320ff3cc-a31d-4795-9674-6cc93b0efdd8",
   "metadata": {},
   "outputs": [
    {
     "ename": "AttributeError",
     "evalue": "'SeriesGroupBy' object has no attribute 'values'",
     "output_type": "error",
     "traceback": [
      "\u001b[1;31m---------------------------------------------------------------------------\u001b[0m",
      "\u001b[1;31mAttributeError\u001b[0m                            Traceback (most recent call last)",
      "Cell \u001b[1;32mIn[90], line 1\u001b[0m\n\u001b[1;32m----> 1\u001b[0m \u001b[38;5;28mprint\u001b[39m(\u001b[43mdf\u001b[49m\u001b[38;5;241;43m.\u001b[39;49m\u001b[43mgroupby\u001b[49m\u001b[43m(\u001b[49m\u001b[38;5;124;43m'\u001b[39;49m\u001b[38;5;124;43mProvincias\u001b[39;49m\u001b[38;5;124;43m'\u001b[39;49m\u001b[43m)\u001b[49m\u001b[43m[\u001b[49m\u001b[38;5;124;43m'\u001b[39;49m\u001b[38;5;124;43mTasas\u001b[39;49m\u001b[38;5;124;43m'\u001b[39;49m\u001b[43m]\u001b[49m\u001b[38;5;241;43m.\u001b[39;49m\u001b[43mvalues\u001b[49m())\n",
      "File \u001b[1;32mC:\\ProgramData\\anaconda3\\lib\\site-packages\\pandas\\core\\groupby\\groupby.py:987\u001b[0m, in \u001b[0;36mGroupBy.__getattr__\u001b[1;34m(self, attr)\u001b[0m\n\u001b[0;32m    984\u001b[0m \u001b[38;5;28;01mif\u001b[39;00m attr \u001b[38;5;129;01min\u001b[39;00m \u001b[38;5;28mself\u001b[39m\u001b[38;5;241m.\u001b[39mobj:\n\u001b[0;32m    985\u001b[0m     \u001b[38;5;28;01mreturn\u001b[39;00m \u001b[38;5;28mself\u001b[39m[attr]\n\u001b[1;32m--> 987\u001b[0m \u001b[38;5;28;01mraise\u001b[39;00m \u001b[38;5;167;01mAttributeError\u001b[39;00m(\n\u001b[0;32m    988\u001b[0m     \u001b[38;5;124mf\u001b[39m\u001b[38;5;124m\"\u001b[39m\u001b[38;5;124m'\u001b[39m\u001b[38;5;132;01m{\u001b[39;00m\u001b[38;5;28mtype\u001b[39m(\u001b[38;5;28mself\u001b[39m)\u001b[38;5;241m.\u001b[39m\u001b[38;5;18m__name__\u001b[39m\u001b[38;5;132;01m}\u001b[39;00m\u001b[38;5;124m'\u001b[39m\u001b[38;5;124m object has no attribute \u001b[39m\u001b[38;5;124m'\u001b[39m\u001b[38;5;132;01m{\u001b[39;00mattr\u001b[38;5;132;01m}\u001b[39;00m\u001b[38;5;124m'\u001b[39m\u001b[38;5;124m\"\u001b[39m\n\u001b[0;32m    989\u001b[0m )\n",
      "\u001b[1;31mAttributeError\u001b[0m: 'SeriesGroupBy' object has no attribute 'values'"
     ]
    }
   ],
   "source": [
    "print(df.groupby('Provincias')['Tasas'].values())"
   ]
  },
  {
   "cell_type": "markdown",
   "id": "d037ca2d-d40e-4fe2-8f9a-8088e927a911",
   "metadata": {
    "tags": []
   },
   "source": [
    "## 07\n",
    "- La serie de Fibonacci es una sucesión de números, en la cual cada número es la suma de los dos anteriores. Los dos primeros son siempre 0 y 1.\n",
    "  - $F_0 = 0$\n",
    "  - $F_1 = 1$\n",
    "  - $F_n = F_{n-1} + F_{n-2}$\n",
    "- Crear un generador infinito de números de Fibonacci."
   ]
  },
  {
   "cell_type": "code",
   "execution_count": 109,
   "id": "4020e4a6-263f-4d35-a01f-c56d4b6c1336",
   "metadata": {},
   "outputs": [],
   "source": [
    "fibo = [0,1,1,2,3,5,8,13,21,34,55,89,144,233,377,610,987,1597]\n",
    "g = fibonacci_generator()  # This calls tour function fibonacci_generator\n",
    "expected_output = [next(g) for n in range(len(fibo))]\n",
    "assert(fibo == expected_output)  # This will fail if the output is not as expected"
   ]
  },
  {
   "cell_type": "code",
   "execution_count": 110,
   "id": "8092c7c1-c1c8-4492-b08c-489f8767ed73",
   "metadata": {
    "tags": []
   },
   "outputs": [],
   "source": [
    "# Your solution HERE !!!!\n",
    "#Para un limite dado funciona , si ejecuto este me sale :IOPub data rate exceeded. \n",
    "#Pero al poner infinito no he entendido muy si lo de abajo es lo que se pretende.\n",
    "def fibonacci_generator():  # sustituyendo esto por un limite o algo parararia con el while\n",
    "    a , b= 0, 1\n",
    "    while 1:\n",
    "        yield a \n",
    "        a , b = b , a+b\n",
    "\n",
    "        \n",
    "g = fibonacci_generator()\n",
    "\n",
    "\n",
    "#while(1):\n",
    "    #print(next(g))\n",
    "expected_output = [next(g) for n in range(len(fibo))]\n",
    "assert(fibo == expected_output)        "
   ]
  },
  {
   "cell_type": "markdown",
   "id": "202c6c38-649d-4991-b118-12e6364d8ab0",
   "metadata": {},
   "source": [
    "## 08 - 1pt\n",
    "- Crear una lista de meses de Enero a Diciembre (eje X)\n",
    "- Generar datos aleatorios para el eje Y, hacerlo 3 veces distintas (Y0, Y1 e Y2)\n",
    "- Representar las 3 secuencias de datos aleatorios en una sola figura usando matplotlib\n",
    "- Añadir una leyenda para poder identificar cada secuencia\n",
    "- Nombrar las 3 secuencias de la siguiente manera (\"Facebook\", \"Twitter\", \"Instagram\")\n",
    "- Añadir un título y nombres a los dos ejes\n",
    "- Añadir una anotación (texto y flecha) a uno de los gráficos"
   ]
  },
  {
   "cell_type": "code",
   "execution_count": 94,
   "id": "b0dfefef-66a5-4804-af34-810fcaf25b5e",
   "metadata": {},
   "outputs": [
    {
     "name": "stdout",
     "output_type": "stream",
     "text": [
      "['enero', 'febrero', 'marzo', 'abril', 'mayo', 'junio', 'julio', 'agosto', 'septembre', 'octubre', 'noviembre', 'diciembre'] [[49 69 39]\n",
      " [13 40 94]\n",
      " [16  0 90]\n",
      " [33 69 85]\n",
      " [76 99 92]\n",
      " [70 44 65]\n",
      " [52 65 84]\n",
      " [ 6 86 64]\n",
      " [ 8  3 52]\n",
      " [29  7 69]\n",
      " [96 35 58]\n",
      " [48 22 99]]\n",
      "           Y0  Y1  Y2\n",
      "enero      49  69  39\n",
      "febrero    13  40  94\n",
      "marzo      16   0  90\n",
      "abril      33  69  85\n",
      "mayo       76  99  92\n",
      "junio      70  44  65\n",
      "julio      52  65  84\n",
      "agosto      6  86  64\n",
      "septembre   8   3  52\n",
      "octubre    29   7  69\n",
      "noviembre  96  35  58\n",
      "diciembre  48  22  99\n"
     ]
    }
   ],
   "source": [
    "# Your solution HERE !!!!\n",
    "meses=['enero','febrero','marzo','abril','mayo','junio','julio','agosto','septembre',\n",
    "       'octubre', 'noviembre', 'diciembre']\n",
    "arr1 = np.random.randint(0,100,size=(12, 3))  # no especifica como son los randoms\n",
    "\n",
    "print(meses,arr1)\n",
    "\n",
    "df=pd.DataFrame(arr1, columns=['Y0','Y1','Y2'], index = meses)\n",
    "\n",
    "print(df)"
   ]
  },
  {
   "cell_type": "code",
   "execution_count": 106,
   "id": "7de62875-0c98-49d2-94cd-25a782d219f0",
   "metadata": {},
   "outputs": [
    {
     "ename": "AttributeError",
     "evalue": "'DataFrame' object has no attribute 'set_ylabel'",
     "output_type": "error",
     "traceback": [
      "\u001b[1;31m---------------------------------------------------------------------------\u001b[0m",
      "\u001b[1;31mAttributeError\u001b[0m                            Traceback (most recent call last)",
      "Cell \u001b[1;32mIn[106], line 3\u001b[0m\n\u001b[0;32m      1\u001b[0m plt\u001b[38;5;241m.\u001b[39mfigure(figsize\u001b[38;5;241m=\u001b[39m(\u001b[38;5;241m15\u001b[39m,\u001b[38;5;241m6\u001b[39m))\n\u001b[0;32m      2\u001b[0m plt\u001b[38;5;241m.\u001b[39mplot(df)\n\u001b[1;32m----> 3\u001b[0m \u001b[43mdf\u001b[49m\u001b[38;5;241;43m.\u001b[39;49m\u001b[43mset_ylabel\u001b[49m(\u001b[38;5;124m'\u001b[39m\u001b[38;5;124mPrecio Medio Vivienda\u001b[39m\u001b[38;5;124m'\u001b[39m)\n\u001b[0;32m      4\u001b[0m df\u001b[38;5;241m.\u001b[39mset_xlabel(\u001b[38;5;124m'\u001b[39m\u001b[38;5;124mDistrito\u001b[39m\u001b[38;5;124m'\u001b[39m)\n",
      "File \u001b[1;32mC:\\ProgramData\\anaconda3\\lib\\site-packages\\pandas\\core\\generic.py:5902\u001b[0m, in \u001b[0;36mNDFrame.__getattr__\u001b[1;34m(self, name)\u001b[0m\n\u001b[0;32m   5895\u001b[0m \u001b[38;5;28;01mif\u001b[39;00m (\n\u001b[0;32m   5896\u001b[0m     name \u001b[38;5;129;01mnot\u001b[39;00m \u001b[38;5;129;01min\u001b[39;00m \u001b[38;5;28mself\u001b[39m\u001b[38;5;241m.\u001b[39m_internal_names_set\n\u001b[0;32m   5897\u001b[0m     \u001b[38;5;129;01mand\u001b[39;00m name \u001b[38;5;129;01mnot\u001b[39;00m \u001b[38;5;129;01min\u001b[39;00m \u001b[38;5;28mself\u001b[39m\u001b[38;5;241m.\u001b[39m_metadata\n\u001b[0;32m   5898\u001b[0m     \u001b[38;5;129;01mand\u001b[39;00m name \u001b[38;5;129;01mnot\u001b[39;00m \u001b[38;5;129;01min\u001b[39;00m \u001b[38;5;28mself\u001b[39m\u001b[38;5;241m.\u001b[39m_accessors\n\u001b[0;32m   5899\u001b[0m     \u001b[38;5;129;01mand\u001b[39;00m \u001b[38;5;28mself\u001b[39m\u001b[38;5;241m.\u001b[39m_info_axis\u001b[38;5;241m.\u001b[39m_can_hold_identifiers_and_holds_name(name)\n\u001b[0;32m   5900\u001b[0m ):\n\u001b[0;32m   5901\u001b[0m     \u001b[38;5;28;01mreturn\u001b[39;00m \u001b[38;5;28mself\u001b[39m[name]\n\u001b[1;32m-> 5902\u001b[0m \u001b[38;5;28;01mreturn\u001b[39;00m \u001b[38;5;28;43mobject\u001b[39;49m\u001b[38;5;241;43m.\u001b[39;49m\u001b[38;5;21;43m__getattribute__\u001b[39;49m\u001b[43m(\u001b[49m\u001b[38;5;28;43mself\u001b[39;49m\u001b[43m,\u001b[49m\u001b[43m \u001b[49m\u001b[43mname\u001b[49m\u001b[43m)\u001b[49m\n",
      "\u001b[1;31mAttributeError\u001b[0m: 'DataFrame' object has no attribute 'set_ylabel'"
     ]
    },
    {
     "data": {
      "image/png": "[encoded data removed]",
      "text/plain": [
       "<Figure size 1500x600 with 1 Axes>"
      ]
     },
     "metadata": {},
     "output_type": "display_data"
    }
   ],
   "source": [
    "plt.figure(figsize=(15,6))\n",
    "plt.plot(df)\n",
    "\n",
    "\n"
   ]
  },
  {
   "cell_type": "code",
   "execution_count": null,
   "id": "1780df31-7ce8-4301-b4a9-daea3a9c4815",
   "metadata": {},
   "outputs": [],
   "source": []
  }
 ],
 "metadata": {
  "kernelspec": {
   "display_name": "Python 3 (ipykernel)",
   "language": "python",
   "name": "python3"
  },
  "language_info": {
   "codemirror_mode": {
    "name": "ipython",
    "version": 3
   },
   "file_extension": ".py",
   "mimetype": "text/x-python",
   "name": "python",
   "nbconvert_exporter": "python",
   "pygments_lexer": "ipython3",
   "version": "3.10.9"
  }
 },
 "nbformat": 4,
 "nbformat_minor": 5
}
