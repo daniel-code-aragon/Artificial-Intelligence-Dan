{
 "cells": [
  {
   "cell_type": "code",
   "execution_count": 1,
   "id": "c59648c2-978b-462e-8013-ff304ad65c1b",
   "metadata": {},
   "outputs": [
    {
     "name": "stdout",
     "output_type": "stream",
     "text": [
      "  Nombre  Edad  Edad_doble\n",
      "0   Juan    25          50\n",
      "1  María    30          60\n",
      "2  Pedro    35          70\n"
     ]
    }
   ],
   "source": [
    "#Aplicar una función a una columna de un DataFrame y crear una nueva columna con los resultados.\n",
    "\n",
    "import pandas as pd\n",
    "\n",
    "data = {'Nombre': ['Juan', 'María', 'Pedro'],\n",
    "        'Edad': [25, 30, 35]}\n",
    "df = pd.DataFrame(data)\n",
    "df['Edad_doble'] = df['Edad'].apply(lambda x: x * 2)\n",
    "print(df)"
   ]
  },
  {
   "cell_type": "code",
   "execution_count": null,
   "id": "dea36d1b-0940-477f-a3d5-c4bdee855bd8",
   "metadata": {},
   "outputs": [],
   "source": [
    "#Ordenar un DataFrame por una columna en orden descendente\n",
    "import pandas as pd\n",
    "\n",
    "data = {'Nombre': ['Juan', 'María', 'Pedro'],\n",
    "        'Edad': [25, 30, 35]}\n",
    "df = pd.DataFrame(data)\n",
    "df_sorted = df.sort_values('Edad', ascending=False)\n",
    "print(df_sorted)\n"
   ]
  },
  {
   "cell_type": "code",
   "execution_count": null,
   "id": "6459f599-bd1b-4b9f-a106-f48c8ae57ec7",
   "metadata": {},
   "outputs": [],
   "source": [
    "#Realizar una operación de agregación, como obtener la media de una columna en un DataFrame.\n",
    "import pandas as pd\n",
    "\n",
    "data = {'Nombre': ['Juan', 'María', 'Pedro'],\n",
    "        'Edad': [25, 30, 35]}\n",
    "df = pd.DataFrame(data)\n",
    "mean_age = df['Edad'].mean()\n",
    "print(mean_age)\n"
   ]
  },
  {
   "cell_type": "code",
   "execution_count": 1,
   "id": "2d9a8e18-1f01-4273-b9da-a78ee7018f36",
   "metadata": {},
   "outputs": [
    {
     "name": "stdout",
     "output_type": "stream",
     "text": [
      "  Nombre  Edad     Ciudad\n",
      "0  María    30     Madrid\n",
      "1  Pedro    35  Barcelona\n"
     ]
    }
   ],
   "source": [
    "# Realizar un join entre dos DataFrames basado en una columna común.\n",
    "import pandas as pd\n",
    "\n",
    "data1 = {'Nombre': ['Juan', 'María', 'Pedro'],\n",
    "         'Edad': [25, 30, 35]}\n",
    "data2 = {'Nombre': ['María', 'Pedro', 'Laura'],\n",
    "         'Ciudad': ['Madrid', 'Barcelona', 'Valencia']}\n",
    "df1 = pd.DataFrame(data1)\n",
    "df2 = pd.DataFrame(data2)\n",
    "merged_df = pd.merge(df1, df2, on='Nombre')\n",
    "print(merged_df)\n",
    "\n"
   ]
  },
  {
   "cell_type": "code",
   "execution_count": null,
   "id": "9b9bf305-ae83-47cf-b7dd-0fea22bf6a0a",
   "metadata": {},
   "outputs": [],
   "source": [
    " #Filtrar filas de un DataFrame que cumplan una condición específica.\n",
    "import pandas as pd\n",
    "\n",
    "data = {'Nombre': ['Juan', 'María', 'Pedro'],\n",
    "        'Edad': [25, 30, 35]}\n",
    "df = pd.DataFrame(data)\n",
    "filtered_df = df[df['Edad'] > 28]\n",
    "print(filtered_df)\n"
   ]
  },
  {
   "cell_type": "code",
   "execution_count": null,
   "id": "915700aa-8a5f-462b-ae34-1d51fd6db764",
   "metadata": {},
   "outputs": [],
   "source": [
    "#Agrupar un DataFrame por una columna y realizar una operación de agregación en otra columna.\n",
    "\n",
    "import pandas as pd\n",
    "\n",
    "data = {'Nombre': ['Juan', 'María', 'Pedro', 'Laura'],\n",
    "        'Edad': [25, 30, 35, 30],\n",
    "        'Ciudad': ['Madrid', 'Barcelona', 'Valencia', 'Barcelona']}\n",
    "df = pd.DataFrame(data)\n",
    "grouped_df = df.groupby('Ciudad')['Edad\n"
   ]
  },
  {
   "cell_type": "code",
   "execution_count": null,
   "id": "1e921611-86df-48bd-b3c6-cd49bfbeb99a",
   "metadata": {},
   "outputs": [],
   "source": [
    "#Aplicar una función lambda a una columna de un DataFrame y crear una nueva columna con los resultados.\n",
    "import pandas as pd\n",
    "\n",
    "data = {'Nombre': ['Juan', 'María', 'Pedro'],\n",
    "        'Edad': [25, 30, 35]}\n",
    "df = pd.DataFrame(data)\n",
    "df['Edad_doble'] = df['Edad'].apply(lambda x: x * 2)\n",
    "print(df)\n"
   ]
  },
  {
   "cell_type": "code",
   "execution_count": null,
   "id": "77b8b76f-9b73-4e9b-a02e-35028a9fcf78",
   "metadata": {},
   "outputs": [],
   "source": [
    "#Ejercicio 2: Filtrar filas de un DataFrame utilizando una función lambda en lugar de una condición directa.\n",
    "\n",
    "import pandas as pd\n",
    "\n",
    "data = {'Nombre': ['Juan', 'María', 'Pedro'],\n",
    "        'Edad': [25, 30, 35]}\n",
    "df = pd.DataFrame(data)\n",
    "filtered_df = df[df['Nombre'].apply(lambda x: len(x) > 4)]\n",
    "print(filtered_df)\n"
   ]
  },
  {
   "cell_type": "code",
   "execution_count": null,
   "id": "030c2132-7c85-4195-9b83-ee14b937e865",
   "metadata": {},
   "outputs": [],
   "source": [
    "#Ejercicio 3: Aplicar una función lambda a una columna de un DataFrame y reemplazar los valores originales con los resultados.\n",
    "\n",
    "import pandas as pd\n",
    "\n",
    "data = {'Nombre': ['Juan', 'María', 'Pedro'],\n",
    "        'Edad': [25, 30, 35]}\n",
    "df = pd.DataFrame(data)\n",
    "df['Nombre'] = df['Nombre'].apply(lambda x: x.upper())\n",
    "print(df)\n"
   ]
  },
  {
   "cell_type": "code",
   "execution_count": null,
   "id": "c43e5ff3-6968-4022-a5c7-2d7f5a28c87f",
   "metadata": {},
   "outputs": [],
   "source": [
    "#Ejercicio 4: Crear una nueva columna en un DataFrame utilizando una función lambda y múltiples columnas existentes.\n",
    "\n",
    "import pandas as pd\n",
    "\n",
    "data = {'Nombre': ['Juan', 'María', 'Pedro'],\n",
    "        'Edad': [25, 30, 35]}\n",
    "df = pd.DataFrame(data)\n",
    "df['Nombre_edad'] = df.apply(lambda row: row['Nombre'] + ' (' + str(row['Edad']) + ')', axis=1)\n",
    "print(df)\n"
   ]
  },
  {
   "cell_type": "code",
   "execution_count": null,
   "id": "bcc730ee-54cf-43e7-a6ec-8d5fc65a533c",
   "metadata": {},
   "outputs": [],
   "source": [
    "#Ejercicio 5: Aplicar una función lambda a una Serie y crear una nueva Serie con los resultados.\n",
    "import pandas as pd\n",
    "\n",
    "series = pd.Series([1, 2, 3, 4, 5])\n",
    "new_series = series.apply(lambda x: x ** 2)\n",
    "print(new_series)\n",
    "\n"
   ]
  }
 ],
 "metadata": {
  "kernelspec": {
   "display_name": "Python 3 (ipykernel)",
   "language": "python",
   "name": "python3"
  },
  "language_info": {
   "codemirror_mode": {
    "name": "ipython",
    "version": 3
   },
   "file_extension": ".py",
   "mimetype": "text/x-python",
   "name": "python",
   "nbconvert_exporter": "python",
   "pygments_lexer": "ipython3",
   "version": "3.10.9"
  }
 },
 "nbformat": 4,
 "nbformat_minor": 5
}
