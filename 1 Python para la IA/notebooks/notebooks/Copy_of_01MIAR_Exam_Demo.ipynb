{
 "cells": [
  {
   "cell_type": "markdown",
   "id": "cffbcd0e-dc00-4547-ac87-ef95eb5bbb51",
   "metadata": {
    "id": "cffbcd0e-dc00-4547-ac87-ef95eb5bbb51"
   },
   "source": [
    "# Examen Demo"
   ]
  },
  {
   "cell_type": "code",
   "execution_count": 1,
   "id": "8ef7d433-2f37-43b7-95ad-5c65b99f39b9",
   "metadata": {
    "colab": {
     "base_uri": "https://localhost:8080/"
    },
    "id": "8ef7d433-2f37-43b7-95ad-5c65b99f39b9",
    "outputId": "8c37399f-a101-4998-83d1-cbd3c368850e"
   },
   "outputs": [],
   "source": [
    "# Your imports HERE !!!!\n",
    "import numpy as np\n",
    "import pandas as pd\n"
   ]
  },
  {
   "cell_type": "markdown",
   "id": "0ddfb619-f1e8-4d7f-9bb5-b08686efabf2",
   "metadata": {
    "id": "0ddfb619-f1e8-4d7f-9bb5-b08686efabf2",
    "tags": []
   },
   "source": [
    "## 01\n",
    "- La serie de Fibonacci es una sucesión de números, en la cual cada número es la suma de los dos anteriores. Los dos primeros son siempre 0 y 1.\n",
    "  - $F_0 = 0$\n",
    "  - $F_1 = 1$\n",
    "  - $F_n = F_{n-1} + F_{n-2}$\n",
    "- Crear una serie de Fibonacci hasta un número *n* usando una función lambda."
   ]
  },
  {
   "cell_type": "code",
   "execution_count": null,
   "id": "9f6f8961-e7d9-413e-91f5-ff8e9a35279a",
   "metadata": {
    "colab": {
     "base_uri": "https://localhost:8080/",
     "height": 200
    },
    "id": "9f6f8961-e7d9-413e-91f5-ff8e9a35279a",
    "outputId": "2049c47c-e72b-4313-f03c-28069ba53e2b"
   },
   "outputs": [
    {
     "ename": "NameError",
     "evalue": "ignored",
     "output_type": "error",
     "traceback": [
      "\u001b[0;31m---------------------------------------------------------------------------\u001b[0m",
      "\u001b[0;31mNameError\u001b[0m                                 Traceback (most recent call last)",
      "\u001b[0;32m<ipython-input-5-9c382c24de99>\u001b[0m in \u001b[0;36m<cell line: 2>\u001b[0;34m()\u001b[0m\n\u001b[1;32m      1\u001b[0m \u001b[0mexpected_fibo_serie\u001b[0m \u001b[0;34m=\u001b[0m \u001b[0;34m[\u001b[0m\u001b[0;36m0\u001b[0m\u001b[0;34m,\u001b[0m\u001b[0;36m1\u001b[0m\u001b[0;34m,\u001b[0m\u001b[0;36m1\u001b[0m\u001b[0;34m,\u001b[0m\u001b[0;36m2\u001b[0m\u001b[0;34m,\u001b[0m\u001b[0;36m3\u001b[0m\u001b[0;34m,\u001b[0m\u001b[0;36m5\u001b[0m\u001b[0;34m,\u001b[0m\u001b[0;36m8\u001b[0m\u001b[0;34m,\u001b[0m\u001b[0;36m13\u001b[0m\u001b[0;34m,\u001b[0m\u001b[0;36m21\u001b[0m\u001b[0;34m,\u001b[0m\u001b[0;36m34\u001b[0m\u001b[0;34m,\u001b[0m\u001b[0;36m55\u001b[0m\u001b[0;34m,\u001b[0m\u001b[0;36m89\u001b[0m\u001b[0;34m,\u001b[0m\u001b[0;36m144\u001b[0m\u001b[0;34m,\u001b[0m\u001b[0;36m233\u001b[0m\u001b[0;34m,\u001b[0m\u001b[0;36m377\u001b[0m\u001b[0;34m,\u001b[0m\u001b[0;36m610\u001b[0m\u001b[0;34m,\u001b[0m\u001b[0;36m987\u001b[0m\u001b[0;34m,\u001b[0m\u001b[0;36m1597\u001b[0m\u001b[0;34m]\u001b[0m\u001b[0;34m\u001b[0m\u001b[0;34m\u001b[0m\u001b[0m\n\u001b[0;32m----> 2\u001b[0;31m \u001b[0mfibo_serie\u001b[0m \u001b[0;34m=\u001b[0m \u001b[0mfibonacci_lambda\u001b[0m\u001b[0;34m(\u001b[0m\u001b[0mlen\u001b[0m\u001b[0;34m(\u001b[0m\u001b[0mexpected_fibo_serie\u001b[0m\u001b[0;34m)\u001b[0m\u001b[0;34m)\u001b[0m  \u001b[0;31m# This calls your lambda function fibonacci_lambda\u001b[0m\u001b[0;34m\u001b[0m\u001b[0;34m\u001b[0m\u001b[0m\n\u001b[0m\u001b[1;32m      3\u001b[0m \u001b[0;32massert\u001b[0m\u001b[0;34m(\u001b[0m\u001b[0mexpected_fibo_serie\u001b[0m \u001b[0;34m==\u001b[0m \u001b[0mfibo_serie\u001b[0m\u001b[0;34m)\u001b[0m  \u001b[0;31m# This will fail if the serie is not correct\u001b[0m\u001b[0;34m\u001b[0m\u001b[0;34m\u001b[0m\u001b[0m\n",
      "\u001b[0;31mNameError\u001b[0m: name 'fibonacci_lambda' is not defined"
     ]
    }
   ],
   "source": [
    "expected_fibo_serie = [0,1,1,2,3,5,8,13,21,34,55,89,144,233,377,610,987,1597]\n",
    "fibo_serie = fibonacci_lambda(len(expected_fibo_serie))  # This calls your lambda function fibonacci_lambda\n",
    "assert(expected_fibo_serie == fibo_serie)  # This will fail if the serie is not correct"
   ]
  },
  {
   "cell_type": "code",
   "execution_count": null,
   "id": "7f9d090c-d087-4694-8249-3e89f5e866cb",
   "metadata": {
    "colab": {
     "base_uri": "https://localhost:8080/"
    },
    "id": "7f9d090c-d087-4694-8249-3e89f5e866cb",
    "outputId": "626c3cae-7950-4bda-e06a-01e2505e13a2"
   },
   "outputs": [
    {
     "name": "stdout",
     "output_type": "stream",
     "text": [
      "[0, 1, 1, 2, 3, 5, 8, 13, 21, 34, 55, 89, 144, 233, 377, 610, 987, 1597]\n"
     ]
    }
   ],
   "source": [
    "# Your solution HERE !!!!\n",
    "n=len(expected_fibo_serie)\n",
    "def fibonacci_lambda(n):\n",
    "  f0=0\n",
    "  f1=1\n",
    "  pos0=0\n",
    "  pos1=1\n",
    "  c=2\n",
    "  fibo_serie=[f0,f1]\n",
    "  while c<n:\n",
    "    n1=fibo_serie[pos0]\n",
    "    n2=fibo_serie[pos1]\n",
    "    fibo_serie.apply(n1+n2)\n",
    "    pos0+=1\n",
    "    pos1+=1\n",
    "    c+=1\n",
    "  return fibo_serie\n",
    "\n",
    "fibo_serie = fibonacci_lambda(len(expected_fibo_serie))  # This calls your lambda function fibonacci_lambda\n",
    "print(fibo_serie)\n",
    "assert(expected_fibo_serie == fibo_serie)  # This will fail if the serie is not correct\n"
   ]
  },
  {
   "cell_type": "markdown",
   "id": "3168850c-f9bb-4060-b6e3-06813ec86e54",
   "metadata": {
    "id": "3168850c-f9bb-4060-b6e3-06813ec86e54"
   },
   "source": [
    "## 02\n",
    "- Crear una función que reciba un array de NumPy y devuelva otro en el cual estén marcados como True los elementos duplicados (a partir de la segunda ocurrencia), y como False los no repetidos o las primeras ocurrencias de los duplicados."
   ]
  },
  {
   "cell_type": "code",
   "execution_count": null,
   "id": "bcc96612-dff4-4779-b4df-2595aa235309",
   "metadata": {
    "id": "bcc96612-dff4-4779-b4df-2595aa235309"
   },
   "outputs": [],
   "source": [
    "numbers = np.array([4, 4, 4, 3, 8, 1, 9, 6, 1, 5, 9, 4, 0, 2])\n",
    "expected_output = np.array([False, True, True, False, False, False, False, False, True, False, True, True, False, False])\n",
    "#output = find_duplicates(numbers)   # This calls your function find_duplicates\n",
    "#assert(np.array_equal(expected_output, output))  # This will fail if the result is not as expected"
   ]
  },
  {
   "cell_type": "markdown",
   "id": "yri1ynOtEba5",
   "metadata": {
    "id": "yri1ynOtEba5"
   },
   "source": []
  },
  {
   "cell_type": "markdown",
   "id": "ZDeHvJntEbMM",
   "metadata": {
    "id": "ZDeHvJntEbMM"
   },
   "source": []
  },
  {
   "cell_type": "code",
   "execution_count": null,
   "id": "76618e23-4928-4040-9f7f-f4b08ff4abb2",
   "metadata": {
    "colab": {
     "base_uri": "https://localhost:8080/"
    },
    "id": "76618e23-4928-4040-9f7f-f4b08ff4abb2",
    "outputId": "dcfcbe4a-fed2-4544-e627-dd9d3e881cbd"
   },
   "outputs": [
    {
     "name": "stdout",
     "output_type": "stream",
     "text": [
      "[0. 1. 1. 0. 0. 0. 0. 0. 1. 0. 1. 1. 0. 0.]\n"
     ]
    }
   ],
   "source": [
    "# Your solution HERE !!!!\n",
    "def find_duplicates(numbers):\n",
    "  output=np.array([])\n",
    "  dup=[]\n",
    "  uni=[]\n",
    "\n",
    "  for i in numbers:\n",
    "\n",
    "    if i not in uni:\n",
    "        uni.append(i)\n",
    "        output= np.append(output,False)\n",
    "        #print(output)\n",
    "\n",
    "    elif i not in dup:\n",
    "        dup.append(i)\n",
    "        output=np.append(output,True)\n",
    "        #print(output)\n",
    "\n",
    "    elif i in dup:\n",
    "        output=np.append(output,True)\n",
    "        #print(output)\n",
    "  #print(dup)\n",
    "  return output\n",
    "\n",
    "\n",
    "#print(output)\n",
    "\n",
    "output = find_duplicates(numbers) \n",
    "print(output)  # This calls your function find_duplicates\n",
    "assert(np.array_equal(expected_output, output))  # This will fail if the result is not as expected"
   ]
  },
  {
   "cell_type": "markdown",
   "id": "93e1a9cd-ee85-48b0-b5e5-3d37aeeddb6e",
   "metadata": {
    "id": "93e1a9cd-ee85-48b0-b5e5-3d37aeeddb6e",
    "tags": []
   },
   "source": [
    "## 03\n",
    "- Resolución de dos sistemas de ecuaciones\n",
    "    - $ A : \\begin{cases} -9x +  4y = 20 \\\\ -7y + 16x = 80                         \\end{cases}$\n",
    "    \n",
    "    - $ B : \\begin{cases} x - 2y + 3z = 7 \\\\ 2x + y + z = 4 \\\\ -3x + 2y -2z = -10 \\end{cases}$\n",
    "- Verifica por código los resultados"
   ]
  },
  {
   "cell_type": "code",
   "execution_count": 5,
   "id": "bbcc2811-859f-4023-bdbd-298750502ead",
   "metadata": {
    "colab": {
     "base_uri": "https://localhost:8080/"
    },
    "id": "bbcc2811-859f-4023-bdbd-298750502ead",
    "outputId": "b17b7c5e-edd3-4033-ecad-b657df7b6152"
   },
   "outputs": [
    {
     "name": "stdout",
     "output_type": "stream",
     "text": [
      "[[0.]\n",
      " [5.]]\n",
      "[[-0.]] [[5.]]\n",
      "[[ 1.75]\n",
      " [-0.75]\n",
      " [ 1.25]]\n"
     ]
    }
   ],
   "source": [
    "# Your solution HERE !!!!\n",
    "#A)\n",
    "import numpy.linalg as linalg\n",
    "A= np.matrix([[-9,4],[-7,16]])\n",
    "B= np.matrix([[20],[80]])\n",
    "X= A**(-1)*B\n",
    "print(X)\n",
    "x , y  = linalg.solve(A,B)\n",
    "print(x,y)\n",
    "C= np.matrix([[1,-2,3],[2,1,1],[-3,3,-2]])\n",
    "D= np.matrix([[7],[4],[-10]])\n",
    "Y= C**(-1)*D\n",
    "print(Y)"
   ]
  },
  {
   "cell_type": "markdown",
   "id": "655fe747-7f14-42dd-8a9a-6b532517bede",
   "metadata": {
    "id": "655fe747-7f14-42dd-8a9a-6b532517bede",
    "tags": []
   },
   "source": [
    "## 04\n",
    "- Crear un objeto Series con 10 elementos, que contenga más de un tipo básico, con índices de tipo string\n",
    "- Demuestra que los datos con índices posicionales son los mismos que los obtenidos con índices semánticos, seleccionando a través de slicing, al menos 4 elementos de la serie anterior"
   ]
  },
  {
   "cell_type": "code",
   "execution_count": 24,
   "id": "ce7f3e5d-781e-49f5-9ab8-f8e6593ab327",
   "metadata": {
    "id": "ce7f3e5d-781e-49f5-9ab8-f8e6593ab327"
   },
   "outputs": [
    {
     "name": "stdout",
     "output_type": "stream",
     "text": [
      "i1        a\n",
      "i2        1\n",
      "i3        2\n",
      "i4     True\n",
      "i5        b\n",
      "i6        5\n",
      "i7        6\n",
      "i8        7\n",
      "i9        8\n",
      "i10       9\n",
      "dtype: object\n"
     ]
    }
   ],
   "source": [
    "# Your solution HERE !!!!\n",
    "serie = pd.Series(list(['a',1,2,True,'b',5,6,7,8,9]), index=['i1','i2','i3','i4','i5','i6','i7','i8','i9','i10'])\n",
    "print(serie)"
   ]
  },
  {
   "cell_type": "code",
   "execution_count": 26,
   "id": "63316bdd-f197-4943-a74a-4c509701182a",
   "metadata": {},
   "outputs": [
    {
     "data": {
      "text/plain": [
       "i2        1\n",
       "i3        2\n",
       "i4     True\n",
       "i5        b\n",
       "i6        5\n",
       "i7        6\n",
       "i8        7\n",
       "i9        8\n",
       "i10       9\n",
       "dtype: object"
      ]
     },
     "execution_count": 26,
     "metadata": {},
     "output_type": "execute_result"
    }
   ],
   "source": [
    "serie['i2':]"
   ]
  },
  {
   "cell_type": "markdown",
   "id": "3f12a152-8257-491a-9b2f-270607831cc0",
   "metadata": {
    "id": "3f12a152-8257-491a-9b2f-270607831cc0",
    "tags": []
   },
   "source": [
    "## 05\n",
    "- Crear un DataFrame de dimensiones 10x10, con números aleatorios en el rango `[0,20]`\n",
    "- Reemplazar todos aquellos elementos menores de 5 por NaN\n",
    "- Averiguar cuantos elementos tienen Nan por fila"
   ]
  },
  {
   "cell_type": "code",
   "execution_count": null,
   "id": "e6c62f70-14cb-446c-86eb-5428f36f627f",
   "metadata": {
    "colab": {
     "base_uri": "https://localhost:8080/"
    },
    "id": "e6c62f70-14cb-446c-86eb-5428f36f627f",
    "outputId": "532947e4-2021-4a93-f5b5-8b1b42784a94"
   },
   "outputs": [
    {
     "name": "stdout",
     "output_type": "stream",
     "text": [
      "    0   1   2   3   4   5   6   7   8   9\n",
      "0   7  16  19   9   7  20   5  13  12  16\n",
      "1  14  15   2   1   2  18   2   4  10  11\n",
      "2   3  18  12   5   5   0  18   4   9  19\n",
      "3   3   9   4   8   2  12  14   7  18  15\n",
      "4  17   0   9  17   3  11  12  12  15   9\n",
      "5   9   9  19  12  13  15  19  18   4   5\n",
      "6  15   4   6  12   6   4  17   8  16  16\n",
      "7   1   2  11  10  18  10   3  18  13  18\n",
      "8   4   6  16  14   4  10   0  10   8   0\n",
      "9  12   5  15  17  18  15   6  11  16  18\n",
      "      0     1     2     3     4     5     6     7     8     9\n",
      "0   1.0  16.0  19.0   NaN   NaN  20.0   NaN  13.0  12.0  16.0\n",
      "1  14.0  15.0   NaN   1.0   NaN  18.0   NaN   NaN  10.0  11.0\n",
      "2   3.0  18.0  12.0   NaN   NaN   NaN  18.0   NaN   NaN  19.0\n",
      "3   3.0   NaN   NaN   NaN   NaN  12.0  14.0   NaN  18.0  15.0\n",
      "4  17.0   NaN   NaN  17.0   2.0  11.0  12.0  12.0  15.0   NaN\n",
      "5   NaN   NaN  19.0  12.0  13.0  15.0  19.0  18.0   NaN   NaN\n",
      "6  15.0   0.0   NaN  12.0   NaN   NaN  17.0   NaN  16.0  16.0\n",
      "7   NaN   NaN  11.0  10.0  18.0  10.0   NaN  18.0  13.0  18.0\n",
      "8   NaN   4.0  16.0  14.0   3.0  10.0   NaN  10.0   NaN   NaN\n",
      "9  12.0   NaN  15.0  17.0  18.0  15.0   NaN  11.0  16.0  18.0\n"
     ]
    }
   ],
   "source": [
    "# Your solution HERE !!!!\n",
    "data = np.random.randint(0,21, size = (10,10))\n",
    "df=pd.DataFrame(data)\n",
    "print(df)\n",
    "\n",
    "df = df.replace(df[df<5],)\n",
    "\n",
    "\n",
    "print(df)"
   ]
  },
  {
   "cell_type": "code",
   "execution_count": null,
   "id": "LCl_lTVlNui9",
   "metadata": {
    "id": "LCl_lTVlNui9"
   },
   "outputs": [],
   "source": [
    "num_nulos_por_fila = df.isna().sum(axis=1)"
   ]
  },
  {
   "cell_type": "markdown",
   "id": "8ba8d87a-190e-48ab-9235-04d875ef994e",
   "metadata": {
    "id": "8ba8d87a-190e-48ab-9235-04d875ef994e",
    "tags": []
   },
   "source": [
    "## 06\n",
    "- Dada una lista de elementos, crea una función que devuelva un dataframe sin los elementos duplicados"
   ]
  },
  {
   "cell_type": "code",
   "execution_count": 19,
   "id": "18d7bb34-b613-497e-b59b-aca2ec09863d",
   "metadata": {
    "id": "18d7bb34-b613-497e-b59b-aca2ec09863d"
   },
   "outputs": [],
   "source": [
    "serie = ['a','b','c','a','c','a','g']\n",
    "expected_output = pd.DataFrame(['a','b','c','g'])\n",
    "#output = remove_duplicates(serie)   # This will call tour function remove_duplicates\n",
    "#assert(expected_output.equals(output))  # This will fail if the result is not as expected"
   ]
  },
  {
   "cell_type": "code",
   "execution_count": 21,
   "id": "ee636cf0-9bff-497e-b4d9-ab42ac4b166a",
   "metadata": {
    "id": "ee636cf0-9bff-497e-b4d9-ab42ac4b166a"
   },
   "outputs": [
    {
     "name": "stdout",
     "output_type": "stream",
     "text": [
      "   0\n",
      "0  a\n",
      "1  b\n",
      "2  c\n",
      "3  g\n"
     ]
    }
   ],
   "source": [
    "# Your solution HERE !!!!\n",
    "def remove_duplicates(serie):\n",
    "    df=pd.DataFrame(serie)\n",
    "    df=df.drop_duplicates().reset_index(drop=True)\n",
    "    return df\n",
    "\n",
    "output = remove_duplicates(serie)\n",
    "print(output)\n",
    "assert(expected_output.equals(output))"
   ]
  },
  {
   "cell_type": "markdown",
   "id": "211cff7b-d71d-4db8-bd16-71f09ca57399",
   "metadata": {
    "id": "211cff7b-d71d-4db8-bd16-71f09ca57399"
   },
   "source": [
    "## 07 - 1pt\n",
    "- Escribir un generador `frange` que simule el comportamiento de la función `arange` de NumPy\n",
    "- Esta función cada vez que se invoque debe devolver valores espaciados uniformemente a partir de un valor inicial. Se debe proveer a dicha función un valor inicial para la secuencia de números y un valor para el step\n",
    "- Debe soportar valores númericos en coma flotante\n",
    "- La función potencialmente se puede llamar un número infinito de veces\n",
    "- Usando plain Python, sin ninguna librería"
   ]
  },
  {
   "cell_type": "code",
   "execution_count": null,
   "id": "19be50b6-7a52-4dd1-a081-2e483cb3bbf8",
   "metadata": {
    "id": "19be50b6-7a52-4dd1-a081-2e483cb3bbf8"
   },
   "outputs": [],
   "source": [
    "import math\n",
    "\n",
    "init = 10.6\n",
    "step = 0.8\n",
    "g = frange(init, step)  # This calls your function frange\n",
    "\n",
    "iters = 10\n",
    "numbers = [next(g) for n in range(iters)]\n",
    "for i, n in enumerate(numbers):\n",
    "    assert(math.isclose(n, init + (step * i)))  # This will fail if the range is not properly created"
   ]
  },
  {
   "cell_type": "code",
   "execution_count": null,
   "id": "9d395c62-a894-48ce-990b-cf60d34ec065",
   "metadata": {
    "id": "9d395c62-a894-48ce-990b-cf60d34ec065"
   },
   "outputs": [],
   "source": [
    "# Your solution HERE !!!!\n",
    "def frange(start, step=1.0):\n",
    "    current = start\n",
    "    while True:\n",
    "        yield current\n",
    "        current += step\n",
    "        \n",
    "numbers = frange(0.0, 0.5)\n",
    "for _ in range(10):\n",
    "    print(next(numbers))"
   ]
  },
  {
   "cell_type": "markdown",
   "id": "ae093f1d-b4e5-4ac3-a0a8-c6aecb8a084d",
   "metadata": {
    "id": "ae093f1d-b4e5-4ac3-a0a8-c6aecb8a084d",
    "tags": []
   },
   "source": [
    "## 08\n",
    "- Crear una función que reciba una Serie de Pandas y devuelva esa misma serie, reemplazando los espacios en blanco por el carácter menos frecuente en dicha serie."
   ]
  },
  {
   "cell_type": "code",
   "execution_count": null,
   "id": "02390a36-6e74-4e34-b46a-e1612771863e",
   "metadata": {
    "id": "02390a36-6e74-4e34-b46a-e1612771863e"
   },
   "outputs": [],
   "source": [
    "serie = pd.Series(list('bba cabc faabba aacbbfe'))\n",
    "expected_output = pd.Series(list('bbaecabcefaabbaeaacbbfe'))\n",
    "output = clean_whitespace_replace(serie)  # This calls your function clean_whitespace_replace\n",
    "assert(expected_output.equals(output))  # This will fail if result is not as expected"
   ]
  },
  {
   "cell_type": "code",
   "execution_count": null,
   "id": "0472c9a4-ce23-42e2-9090-ee4695d6057a",
   "metadata": {
    "colab": {
     "base_uri": "https://localhost:8080/"
    },
    "id": "0472c9a4-ce23-42e2-9090-ee4695d6057a",
    "outputId": "0605c1df-e368-43e6-ad1e-bf9584f6f753"
   },
   "outputs": [
    {
     "name": "stdout",
     "output_type": "stream",
     "text": [
      "0     b\n",
      "1     b\n",
      "2     a\n",
      "3      \n",
      "4     c\n",
      "5     a\n",
      "6     b\n",
      "7     c\n",
      "8      \n",
      "9     f\n",
      "10    a\n",
      "11    a\n",
      "12    b\n",
      "13    b\n",
      "14    a\n",
      "15     \n",
      "16    a\n",
      "17    a\n",
      "18    c\n",
      "19    b\n",
      "20    b\n",
      "21    f\n",
      "22    e\n",
      "dtype: object\n",
      "b    7\n",
      "a    7\n",
      "     3\n",
      "c    3\n",
      "f    2\n",
      "e    1\n",
      "dtype: int64\n"
     ]
    },
    {
     "data": {
      "text/plain": [
       "pandas.core.series.Series"
      ]
     },
     "execution_count": 91,
     "metadata": {},
     "output_type": "execute_result"
    }
   ],
   "source": [
    "# Your solution HERE !!!!\n",
    "serie = pd.Series(list('bba cabc faabba aacbbfe'))\n",
    "print(serie)\n",
    "\n",
    "a =serie.value_counts()\n",
    "print(a)\n"
   ]
  },
  {
   "cell_type": "code",
   "execution_count": null,
   "id": "pjRP9nJPlDxQ",
   "metadata": {
    "colab": {
     "base_uri": "https://localhost:8080/"
    },
    "id": "pjRP9nJPlDxQ",
    "outputId": "034d76cc-7185-4ef1-9581-623f7861aeb6"
   },
   "outputs": [
    {
     "name": "stdout",
     "output_type": "stream",
     "text": [
      "b 7\n",
      "0     b\n",
      "1     b\n",
      "2     a\n",
      "3     b\n",
      "4     c\n",
      "5     a\n",
      "6     b\n",
      "7     c\n",
      "8     b\n",
      "9     f\n",
      "10    a\n",
      "11    a\n",
      "12    b\n",
      "13    b\n",
      "14    a\n",
      "15    b\n",
      "16    a\n",
      "17    a\n",
      "18    c\n",
      "19    b\n",
      "20    b\n",
      "21    f\n",
      "22    e\n",
      "dtype: object\n"
     ]
    }
   ],
   "source": [
    "vmax=''\n",
    "valor=0\n",
    "for k, v in a.items():\n",
    "  if v>valor:\n",
    "    valor=v\n",
    "    vmax=k\n",
    "print(vmax, valor)\n",
    "serie=serie.replace(' ',vmax)\n",
    "\n",
    "print(serie)"
   ]
  },
  {
   "cell_type": "code",
   "execution_count": null,
   "id": "We3uPlTtox1H",
   "metadata": {
    "id": "We3uPlTtox1H"
   },
   "outputs": [],
   "source": [
    "import pandas as pd\n",
    "import json\n",
    "\n",
    "# Abrir el archivo JSON\n",
    "with open('archivo.json', 'r') as f:\n",
    "    data = json.load(f)\n",
    "\n",
    "# Convertir el JSON a un DataFrame\n",
    "df = pd.DataFrame(data)\n",
    "\n",
    "# Mostrar el DataFrame\n",
    "print(df)\n",
    "\n",
    "\n",
    "\n",
    "# Ruta del archivo JSON\n",
    "ruta_archivo = 'ruta/del/archivo/archivo.json'\n",
    "\n",
    "# Abrir el archivo JSON\n",
    "with open(ruta_archivo, 'r') as f:\n",
    "    data = json.load(f)\n",
    "\n",
    "# Convertir el JSON a un DataFrame\n",
    "df = pd.DataFrame(data)\n",
    "\n",
    "# Mostrar el DataFrame\n",
    "print(df)\n",
    "Asegúrate de reemplazar 'ruta/del/archivo/archivo.json' con la ruta y nombre de archivo correctos en tu sistema. Esto permitirá que Python encuentre y abra el archivo JSON especificado. Luego, el resto del código es el mismo que se mencionó en la respuesta anterior. El JSON se carga en la variable data y se convierte en un DataFrame utilizando pd.DataFrame(data). Por último, el DataFrame se imprime utilizando print(df).\n",
    "\n",
    "\n",
    "\n",
    "\n",
    "\n",
    "\n"
   ]
  }
 ],
 "metadata": {
  "colab": {
   "provenance": []
  },
  "kernelspec": {
   "display_name": "Python 3 (ipykernel)",
   "language": "python",
   "name": "python3"
  },
  "language_info": {
   "codemirror_mode": {
    "name": "ipython",
    "version": 3
   },
   "file_extension": ".py",
   "mimetype": "text/x-python",
   "name": "python",
   "nbconvert_exporter": "python",
   "pygments_lexer": "ipython3",
   "version": "3.10.9"
  }
 },
 "nbformat": 4,
 "nbformat_minor": 5
}
