{
 "cells": [
  {
   "attachments": {},
   "cell_type": "markdown",
   "metadata": {
    "slideshow": {
     "slide_type": "slide"
    }
   },
   "source": [
    "<img src=\"img/viu_logo.png\" width=\"200\">\n",
    "\n",
    "# 01MIAR - Inicio a Python\n",
    "\n",
    "![logo](img/python_logo.png)\n",
    "\n",
    "*Ivan Fuertes*\n",
    "\n",
    "*Benjamin Arroquia Cuadros*"
   ]
  },
  {
   "attachments": {},
   "cell_type": "markdown",
   "metadata": {},
   "source": [
    "# Actividades\n",
    "## Foro\n",
    "- 05/05 - Publicación de notas de foro como punto de control\n",
    "- Fin de foro hasta el 01/05 a las 23:59h.\n",
    "## Actividad sobre video\n",
    "- 19/05 de 00h a 23:59 UTC+2\n",
    "- Actualizado en la Guía didáctica\n",
    "- Sólo disponible en primera convocatoria\n",
    "## Actividad artículos\n",
    "- Disponible hoy 28 de abril a las 23h.\n"
   ]
  },
  {
   "cell_type": "code",
   "execution_count": null,
   "metadata": {
    "slideshow": {
     "slide_type": "slide"
    }
   },
   "outputs": [],
   "source": [
    "print(f\"Hello world!!\")"
   ]
  },
  {
   "cell_type": "code",
   "execution_count": null,
   "metadata": {},
   "outputs": [],
   "source": [
    "# pregunta sobre entorno de trabajo\n",
    "print(\"La configuración más sencilla para trabajar es: \\n\\t- Jupyter Lab\")"
   ]
  },
  {
   "cell_type": "markdown",
   "metadata": {
    "slideshow": {
     "slide_type": "fragment"
    }
   },
   "source": [
    "# Introducción a Python\n",
    "### Principales características\n",
    "* Lenguaje de alto nivel\n",
    "* Interpretado, no compilado. Más flexible y portable\n",
    "* Propósito general\n",
    "* Soporte de diversos paradigmas: imperativo, orientado a objetos, funcional orientada a aspectos\n",
    "* Tipado dinámico\n",
    "* Fuertemente tipado\n",
    "* Gestión automática de memoria\n",
    "* Énfasis en la legibilidad\n",
    "* Uso de identación para delimitar bloques de código\n",
    "* Gran librería con módulos para múltiples tareas\n",
    "* Multiplataforma\n"
   ]
  },
  {
   "attachments": {},
   "cell_type": "markdown",
   "metadata": {
    "slideshow": {
     "slide_type": "slide"
    }
   },
   "source": [
    "# ¿Por qué Python?\n",
    "\n",
    "> “Python is used in pursuits as diverse as data science, film-making,\n",
    "computer science education, IT management, and much more. There really\n",
    "is no computing field that Python has not touched (except maybe kernel\n",
    "development). Python is loved for its flexibility, beautiful and succinct\n",
    "syntax, object-oriented purity, and bustling community. The strong\n",
    "community is important because it means Python is welcoming to\n",
    "newcomers and has a large ecosystem of available libraries for developers\n",
    "to build upon.”\n",
    "\n",
    "\n",
    "\n",
    "Kopec, D. (2019). Classic computer science problems in Python. Simon\n",
    "and Schuster.\n",
    "\n",
    "\n",
    "* Uno de los lenguajes más usados en todo el mundo\n",
    "* Perfecto para introducción a la programación\n",
    "* Amplio ecosistema de librerías estables y maduras\n",
    "* Comunidad muy participativa y mucha documentación\n",
    "* Incrementa productividad\n",
    "  - Menos programación, codigo más compacto\n",
    "  - No hay largas compilaciones\n",
    "  - Código legible, facilmente mantenible\n",
    "* Fácil integración con herramientas y otros lenguajes\n",
    "* Versátil en la tipología de programación\n",
    "* Es multiplataforma, portable\n",
    "* Compilable para mejorar ejecución\n",
    "* Trabajo en memoria con gran cantidad de datos\n",
    "\n",
    "\n",
    "[Stack Overflow Developer Survey Results 2022](https://survey.stackoverflow.co/2022/)\n",
    "\n",
    "[IEEE, The Top Programming Languages 2022](https://spectrum.ieee.org/top-programming-languages-2022)\n",
    "\n",
    "[Tiobe Index](https://www.tiobe.com/tiobe-index/)\n",
    "\n",
    "[HackerRank Developer Skills Report](https://info.hackerrank.com/rs/487-WAY-049/images/HackerRank-2020-Developer-Skills-Report.pdf)"
   ]
  },
  {
   "attachments": {},
   "cell_type": "markdown",
   "metadata": {
    "slideshow": {
     "slide_type": "subslide"
    }
   },
   "source": [
    "> El tipado de los datos es algo importante y a tener en cuenta cuando se está desarrollando un programa. \n",
    "\n",
    "> Uso recurrente para logs, operaciones aritméticas, etc...\n",
    "\n",
    "> Para IoT es interesante que pueda estar disponible en cualquier plataforma o distribución. Rapsian...\n",
    "\n",
    "> ¿Por qué Python? \n",
    "\n",
    "A parte de estas características añadir la filosofía que hay detrás. Revisar foro.\n",
    "\n",
    "Las capacidades en cuanto a encontrar librerías espcíficas. Destacar la legibilidad y simpleza.\n",
    "\n",
    "> No es recomendable para usos en los que el rendimiento es crítico...\n"
   ]
  },
  {
   "attachments": {},
   "cell_type": "markdown",
   "metadata": {
    "slideshow": {
     "slide_type": "slide"
    }
   },
   "source": [
    "# Versión de Python\n",
    "\n",
    "### ~~2.x~~\n",
    "\n",
    "### 3x >= Python 3.7\n",
    "Esto por librerías de tensorflow y keras"
   ]
  },
  {
   "cell_type": "markdown",
   "metadata": {
    "slideshow": {
     "slide_type": "slide"
    }
   },
   "source": [
    "# Tratamiento de datos\n",
    "\n",
    "* linear algebra\n",
    "* statistical modeling\n",
    "* visualization\n",
    "* computational linguistics\n",
    "* graph analysis \n",
    "* machine learning\n",
    "* business intelligence\n",
    "* data storage and retrieval"
   ]
  },
  {
   "attachments": {},
   "cell_type": "markdown",
   "metadata": {
    "slideshow": {
     "slide_type": "slide"
    }
   },
   "source": [
    "# Antes de empezar\n",
    "### Se puede utilizar diferentes formas para ejecutar código:\n",
    "* Línea de comandos o terminal, Shell de python o interactivo, python/ipython\n",
    "* IDE -> Eclipse, Pycharm, Sublime, Nano, VSCode, Atom, Spyder, ...\n",
    "* Google Colab, Azure Notebooks, Jupyter\n",
    "\n",
    "> RECOMENDADO: Jupyter Lab"
   ]
  },
  {
   "cell_type": "markdown",
   "metadata": {
    "slideshow": {
     "slide_type": "slide"
    }
   },
   "source": [
    "## Filosofía Python"
   ]
  },
  {
   "cell_type": "code",
   "execution_count": null,
   "metadata": {
    "slideshow": {
     "slide_type": "fragment"
    }
   },
   "outputs": [],
   "source": [
    "import this"
   ]
  },
  {
   "attachments": {},
   "cell_type": "markdown",
   "metadata": {
    "slideshow": {
     "slide_type": "slide"
    }
   },
   "source": [
    "## Documentación - PEP (Python Enhacement Proposals)\n",
    "\n",
    "[Python Enhancement Proposals](https://www.python.org/dev/peps/)\n",
    "\n",
    "[Style guide for python code](https://www.python.org/dev/peps/pep-0008/)\n",
    "\n",
    "* Identation\n",
    "\n",
    "## Instalación de librerías\n",
    "\n",
    "* pip (built-in >Python3.4)\n",
    "* pipenv (gestiona paquetes y entornos virtuales) o virtualenv"
   ]
  },
  {
   "cell_type": "code",
   "execution_count": null,
   "metadata": {
    "slideshow": {
     "slide_type": "slide"
    }
   },
   "outputs": [],
   "source": [
    "# Preguntar de forma interactiva\n",
    "#print?\n",
    "\n",
    "# Usar shift + tab para hint con ayuda\n",
    "\n",
    "# Comentar una linea\n",
    "\n",
    "# \"\"\" \n",
    "# Se puede comentar un texto\n",
    "# más grande para hacer descripciones detalladas con más de una línea\n",
    "# \"\"\"\n",
    "\n",
    "print(\"Siempre podremos 'poner' los comentarios en forma de salida, para ver resultados\")\n",
    "print('Siempre podremos \"poner\" los comentarios en forma de salida, para ver resultados')\n",
    "\n",
    "# universidad = 'VIU'\n",
    "\n",
    "# print(universidad)"
   ]
  },
  {
   "cell_type": "markdown",
   "metadata": {
    "slideshow": {
     "slide_type": "slide"
    }
   },
   "source": [
    "### REPL\n",
    "Sistema interactivo para comunicarse con el ordenador en un leguaje, Python. Se debe cumplir:\n",
    "* Read. El ordenador pueda leer unidades como entrada\n",
    "* Evaluate. El código pueda ser procesado\n",
    "* Print. Los resultados puedan verse\n",
    "* Loop. Continuar con la conversación"
   ]
  },
  {
   "attachments": {},
   "cell_type": "markdown",
   "metadata": {},
   "source": [
    "# Jupyter\n",
    "\n",
    "\n",
    "Celdas Python\n",
    "- Marca el número de la ejecución\n",
    "- Marca si está en ejecución con *\n",
    "\n",
    "Kernel\n",
    "- Se puede resetear el kernel cuando haya problemas\n",
    "- Limpiar y resetear kernel\n",
    "\n",
    "Comandos especiales ([IPython](https://ipython.readthedocs.io/en/stable/index.html)): \n",
    "- %run: ejecuta un script \n",
    "```python\n",
    "%run ./miprograma.py\n",
    "```\n",
    "- %time: ejecuta una línea de código y devuelve el tiempo de ejecución\n",
    "- %%time: ejecuta una celda de código y devuelve el tiempo de ejecución\n",
    "- !: ejecuta un comando de consola \n",
    "- %%bash: ejecuta un comando en bash en un subproceso\n",
    "```bash\n",
    "ls -la\n",
    "```\n",
    "- %%js: ejecuta javascript\n",
    "```js\n",
    "%%js\n",
    "var master = \"Máster en Inteligencia Artificial\";\n",
    "var codigo = 1;\n",
    "alert(\"Esta asinatura tiene el código: \" + codigo)\n",
    "```\n",
    "\n",
    "Atajos de teclado (shortcuts): [Documentación de Jupyter](https://jupyterlab.readthedocs.io/en/stable/user/interface.html)\n",
    "\n",
    "\n",
    "\n"
   ]
  },
  {
   "cell_type": "markdown",
   "metadata": {
    "slideshow": {
     "slide_type": "slide"
    },
    "tags": []
   },
   "source": [
    "# Referencias\n",
    "\n",
    "González Duque, R. Python para todos. Licencia Creative Commons.\n",
    "\n",
    "Boschetti, A. y Massaron, L (2016). Python Data Science Essentials, Second edition. Birminghan - Munbai: Packt\n",
    "\n",
    "Python Software Foundation. 2. Built-in Functions — Python 3.6.7 documentation. Recuperado el 16 noviembre 2018 de \n",
    "https://docs.python.org/3.6/library/functions.html\n",
    "\n",
    "Tutorialspoint, Python Tutorial. Recuperado el 16 noviembre 2018 de https://www.tutorialspoint.com/python/\n",
    "\n",
    "Kenneth Reitz (2018), Code Style — The Hitchhiker's Guide to Python. Recuperado el 16 noviembre 2018 de https://docs.python-guide.org/writing/style/\n",
    "\n",
    "Frank Hofmann (2018), Introduction to the Python Coding Style. Recuperado el 16 noviembre 2018 de https://stackabuse.com/introduction-to-the-python-coding-style/\n",
    "\n",
    "Design At Large: Fernando Perez: The Architecture of Jupyter. Perez, Fernando (2017).  https://www.youtube.com/watch?v=dENc0gwzySc&t=131s YouTube.\n"
   ]
  },
  {
   "cell_type": "markdown",
   "metadata": {},
   "source": [
    "### Performance Sample, NumPy vs Plain Python"
   ]
  },
  {
   "cell_type": "code",
   "execution_count": null,
   "metadata": {},
   "outputs": [],
   "source": [
    "import numpy as np\n",
    "\n",
    "my_arr = np.arange(10000000)  # Utilizando NumPy Arrays\n",
    "\n",
    "my_list = list(range(10000000)) # Utilizando Listas Python"
   ]
  },
  {
   "cell_type": "code",
   "execution_count": null,
   "metadata": {},
   "outputs": [],
   "source": [
    "%time for _ in range(10): my_arr2 = my_arr * 2\n",
    "\n",
    "%time for _ in range(10): my_list2 = [x * 2 for x in my_list]"
   ]
  }
 ],
 "metadata": {
  "celltoolbar": "Slideshow",
  "kernelspec": {
   "display_name": "Python 3 (ipykernel)",
   "language": "python",
   "name": "python3"
  },
  "language_info": {
   "codemirror_mode": {
    "name": "ipython",
    "version": 3
   },
   "file_extension": ".py",
   "mimetype": "text/x-python",
   "name": "python",
   "nbconvert_exporter": "python",
   "pygments_lexer": "ipython3",
   "version": "3.10.6"
  },
  "metadata": {
   "interpreter": {
    "hash": "f35a06f707b9576dd6b3ef079e74b1f578cbc33a28427aac1052a70586e6d412"
   }
  }
 },
 "nbformat": 4,
 "nbformat_minor": 4
}
