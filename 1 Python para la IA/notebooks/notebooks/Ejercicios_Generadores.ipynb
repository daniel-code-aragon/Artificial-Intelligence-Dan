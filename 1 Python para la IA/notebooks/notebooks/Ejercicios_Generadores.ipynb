{
 "cells": [
  {
   "cell_type": "markdown",
   "id": "db065c00-db13-4786-87ad-6a9a6d6f5969",
   "metadata": {},
   "source": [
    "## Escribe un generador que produzca una secuencia de números pares infinita."
   ]
  },
  {
   "cell_type": "code",
   "execution_count": 2,
   "id": "720f3a4a-f2b7-44f4-b6b2-c2c47f1e6c14",
   "metadata": {},
   "outputs": [],
   "source": [
    "def generate_even_numbers():\n",
    "    num = 0\n",
    "    while True:\n",
    "        yield num\n",
    "        num += 2\n",
    "        "
   ]
  },
  {
   "cell_type": "code",
   "execution_count": 9,
   "id": "b65a721b-e2ce-4b24-b906-c35dc87d52f8",
   "metadata": {},
   "outputs": [
    {
     "name": "stdout",
     "output_type": "stream",
     "text": [
      "0\n"
     ]
    }
   ],
   "source": [
    "n = generate_even_numbers()\n",
    "for _ in range(10):\n",
    "    #print(next(n))\n",
    "print(next(n))"
   ]
  },
  {
   "cell_type": "markdown",
   "id": "27df9b0e-eb32-469f-b457-0a600a31f53a",
   "metadata": {},
   "source": [
    "## Crea un generador que genere una secuencia de números de Fibonacci hasta un límite dado."
   ]
  },
  {
   "cell_type": "code",
   "execution_count": 22,
   "id": "bc5c4a72-3f0b-412c-b002-515064734947",
   "metadata": {},
   "outputs": [],
   "source": [
    "def fibo(limit):\n",
    "    a , b= 0,1\n",
    "    while a<limit:\n",
    "        yield a \n",
    "        a , b = b , a+b\n",
    "        "
   ]
  },
  {
   "cell_type": "code",
   "execution_count": 26,
   "id": "013950e5-c5da-422a-9de8-792d0a896b54",
   "metadata": {},
   "outputs": [
    {
     "name": "stdout",
     "output_type": "stream",
     "text": [
      "0\n"
     ]
    }
   ],
   "source": [
    "l = fibo(10)\n",
    "print(next(l))"
   ]
  },
  {
   "cell_type": "code",
   "execution_count": 27,
   "id": "2f7b3db3-c3e5-4d78-a080-4bec36074a21",
   "metadata": {},
   "outputs": [
    {
     "name": "stdout",
     "output_type": "stream",
     "text": [
      "1\n",
      "1\n",
      "2\n",
      "3\n",
      "5\n",
      "8\n"
     ]
    },
    {
     "ename": "StopIteration",
     "evalue": "",
     "output_type": "error",
     "traceback": [
      "\u001b[1;31m---------------------------------------------------------------------------\u001b[0m",
      "\u001b[1;31mStopIteration\u001b[0m                             Traceback (most recent call last)",
      "Cell \u001b[1;32mIn[27], line 2\u001b[0m\n\u001b[0;32m      1\u001b[0m \u001b[38;5;28;01mwhile\u001b[39;00m(\u001b[38;5;241m1\u001b[39m):\n\u001b[1;32m----> 2\u001b[0m     \u001b[38;5;28mprint\u001b[39m(\u001b[38;5;28;43mnext\u001b[39;49m\u001b[43m(\u001b[49m\u001b[43ml\u001b[49m\u001b[43m)\u001b[49m)\n",
      "\u001b[1;31mStopIteration\u001b[0m: "
     ]
    }
   ],
   "source": [
    "while(1):\n",
    "    print(next(l))"
   ]
  },
  {
   "cell_type": "markdown",
   "id": "3f57379f-d5fe-46df-b893-7d005cbd9511",
   "metadata": {},
   "source": [
    "## Implementa un generador que produzca una secuencia de caracteres repetidos n veces."
   ]
  },
  {
   "cell_type": "code",
   "execution_count": 31,
   "id": "9a89ba0d-27a6-4c7f-b093-00df5b5e0b9d",
   "metadata": {},
   "outputs": [],
   "source": [
    "def secuencia (char , n):\n",
    "    yield char* n\n",
    "    "
   ]
  },
  {
   "cell_type": "code",
   "execution_count": 32,
   "id": "c07153d2-2510-4fe2-9422-7699571f4589",
   "metadata": {},
   "outputs": [
    {
     "name": "stdout",
     "output_type": "stream",
     "text": [
      "abab\n"
     ]
    }
   ],
   "source": [
    "sec = secuencia('ab',2)\n",
    "print(next(sec))"
   ]
  },
  {
   "cell_type": "markdown",
   "id": "3724c30e-e4b4-48d0-8fcd-9c784dbff00c",
   "metadata": {},
   "source": [
    "## Escribe un generador que genere la secuencia de los primeros n números primos."
   ]
  },
  {
   "cell_type": "code",
   "execution_count": 33,
   "id": "8b04c43f-a823-4f42-99bc-6159b23013e1",
   "metadata": {},
   "outputs": [],
   "source": [
    "def is_prime(num):\n",
    "    if num < 2:\n",
    "        return False\n",
    "    for i in range(2, int(num ** 0.5) + 1):\n",
    "        if num % i == 0:\n",
    "            return False\n",
    "    return True\n",
    "\n",
    "def generate_prime_numbers(n):\n",
    "    num = 2\n",
    "    count = 0\n",
    "    while count < n:\n",
    "        if is_prime(num):\n",
    "            yield num\n",
    "            count += 1\n",
    "        num += 1"
   ]
  },
  {
   "cell_type": "markdown",
   "id": "efae24ef-132c-488e-975f-b4a9510ae187",
   "metadata": {},
   "source": [
    "## Crea un generador que genere una secuencia de números aleatorios en un rango dado."
   ]
  },
  {
   "cell_type": "code",
   "execution_count": 34,
   "id": "d0cc2b50-63a5-45dd-bca5-af004bd8304a",
   "metadata": {},
   "outputs": [],
   "source": [
    "import random\n",
    "\n",
    "def generate_random_numbers(start, end):\n",
    "    while True:\n",
    "        yield random.randint(start, end)"
   ]
  },
  {
   "cell_type": "code",
   "execution_count": null,
   "id": "96a4e849-622d-442b-8274-8766bab57590",
   "metadata": {},
   "outputs": [],
   "source": []
  }
 ],
 "metadata": {
  "kernelspec": {
   "display_name": "Python 3 (ipykernel)",
   "language": "python",
   "name": "python3"
  },
  "language_info": {
   "codemirror_mode": {
    "name": "ipython",
    "version": 3
   },
   "file_extension": ".py",
   "mimetype": "text/x-python",
   "name": "python",
   "nbconvert_exporter": "python",
   "pygments_lexer": "ipython3",
   "version": "3.10.9"
  }
 },
 "nbformat": 4,
 "nbformat_minor": 5
}
