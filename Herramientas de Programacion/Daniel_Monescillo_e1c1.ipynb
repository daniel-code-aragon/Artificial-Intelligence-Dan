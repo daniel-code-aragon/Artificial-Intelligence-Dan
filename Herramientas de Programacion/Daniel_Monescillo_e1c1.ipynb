{
  "nbformat": 4,
  "nbformat_minor": 0,
  "metadata": {
    "colab": {
      "provenance": [],
      "toc_visible": true
    },
    "kernelspec": {
      "name": "python3",
      "display_name": "Python 3"
    },
    "language_info": {
      "name": "python"
    }
  },
  "cells": [
    {
      "cell_type": "code",
      "execution_count": null,
      "metadata": {
        "id": "iM_8G5gFwKmt"
      },
      "outputs": [],
      "source": [
        "# Ejercicio 1\n",
        "#Identificador válido. Para que los identificadores o nombres de las variables o funciones sean\n",
        "#válidos deben comenzar e incluir letras a..z. (minúscula o mayúscula) o el guión bajo (_).\n",
        "#Pueden incluir también números (0..9) pero que no sean el primer carácter del identificador.\n",
        "#Diseña una función FirstChar(s) que, dado un string s (no vacío), nos devuelva True o False\n",
        "#si el string es válido o no para identificar o dar nombre a una variable o función1."
      ]
    },
    {
      "cell_type": "code",
      "source": [
        "import string\n",
        "\n",
        "lower = string.ascii_lowercase\n",
        "upper= string.ascii_uppercase\n",
        "under='_'\n",
        "#print(lower,upper,under)\n",
        "master= lower+upper+under\n",
        "print(master)\n",
        "\n",
        "def FirstChar(s):\n",
        "  if s[0] in master:\n",
        "    for character in s[1:]:\n",
        "      if character not in master + string.digits:\n",
        "        return False\n",
        "    return True\n",
        "  return False\n",
        "\n"
      ],
      "metadata": {
        "colab": {
          "base_uri": "https://localhost:8080/"
        },
        "id": "JBORfX_hxThY",
        "outputId": "e5250d46-6ba6-41d0-d869-4633d795c0ad"
      },
      "execution_count": null,
      "outputs": [
        {
          "output_type": "stream",
          "name": "stdout",
          "text": [
            "abcdefghijklmnopqrstuvwxyzABCDEFGHIJKLMNOPQRSTUVWXYZ_\n"
          ]
        }
      ]
    },
    {
      "cell_type": "code",
      "source": [
        "FirstChar('ho*la')\n"
      ],
      "metadata": {
        "colab": {
          "base_uri": "https://localhost:8080/"
        },
        "id": "6evpHl1ezKd5",
        "outputId": "a255ba69-ce25-4ef5-f42a-5f988c04f7a5"
      },
      "execution_count": null,
      "outputs": [
        {
          "output_type": "execute_result",
          "data": {
            "text/plain": [
              "False"
            ]
          },
          "metadata": {},
          "execution_count": 2
        }
      ]
    },
    {
      "cell_type": "code",
      "source": [
        "# Ejercicio 2 Porcentaje de vocales. Escribe una función porcentVocal(s) en que dado un string s, la\n",
        "#función devuelva el porcentaje de vocales que contiene el string. Deben considerarse vocales\n",
        "#minúsculas y mayúsculas. Devolver el resultado con un decimal de precisión.\n",
        "#Consideraremos que las vocales están sin tilde o acento gráfico. Se valorará prever el caso que\n",
        "#se envíe como argumento un string vacío."
      ],
      "metadata": {
        "id": "xWcO4zlW0WdZ"
      },
      "execution_count": null,
      "outputs": []
    },
    {
      "cell_type": "code",
      "source": [
        "vocales='aeiouAEIOU'\n",
        "#c=0\n",
        "#v=0\n",
        "per=0\n",
        "\n",
        "def percentVocal(s,per):\n",
        "  c=0\n",
        "  v=0\n",
        "  if len(s)==0:\n",
        "    per=0.0\n",
        "    return per\n",
        "  for char in s[:]:\n",
        "    if char in vocales:\n",
        "      v=v+1\n",
        "    c=c+1\n",
        "  per=v/c*100\n",
        "  per= round(per,1)\n",
        "  return per"
      ],
      "metadata": {
        "id": "xsbqoEUGF_0B"
      },
      "execution_count": null,
      "outputs": []
    },
    {
      "cell_type": "code",
      "source": [
        "per=percentVocal('',per)\n",
        "print(per)\n",
        "per=percentVocal('lucas e',per)\n",
        "print(per)"
      ],
      "metadata": {
        "colab": {
          "base_uri": "https://localhost:8080/"
        },
        "id": "aenCUjnLHbnP",
        "outputId": "720d53af-40e8-470f-e112-abfc763c0f3b"
      },
      "execution_count": null,
      "outputs": [
        {
          "output_type": "stream",
          "name": "stdout",
          "text": [
            "0.0\n",
            "42.9\n"
          ]
        }
      ]
    },
    {
      "cell_type": "code",
      "source": [
        "#Nuevo string. Diseña una función nuevo_string (s, n) que, dado un string s y un entero\n",
        "#n ≥ 0, devuelva el string resultante de repetir cada vocal de s exactamente n veces en el lugar\n",
        "#donde se encuentra situada en s."
      ],
      "metadata": {
        "id": "CudxdyHsJw-m"
      },
      "execution_count": null,
      "outputs": []
    },
    {
      "cell_type": "code",
      "source": [
        "vocales='aeiouAEIOU'\n",
        "\n",
        "def nuevo_string(s,n):\n",
        "  pos=0\n",
        "  for char in s[:]:\n",
        "    #print('letra iterada:',char)\n",
        "\n",
        "    if char in vocales:\n",
        "      add=(n-1)*char\n",
        "      s=s[:pos]+add+s[pos:]\n",
        "      #print(s)\n",
        "      pos=pos+n\n",
        "    else:\n",
        "      pos=pos+1\n",
        "    #print('posicion:  ',pos)\n",
        "  return s \n"
      ],
      "metadata": {
        "id": "xhdcnybLLYO4"
      },
      "execution_count": null,
      "outputs": []
    },
    {
      "cell_type": "code",
      "source": [
        "nuevo_string('prueba',3)"
      ],
      "metadata": {
        "colab": {
          "base_uri": "https://localhost:8080/",
          "height": 35
        },
        "id": "2PSckt56OJwo",
        "outputId": "97ee2afc-5243-4794-bdaf-3e3c9ca61993"
      },
      "execution_count": null,
      "outputs": [
        {
          "output_type": "execute_result",
          "data": {
            "text/plain": [
              "'pruuueeebaaa'"
            ],
            "application/vnd.google.colaboratory.intrinsic+json": {
              "type": "string"
            }
          },
          "metadata": {},
          "execution_count": 70
        }
      ]
    },
    {
      "cell_type": "code",
      "source": [
        "#Notas al pie de página. Diseña una función notas_al_pie(s) que, dado un string s formado\n",
        "#sólo por letras, signos de puntuación y asteriscos que indican una llamada a una nota al pie\n",
        "#de página, devuelva un string donde cada asterisco es sustituido por un número entre\n",
        "#paréntesis que indica el número de nota. El primer * se substituye por (1), el segundo por (2),\n",
        "#etc."
      ],
      "metadata": {
        "id": "n5tuYmbNW7yG"
      },
      "execution_count": null,
      "outputs": []
    },
    {
      "cell_type": "code",
      "source": [
        "def notas_al_pie (s):\n",
        "  t= s.split('*')\n",
        "\n",
        "  for i in range(len(t)-1):\n",
        "    t[i] = t[i] + '('+ str(i+1)+ ')'\n",
        "  \n",
        "  cadena = ''.join(t)\n",
        "  return cadena\n",
        "  "
      ],
      "metadata": {
        "id": "fJpKEJ0vXXwV"
      },
      "execution_count": null,
      "outputs": []
    },
    {
      "cell_type": "code",
      "source": [
        "notas_al_pie('hola* me vale*')"
      ],
      "metadata": {
        "colab": {
          "base_uri": "https://localhost:8080/",
          "height": 35
        },
        "id": "Xf-8RrMkXYCN",
        "outputId": "081d4890-9612-44b5-e2ac-532b3262c42b"
      },
      "execution_count": null,
      "outputs": [
        {
          "output_type": "execute_result",
          "data": {
            "text/plain": [
              "'hola(1) me vale(2)'"
            ],
            "application/vnd.google.colaboratory.intrinsic+json": {
              "type": "string"
            }
          },
          "metadata": {},
          "execution_count": 15
        }
      ]
    },
    {
      "cell_type": "code",
      "source": [
        "#Calcula código. Dado un string s que contiene los nombres y apellidos de una persona, diseña\n",
        "#la función codigo(s) que devuelva el string ini + str(count), donde ini contiene las iniciales\n",
        "#de la persona (las letras mayúsculas de s) y count es el número total de letras de sus nombres\n",
        "#y apellidos (es decir, las letras de s sin contar caracteres blancos o espacios)."
      ],
      "metadata": {
        "id": "tOM4Vj6vhdEX"
      },
      "execution_count": null,
      "outputs": []
    },
    {
      "cell_type": "code",
      "source": [
        "def codigos(s):\n",
        "  l=s.split()\n",
        "  c=0\n",
        "  l_cod=''\n",
        "  for w in l:\n",
        "    l_cod = l_cod + w[0]\n",
        "    c= c+len(w)\n",
        "  \n",
        "  COD=l_cod+str(c)\n",
        "  return COD\n",
        "  \n"
      ],
      "metadata": {
        "id": "shJcOFwch_Wl"
      },
      "execution_count": null,
      "outputs": []
    },
    {
      "cell_type": "code",
      "source": [
        "codigos('Daniel Monescillo Aragon')\n"
      ],
      "metadata": {
        "colab": {
          "base_uri": "https://localhost:8080/",
          "height": 35
        },
        "id": "xh4SoUh8ij2G",
        "outputId": "12f46361-7fd4-4ffb-dfb0-aa53492cad5b"
      },
      "execution_count": null,
      "outputs": [
        {
          "output_type": "execute_result",
          "data": {
            "text/plain": [
              "'DMA22'"
            ],
            "application/vnd.google.colaboratory.intrinsic+json": {
              "type": "string"
            }
          },
          "metadata": {},
          "execution_count": 53
        }
      ]
    },
    {
      "cell_type": "code",
      "source": [
        "#Contador de hidrógenos. Una fórmula química es una representación convencional de los\n",
        "#elementos que forman un compuesto. Por ejemplo, el 1-2-butadiol sería C2H5O, que se\n",
        "#representa con el string 'C2H5O'. También pueden aparecer elementos químicos de dos\n",
        "#caracteres como el calcio Ca en CaCO3 ( 'CaCO3') o el hierro Fe en Fe3O4 ( 'Fe3O4'). En estos\n",
        "#casos el segundo carácter del símbolo siempre es una minúscula. Diseña la función\n",
        "#contar_hidrogenos(s) que, dado un string s con un compuesto como los descritos antes,\n",
        "#devuelve el número de átomos de hidrógeno que contiene. Para simplificar el problema,\n",
        "#limitaremos el número que puede seguir el símbolo de un elemento a un valor entre 2 y 9."
      ],
      "metadata": {
        "id": "CMAfI7JYpf5S"
      },
      "execution_count": null,
      "outputs": []
    },
    {
      "cell_type": "code",
      "source": [
        "def contar_hidrogenos(s):\n",
        "  nh=0\n",
        "  pos=0\n",
        "  letters= string.ascii_letters  #Creo v_final , posicion de lista , string caracteres letras \n",
        "  numbers= '23456789'            #Creo string de numeros , lista vacia para separar s\n",
        "  list_s=[]\n",
        "\n",
        "  if 'H' not in s:               #Si string no tiene H --> 0\n",
        "    return nh\n",
        "\n",
        "  #for char in s:\n",
        "    #list_s.append(char)          #Convierto la string en lista\n",
        "  list_s= s.split()\n",
        "\n",
        "  for char in list_s:\n",
        "    if char == 'H':              \n",
        "      nh=1                   #Itero y marco punto de parada cuando encuentre 'H'\n",
        "      break                  # Me devuelve donde esta 'H en la lista\n",
        "    pos=pos+1\n",
        "\n",
        "  if pos== len(list_s)-1 :\n",
        "    nh=1                    # Si H es la ultima pos--> 1\n",
        "    return nh\n",
        "\n",
        "  elif list_s[pos+1] in numbers:\n",
        "    numero = int(list_s[pos+1])   # Si pos+1 de 'H' es numero lo convierte a entero\n",
        "    nh= nh + numero - 1           # Devuelve el num de atomos\n",
        "    return nh\n",
        "  elif list_s[pos+1] in letters:\n",
        "    nh=1                          #Si la siguiente es letra H--> 1\n",
        "    return nh\n",
        "  \n"
      ],
      "metadata": {
        "id": "XRQrCmZZp2VI"
      },
      "execution_count": null,
      "outputs": []
    },
    {
      "cell_type": "code",
      "source": [
        "contar_hidrogenos('C2H5O')"
      ],
      "metadata": {
        "colab": {
          "base_uri": "https://localhost:8080/"
        },
        "id": "hHCGHxssrevx",
        "outputId": "935e15fd-635f-463b-d5cd-2d36c5220f8a"
      },
      "execution_count": null,
      "outputs": [
        {
          "output_type": "execute_result",
          "data": {
            "text/plain": [
              "5"
            ]
          },
          "metadata": {},
          "execution_count": 73
        }
      ]
    },
    {
      "cell_type": "code",
      "source": [
        "#Diseña la función mediaTempRang(lst) en que, dada una lista lst de medidas de \n",
        "#temperatura en ºC de un experimento, calcule y devuelva el valor medio de aquellas \n",
        "#temperaturas de la lista que estén en el rango de 15 a 45 ºC, inclusive [15, 45]. Devolver el \n",
        "#resultado redondeado a 2 cifras decimales. También considerar el caso en que ninguna \n",
        "#medida de temperatura de la lista esté en el rango dado. En este caso la función devuelve el \n",
        "#valor -1.\n"
      ],
      "metadata": {
        "id": "kIhCpA9SQ989"
      },
      "execution_count": null,
      "outputs": []
    },
    {
      "cell_type": "code",
      "source": [
        "def mediaTempRang(lst):\n",
        "  valores=[]\n",
        "  media=0\n",
        "  for v in lst:\n",
        "    if v>=15 and v<= 45:\n",
        "      valores.append(v)\n",
        "  #print(valores)  \n",
        "    \n",
        "  if len(valores)==0:\n",
        "    media=-1\n",
        "    return round(media,2)\n",
        "  else:\n",
        "    media=sum(valores)/len(valores)\n",
        "    return round(media,2)\n"
      ],
      "metadata": {
        "id": "kVw_nW6-RQiE"
      },
      "execution_count": null,
      "outputs": []
    },
    {
      "cell_type": "code",
      "source": [
        "mediaTempRang([14.5, 12.6, 47.8])\n",
        "mediaTempRang([45.5, 12.9, 15, 32.56, 51.4, 21.2])\n"
      ],
      "metadata": {
        "colab": {
          "base_uri": "https://localhost:8080/"
        },
        "id": "CgGa29opS33k",
        "outputId": "6834eb2b-c838-4296-8106-6ed1e39d5f9b"
      },
      "execution_count": null,
      "outputs": [
        {
          "output_type": "execute_result",
          "data": {
            "text/plain": [
              "22.92"
            ]
          },
          "metadata": {},
          "execution_count": 94
        }
      ]
    },
    {
      "cell_type": "code",
      "source": [
        "#El umbral de nivel de presión del sonido (sound pressure level, SPL) del oído humano es  aproximadamente de 20 P a frecuencias medias de la voz. Este valor se considera el nivel de \n",
        "#presión de sonido (SPL) de referencia, 0 dB (20log10(20/20)). La función SPL_dB(P) recibe una presión acústica en P, y devuelve su equivalente en dB. \n",
        "#Diseñar la función detect2ndNdB(lst, N), en que dada una lista lst de valores de nivel de  presión de sonido (SPL) en P, y un valor N (dB), busque y devuelva el valor de la segunda \n",
        "#presión SPL que sea al menos de N dB. Por ejemplo, N = 30 dB es el nivel de un susurro en el  oído, N = 50 dB es el nivel de una conversación normal, N = 80 dB es el nivel de ruido en una \n",
        "#calle con tráfico. En caso de no encontrar una segunda presión SPL se ha de devolver -1. \n",
        "#Notas: \n",
        "#(i) Se debe usar la función SPL_dB(P) que convierte en dB la presión de entrada en P.\n",
        "#(ii) Se debe buscar la 2ª presión de acuerdo a la ubicación en la lista original del argumento.\n"
      ],
      "metadata": {
        "id": "if7lzWpfU1kD"
      },
      "execution_count": null,
      "outputs": []
    },
    {
      "cell_type": "code",
      "source": [
        "from math import log10\n",
        "\n",
        "def SPL_dB(P):\n",
        "  return 20*log10(P/20)           #f: pasa de presion de sonido a dB\n",
        "\n",
        "def detect2ndNdB(lst, N):\n",
        "  db_lst=[]                       \n",
        "\n",
        "  for item in lst:                  #lista nueva con los valores en dbs\n",
        "\n",
        "    db_lst.append(SPL_dB(item))\n",
        "  #print(db_lst)\n",
        "\n",
        "  c=0\n",
        "  pos=0\n",
        "  for dbvalue in db_lst:\n",
        "    if dbvalue >= N :               #recorrer la lista para encontar la segunda posicion de un valor mayor que N \n",
        "      c=c+1\n",
        "    \n",
        "    if c==2:\n",
        "      return lst[pos]\n",
        "    pos=pos+1\n",
        "   \n",
        "  return -1\n",
        "\n",
        "\n",
        "#detect2ndNdB([90,590,750,632, 650, 900, 2000, 789, 545], 30)\n",
        "\n",
        "#detect2ndNdB([90,590,750,632, 650, 900, 2000, 789, 545], 33)\n",
        "\n",
        "#detect2ndNdB([90,590,750,632, 630, 600, 200, 589, 545], 30)\n",
        "\n",
        "#detect2ndNdB([9e3,1e4,1.1e5,2.2e5, 1.3e6, 2.5e6, 3.2e6], 83)\n",
        " \n",
        "detect2ndNdB([2000, 2450.5, 2500 , 456.7, 1567.8], 42)\n",
        "\n"
      ],
      "metadata": {
        "colab": {
          "base_uri": "https://localhost:8080/"
        },
        "id": "N99MHj_Nrf29",
        "outputId": "8999bd50-ad6f-491c-ba88-31c91f263e15"
      },
      "execution_count": null,
      "outputs": [
        {
          "output_type": "execute_result",
          "data": {
            "text/plain": [
              "-1"
            ]
          },
          "metadata": {},
          "execution_count": 124
        }
      ]
    },
    {
      "cell_type": "code",
      "source": [
        "#Primos pitagóricos. Diseña la función primoPitagoric2(lst) en que, dada una lista de \n",
        "#números enteros positivos no repetidos, devuelva una lista con los 2 primeros números \n",
        "#primos pitagóricos. Si no hubiera al menos 2 primos pitagóricos la función devuelve -1\n",
        "#Un número primo es pitagórico si se puede escribir como la suma de dos cuadrados. Por \n",
        "#ejemplo 5 = 22 + 11 o 13 = 22 + 32. Fermat demostró que un primo pitagórico p es igual a 4k + \n",
        "#1, para algún valor de k entero positivo. Esta condición se puede expresar como: un número \n",
        "#primo p es pitagórico si p modulo 4 es igual a 1, es decir si el residuo de dividir p entre 4 es 1. \n",
        "#Se debe usar la función es_primo(n) para evaluar si un número es primo o no"
      ],
      "metadata": {
        "colab": {
          "base_uri": "https://localhost:8080/"
        },
        "id": "fytyqZrmwU2R",
        "outputId": "12cabdb9-c3fc-4cd1-9d78-59ef00e03277"
      },
      "execution_count": null,
      "outputs": [
        {
          "output_type": "execute_result",
          "data": {
            "text/plain": [
              "-1"
            ]
          },
          "metadata": {},
          "execution_count": 114
        }
      ]
    },
    {
      "cell_type": "code",
      "source": [
        "def es_primo(n):\n",
        " if n <= 1: return False\n",
        " for d in range(2, n//2+1):\n",
        "  if n % d == 0:\n",
        "    return False\n",
        " return True\n",
        "\n",
        "def primoPitagoric2(lst):\n",
        "  prim_pit=[]\n",
        "  pit12=[]\n",
        "\n",
        "  for number in lst:\n",
        "    if es_primo(number)==True and number % 4 == 1: prim_pit.append(number)\n",
        "  if len(prim_pit)<=1: return -1\n",
        "  else:\n",
        "    pit12.append(prim_pit[0])\n",
        "    pit12.append(prim_pit[1])\n",
        "    return pit12"
      ],
      "metadata": {
        "id": "EUT7ElHE5pWq"
      },
      "execution_count": null,
      "outputs": []
    },
    {
      "cell_type": "code",
      "source": [
        "\n",
        "primoPitagoric2([3, 4, 5, 6, 7, 8, 9, 10, 11, 12, 13])\n",
        "primoPitagoric2([41, 45, 49, 53, 57, 61, 65, 69, 73, 77, 81])"
      ],
      "metadata": {
        "colab": {
          "base_uri": "https://localhost:8080/"
        },
        "id": "ceU-Awtr55w4",
        "outputId": "f0e58168-cd98-4a94-dce2-6740c6d7c4f8"
      },
      "execution_count": null,
      "outputs": [
        {
          "output_type": "execute_result",
          "data": {
            "text/plain": [
              "[41, 53]"
            ]
          },
          "metadata": {},
          "execution_count": 134
        }
      ]
    },
    {
      "cell_type": "code",
      "source": [
        "#Contar positivos. Dada una lista de listas que representa una matriz cuadrada m, diseña una \n",
        "#función contar_pos(m), que cuente los números positivos que tiene. "
      ],
      "metadata": {
        "id": "bG8br9S5jjDu"
      },
      "execution_count": null,
      "outputs": []
    },
    {
      "cell_type": "code",
      "source": [
        "def contar_pos(m):\n",
        "  c=0\n",
        "\n",
        "  for rows in m:\n",
        "    for value in rows:\n",
        "      if value > 0:\n",
        "        c=c+1\n",
        "  return c\n",
        "\n",
        "contar_pos([[1, -2, 3],[-4,5,6],[7,8,-9]])\n"
      ],
      "metadata": {
        "colab": {
          "base_uri": "https://localhost:8080/"
        },
        "id": "6ZMfHRruj659",
        "outputId": "d36c32fe-a955-450b-c594-18e0ebb314d7"
      },
      "execution_count": null,
      "outputs": [
        {
          "output_type": "execute_result",
          "data": {
            "text/plain": [
              "6"
            ]
          },
          "metadata": {},
          "execution_count": 140
        }
      ]
    },
    {
      "cell_type": "code",
      "source": [
        "#Mayor densidad. Se dispone del nombre, masa y volumen de un planeta almacenado en una \n",
        "#lista: [nombre, masa, volumen]. Además, se tiene una lista de planetas como una lista de listas \n",
        "#de la forma: [[nombre1, masa1, volumen1], [nombre2, masa2, volumen2], ...]. \n",
        "#Diseña la función mas_denso(Lst), en que dada una lista de planetas Lst, nos devuelva el \n",
        "#nombre del planeta más denso de esa lista. Si hubiera más de uno con la misma densidad, se \n",
        "#devuelve el primero que encuentre en la lista original."
      ],
      "metadata": {
        "id": "WOR5nZAjk7BF"
      },
      "execution_count": null,
      "outputs": []
    },
    {
      "cell_type": "code",
      "source": [
        "def mas_denso(Lst):\n",
        "  \n",
        "  density=[]\n",
        "  for planet in Lst:\n",
        "    d=planet[1]/planet[2]     #Creo una lista ordenada con las densidades \n",
        "    density.append(d)\n",
        "\n",
        "\n",
        "  max=0\n",
        "  for item in density:        #itero para sacar el valor maximo y luego su posicion con index\n",
        "    if item> max:              #Sin poner el igual exluyo el que sea igual y no cambia la poosicion\n",
        "      max=item\n",
        "  pos=density.index(max)\n",
        "\n",
        "  return Lst[pos]\n",
        "\n"
      ],
      "metadata": {
        "colab": {
          "base_uri": "https://localhost:8080/"
        },
        "id": "p3uJSVKelRrM",
        "outputId": "1add6c63-ea4e-45f8-fc26-fb11f27797ff"
      },
      "execution_count": null,
      "outputs": [
        {
          "output_type": "execute_result",
          "data": {
            "text/plain": [
              "['Tierra', 2, 3]"
            ]
          },
          "metadata": {},
          "execution_count": 146
        }
      ]
    },
    {
      "cell_type": "code",
      "source": [
        "mas_denso([['Marte', 1, 2], ['Tierra', 2, 3], ['Venus', 1, 3]])\n"
      ],
      "metadata": {
        "id": "lTsepsBZjq-k"
      },
      "execution_count": null,
      "outputs": []
    },
    {
      "cell_type": "code",
      "source": [
        "#Fútbol. Se dispone en una lista (equipo) de listas (jugadores) con los registros de los \n",
        "#jugadores. En cada registro se guarda: su número de dorsal, nombre, si es comunitario o no \n",
        "#(booleano, comunitario: True), edad y la distancia recorrida en kilómetros en los partidos \n",
        "#jugados en el último mes. \n",
        "#No todos los jugadores han jugado todos los partidos del mes, por lo que aparecerá solo la \n",
        "#distancia recorrida de los partidos jugados.\n",
        "#Diseñar una función jugComKm(equipo, x) en que, dada una lista de un equipo de futbol y \n",
        "#un número x de kilómetros recorridos, nos devuelva la lista de nombres de los jugadores \n",
        "#comunitarios que han recorrido de media (promedio) más de x km en los partidos jugados.\n",
        "#De no encontrarse jugadores con este recorrido, se devolverá la lista vacía.\n",
        "#Notas: pudiera haber algún jugador sin partidos jugados y en este caso el promedio lo \n",
        "#consideramos 0.\n",
        "#Se valorará devolver la lista de nombres ordenada alfabéticamente."
      ],
      "metadata": {
        "id": "WM-cwAVUoV_9"
      },
      "execution_count": null,
      "outputs": []
    },
    {
      "cell_type": "code",
      "source": [
        "lst_equipo = [3, 'Pique', True, 33, 10.2, 9.0]\n",
        "lst_equipo[3:]"
      ],
      "metadata": {
        "colab": {
          "base_uri": "https://localhost:8080/"
        },
        "id": "JJIqvDU4pgBw",
        "outputId": "c000d537-83c1-4f25-8f8b-6540c8a7daee"
      },
      "execution_count": null,
      "outputs": [
        {
          "output_type": "execute_result",
          "data": {
            "text/plain": [
              "[33, 10.2, 9.0]"
            ]
          },
          "metadata": {},
          "execution_count": 150
        }
      ]
    },
    {
      "cell_type": "code",
      "source": [
        "lst_equipo = [3, 'Pique', True, 33, 10.2, 9.0]\n",
        "lst_equipo[3:]\n",
        "\n",
        "\n",
        "def jugComKm(lst, x):\n",
        "\n",
        "  km_lst=[]\n",
        "  media_lst=[]\n",
        "\n",
        "  for jugador in lst:\n",
        "    km_lst.append(jugador[4:])    #lista de listas con solo kms\n",
        "  #print(km_lst)\n",
        "  \n",
        "  for kms in km_lst:\n",
        "    media= sum(kms)/len(kms)      #lista con las medias\n",
        "    media_lst.append(media)\n",
        "  #print(media_lst)\n",
        "  \n",
        "  lista_pos=[]\n",
        "  pos=0\n",
        "  for v in media_lst:\n",
        "    if v > x:\n",
        "      lista_pos.append(pos)         #lista con  las posiciones de las medias superiores\n",
        "    pos=pos+1\n",
        "  #print(lista_pos)\n",
        "  \n",
        "  jugadores=[]\n",
        "\n",
        "  for value in lista_pos:\n",
        "    jugadores.append(lst[value])\n",
        "  #print(jugadores)                  añado lo que hay en las posiciones de la lista inicial\n",
        "  com_jugadores=[]\n",
        "  for jug in jugadores:\n",
        "    if jug[2] == True :                #condicion de que sean comunitarios\n",
        "      com_jugadores.append(jug[1])\n",
        "  \n",
        "  com_jugadores.sort()\n",
        "  return com_jugadores\n",
        "\n"
      ],
      "metadata": {
        "colab": {
          "base_uri": "https://localhost:8080/"
        },
        "id": "ZKhRuIzvp-Af",
        "outputId": "5301ca96-742c-4bbf-eb66-d126947ffc02"
      },
      "execution_count": null,
      "outputs": [
        {
          "output_type": "execute_result",
          "data": {
            "text/plain": [
              "['Iago', 'Pedri', 'Pique', 'Ramos']"
            ]
          },
          "metadata": {},
          "execution_count": 185
        }
      ]
    },
    {
      "cell_type": "code",
      "source": [
        "\n",
        "lst_equipo = [[3, 'Pique', True, 33, 10.2, 9.0], \\\n",
        " [4, 'Ramos', True, 34, 11.0, 11.1, 9.8, 8.5], \\\n",
        " [6, 'Koke', True, 27, 7.5, 9.6, 10.3, 6.5, 5.6], \\\n",
        " [7, 'Joao', False, 25, 10.5, 8.4, 9.0, 8.6], \\\n",
        " [8, 'Saul', True, 24, 9.5, 8.9, 10.0, 9.6], \\\n",
        " [9, 'Suarez', False, 33, 8.6, 7.5], \\\n",
        " [10, 'Lionel', False, 33, 10.0, 11.1, 9.8, 8.5,10.1], \\\n",
        " [19, 'Odriozola', True, 25, 9.5], \\\n",
        " [14, 'Araujo', False, 21, 8.9, 9.5], \\\n",
        " [15, 'Valverde', False, 22, 9.9, 10.2], \\\n",
        " [16, 'Pedri', True, 18, 10.5, 11, 9.5, 10.6], \\\n",
        " [22, 'Hermoso', False, 23, 10, 7.5, 6.6], \\\n",
        " [23, 'Iago', True, 33, 11.1, 9.0, 9.3, 8.8]]\n",
        "\n",
        "jugComKm(lst_equipo, 9.5)"
      ],
      "metadata": {
        "id": "LfA5Pfvij-Ls"
      },
      "execution_count": null,
      "outputs": []
    }
  ]
}