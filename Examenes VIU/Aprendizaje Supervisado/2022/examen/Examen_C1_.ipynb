{
 "cells": [
  {
   "cell_type": "markdown",
   "metadata": {},
   "source": [
    "### EXAMEN - Convocatoria 1 - Desarrollo\n",
    "Utilizar el conjunto de datos \"dataset_exam.npy\" para resolver el ejercicio. Tener en cuenta que la última columna corresponde a la clase."
   ]
  },
  {
   "cell_type": "code",
   "execution_count": 51,
   "metadata": {},
   "outputs": [],
   "source": [
    "import numpy as np\n",
    "\n",
    "from sklearn.model_selection import cross_val_predict, cross_val_score, train_test_split, KFold\n"
   ]
  },
  {
   "cell_type": "markdown",
   "metadata": {},
   "source": [
    "#### 1) Partición de datos externa (1.5 puntos)\n",
    "Realizar una partición externa de tipo hold-out seleccionando un 20% de los datos para test (fijar una semilla en 42).\n",
    "Comprobar si los datos, tanto de train como de test, están balanceados."
   ]
  },
  {
   "cell_type": "code",
   "execution_count": 25,
   "metadata": {},
   "outputs": [
    {
     "name": "stdout",
     "output_type": "stream",
     "text": [
      "(492, 9)\n",
      "(393, 8)\n",
      "Train\n",
      "0:  195 \n",
      "1:  198\n",
      "Test\n",
      "0:  51 \n",
      "1:  48\n"
     ]
    }
   ],
   "source": [
    "data = np.load ('dataset_exam.npy') # Cargar archivo\n",
    "print(np.shape(data.data))\n",
    "\n",
    "#separamos en atributos y clase\n",
    "X = data[:,:-1]\n",
    "y = data[:,-1]\n",
    "\n",
    "X_training, X_testing, y_training, y_testing = train_test_split(X, y, test_size=0.2, random_state=42)\n",
    "print(np.shape(X_training))\n",
    "\n",
    "# comprobar si estan balanceados\n",
    "lab_train, ocur_train = np.unique(y_training, return_counts=True)\n",
    "lab_test, ocur_test = np.unique( y_testing, return_counts=True)\n",
    "print('Train\\n0: ', ocur_train[0], '\\n1: ', ocur_train[1])\n",
    "print('Test\\n0: ', ocur_test[0], '\\n1: ', ocur_test[1])"
   ]
  },
  {
   "cell_type": "code",
   "execution_count": null,
   "metadata": {},
   "outputs": [],
   "source": [
    "# Los datos estan balanceados"
   ]
  },
  {
   "cell_type": "markdown",
   "metadata": {},
   "source": [
    "#### 2) Estandarización de los datos de train y test (1.5 puntos)\n",
    "Utilizar el método StandardScaler()."
   ]
  },
  {
   "cell_type": "code",
   "execution_count": 39,
   "metadata": {},
   "outputs": [],
   "source": [
    "from sklearn import preprocessing\n",
    "\n",
    "# Limpieza de datos: estandarización.\n",
    "standardizer = preprocessing.StandardScaler()\n",
    "\n",
    "X_train_std = standardizer.fit(X_training)\n",
    "\n",
    "X_train_std = standardizer.transform(X_training)\n",
    "X_test_std = standardizer.transform(X_testing)"
   ]
  },
  {
   "cell_type": "markdown",
   "metadata": {},
   "source": [
    "#### 3) Selección de atributos en train y test (1.5 puntos)\n",
    "Aplicar el método de información mutua para clasificación en el percentile 90."
   ]
  },
  {
   "cell_type": "code",
   "execution_count": 49,
   "metadata": {},
   "outputs": [
    {
     "name": "stdout",
     "output_type": "stream",
     "text": [
      "(393, 7)\n",
      "(99, 7)\n"
     ]
    }
   ],
   "source": [
    "from sklearn.feature_selection import mutual_info_regression\n",
    "from sklearn.feature_selection import SelectPercentile\n",
    "from sklearn.feature_selection import f_regression\n",
    "\n",
    "# creo el selectPercentile con el metodo mutual info regression\n",
    "mutual = SelectPercentile(score_func=mutual_info_regression, percentile=90)\n",
    "\n",
    "# lo entreno\n",
    "X_train_new = mutual.fit(X_train_std, y_training)\n",
    "\n",
    "# lo aplico a los datos\n",
    "X_train_new = mutual.transform(X_train_std)\n",
    "X_test_new = mutual.transform(X_test_std)\n",
    "\n",
    "# print(X_train_new)\n",
    "# print(X_test_new)\n",
    "print(np.shape(X_train_new))\n",
    "print(np.shape(X_test_new))"
   ]
  },
  {
   "cell_type": "markdown",
   "metadata": {},
   "source": [
    "\n",
    "#### 4) Comparación de modelos de clasifición mediante validación cruzada (2.5 puntos)\n",
    "Aplicar una validación cruzada interna de K=5 bolsas para optimizar y comparar la capacidad predictiva de los siguientes modelos: Regresión Logística y Support Vector Machine. La comparación debe realizarse únicamente en términos de exactitud proporcionando resultados de media +- desviación estándar."
   ]
  },
  {
   "cell_type": "code",
   "execution_count": 58,
   "metadata": {},
   "outputs": [
    {
     "name": "stdout",
     "output_type": "stream",
     "text": [
      "LOGR\n",
      "Accuracy:   0.6766 +/- 0.0538\n",
      "\n",
      "SVM\n",
      "Accuracy:   0.7912 +/- 0.0249\n",
      "\n"
     ]
    }
   ],
   "source": [
    "from sklearn.model_selection import cross_val_predict\n",
    "from sklearn.linear_model import LogisticRegression\n",
    "from sklearn import preprocessing, svm\n",
    "\n",
    "# LOGR\n",
    "# creamos el modelo\n",
    "algoritmos = {'LOGR': LogisticRegression(penalty='l2', solver='saga', max_iter=1000, random_state=42, multi_class='ovr'), \n",
    "              'SVM': svm.SVC(C=10, random_state=42, probability=True),}\n",
    "\n",
    "# validacion cruzada\n",
    "y_pred = {}\n",
    "for nombre, alg in algoritmos.items():\n",
    "    results = cross_val_score(alg, X_train_new, y_training, cv = KFold(n_splits=5, shuffle=True, random_state=42))\n",
    "    print(nombre)\n",
    "    print(\"Accuracy:   %0.4f +/- %0.4f\" % (results.mean(), results.std()))\n",
    "    print()"
   ]
  },
  {
   "cell_type": "markdown",
   "metadata": {},
   "source": [
    "#### 5) Evaluación de los modelos sobre el conjunto de test (3 puntos)\n",
    "- Entrenar los modelos anteriores utilizando todos los datos de entrenamiento.\n",
    "- Evaluar su rendimiento sobre el conjunto de test.\n",
    "- Mostrar en una única figura la comparación de las curvas ROC obtenidas para cada modelo.\n",
    "- Crear una tabla donde se muestren los resultados de todos los modelos.\n",
    " * Las filas serán: Precisión, Sensibilidad, F-score, Exactitud y AUC\n",
    " * Las columnas serán: LR y SVM\n",
    "- Mostrar la matriz de confusión proporcionada por el mejor modelo. "
   ]
  },
  {
   "cell_type": "code",
   "execution_count": 65,
   "metadata": {},
   "outputs": [],
   "source": [
    "import sklearn.metrics as metrics\n",
    "\n",
    "# Métricas de evaluación.\n",
    "metricas = {\n",
    "  'ACC':    metrics.accuracy_score,\n",
    "  'PREC':   lambda y_true, y_pred:\n",
    "            metrics.precision_score(y_true, y_pred,\n",
    "              average='micro'),\n",
    "  'RECALL': lambda y_true, y_pred:\n",
    "            metrics.recall_score(y_true, y_pred,\n",
    "              average='micro'),\n",
    "  'F1':     lambda y_true, y_pred:\n",
    "            metrics.f1_score(y_true, y_pred, average='micro')}"
   ]
  },
  {
   "cell_type": "code",
   "execution_count": 90,
   "metadata": {},
   "outputs": [
    {
     "name": "stdout",
     "output_type": "stream",
     "text": [
      "{'LOGR': array([0., 1., 0., 0., 1., 0., 1., 0., 1., 0., 0., 0., 1., 1., 0., 1., 1.,\n",
      "       0., 1., 1., 1., 0., 1., 1., 1., 0., 0., 1., 0., 1., 1., 1., 1., 0.,\n",
      "       0., 0., 1., 1., 1., 1., 0., 1., 1., 1., 1., 0., 1., 0., 0., 1., 1.,\n",
      "       0., 1., 0., 0., 1., 1., 1., 0., 1., 1., 0., 1., 1., 0., 1., 0., 0.,\n",
      "       1., 1., 1., 1., 1., 0., 0., 0., 1., 1., 1., 1., 1., 0., 1., 0., 1.,\n",
      "       1., 1., 1., 1., 0., 0., 0., 1., 1., 0., 0., 0., 0., 0.]), 'SVM': array([0., 0., 0., 1., 1., 0., 1., 0., 1., 1., 0., 1., 1., 0., 0., 0., 1.,\n",
      "       0., 1., 1., 1., 1., 1., 1., 0., 0., 0., 0., 0., 1., 0., 1., 1., 1.,\n",
      "       0., 1., 0., 0., 0., 1., 0., 0., 0., 1., 0., 0., 0., 0., 0., 0., 1.,\n",
      "       0., 1., 0., 0., 0., 1., 1., 0., 0., 1., 0., 1., 1., 0., 1., 0., 0.,\n",
      "       1., 0., 1., 1., 1., 0., 0., 0., 1., 1., 1., 1., 1., 0., 1., 0., 1.,\n",
      "       1., 1., 0., 0., 0., 0., 0., 1., 0., 0., 1., 0., 0., 0.])}\n"
     ]
    }
   ],
   "source": [
    "import matplotlib.pyplot as plt\n",
    "from tabulate import tabulate\n",
    "\n",
    "# entrenamos el modelo definitivo\n",
    "models = {}\n",
    "for nombre, alg in algoritmos.items():\n",
    "    models[nombre] = alg.fit(X_train_new, y_training)\n",
    "\n",
    "# obtenemos las predicciones\n",
    "y_pred = {}\n",
    "for nombre, alg in models.items():\n",
    "    y_pred[nombre] = alg.predict(X_test_new)\n",
    "    \n",
    "print(y_pred)\n"
   ]
  },
  {
   "cell_type": "code",
   "execution_count": 91,
   "metadata": {},
   "outputs": [
    {
     "data": {
      "image/png": "[encoded data removed]",
      "text/plain": [
       "<Figure size 432x288 with 1 Axes>"
      ]
     },
     "metadata": {
      "needs_background": "light"
     },
     "output_type": "display_data"
    },
    {
     "data": {
      "image/png": "[encoded data removed]",
      "text/plain": [
       "<Figure size 432x288 with 1 Axes>"
      ]
     },
     "metadata": {
      "needs_background": "light"
     },
     "output_type": "display_data"
    },
    {
     "name": "stdout",
     "output_type": "stream",
     "text": [
      "             LOGR     SVM\n",
      "---------  ------  ------\n",
      "Precision  0.6523  0.8\n",
      "Recall     0.6489  0.7966\n",
      "F1-score   0.6452  0.797\n",
      "Accuracy   0.6465  0.798\n"
     ]
    }
   ],
   "source": [
    "# auc\n",
    "for nombre, alg in models.items():\n",
    "    y_proba_test = alg.predict_proba(X_test_new) # \"predict_proba\" para extraer probabilidades vez de predicciones\n",
    "    auc = metrics.roc_auc_score(y_testing, y_proba_test[:, 1]) # Area Under the ROC curve (AUC)\n",
    "    fpr, tpr, th = metrics.roc_curve(y_testing, y_proba_test[:,1])\n",
    "    plt.plot(fpr, tpr)\n",
    "    plt.xlabel('False positive rate')\n",
    "    plt.ylabel('True positive rate')\n",
    "    plt.title('AUC ' + nombre + '=' + str(np.round(auc,4)) )\n",
    "    plt.legend(nombre)\n",
    "    plt.grid()\n",
    "    plt.show()\n",
    "    \n",
    "# Tabla de resultados\n",
    "headers = ['','LOGR', 'SVM']\n",
    "P,S,FS,ACC = ['Precision'], ['Recall'], ['F1-score'], ['Accuracy']\n",
    "\n",
    "for nombre, alg in models.items():\n",
    "    P.append(np.round(metrics.precision_score(y_testing, y_pred[nombre], average='macro'),4))\n",
    "    S.append(np.round(metrics.recall_score(y_testing, y_pred[nombre], average='macro'),4))\n",
    "    FS.append(np.round(metrics.f1_score(y_testing, y_pred[nombre], average='macro'),4))\n",
    "    ACC.append(np.round(metrics.accuracy_score(y_testing, y_pred[nombre]),4))\n",
    "\n",
    "my_data = [tuple(P), tuple(S), tuple(FS), tuple(ACC)]\n",
    "print(tabulate(my_data, headers=headers))\n"
   ]
  },
  {
   "cell_type": "code",
   "execution_count": 92,
   "metadata": {},
   "outputs": [
    {
     "name": "stdout",
     "output_type": "stream",
     "text": [
      "\n",
      "Matriz de confusion:\n",
      "SVM\n",
      "[[43  8]\n",
      " [12 36]]\n",
      "\n"
     ]
    }
   ],
   "source": [
    "# Imprimimos la matriz de confusion del mejor metodo, en este caso el SVM\n",
    "\n",
    "print('\\nMatriz de confusion:')\n",
    "# Evaluación del modelo sobre el conjunto de test\n",
    "for nombre, alg in models.items():\n",
    "    if nombre == 'SVM':\n",
    "        print(nombre)\n",
    "        print(metrics.confusion_matrix(y_testing, y_pred[nombre]))\n",
    "        print()"
   ]
  },
  {
   "cell_type": "code",
   "execution_count": null,
   "metadata": {},
   "outputs": [],
   "source": []
  }
 ],
 "metadata": {
  "kernelspec": {
   "display_name": "Python 3",
   "language": "python",
   "name": "python3"
  },
  "language_info": {
   "codemirror_mode": {
    "name": "ipython",
    "version": 3
   },
   "file_extension": ".py",
   "mimetype": "text/x-python",
   "name": "python",
   "nbconvert_exporter": "python",
   "pygments_lexer": "ipython3",
   "version": "3.8.8"
  }
 },
 "nbformat": 4,
 "nbformat_minor": 4
}
