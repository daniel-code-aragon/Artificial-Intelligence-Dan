{
 "cells": [
  {
   "cell_type": "markdown",
   "id": "43115e44-f75d-465a-ad62-9b2be737a6e6",
   "metadata": {},
   "source": [
    "# Examen Primera Convocatoria"
   ]
  },
  {
   "cell_type": "code",
   "execution_count": 60,
   "id": "eb8ba270-b03c-49f8-b092-8de37baa3bfe",
   "metadata": {},
   "outputs": [],
   "source": [
    "# Your imports HERE !!!!\n",
    "import numpy as np\n",
    "import pandas as pd\n",
    "from typing import List"
   ]
  },
  {
   "cell_type": "markdown",
   "id": "2206adbd-c8e0-4665-a20b-bb6a1503d388",
   "metadata": {
    "tags": []
   },
   "source": [
    "## 01 - 1 pt\n",
    "- Dado un array de elementos, escribir una función, que reciba dicho array como parámetro de entrada y devuelva el elemento repetido. Usando plain Python, sin ninguna librería."
   ]
  },
  {
   "cell_type": "code",
   "execution_count": 87,
   "id": "130dbe19-8f46-4977-ae9f-26e6f55c8bd0",
   "metadata": {},
   "outputs": [],
   "source": [
    "fibonacci_lambda = lambda n: reduce(lambda x,y: x + [x[-1] + x[-2]], range(n-2), [0,1])"
   ]
  },
  {
   "cell_type": "code",
   "execution_count": 7,
   "id": "748595ea-d6b6-4f35-a824-ea3631d7e15a",
   "metadata": {},
   "outputs": [],
   "source": [
    "array_src = [4, 8, 0, 3, 6, 2, 1, 5, 3, 9, 7]\n",
    "expected_rep_element = 3\n",
    "rep_element = repeated_element(array_src) # This calls your function repeated_element\n",
    "assert(expected_rep_element == rep_element)  # This will fail if the element is not found correctly"
   ]
  },
  {
   "cell_type": "code",
   "execution_count": 6,
   "id": "3b6d4855-e751-4f45-8382-1291885aef0c",
   "metadata": {},
   "outputs": [],
   "source": [
    "# Your solution HERE !!!!\n",
    "def repeated_element(input_array: np.ndarray):\n",
    "    visited_elements = []\n",
    "    for element in input_array:\n",
    "        if element not in visited_elements:\n",
    "            visited_elements.append(element)\n",
    "        else:\n",
    "            return element\n",
    "        "
   ]
  },
  {
   "cell_type": "markdown",
   "id": "5161decf-e061-44a9-a413-8d3921a10058",
   "metadata": {
    "tags": []
   },
   "source": [
    "## 02 - 1pt\n",
    "- Genera una matriz con valores aleatorios de 0 a 100 de dimensiones 16x16\n",
    "- Calcula los siguentes estadísticos en la matriz anterior, por fila (el resultado de cada uno debe ser un array de dimensiones 1x16)\n",
    "  - Suma de los elementos de cada fila\n",
    "  - Media de los elementos de cada fila\n",
    "  - Valores mínimos de cada fila\n",
    "  - Valores máximos de cada fila"
   ]
  },
  {
   "cell_type": "code",
   "execution_count": 10,
   "id": "2e7bfe3c-253f-4287-8d85-fb7e5163e6c0",
   "metadata": {},
   "outputs": [
    {
     "name": "stdout",
     "output_type": "stream",
     "text": [
      "[[69 76 88 85 30 18 19 78  6 77 10 21 25 50 92 19]\n",
      " [62 78 12 37 13 81 43 74 84 91 20 30 34 86 50 72]\n",
      " [30 87 44 42 98 90 33 27  4 82 57 32 66 78 24 88]\n",
      " [13 22 70 73 74  9 26 88 14 61 69  1 44 19 16 38]\n",
      " [ 8 24 11 70 31 57 53 76 47 19 58 74 74 77 15 82]\n",
      " [21 93 10 58 97  2 20 43 75 71 39 31 77 73 34 75]\n",
      " [33 50  6 38 17 73 58 44 92 96  9 11  1 86 62  6]\n",
      " [37 26 31 63 73  2 61 43  5 33 50 65 47  6 59 20]\n",
      " [92 57  3 85 33 86 15 79 47 49 45 35 68 25 36 74]\n",
      " [55 21 22 62 24 83 36 41 67  8  6 29  4 90 48  0]\n",
      " [59  3 24 18 35 90 38 83 26 50 19 89 11 13 65 69]\n",
      " [30 87 32 16 47 29 65 55 20 25 83 12 54 70 86 47]\n",
      " [49  1 62 41 36 79  6 55 51 88 32 60 18 63 38 24]\n",
      " [99 93 15  7 68 30 54 60 27 84 29 91 53 55 48 31]\n",
      " [31 97 19 33 39 98 34 95 61 14 66 80 19 63 62 19]\n",
      " [ 7 48 43  7 84 40 97 58 38 52 82 28 92 19 94 42]]\n",
      "(16, 16)\n"
     ]
    }
   ],
   "source": [
    "# Your solution HERE !!!!\n",
    "array = np.random.randint(0, 101, (16,16))\n",
    "print(array)\n",
    "print(array.shape)"
   ]
  },
  {
   "cell_type": "code",
   "execution_count": 23,
   "id": "8efa3578-2500-48e4-8938-ede7a1b13dbe",
   "metadata": {},
   "outputs": [
    {
     "data": {
      "text/plain": [
       "(16, 1)"
      ]
     },
     "execution_count": 23,
     "metadata": {},
     "output_type": "execute_result"
    }
   ],
   "source": [
    "# Suma de los elementos de cada fila\n",
    "array_sum_filas = np.sum(array, axis=1).reshape(16,1)\n",
    "array_sum_filas.shape\n"
   ]
  },
  {
   "cell_type": "code",
   "execution_count": 26,
   "id": "118f8811-fe15-4e61-92a3-9f370f8e3169",
   "metadata": {},
   "outputs": [
    {
     "data": {
      "text/plain": [
       "array([[47.6875],\n",
       "       [54.1875],\n",
       "       [55.125 ],\n",
       "       [39.8125],\n",
       "       [48.5   ],\n",
       "       [51.1875],\n",
       "       [42.625 ],\n",
       "       [38.8125],\n",
       "       [51.8125],\n",
       "       [37.25  ],\n",
       "       [43.25  ],\n",
       "       [47.375 ],\n",
       "       [43.9375],\n",
       "       [52.75  ],\n",
       "       [51.875 ],\n",
       "       [51.9375]])"
      ]
     },
     "execution_count": 26,
     "metadata": {},
     "output_type": "execute_result"
    }
   ],
   "source": [
    "array_media = np.mean(array, axis=1).reshape(16,1)\n",
    "array_media"
   ]
  },
  {
   "cell_type": "code",
   "execution_count": 27,
   "id": "2b7b39ae-6319-4a1a-9c05-5e929573853c",
   "metadata": {},
   "outputs": [
    {
     "data": {
      "text/plain": [
       "array([[ 6],\n",
       "       [12],\n",
       "       [ 4],\n",
       "       [ 1],\n",
       "       [ 8],\n",
       "       [ 2],\n",
       "       [ 1],\n",
       "       [ 2],\n",
       "       [ 3],\n",
       "       [ 0],\n",
       "       [ 3],\n",
       "       [12],\n",
       "       [ 1],\n",
       "       [ 7],\n",
       "       [14],\n",
       "       [ 7]])"
      ]
     },
     "execution_count": 27,
     "metadata": {},
     "output_type": "execute_result"
    }
   ],
   "source": [
    "array_min = np.min(array, axis=1).reshape(16,1)\n",
    "array_min"
   ]
  },
  {
   "cell_type": "code",
   "execution_count": 28,
   "id": "600ff797-08f9-48d3-a657-f03e1be3497a",
   "metadata": {},
   "outputs": [
    {
     "data": {
      "text/plain": [
       "array([[92],\n",
       "       [91],\n",
       "       [98],\n",
       "       [88],\n",
       "       [82],\n",
       "       [97],\n",
       "       [96],\n",
       "       [73],\n",
       "       [92],\n",
       "       [90],\n",
       "       [90],\n",
       "       [87],\n",
       "       [88],\n",
       "       [99],\n",
       "       [98],\n",
       "       [97]])"
      ]
     },
     "execution_count": 28,
     "metadata": {},
     "output_type": "execute_result"
    }
   ],
   "source": [
    "array_max = np.max(array, axis=1).reshape(16,1)\n",
    "array_max"
   ]
  },
  {
   "cell_type": "markdown",
   "id": "9986c32f-299d-4ce7-809e-db01ee851764",
   "metadata": {
    "tags": []
   },
   "source": [
    "## 03 - 1pt\n",
    "\n",
    "- Generar un dataframe de 3x4 dimensiones con valores númericos aleatorios [0,10]\n",
    "- Darle un índice semántico alfanumérico\n",
    "- Aplicarle una función lambda que obtenga la diferencia entre el máximo y mínimo de cada fila"
   ]
  },
  {
   "cell_type": "code",
   "execution_count": 29,
   "id": "18ff9dbf-9ba4-4513-8a73-d0328b689dc9",
   "metadata": {},
   "outputs": [
    {
     "data": {
      "text/html": [
       "<div>\n",
       "<style scoped>\n",
       "    .dataframe tbody tr th:only-of-type {\n",
       "        vertical-align: middle;\n",
       "    }\n",
       "\n",
       "    .dataframe tbody tr th {\n",
       "        vertical-align: top;\n",
       "    }\n",
       "\n",
       "    .dataframe thead th {\n",
       "        text-align: right;\n",
       "    }\n",
       "</style>\n",
       "<table border=\"1\" class=\"dataframe\">\n",
       "  <thead>\n",
       "    <tr style=\"text-align: right;\">\n",
       "      <th></th>\n",
       "      <th>0</th>\n",
       "      <th>1</th>\n",
       "      <th>2</th>\n",
       "      <th>3</th>\n",
       "    </tr>\n",
       "  </thead>\n",
       "  <tbody>\n",
       "    <tr>\n",
       "      <th>a</th>\n",
       "      <td>8</td>\n",
       "      <td>4</td>\n",
       "      <td>8</td>\n",
       "      <td>6</td>\n",
       "    </tr>\n",
       "    <tr>\n",
       "      <th>b</th>\n",
       "      <td>6</td>\n",
       "      <td>3</td>\n",
       "      <td>6</td>\n",
       "      <td>2</td>\n",
       "    </tr>\n",
       "    <tr>\n",
       "      <th>c</th>\n",
       "      <td>8</td>\n",
       "      <td>10</td>\n",
       "      <td>8</td>\n",
       "      <td>10</td>\n",
       "    </tr>\n",
       "  </tbody>\n",
       "</table>\n",
       "</div>"
      ],
      "text/plain": [
       "   0   1  2   3\n",
       "a  8   4  8   6\n",
       "b  6   3  6   2\n",
       "c  8  10  8  10"
      ]
     },
     "execution_count": 29,
     "metadata": {},
     "output_type": "execute_result"
    }
   ],
   "source": [
    "# Your solution HERE !!!!\n",
    "input_array = np.random.randint(0,11, (3,4))\n",
    "df = pd.DataFrame(input_array, index=['a', 'b', 'c'])\n",
    "df"
   ]
  },
  {
   "cell_type": "code",
   "execution_count": 36,
   "id": "c5e1a42e-1b76-4e21-bd60-bf5d7ba164f5",
   "metadata": {},
   "outputs": [
    {
     "data": {
      "text/plain": [
       "8"
      ]
     },
     "execution_count": 36,
     "metadata": {},
     "output_type": "execute_result"
    }
   ],
   "source": [
    "np.max(df.iloc[0])"
   ]
  },
  {
   "cell_type": "code",
   "execution_count": 37,
   "id": "3454162f-bee8-469c-bdd5-90821eb11a56",
   "metadata": {},
   "outputs": [
    {
     "data": {
      "text/plain": [
       "a    4\n",
       "b    4\n",
       "c    2\n",
       "dtype: int32"
      ]
     },
     "execution_count": 37,
     "metadata": {},
     "output_type": "execute_result"
    }
   ],
   "source": [
    "df.apply(lambda row: np.max(row) - np.min(row), axis=1)"
   ]
  },
  {
   "cell_type": "markdown",
   "id": "1dc73e21-7283-4cd5-92e8-3a7e1e70fd02",
   "metadata": {
    "tags": []
   },
   "source": [
    "## 04 - 1pt\n",
    "- Crear un array de NumPy de dimensiones 8x5, con números enteros aleatorios en el rango [-100, 100]\n",
    "- Ejecutar en este orden\n",
    "  - Reemplazar valores  \n",
    "    - Reemplazar los valores de todos aquellos números múltiplos de 5 por 100\n",
    "    - Reemplazar los valores de todos aquellos números múltiplos de 3 por Nan\n",
    "   \n",
    "  - Averiguar cuantos elementos tienen Nan por fila\n",
    "  - Reemplazar los valores de Nan por 0"
   ]
  },
  {
   "cell_type": "code",
   "execution_count": 41,
   "id": "2fd83be4-8626-4eaa-9ead-6f951d5ebbfb",
   "metadata": {},
   "outputs": [
    {
     "data": {
      "text/plain": [
       "array([[ 19, -36,  60, -11,  -8],\n",
       "       [ 58, -95,  22, -91, -73],\n",
       "       [-14,  91,  20,  80, -42],\n",
       "       [ 30,  81,  -9, -30,  26],\n",
       "       [-64,  25,  14, -44,  79],\n",
       "       [ 72, -56, -27, -88, -20],\n",
       "       [-79, -79,  -5,  83,  15],\n",
       "       [ 14, -65,   7, -22,  64]])"
      ]
     },
     "execution_count": 41,
     "metadata": {},
     "output_type": "execute_result"
    }
   ],
   "source": [
    "# Your solution HERE !!!!\n",
    "input_array = np.random.randint(-100, 101, (8,5))\n",
    "input_array"
   ]
  },
  {
   "cell_type": "code",
   "execution_count": 44,
   "id": "06ae9c1a-f7cb-40b3-9890-39eb2c235054",
   "metadata": {},
   "outputs": [
    {
     "data": {
      "text/plain": [
       "array([[ 19, -36, 100, -11,  -8],\n",
       "       [ 58, 100,  22, -91, -73],\n",
       "       [-14,  91, 100, 100, -42],\n",
       "       [100,  81,  -9, 100,  26],\n",
       "       [-64, 100,  14, -44,  79],\n",
       "       [ 72, -56, -27, -88, 100],\n",
       "       [-79, -79, 100,  83, 100],\n",
       "       [ 14, 100,   7, -22,  64]])"
      ]
     },
     "execution_count": 44,
     "metadata": {},
     "output_type": "execute_result"
    }
   ],
   "source": [
    "np.where(input_array % 5 == 0, 100, input_array)"
   ]
  },
  {
   "cell_type": "code",
   "execution_count": 55,
   "id": "42d11f2c-6fae-4681-9052-b67168c7c1ab",
   "metadata": {},
   "outputs": [
    {
     "data": {
      "text/plain": [
       "array([[ 19.,  nan,  nan, -11.,  -8.],\n",
       "       [ 58., -95.,  22., -91., -73.],\n",
       "       [-14.,  91.,  20.,  80.,  nan],\n",
       "       [ nan,  nan,  nan,  nan,  26.],\n",
       "       [-64.,  25.,  14., -44.,  79.],\n",
       "       [ nan, -56.,  nan, -88., -20.],\n",
       "       [-79., -79.,  -5.,  83.,  nan],\n",
       "       [ 14., -65.,   7., -22.,  64.]])"
      ]
     },
     "execution_count": 55,
     "metadata": {},
     "output_type": "execute_result"
    }
   ],
   "source": [
    "nans = np.where(input_array % 3 == 0, np.nan, input_array)\n",
    "nans"
   ]
  },
  {
   "cell_type": "code",
   "execution_count": 58,
   "id": "f1e76212-2986-4bb7-ba65-d43a958ed84a",
   "metadata": {},
   "outputs": [
    {
     "data": {
      "text/plain": [
       "array([[2],\n",
       "       [0],\n",
       "       [1],\n",
       "       [4],\n",
       "       [0],\n",
       "       [2],\n",
       "       [1],\n",
       "       [0]], dtype=int64)"
      ]
     },
     "execution_count": 58,
     "metadata": {},
     "output_type": "execute_result"
    }
   ],
   "source": [
    "np.count_nonzero(np.isnan(nans), axis=1).reshape(8,1)"
   ]
  },
  {
   "cell_type": "code",
   "execution_count": 59,
   "id": "126bf15a-bb97-482c-80a9-eb62f4043ef4",
   "metadata": {},
   "outputs": [
    {
     "data": {
      "text/plain": [
       "array([[ 19.,   0.,   0., -11.,  -8.],\n",
       "       [ 58., -95.,  22., -91., -73.],\n",
       "       [-14.,  91.,  20.,  80.,   0.],\n",
       "       [  0.,   0.,   0.,   0.,  26.],\n",
       "       [-64.,  25.,  14., -44.,  79.],\n",
       "       [  0., -56.,   0., -88., -20.],\n",
       "       [-79., -79.,  -5.,  83.,   0.],\n",
       "       [ 14., -65.,   7., -22.,  64.]])"
      ]
     },
     "execution_count": 59,
     "metadata": {},
     "output_type": "execute_result"
    }
   ],
   "source": [
    "np.where(np.isnan(nans), 0, nans)"
   ]
  },
  {
   "cell_type": "markdown",
   "id": "45fe9b96-168d-4bdc-a472-fb41c9031c0d",
   "metadata": {
    "tags": []
   },
   "source": [
    "## 05 - 1pt\n",
    "- Crear una función que reciba una lista de strings y devuelva una serie de pandas, y convierta el primer y último carácter de la palabra de cada elemento de la serie a mayúsculas"
   ]
  },
  {
   "cell_type": "code",
   "execution_count": 86,
   "id": "19fab47f-5fbe-4baa-93af-fc6776d748d1",
   "metadata": {},
   "outputs": [
    {
     "name": "stdout",
     "output_type": "stream",
     "text": [
      "0        PythoN\n",
      "1           PhP\n",
      "2          JavA\n",
      "3    JavascripT\n",
      "4           C++\n",
      "5           SqL\n",
      "dtype: object\n"
     ]
    }
   ],
   "source": [
    "languages = ['python', 'php', 'java', 'javascript', 'c++', 'sql']\n",
    "expected_output = pd.Series(['PythoN', 'PhP', 'JavA', 'JavascripT', 'C++', 'SqL'])\n",
    "output = first_last_uppercase(languages)  # This calls your function first_last_uppercase\n",
    "assert(expected_output.equals(output))  # This will fail if the two lists are different"
   ]
  },
  {
   "cell_type": "code",
   "execution_count": 84,
   "id": "b6b5696b-71fd-4dc4-8536-18eb2d69a8fa",
   "metadata": {},
   "outputs": [],
   "source": [
    "# Your solution HERE !!!!\n",
    "def first_last_uppercase(input_list: List[str]) -> pd.Series:\n",
    "    input_series = pd.Series(input_list)\n",
    "    input_series= input_series.apply(lambda x: x[0].upper()+x[1:-1]+x[-1].upper())\n",
    "    print(input_series)\n",
    "    return input_series\n",
    "    "
   ]
  },
  {
   "cell_type": "markdown",
   "id": "2b191602-365c-42d3-81af-f877089f0f20",
   "metadata": {
    "tags": []
   },
   "source": [
    "## 06 - 3 pt\n",
    "- Se tienen cuatro datasets, se adjuntan sus datos como diccionarios\n",
    "  - Orders, representa un conjunto de pedidos, con sus fechas, su cantidad, y el cliente y vendedor asociados al mismo\n",
    "  - Customers, conjunto de clientes, con su nombre y su ciudad\n",
    "  - Salesman, conjunto de vendedores, con su nombre, ciudad y porcentaje de comisión por venta\n",
    "  - Cities, conjunto de ciudades con sus nombres\n",
    "- Obtener la siguiente información usando Pandas\n",
    "  - El nombre del vendedor con la mejor venta, y a que cliente ha sido\n",
    "  - Dinero de la comisión otorgada para cada pedido, ordenado por fechas\n",
    "  - Media del dinero de los pedidos de los clientes de Tokyo\n",
    "  - Total del dinero de las comisiones del vendedor Ikuzu Midoriya en el mes de Agosto\n",
    "- Representar graficamente\n",
    "  - Media del total de cada pedido para cada cliente agrupado por ciudad\n",
    "  - Línea temporal del total de los pedidos"
   ]
  },
  {
   "cell_type": "code",
   "execution_count": null,
   "id": "e14a9877-d29f-49e9-ab82-a8c89dc59081",
   "metadata": {},
   "outputs": [],
   "source": [
    "orders = {'OrderId': [1,2,3,4,5,6], 'OrderDate': ['2021-07-23', '2021-08-06', '2021-07-28', '2021-08-04', '2021-08-03', '2021-07-30'], 'Amount': [1500.5,2000.65,1550.2,1900.75,2205.4, 1208.22], 'CustomerId': [3,4,2,2,1,4], 'SalesmanId': [3,3,2,1,3,2]}\n",
    "customers = {'CustomerId': [1,2,3,4], 'Name': ['Brad Davis', 'Julian Green', 'Geoff Cameron', 'Fabian Johnson'], 'CityId': [2,1,2,3]}\n",
    "salesmans = {'SalesmanId': [1,2,3], 'Name': ['James Knite', 'Reinhardt Wilhelm', 'Ikuzu Midoriya'], 'CityId': [1,3,2], 'Comission': [0.15,0.11,0.09]}\n",
    "cities = {'CityId': [1,2,3], 'Name': ['New York', 'Tokyo', 'Berlin']}"
   ]
  },
  {
   "cell_type": "code",
   "execution_count": null,
   "id": "95b15246-4019-4073-ae6c-6c32321cb5dd",
   "metadata": {},
   "outputs": [],
   "source": [
    "# Your solution HERE !!!!"
   ]
  },
  {
   "cell_type": "markdown",
   "id": "8193738a-9028-4ec5-ba4e-bd9de74c9f1f",
   "metadata": {},
   "source": [
    "## 07 - 1pt\n",
    "- Escribir un generador `frange` que simule el comportamiento de la función `arange` de NumPy\n",
    "- Esta función cada vez que se invoque debe devolver valores espaciados uniformemente a partir de un valor inicial. Se debe proveer a dicha función un valor inicial para la secuencia de números y un valor para el step\n",
    "- Debe soportar valores númericos en coma flotante\n",
    "- La función potencialmente se puede llamar un número infinito de veces\n",
    "- Usando plain Python, sin ninguna librería"
   ]
  },
  {
   "cell_type": "code",
   "execution_count": null,
   "id": "bbe212e9-d422-408d-8037-ce6d0e416d25",
   "metadata": {},
   "outputs": [],
   "source": [
    "import math\n",
    "\n",
    "init = 10.6\n",
    "step = 0.8\n",
    "g = frange(init, step)  # This calls your function frange\n",
    "\n",
    "iters = 10\n",
    "numbers = [next(g) for n in range(iters)]\n",
    "for i, n in enumerate(numbers):\n",
    "    assert(math.isclose(n, init + (step * i)))  # This will fail if the range is not properly created"
   ]
  },
  {
   "cell_type": "code",
   "execution_count": null,
   "id": "8092c7c1-c1c8-4492-b08c-489f8767ed73",
   "metadata": {},
   "outputs": [],
   "source": [
    "# Your solution HERE !!!!"
   ]
  },
  {
   "cell_type": "markdown",
   "id": "202c6c38-649d-4991-b118-12e6364d8ab0",
   "metadata": {},
   "source": [
    "## 08 - 1pt\n",
    "- Crear una lista de meses de Enero a Diciembre (eje X)\n",
    "- Generar datos aleatorios para el eje Y, hacerlo 3 veces distintas (Y0, Y1 e Y2)\n",
    "- Representar las 3 secuencias de datos aleatorios en una sola figura usando matplotlib\n",
    "- Añadir una leyenda para poder identificar cada secuencia\n",
    "- Nombrar las 3 secuencias de la siguiente manera (\"Facebook\", \"Twitter\", \"Instagram\")\n",
    "- Añadir un título y nombres a los dos ejes\n",
    "- Añadir una anotación (texto y flecha) a uno de los gráficos"
   ]
  },
  {
   "cell_type": "code",
   "execution_count": null,
   "id": "b0dfefef-66a5-4804-af34-810fcaf25b5e",
   "metadata": {},
   "outputs": [],
   "source": [
    "# Your solution HERE !!!!"
   ]
  }
 ],
 "metadata": {
  "kernelspec": {
   "display_name": "python-ia-master",
   "language": "python",
   "name": "python-ia-master"
  },
  "language_info": {
   "codemirror_mode": {
    "name": "ipython",
    "version": 3
   },
   "file_extension": ".py",
   "mimetype": "text/x-python",
   "name": "python",
   "nbconvert_exporter": "python",
   "pygments_lexer": "ipython3",
   "version": "3.8.16"
  }
 },
 "nbformat": 4,
 "nbformat_minor": 5
}
