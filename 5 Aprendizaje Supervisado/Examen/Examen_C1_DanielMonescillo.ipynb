{
 "cells": [
  {
   "cell_type": "markdown",
   "metadata": {},
   "source": [
    "### EXAMEN - Convocatoria 1 - Programación\n",
    "Utilizar el conjunto de datos \"dataset_exam.npy\" para resolver el ejercicio. Tener en cuenta que la última columna corresponde a la clase."
   ]
  },
  {
   "cell_type": "markdown",
   "metadata": {},
   "source": [
    "#### 1) Partición de datos externa (1 punto)\n",
    "Realizar una partición externa de tipo hold-out seleccionando un 20% de los datos para test (fijar una semilla en 42).\n",
    "Comprobad si los datos, tanto de train como de test, están más o menos balanceados."
   ]
  },
  {
   "cell_type": "code",
   "execution_count": 113,
   "metadata": {},
   "outputs": [
    {
     "name": "stdout",
     "output_type": "stream",
     "text": [
      "(492, 9)\n"
     ]
    }
   ],
   "source": [
    "# Cargamos los datos \n",
    "import numpy as np\n",
    "data = np.load('dataset_exam.npy', allow_pickle=True)\n",
    "#print (data)  #verifico la carga de datos\n",
    "print(data.shape)"
   ]
  },
  {
   "cell_type": "markdown",
   "metadata": {},
   "source": [
    "## Librerias ##"
   ]
  },
  {
   "cell_type": "code",
   "execution_count": 74,
   "metadata": {},
   "outputs": [],
   "source": [
    "import matplotlib.pyplot as plt\n",
    "\n",
    "from sklearn.model_selection import train_test_split , GridSearchCV\n",
    "\n",
    "from sklearn.preprocessing import StandardScaler\n",
    "\n",
    "from sklearn.feature_selection import SelectPercentile , mutual_info_classif\n",
    "\n",
    "from sklearn import linear_model\n",
    "from sklearn import svm\n",
    "\n",
    "import sklearn.metrics as metrics\n",
    "from sklearn.metrics import make_scorer, r2_score\n",
    "from sklearn.metrics import accuracy_score, precision_score, recall_score, f1_score, roc_auc_score\n",
    "\n",
    "from termcolor import colored"
   ]
  },
  {
   "cell_type": "code",
   "execution_count": 63,
   "metadata": {},
   "outputs": [
    {
     "name": "stdout",
     "output_type": "stream",
     "text": [
      "(492, 8)\n",
      "(492,)\n"
     ]
    }
   ],
   "source": [
    "X_data = data[:,:-1]\n",
    "y_data=data[:,-1]\n",
    "\n",
    "print(X_data.shape)\n",
    "print(y_data.shape)"
   ]
  },
  {
   "cell_type": "code",
   "execution_count": 46,
   "metadata": {},
   "outputs": [
    {
     "name": "stdout",
     "output_type": "stream",
     "text": [
      "Tabla de datos: 492 instancias y 8 atributos\n",
      "Valores de la clase: {0.0, 1.0}\n"
     ]
    }
   ],
   "source": [
    "print(\"Tabla de datos: %d instancias y %d atributos\" % (X_data.shape[0], X_data.data.shape[1]))\n",
    "print(\"Valores de la clase:\", set(y_data))"
   ]
  },
  {
   "cell_type": "code",
   "execution_count": 47,
   "metadata": {},
   "outputs": [
    {
     "name": "stdout",
     "output_type": "stream",
     "text": [
      "Train:  clases: [0. 1.]  ocurrencias:  [196 197]\n",
      "Test:  clases: [0. 1.]  ocurrencias:  [50 49]\n"
     ]
    }
   ],
   "source": [
    "X_train, X_test , y_train, y_test = train_test_split(X_data, y_data ,test_size=0.2 , shuffle=True , random_state=42,\n",
    "                                                    stratify=y_data)\n",
    "valores_train, ocur_train= np.unique(y_train, return_counts=True)\n",
    "print('Train: ', 'clases:', valores_train, ' ocurrencias: ', ocur_train)\n",
    "valores_test, ocur_test = np.unique(y_test, return_counts=True)\n",
    "print('Test: ', 'clases:', valores_test, ' ocurrencias: ', ocur_test)"
   ]
  },
  {
   "cell_type": "markdown",
   "metadata": {},
   "source": [
    "#### 2) Estandarización de los datos de train y test (1 punto)\n",
    "Utilizar el método StandardScaler()."
   ]
  },
  {
   "cell_type": "code",
   "execution_count": 48,
   "metadata": {},
   "outputs": [
    {
     "name": "stdout",
     "output_type": "stream",
     "text": [
      "[ 1.88938282  1.69144037 -0.33210822  0.28091939 -0.00432552  0.243267\n",
      "  0.2649146   0.39157628]\n",
      "[-0.52927336 -0.45286952 -0.33210822 -0.46503547  0.84563918  0.46455466\n",
      " -0.34591037  0.4669487 ]\n"
     ]
    }
   ],
   "source": [
    "scaler = StandardScaler()\n",
    "\n",
    "X_train_S = scaler.fit_transform(X_train)\n",
    "X_test_S= scaler.transform(X_test)\n",
    "\n",
    "print(X_train_S[0])\n",
    "print(X_test_S[0])"
   ]
  },
  {
   "cell_type": "markdown",
   "metadata": {},
   "source": [
    "#### 3) Selección de atributos en train y test (1 punto)\n",
    "Aplicar el método de mutual information para clasificación seleccionando un percentile=90. (Recordad la función \"SelectPercentile\")"
   ]
  },
  {
   "cell_type": "code",
   "execution_count": 49,
   "metadata": {},
   "outputs": [
    {
     "name": "stdout",
     "output_type": "stream",
     "text": [
      "Tabla de datos: 393 instancias y 7 atributos\n"
     ]
    }
   ],
   "source": [
    "selector = SelectPercentile(mutual_info_classif, percentile = 90)\n",
    "selector.fit(X_train_S, y_train)\n",
    "\n",
    "X_train_select = selector.transform(X_train_S)\n",
    "X_test_select = selector.transform(X_test_S)\n",
    "\n",
    "print(\"Tabla de datos: %d instancias y %d atributos\" % (X_train_select.shape[0], X_train_select.shape[1]))\n"
   ]
  },
  {
   "cell_type": "markdown",
   "metadata": {},
   "source": [
    "### Un atributo se ha descartado"
   ]
  },
  {
   "cell_type": "markdown",
   "metadata": {},
   "source": [
    "#### 4) Comparación de modelos de clasificación mediante validación cruzada (3 puntos)\n",
    "Instrucciones:\n",
    "\n",
    "- Aplicar una validación cruzada interna de K=5 bolsas para optimizar y comparar la capacidad predictiva de los siguientes modelos: Regresión Logística y Support Vector Machine.\n",
    "- La optimización de hiperparámetros debe realizarse de manera automática. (Recordad la función \"GridSearchCV\").\n",
    "- La comparación debe realizarse únicamente en términos de exactitud proporcionando resultados de media +- desviación estándar."
   ]
  },
  {
   "cell_type": "code",
   "execution_count": 53,
   "metadata": {},
   "outputs": [],
   "source": [
    "parameters = {'SVC': {'probability': ([True]),\n",
    "                      'C': ([0.01,0.1,1, 10]),\n",
    "                     'kernel':(['linear','poly','rbf'])},\n",
    "              \n",
    "              'LOGR': {'solver':(['saga']),\n",
    "                       'penalty':([None, 'l1', 'l2']),\n",
    "                        'max_iter':(1000,2000),\n",
    "                        'multi_class':(['ovr'])}\n",
    "             }\n",
    "              \n",
    "                      \n",
    "algs = {'SVC': svm.SVC(random_state=42),\n",
    "        \n",
    "        'LOGR': linear_model.LogisticRegression(random_state=42),\n",
    "        }                      "
   ]
  },
  {
   "cell_type": "code",
   "execution_count": 131,
   "metadata": {},
   "outputs": [],
   "source": [
    "# Métricas de evaluación.\n",
    "metricas = {\n",
    "  'ACC':    metrics.accuracy_score,\n",
    "  'PREC':   lambda y_true, y_pred:\n",
    "            metrics.precision_score(y_true, y_pred, average='micro'),\n",
    "  'RECALL': lambda y_true, y_pred:\n",
    "            metrics.recall_score(y_true, y_pred, average='micro'),\n",
    "  'F1':     lambda y_true, y_pred:\n",
    "            metrics.f1_score(y_true, y_pred, average='micro'),\n",
    "}"
   ]
  },
  {
   "cell_type": "code",
   "execution_count": 133,
   "metadata": {},
   "outputs": [
    {
     "name": "stdout",
     "output_type": "stream",
     "text": [
      "\u001b[31mAlgorithm: SVC\u001b[0m\n",
      "Best parameters:  {'C': 10, 'kernel': 'rbf', 'probability': True}\n",
      "Accuracy: 0.7990 +/- 0.0312\n",
      "------------\n",
      "\u001b[31mAlgorithm: LOGR\u001b[0m\n",
      "Best parameters:  {'max_iter': 1000, 'multi_class': 'ovr', 'penalty': None, 'solver': 'saga'}\n",
      "Accuracy: 0.7175 +/- 0.0201\n",
      "------------\n"
     ]
    }
   ],
   "source": [
    "model = {}\n",
    "for name, _ in algs.items():\n",
    "    \n",
    "    print(colored('Algorithm: ' + name, 'red'))\n",
    "    \n",
    "    score = metrics.make_scorer(metrics.accuracy_score)\n",
    "    \n",
    "    model_cv = GridSearchCV(algs[name], parameters[name], scoring=score, cv=5,return_train_score=True) \n",
    "    model[name] = model_cv.fit(X_train_select, y_train)   \n",
    "    cv_res = model[name].cv_results_\n",
    "    print('Best parameters: ', model[name].best_params_) \n",
    "    best_iter = model[name].best_index_\n",
    "    print('Accuracy: %0.4f +/- %0.4f' % (cv_res['mean_test_score'][best_iter], cv_res['std_test_score'][best_iter]))\n",
    "    \n",
    "    print('------------')"
   ]
  },
  {
   "cell_type": "markdown",
   "metadata": {},
   "source": [
    "#### 5) Evaluación de los modelos sobre el conjunto de test (2.5 puntos)\n",
    "- Entrenar los modelos anteriores utilizando todos los datos de entrenamiento.\n",
    "- Evaluar su rendimiento sobre el conjunto de test mostrando una tabla de resultados tal que:\n",
    " * Las filas serán: Precisión, Sensibilidad, F-score, Exactitud y AUC\n",
    " * Las columnas serán: LOGR y SVM"
   ]
  },
  {
   "cell_type": "code",
   "execution_count": 134,
   "metadata": {},
   "outputs": [],
   "source": [
    "logr = LogisticRegression(max_iter=1000, multi_class= 'ovr', penalty= 'l1', solver= 'saga')\n",
    "logr.fit(X_train_select, y_train)\n",
    "\n",
    "svm = SVC(C=10, kernel=\"rbf\" , probability=True)\n",
    "svm.fit(X_train_select, y_train)\n",
    "\n",
    "y_pred_logr = logr.predict(X_test_select)\n",
    "y_pred_svm = svm.predict(X_test_select)"
   ]
  },
  {
   "cell_type": "code",
   "execution_count": 135,
   "metadata": {},
   "outputs": [],
   "source": [
    "def evaluacion(y_true, y_pred, metricas):\n",
    "    res = {}\n",
    "    for nombre, funcion in metricas.items():\n",
    "        res[nombre] = funcion(y_true, y_pred)\n",
    "    return res"
   ]
  },
  {
   "cell_type": "code",
   "execution_count": 136,
   "metadata": {},
   "outputs": [
    {
     "name": "stdout",
     "output_type": "stream",
     "text": [
      "\tLOGR\n",
      "('ACC', 0.6363636363636364)\n",
      "('PREC', 0.6363636363636364)\n",
      "('RECALL', 0.6363636363636364)\n",
      "('F1', 0.6363636363636364)\n",
      "\tSVM\n",
      "('ACC', 0.8383838383838383)\n",
      "('PREC', 0.8383838383838383)\n",
      "('RECALL', 0.8383838383838383)\n",
      "('F1', 0.8383838383838383)\n"
     ]
    }
   ],
   "source": [
    "results_logr = evaluacion(y_test, y_pred_logr, metricas)\n",
    "#print(results)\n",
    "#print(metrics.confusion_matrix(y_test, y_pred_logr))\n",
    "\n",
    "results_svm = evaluacion(y_test, y_pred_svm, metricas)\n",
    "#print(results)\n",
    "#print(metrics.confusion_matrix(y_test, y_pred_svm))\n",
    "\n",
    "print(\"\\tLOGR\")\n",
    "\n",
    "for i in results_logr.items():\n",
    "    print(i )\n",
    "    \n",
    "print(\"\\tSVM\")\n",
    "\n",
    "for i in results_svm.items():\n",
    "    print(i)\n"
   ]
  },
  {
   "cell_type": "markdown",
   "metadata": {},
   "source": [
    "#### 6) Visualización de resultados (1 punto)\n",
    "- Mostrar la matriz de confusión\n",
    "- Mostrar en una única figura la comparación de las curvas ROC obtenidas por cada modelo. (Recordad que SVM requiere un parámetro específico en su llamada para poder calcular la curva ROC). "
   ]
  },
  {
   "cell_type": "code",
   "execution_count": 137,
   "metadata": {},
   "outputs": [
    {
     "name": "stdout",
     "output_type": "stream",
     "text": [
      "Logr :\n",
      "  [[35 15]\n",
      " [21 28]]\n",
      "SVM :\n",
      " [[47  3]\n",
      " [13 36]]\n"
     ]
    }
   ],
   "source": [
    "print('Logr :\\n ',metrics.confusion_matrix(y_test, y_pred_logr))\n",
    "print('SVM :\\n', metrics.confusion_matrix(y_test, y_pred_svm))\n"
   ]
  },
  {
   "cell_type": "code",
   "execution_count": 138,
   "metadata": {},
   "outputs": [
    {
     "data": {
      "image/png": "[encoded data removed]",
      "text/plain": [
       "<Figure size 640x480 with 1 Axes>"
      ]
     },
     "metadata": {},
     "output_type": "display_data"
    }
   ],
   "source": [
    "from sklearn.metrics import roc_curve\n",
    "\n",
    "fpr_logr, tpr_logr, _ = roc_curve(y_test, logr.predict_proba(X_test_select)[:, 1])\n",
    "fpr_svm, tpr_svm, _ = roc_curve(y_test, svm.decision_function(X_test_select))\n",
    "\n",
    "plt.plot(fpr_logreg, tpr_logreg, label=\"Regresión Logística\")\n",
    "plt.plot(fpr_svm, tpr_svm, label=\"SVM\")\n",
    "plt.plot([0, 1], [0, 1], linestyle=\"--\", label=\"Clasificación aleatoria\")\n",
    "plt.xlabel(\"Tasa de falsos positivos\")\n",
    "plt.ylabel(\"Tasa de verdaderos positivos\")\n",
    "plt.title(\"Curva ROC de Regresión Logística vs SVM\")\n",
    "plt.legend()\n",
    "plt.show()"
   ]
  },
  {
   "cell_type": "markdown",
   "metadata": {},
   "source": [
    "#### 7) Interpretación de resultados (0.5 puntos)\n",
    "* Justifica brevemente cuál de los dos modelos utilizarías para ponerlo en producción"
   ]
  },
  {
   "cell_type": "markdown",
   "metadata": {},
   "source": [
    "## SVC se comporta mejor tanto en train como en test en las diferentes metricas frente al otro algorimo por lo que seria ese el que pondria en produccion"
   ]
  },
  {
   "cell_type": "code",
   "execution_count": null,
   "metadata": {},
   "outputs": [],
   "source": []
  }
 ],
 "metadata": {
  "kernelspec": {
   "display_name": "Python 3 (ipykernel)",
   "language": "python",
   "name": "python3"
  },
  "language_info": {
   "codemirror_mode": {
    "name": "ipython",
    "version": 3
   },
   "file_extension": ".py",
   "mimetype": "text/x-python",
   "name": "python",
   "nbconvert_exporter": "python",
   "pygments_lexer": "ipython3",
   "version": "3.10.9"
  }
 },
 "nbformat": 4,
 "nbformat_minor": 4
}
