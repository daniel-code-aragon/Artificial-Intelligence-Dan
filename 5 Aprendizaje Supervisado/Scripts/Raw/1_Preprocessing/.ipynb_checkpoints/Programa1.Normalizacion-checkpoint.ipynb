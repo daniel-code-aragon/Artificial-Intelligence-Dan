{
 "cells": [
  {
   "cell_type": "code",
   "execution_count": 1,
   "metadata": {},
   "outputs": [],
   "source": [
    "from sklearn import preprocessing\n",
    "import numpy as np"
   ]
  },
  {
   "cell_type": "code",
   "execution_count": 2,
   "metadata": {},
   "outputs": [
    {
     "name": "stdout",
     "output_type": "stream",
     "text": [
      "[[ 1. -4.  5.]\n",
      " [ 5.  0.  2.]\n",
      " [ 0.  6. -3.]]\n"
     ]
    }
   ],
   "source": [
    "# Carga de datos.\n",
    "X_train = np.array([[ 1., -4.,  5.],\n",
    "                    [ 5.,  0.,  2.],\n",
    "                    [ 0.,  6., -3.]])\n",
    "\n",
    "print(X_train)"
   ]
  },
  {
   "cell_type": "code",
   "execution_count": 3,
   "metadata": {},
   "outputs": [],
   "source": [
    "# Limpieza de datos: normalización.\n",
    "normalizer = preprocessing.MinMaxScaler()\n",
    "X_train_norm = normalizer.fit_transform(X_train)"
   ]
  },
  {
   "cell_type": "code",
   "execution_count": 4,
   "metadata": {},
   "outputs": [
    {
     "name": "stdout",
     "output_type": "stream",
     "text": [
      "[[0.2   0.    1.   ]\n",
      " [1.    0.4   0.625]\n",
      " [0.    1.    0.   ]]\n"
     ]
    }
   ],
   "source": [
    "# Salida de resultados.\n",
    "print(X_train_norm)"
   ]
  },
  {
   "cell_type": "code",
   "execution_count": 5,
   "metadata": {},
   "outputs": [
    {
     "name": "stdout",
     "output_type": "stream",
     "text": [
      "True\n"
     ]
    }
   ],
   "source": [
    "# Ejemplo para ver que los resultados son iguales si aplicamos los métodos \"fit\" y \"transform\" por separado\n",
    "X_train_2 = np.copy(X_train)\n",
    "\n",
    "# Crea un objeto \"fitted_normalizer\" llamando al método \"fit\"\n",
    "f = normalizer.fit(X_train)\n",
    "\n",
    "# Aplica el objeto sobre los datos \"X_train_2\" para obtener \"X_train_norm_2\"\n",
    "X_train_norm_2 = f.transform(X_train)\n",
    "\n",
    "# Comprueba si \"X_train_norm\" y \"X_train_norm_2\" son iguales\n",
    "print(np.array_equiv(X_train_norm, X_train_norm_2))"
   ]
  },
  {
   "cell_type": "code",
   "execution_count": 6,
   "metadata": {},
   "outputs": [],
   "source": [
    "# Normalizar un nuevo conjunto de datos de test (SOLO HAY QUE APLICAR EL MÉTODO \"transform\", NO EL \"fit\")\n",
    "X_test = np.array([[ 1., -3.,  2.],\n",
    "                    [ 3.,  0.,  0.],\n",
    "                    [ 0.,  4., -1.]])\n",
    "\n",
    "# Normalizar los datos de \"X_test\"\n",
    "# ???"
   ]
  },
  {
   "cell_type": "code",
   "execution_count": 7,
   "metadata": {},
   "outputs": [
    {
     "name": "stdout",
     "output_type": "stream",
     "text": [
      "[[0.2   0.1   0.625]\n",
      " [0.6   0.4   0.375]\n",
      " [0.    0.8   0.25 ]]\n"
     ]
    }
   ],
   "source": [
    "X_test_norm = f.transform(X_test)  #Utilizo el objeto f que ya ha sido utilizado previamente\n",
    "\n",
    "print(X_test_norm)"
   ]
  },
  {
   "cell_type": "code",
   "execution_count": null,
   "metadata": {},
   "outputs": [],
   "source": []
  }
 ],
 "metadata": {
  "kernelspec": {
   "display_name": "Python 3 (ipykernel)",
   "language": "python",
   "name": "python3"
  },
  "language_info": {
   "codemirror_mode": {
    "name": "ipython",
    "version": 3
   },
   "file_extension": ".py",
   "mimetype": "text/x-python",
   "name": "python",
   "nbconvert_exporter": "python",
   "pygments_lexer": "ipython3",
   "version": "3.10.9"
  }
 },
 "nbformat": 4,
 "nbformat_minor": 4
}
