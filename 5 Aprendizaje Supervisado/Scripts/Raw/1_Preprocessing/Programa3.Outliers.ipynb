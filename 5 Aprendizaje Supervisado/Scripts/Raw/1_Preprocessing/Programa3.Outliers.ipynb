{
 "cells": [
  {
   "cell_type": "markdown",
   "metadata": {},
   "source": [
    "## DETECCIÓN DE OUTLIERS"
   ]
  },
  {
   "cell_type": "code",
   "execution_count": 2,
   "metadata": {},
   "outputs": [],
   "source": [
    "import pandas as pd\n",
    "import numpy as np\n",
    "from scipy import stats\n",
    "from sklearn.covariance import EllipticEnvelope\n",
    "import matplotlib.pyplot as plt"
   ]
  },
  {
   "cell_type": "code",
   "execution_count": 6,
   "metadata": {},
   "outputs": [
    {
     "data": {
      "text/html": [
       "<div>\n",
       "<style scoped>\n",
       "    .dataframe tbody tr th:only-of-type {\n",
       "        vertical-align: middle;\n",
       "    }\n",
       "\n",
       "    .dataframe tbody tr th {\n",
       "        vertical-align: top;\n",
       "    }\n",
       "\n",
       "    .dataframe thead th {\n",
       "        text-align: right;\n",
       "    }\n",
       "</style>\n",
       "<table border=\"1\" class=\"dataframe\">\n",
       "  <thead>\n",
       "    <tr style=\"text-align: right;\">\n",
       "      <th></th>\n",
       "      <th>a</th>\n",
       "      <th>b</th>\n",
       "    </tr>\n",
       "  </thead>\n",
       "  <tbody>\n",
       "    <tr>\n",
       "      <th>0</th>\n",
       "      <td>0.149014</td>\n",
       "      <td>-0.041479</td>\n",
       "    </tr>\n",
       "    <tr>\n",
       "      <th>1</th>\n",
       "      <td>0.194307</td>\n",
       "      <td>0.456909</td>\n",
       "    </tr>\n",
       "    <tr>\n",
       "      <th>2</th>\n",
       "      <td>-0.070246</td>\n",
       "      <td>-0.070241</td>\n",
       "    </tr>\n",
       "    <tr>\n",
       "      <th>3</th>\n",
       "      <td>0.473764</td>\n",
       "      <td>0.230230</td>\n",
       "    </tr>\n",
       "    <tr>\n",
       "      <th>4</th>\n",
       "      <td>-0.140842</td>\n",
       "      <td>0.162768</td>\n",
       "    </tr>\n",
       "    <tr>\n",
       "      <th>...</th>\n",
       "      <td>...</td>\n",
       "      <td>...</td>\n",
       "    </tr>\n",
       "    <tr>\n",
       "      <th>195</th>\n",
       "      <td>-5.114441</td>\n",
       "      <td>0.646251</td>\n",
       "    </tr>\n",
       "    <tr>\n",
       "      <th>196</th>\n",
       "      <td>5.631630</td>\n",
       "      <td>0.277174</td>\n",
       "    </tr>\n",
       "    <tr>\n",
       "      <th>197</th>\n",
       "      <td>1.552784</td>\n",
       "      <td>2.348984</td>\n",
       "    </tr>\n",
       "    <tr>\n",
       "      <th>198</th>\n",
       "      <td>-0.545507</td>\n",
       "      <td>1.530697</td>\n",
       "    </tr>\n",
       "    <tr>\n",
       "      <th>199</th>\n",
       "      <td>1.011772</td>\n",
       "      <td>4.813896</td>\n",
       "    </tr>\n",
       "  </tbody>\n",
       "</table>\n",
       "<p>200 rows × 2 columns</p>\n",
       "</div>"
      ],
      "text/plain": [
       "            a         b\n",
       "0    0.149014 -0.041479\n",
       "1    0.194307  0.456909\n",
       "2   -0.070246 -0.070241\n",
       "3    0.473764  0.230230\n",
       "4   -0.140842  0.162768\n",
       "..        ...       ...\n",
       "195 -5.114441  0.646251\n",
       "196  5.631630  0.277174\n",
       "197  1.552784  2.348984\n",
       "198 -0.545507  1.530697\n",
       "199  1.011772  4.813896\n",
       "\n",
       "[200 rows x 2 columns]"
      ]
     },
     "execution_count": 6,
     "metadata": {},
     "output_type": "execute_result"
    }
   ],
   "source": [
    "# Carga de datos.\n",
    "file_path = 'C:/Users/msi15/Documents/GitHub/Artificial-Intelligence-Dan/5 Aprendizaje Supervisado/Datasets/outliers.csv'\n",
    "df = pd.read_csv(file_path)\n",
    "df"
   ]
  },
  {
   "cell_type": "markdown",
   "metadata": {},
   "source": [
    "### 1) EllipticEnvelope()"
   ]
  },
  {
   "cell_type": "code",
   "execution_count": 27,
   "metadata": {},
   "outputs": [
    {
     "name": "stdout",
     "output_type": "stream",
     "text": [
      "[ 1  1  1  1  1  1  1  1  1  1  1  1  1  1  1  1  1  1  1  1  1  1  1  1\n",
      "  1  1  1  1  1  1  1  1  1  1  1  1  1  1  1  1  1  1  1  1  1  1  1  1\n",
      "  1  1  1  1  1  1  1  1  1  1  1  1  1  1  1  1  1  1  1  1  1  1  1  1\n",
      "  1  1  1  1  1  1  1  1  1  1  1  1  1  1  1  1  1  1  1  1  1  1  1  1\n",
      "  1  1  1  1  1  1  1  1  1  1  1  1  1  1  1  1  1  1  1  1  1  1  1  1\n",
      "  1  1  1  1  1  1  1  1  1  1  1  1  1  1  1  1  1  1  1  1  1  1  1  1\n",
      "  1  1  1  1  1  1 -1 -1 -1 -1 -1 -1 -1 -1 -1 -1 -1 -1 -1 -1 -1 -1 -1 -1\n",
      " -1 -1 -1 -1 -1 -1 -1 -1 -1 -1 -1 -1 -1 -1 -1 -1 -1 -1 -1 -1 -1 -1 -1 -1\n",
      " -1 -1 -1 -1 -1 -1 -1 -1]\n",
      "\n",
      "Outliers en la posición: \n",
      " [150 151 152 153 154 155 156 157 158 159 160 161 162 163 164 165 166 167\n",
      " 168 169 170 171 172 173 174 175 176 177 178 179 180 181 182 183 184 185\n",
      " 186 187 188 189 190 191 192 193 194 195 196 197 198 199]\n",
      "\n",
      "Número de outliers: \n",
      " 50\n"
     ]
    }
   ],
   "source": [
    "# Entrenamos un objeto de tipo EllipticEnvelope\n",
    "\n",
    "algorithm = EllipticEnvelope(support_fraction = None, contamination=0.25, random_state=42)\n",
    "outlier_method = algorithm.fit(df)\n",
    "\n",
    "# Aplicamos el método de detección de outliers entrenado sobre nuesto dataset\n",
    "df_outliers = outlier_method.predict(df)\n",
    "print(df_outliers)\n",
    "\n",
    "\n",
    "# Determinar la posición de los outliers\n",
    "pos_outliers = np.where(df_outliers==-1)[0]\n",
    "print('\\nOutliers en la posición: \\n', pos_outliers)\n",
    "\n",
    "# Determinar el número de outliers\n",
    "print('\\nNúmero de outliers: \\n', len(pos_outliers))"
   ]
  },
  {
   "cell_type": "code",
   "execution_count": 20,
   "metadata": {},
   "outputs": [],
   "source": [
    "# Definimos una función que, dado un determinado \"df\" y un \"algorithm\", devuelva la matriz y la posición de outliers\n",
    "def find_outliers(df, algorithm):\n",
    "    \n",
    "    outlier_method = algorithm.fit(df)\n",
    "    \n",
    "    df_outliers = outlier_method.predict(df)\n",
    "    print(df_outliers)\n",
    "    \n",
    "    pos_outliers = np.where(df_outliers==-1)[0]\n",
    "    print('\\nOutliers en la posición: \\n', pos_outliers)\n",
    "    \n",
    "    print('\\nNúmero de outliers: \\n', len(pos_outliers))\n",
    "\n",
    "\n",
    "    return df_outliers, pos_outliers\n",
    "\n",
    "#find_outliers(df, algorithm)"
   ]
  },
  {
   "cell_type": "markdown",
   "metadata": {},
   "source": [
    "### 2) Otros métodos similares"
   ]
  },
  {
   "cell_type": "code",
   "execution_count": 47,
   "metadata": {},
   "outputs": [
    {
     "name": "stdout",
     "output_type": "stream",
     "text": [
      "[ 1  1  1  1  1  1  1  1  1  1  1  1  1  1  1  1  1  1  1  1  1  1  1  1\n",
      "  1  1  1  1  1  1  1  1  1  1  1  1  1  1  1  1  1  1  1  1  1  1  1  1\n",
      "  1  1  1  1  1  1  1  1  1  1  1  1  1  1  1  1  1  1  1  1  1  1  1  1\n",
      "  1  1  1  1  1  1  1  1  1  1  1  1  1  1  1  1  1  1  1  1  1  1  1  1\n",
      "  1  1  1  1  1  1  1  1  1  1  1  1  1  1  1  1  1  1  1  1  1  1  1  1\n",
      "  1  1  1  1  1  1  1  1  1  1  1  1  1  1  1  1  1  1  1  1  1  1  1  1\n",
      "  1  1  1  1  1  1 -1 -1 -1 -1 -1 -1 -1 -1 -1 -1 -1 -1 -1 -1 -1 -1 -1 -1\n",
      " -1 -1 -1 -1 -1 -1 -1 -1 -1 -1 -1 -1 -1 -1 -1 -1 -1 -1 -1 -1 -1 -1 -1  1\n",
      " -1 -1 -1 -1 -1 -1 -1 -1]\n",
      "\n",
      "Outliers en la posición: \n",
      " [150 151 152 153 154 155 156 157 158 159 160 161 162 163 164 165 166 167\n",
      " 168 169 170 171 172 173 174 175 176 177 178 179 180 181 182 183 184 185\n",
      " 186 187 188 189 190 192 193 194 195 196 197 198 199]\n",
      "\n",
      "Número de outliers: \n",
      " 49\n",
      "49\n"
     ]
    },
    {
     "name": "stderr",
     "output_type": "stream",
     "text": [
      "C:\\Users\\msi15\\anaconda3\\lib\\site-packages\\sklearn\\base.py:420: UserWarning: X does not have valid feature names, but LocalOutlierFactor was fitted with feature names\n",
      "  warnings.warn(\n"
     ]
    }
   ],
   "source": [
    "from sklearn.ensemble import IsolationForest\n",
    "from sklearn.svm import OneClassSVM\n",
    "from sklearn.neighbors import LocalOutlierFactor\n",
    "\n",
    "Iso_Forest = IsolationForest(n_estimators=250, contamination=0.25, random_state=42) #Estimators entre 50 y 100 contamination valor esperado de outliers\n",
    "\n",
    "OC_SVM =  OneClassSVM(nu=0.25, kernel='rbf', gamma='auto')         # nu= contamination ; kernel revisar (varia mucho)\n",
    "\n",
    "Local_Out_Factor = LocalOutlierFactor(n_neighbors=30, algorithm='auto', metric='euclidean',  contamination=0.25 , novelty=True) #neighbors[10,30]\n",
    "\n",
    "\n",
    "df_outliers, pos_outliers = find_outliers(df, Local_Out_Factor)\n",
    "print(len(pos_outliers))"
   ]
  },
  {
   "cell_type": "code",
   "execution_count": 48,
   "metadata": {},
   "outputs": [
    {
     "name": "stdout",
     "output_type": "stream",
     "text": [
      "            a         b\n",
      "0    0.149014 -0.041479\n",
      "1    0.194307  0.456909\n",
      "2   -0.070246 -0.070241\n",
      "3    0.473764  0.230230\n",
      "4   -0.140842  0.162768\n",
      "..        ...       ...\n",
      "146 -0.176809  0.254881\n",
      "147  0.107105 -0.207873\n",
      "148  0.269880  0.092190\n",
      "149  0.243859  0.188889\n",
      "191 -3.316850  5.558670\n",
      "\n",
      "[151 rows x 2 columns]\n"
     ]
    }
   ],
   "source": [
    "# Eliminamos los outliers\n",
    "new_df = df[df_outliers==1]\n",
    "print(new_df)"
   ]
  },
  {
   "cell_type": "markdown",
   "metadata": {},
   "source": [
    "### 3) Box plot"
   ]
  },
  {
   "cell_type": "code",
   "execution_count": 51,
   "metadata": {},
   "outputs": [
    {
     "name": "stdout",
     "output_type": "stream",
     "text": [
      "limite inferior:  -1.0853060827395105\n",
      "limite superior:  1.0119554520872196\n",
      "Posición de outliers:  [150 153 154 157 159 160 162 165 168 169 171 172 174 175 177 178 181 184\n",
      " 185 186 187 190 191 192 193 195 151 152 155 156 161 163 164 166 167 173\n",
      " 176 179 180 182 188 189 196 197]\n",
      "Número de outliers:  44\n"
     ]
    },
    {
     "data": {
      "image/png": "[encoded data removed]",
      "text/plain": [
       "<Figure size 640x480 with 1 Axes>"
      ]
     },
     "metadata": {},
     "output_type": "display_data"
    }
   ],
   "source": [
    "# Seleccionamos el atributo que vamos a medir\n",
    "a = df['a']\n",
    "\n",
    "# Seleccionamos los umbrales a partir de los cuales vamos a considerar outliers\n",
    "Q1 = stats.scoreatpercentile(a, 25)\n",
    "Q3 = stats.scoreatpercentile(a, 75)\n",
    "RIC = Q3 - Q1\n",
    "li = Q1 - 1.5*RIC #xmin\n",
    "ls = Q3 + 1.5*RIC #xmax\n",
    "\n",
    "# Observamos los límites inferior y superior\n",
    "print('limite inferior: ', li)\n",
    "print('limite superior: ', ls)\n",
    "\n",
    "# Buscamos la posición de los outliers\n",
    "pos_i = np.where(a<li)[0]\n",
    "pos_s = np.where(a>ls)[0]\n",
    "pos_outliers = np.concatenate((pos_i, pos_s))\n",
    "print('Posición de outliers: ', pos_outliers)\n",
    "print('Número de outliers: ', len(pos_outliers))\n",
    "\n",
    "# Dibujamos el diagrama de caja y bigotes\n",
    "prop = plt.boxplot(a)\n",
    "plt.boxplot(a, notch=True , showmeans=True , )\n",
    "plt.show()"
   ]
  },
  {
   "cell_type": "code",
   "execution_count": 54,
   "metadata": {},
   "outputs": [
    {
     "name": "stdout",
     "output_type": "stream",
     "text": [
      "limite inferior:  -0.9868496601410702\n",
      "limite superior:  1.0772774705919084\n",
      "Posición de outliers:  [150 152 160 161 165 171 173 176 178 181 186 189 104 151 153 154 156 157\n",
      " 158 159 162 166 167 170 172 174 175 177 179 180 183 187 190 191 192 193\n",
      " 194 197 198 199]\n",
      "Número de outliers:  40\n"
     ]
    },
    {
     "data": {
      "text/plain": [
       "array([150, 152, 160, 161, 165, 171, 173, 176, 178, 181, 186, 189, 104,\n",
       "       151, 153, 154, 156, 157, 158, 159, 162, 166, 167, 170, 172, 174,\n",
       "       175, 177, 179, 180, 183, 187, 190, 191, 192, 193, 194, 197, 198,\n",
       "       199], dtype=int64)"
      ]
     },
     "execution_count": 54,
     "metadata": {},
     "output_type": "execute_result"
    }
   ],
   "source": [
    "# Definir una función que, dada una columna de un dataframe, devuelva la posición de los outliers según el método box plot\n",
    "def find_limits_BP(variable):\n",
    "    Q1 = stats.scoreatpercentile(variable, 25)\n",
    "    Q3 = stats.scoreatpercentile(variable, 75)\n",
    "    RIC = Q3 - Q1\n",
    "    li = Q1 - 1.5*RIC #xmin\n",
    "    ls = Q3 + 1.5*RIC #xmax\n",
    "\n",
    "    # Observamos los límites inferior y superior\n",
    "    print('limite inferior: ', li)\n",
    "    print('limite superior: ', ls)\n",
    "\n",
    "    # Buscamos la posición de los outliers\n",
    "    pos_i = np.where(variable <li)[0]\n",
    "    pos_s = np.where(variable>ls)[0]\n",
    "    pos_outliers = np.concatenate((pos_i, pos_s))\n",
    "    print('Posición de outliers: ', pos_outliers)\n",
    "    \n",
    "    print('Número de outliers: ', len(pos_outliers))\n",
    "\n",
    "    return pos_outliers\n",
    "\n",
    "\n",
    "find_limits_BP(df['b'])"
   ]
  },
  {
   "cell_type": "code",
   "execution_count": 55,
   "metadata": {},
   "outputs": [
    {
     "name": "stdout",
     "output_type": "stream",
     "text": [
      "limite inferior:  -1.0853060827395105\n",
      "limite superior:  1.0119554520872196\n",
      "Posición de outliers:  [150 153 154 157 159 160 162 165 168 169 171 172 174 175 177 178 181 184\n",
      " 185 186 187 190 191 192 193 195 151 152 155 156 161 163 164 166 167 173\n",
      " 176 179 180 182 188 189 196 197]\n",
      "Número de outliers:  44\n",
      "limite inferior:  -0.9868496601410702\n",
      "limite superior:  1.0772774705919084\n",
      "Posición de outliers:  [150 152 160 161 165 171 173 176 178 181 186 189 104 151 153 154 156 157\n",
      " 158 159 162 166 167 170 172 174 175 177 179 180 183 187 190 191 192 193\n",
      " 194 197 198 199]\n",
      "Número de outliers:  40\n",
      "Posiciones de outliers:  [104 150 151 152 153 154 155 156 157 158 159 160 161 162 163 164 165 166\n",
      " 167 168 169 170 171 172 173 174 175 176 177 178 179 180 181 182 183 184\n",
      " 185 186 187 188 189 190 191 192 193 194 195 196 197 198 199]\n",
      "Numero de outliers:  51\n"
     ]
    }
   ],
   "source": [
    "# Creamos un bucle for que estime los valores outliers de cada atributo\n",
    "headers = df.columns # nombre de los atributos del CSV\n",
    "pos_outliers = []\n",
    "\n",
    "for i in range(len(headers)):\n",
    "    variable = df[headers[i]] # Atributo 'x'\n",
    "    pos_out = np.expand_dims(find_limits_BP(variable), axis=1) # Llamamos a la función que hemos creado\n",
    "    pos_outliers.append(pos_out) # Lo añadimos en una lista\n",
    "\n",
    "# Concatenamos todas las posiciones de outliers\n",
    "po = np.vstack(pos_outliers)\n",
    "\n",
    "# Vemos las posiciones de todos los outliers\n",
    "pos_out = np.unique(po)\n",
    "print('Posiciones de outliers: ', pos_out)\n",
    "\n",
    "# Observamos el número de outliers\n",
    "print('Numero de outliers: ', len(pos_out))"
   ]
  },
  {
   "cell_type": "code",
   "execution_count": null,
   "metadata": {},
   "outputs": [],
   "source": []
  }
 ],
 "metadata": {
  "kernelspec": {
   "display_name": "Python 3 (ipykernel)",
   "language": "python",
   "name": "python3"
  },
  "language_info": {
   "codemirror_mode": {
    "name": "ipython",
    "version": 3
   },
   "file_extension": ".py",
   "mimetype": "text/x-python",
   "name": "python",
   "nbconvert_exporter": "python",
   "pygments_lexer": "ipython3",
   "version": "3.10.9"
  }
 },
 "nbformat": 4,
 "nbformat_minor": 4
}
