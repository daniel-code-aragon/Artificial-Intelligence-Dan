{
 "cells": [
  {
   "cell_type": "code",
   "execution_count": 1,
   "metadata": {},
   "outputs": [],
   "source": [
    "import numpy as np\n",
    "from math import sqrt\n",
    "from pprint import pprint\n",
    "\n",
    "from sklearn import datasets\n",
    "\n",
    "from sklearn import preprocessing\n",
    "\n",
    "from sklearn.dummy import DummyRegressor\n",
    "\n",
    "from sklearn.model_selection import cross_validate\n",
    "from sklearn.model_selection import KFold\n",
    "from sklearn.model_selection import train_test_split\n",
    "from sklearn.model_selection import cross_val_score\n",
    "\n",
    "from sklearn.metrics import make_scorer\n",
    "from sklearn.metrics import mean_squared_error\n",
    "from sklearn.metrics import mean_absolute_error , r2_score\n",
    "\n",
    "from sklearn.svm import SVR\n",
    "\n",
    "import matplotlib.pyplot as plt"
   ]
  },
  {
   "cell_type": "code",
   "execution_count": 2,
   "metadata": {},
   "outputs": [
    {
     "name": "stdout",
     "output_type": "stream",
     "text": [
      "{'DESCR': '.. _diabetes_dataset:\\n'\n",
      "          '\\n'\n",
      "          'Diabetes dataset\\n'\n",
      "          '----------------\\n'\n",
      "          '\\n'\n",
      "          'Ten baseline variables, age, sex, body mass index, average blood\\n'\n",
      "          'pressure, and six blood serum measurements were obtained for each '\n",
      "          'of n =\\n'\n",
      "          '442 diabetes patients, as well as the response of interest, a\\n'\n",
      "          'quantitative measure of disease progression one year after '\n",
      "          'baseline.\\n'\n",
      "          '\\n'\n",
      "          '**Data Set Characteristics:**\\n'\n",
      "          '\\n'\n",
      "          '  :Number of Instances: 442\\n'\n",
      "          '\\n'\n",
      "          '  :Number of Attributes: First 10 columns are numeric predictive '\n",
      "          'values\\n'\n",
      "          '\\n'\n",
      "          '  :Target: Column 11 is a quantitative measure of disease '\n",
      "          'progression one year after baseline\\n'\n",
      "          '\\n'\n",
      "          '  :Attribute Information:\\n'\n",
      "          '      - age     age in years\\n'\n",
      "          '      - sex\\n'\n",
      "          '      - bmi     body mass index\\n'\n",
      "          '      - bp      average blood pressure\\n'\n",
      "          '      - s1      tc, total serum cholesterol\\n'\n",
      "          '      - s2      ldl, low-density lipoproteins\\n'\n",
      "          '      - s3      hdl, high-density lipoproteins\\n'\n",
      "          '      - s4      tch, total cholesterol / HDL\\n'\n",
      "          '      - s5      ltg, possibly log of serum triglycerides level\\n'\n",
      "          '      - s6      glu, blood sugar level\\n'\n",
      "          '\\n'\n",
      "          'Note: Each of these 10 feature variables have been mean centered '\n",
      "          'and scaled by the standard deviation times the square root of '\n",
      "          '`n_samples` (i.e. the sum of squares of each column totals 1).\\n'\n",
      "          '\\n'\n",
      "          'Source URL:\\n'\n",
      "          'https://www4.stat.ncsu.edu/~boos/var.select/diabetes.html\\n'\n",
      "          '\\n'\n",
      "          'For more information see:\\n'\n",
      "          'Bradley Efron, Trevor Hastie, Iain Johnstone and Robert Tibshirani '\n",
      "          '(2004) \"Least Angle Regression,\" Annals of Statistics (with '\n",
      "          'discussion), 407-499.\\n'\n",
      "          '(https://web.stanford.edu/~hastie/Papers/LARS/LeastAngle_2002.pdf)\\n',\n",
      " 'data': array([[ 0.03807591,  0.05068012,  0.06169621, ..., -0.00259226,\n",
      "         0.01990749, -0.01764613],\n",
      "       [-0.00188202, -0.04464164, -0.05147406, ..., -0.03949338,\n",
      "        -0.06833155, -0.09220405],\n",
      "       [ 0.08529891,  0.05068012,  0.04445121, ..., -0.00259226,\n",
      "         0.00286131, -0.02593034],\n",
      "       ...,\n",
      "       [ 0.04170844,  0.05068012, -0.01590626, ..., -0.01107952,\n",
      "        -0.04688253,  0.01549073],\n",
      "       [-0.04547248, -0.04464164,  0.03906215, ...,  0.02655962,\n",
      "         0.04452873, -0.02593034],\n",
      "       [-0.04547248, -0.04464164, -0.0730303 , ..., -0.03949338,\n",
      "        -0.00422151,  0.00306441]]),\n",
      " 'data_filename': 'diabetes_data_raw.csv.gz',\n",
      " 'data_module': 'sklearn.datasets.data',\n",
      " 'feature_names': ['age',\n",
      "                   'sex',\n",
      "                   'bmi',\n",
      "                   'bp',\n",
      "                   's1',\n",
      "                   's2',\n",
      "                   's3',\n",
      "                   's4',\n",
      "                   's5',\n",
      "                   's6'],\n",
      " 'frame': None,\n",
      " 'target': array([151.,  75., 141., 206., 135.,  97., 138.,  63., 110., 310., 101.,\n",
      "        69., 179., 185., 118., 171., 166., 144.,  97., 168.,  68.,  49.,\n",
      "        68., 245., 184., 202., 137.,  85., 131., 283., 129.,  59., 341.,\n",
      "        87.,  65., 102., 265., 276., 252.,  90., 100.,  55.,  61.,  92.,\n",
      "       259.,  53., 190., 142.,  75., 142., 155., 225.,  59., 104., 182.,\n",
      "       128.,  52.,  37., 170., 170.,  61., 144.,  52., 128.,  71., 163.,\n",
      "       150.,  97., 160., 178.,  48., 270., 202., 111.,  85.,  42., 170.,\n",
      "       200., 252., 113., 143.,  51.,  52., 210.,  65., 141.,  55., 134.,\n",
      "        42., 111.,  98., 164.,  48.,  96.,  90., 162., 150., 279.,  92.,\n",
      "        83., 128., 102., 302., 198.,  95.,  53., 134., 144., 232.,  81.,\n",
      "       104.,  59., 246., 297., 258., 229., 275., 281., 179., 200., 200.,\n",
      "       173., 180.,  84., 121., 161.,  99., 109., 115., 268., 274., 158.,\n",
      "       107.,  83., 103., 272.,  85., 280., 336., 281., 118., 317., 235.,\n",
      "        60., 174., 259., 178., 128.,  96., 126., 288.,  88., 292.,  71.,\n",
      "       197., 186.,  25.,  84.,  96., 195.,  53., 217., 172., 131., 214.,\n",
      "        59.,  70., 220., 268., 152.,  47.,  74., 295., 101., 151., 127.,\n",
      "       237., 225.,  81., 151., 107.,  64., 138., 185., 265., 101., 137.,\n",
      "       143., 141.,  79., 292., 178.,  91., 116.,  86., 122.,  72., 129.,\n",
      "       142.,  90., 158.,  39., 196., 222., 277.,  99., 196., 202., 155.,\n",
      "        77., 191.,  70.,  73.,  49.,  65., 263., 248., 296., 214., 185.,\n",
      "        78.,  93., 252., 150.,  77., 208.,  77., 108., 160.,  53., 220.,\n",
      "       154., 259.,  90., 246., 124.,  67.,  72., 257., 262., 275., 177.,\n",
      "        71.,  47., 187., 125.,  78.,  51., 258., 215., 303., 243.,  91.,\n",
      "       150., 310., 153., 346.,  63.,  89.,  50.,  39., 103., 308., 116.,\n",
      "       145.,  74.,  45., 115., 264.,  87., 202., 127., 182., 241.,  66.,\n",
      "        94., 283.,  64., 102., 200., 265.,  94., 230., 181., 156., 233.,\n",
      "        60., 219.,  80.,  68., 332., 248.,  84., 200.,  55.,  85.,  89.,\n",
      "        31., 129.,  83., 275.,  65., 198., 236., 253., 124.,  44., 172.,\n",
      "       114., 142., 109., 180., 144., 163., 147.,  97., 220., 190., 109.,\n",
      "       191., 122., 230., 242., 248., 249., 192., 131., 237.,  78., 135.,\n",
      "       244., 199., 270., 164.,  72.,  96., 306.,  91., 214.,  95., 216.,\n",
      "       263., 178., 113., 200., 139., 139.,  88., 148.,  88., 243.,  71.,\n",
      "        77., 109., 272.,  60.,  54., 221.,  90., 311., 281., 182., 321.,\n",
      "        58., 262., 206., 233., 242., 123., 167.,  63., 197.,  71., 168.,\n",
      "       140., 217., 121., 235., 245.,  40.,  52., 104., 132.,  88.,  69.,\n",
      "       219.,  72., 201., 110.,  51., 277.,  63., 118.,  69., 273., 258.,\n",
      "        43., 198., 242., 232., 175.,  93., 168., 275., 293., 281.,  72.,\n",
      "       140., 189., 181., 209., 136., 261., 113., 131., 174., 257.,  55.,\n",
      "        84.,  42., 146., 212., 233.,  91., 111., 152., 120.,  67., 310.,\n",
      "        94., 183.,  66., 173.,  72.,  49.,  64.,  48., 178., 104., 132.,\n",
      "       220.,  57.]),\n",
      " 'target_filename': 'diabetes_target.csv.gz'}\n",
      "(442, 10)\n"
     ]
    }
   ],
   "source": [
    "# Cargar y explorar los datos\n",
    "datos = datasets.load_diabetes()\n",
    "\n",
    "pprint(datos)\n",
    "print(np.shape(datos.data))"
   ]
  },
  {
   "cell_type": "code",
   "execution_count": 3,
   "metadata": {},
   "outputs": [
    {
     "name": "stdout",
     "output_type": "stream",
     "text": [
      "[151.  75. 141. 206. 135.  97. 138.  63. 110. 310. 101.  69. 179. 185.\n",
      " 118. 171. 166. 144.  97. 168.  68.  49.  68. 245. 184. 202. 137.  85.\n",
      " 131. 283. 129.  59. 341.  87.  65. 102. 265. 276. 252.  90. 100.  55.\n",
      "  61.  92. 259.  53. 190. 142.  75. 142. 155. 225.  59. 104. 182. 128.\n",
      "  52.  37. 170. 170.  61. 144.  52. 128.  71. 163. 150.  97. 160. 178.\n",
      "  48. 270. 202. 111.  85.  42. 170. 200. 252. 113. 143.  51.  52. 210.\n",
      "  65. 141.  55. 134.  42. 111.  98. 164.  48.  96.  90. 162. 150. 279.\n",
      "  92.  83. 128. 102. 302. 198.  95.  53. 134. 144. 232.  81. 104.  59.\n",
      " 246. 297. 258. 229. 275. 281. 179. 200. 200. 173. 180.  84. 121. 161.\n",
      "  99. 109. 115. 268. 274. 158. 107.  83. 103. 272.  85. 280. 336. 281.\n",
      " 118. 317. 235.  60. 174. 259. 178. 128.  96. 126. 288.  88. 292.  71.\n",
      " 197. 186.  25.  84.  96. 195.  53. 217. 172. 131. 214.  59.  70. 220.\n",
      " 268. 152.  47.  74. 295. 101. 151. 127. 237. 225.  81. 151. 107.  64.\n",
      " 138. 185. 265. 101. 137. 143. 141.  79. 292. 178.  91. 116.  86. 122.\n",
      "  72. 129. 142.  90. 158.  39. 196. 222. 277.  99. 196. 202. 155.  77.\n",
      " 191.  70.  73.  49.  65. 263. 248. 296. 214. 185.  78.  93. 252. 150.\n",
      "  77. 208.  77. 108. 160.  53. 220. 154. 259.  90. 246. 124.  67.  72.\n",
      " 257. 262. 275. 177.  71.  47. 187. 125.  78.  51. 258. 215. 303. 243.\n",
      "  91. 150. 310. 153. 346.  63.  89.  50.  39. 103. 308. 116. 145.  74.\n",
      "  45. 115. 264.  87. 202. 127. 182. 241.  66.  94. 283.  64. 102. 200.\n",
      " 265.  94. 230. 181. 156. 233.  60. 219.  80.  68. 332. 248.  84. 200.\n",
      "  55.  85.  89.  31. 129.  83. 275.  65. 198. 236. 253. 124.  44. 172.\n",
      " 114. 142. 109. 180. 144. 163. 147.  97. 220. 190. 109. 191. 122. 230.\n",
      " 242. 248. 249. 192. 131. 237.  78. 135. 244. 199. 270. 164.  72.  96.\n",
      " 306.  91. 214.  95. 216. 263. 178. 113. 200. 139. 139.  88. 148.  88.\n",
      " 243.  71.  77. 109. 272.  60.  54. 221.  90. 311. 281. 182. 321.  58.\n",
      " 262. 206. 233. 242. 123. 167.  63. 197.  71. 168. 140. 217. 121. 235.\n",
      " 245.  40.  52. 104. 132.  88.  69. 219.  72. 201. 110.  51. 277.  63.\n",
      " 118.  69. 273. 258.  43. 198. 242. 232. 175.  93. 168. 275. 293. 281.\n",
      "  72. 140. 189. 181. 209. 136. 261. 113. 131. 174. 257.  55.  84.  42.\n",
      " 146. 212. 233.  91. 111. 152. 120.  67. 310.  94. 183.  66. 173.  72.\n",
      "  49.  64.  48. 178. 104. 132. 220.  57.]\n"
     ]
    }
   ],
   "source": [
    "# Extraer la matriz de datos \"X\" y la variable target \"y\"\n",
    "X = datos.data\n",
    "y = datos.target\n",
    "print(datos.target)"
   ]
  },
  {
   "cell_type": "code",
   "execution_count": 4,
   "metadata": {},
   "outputs": [],
   "source": [
    "# Partición EXTERNA: hold-out split 80% train - 20% test.\n",
    "X_train, X_test, y_train,y_test =train_test_split(datos.data,datos.target,test_size=0.2, random_state=42)"
   ]
  },
  {
   "cell_type": "code",
   "execution_count": 5,
   "metadata": {},
   "outputs": [],
   "source": [
    "# Estandarización de los datos de entrenamiento y test\n",
    "standardizer= preprocessing.StandardScaler()\n",
    "\n",
    "scaler=standardizer.fit(X_train)\n",
    "\n",
    "X_train=scaler.transform(X_train)\n",
    "X_test= scaler.transform(X_test)\n",
    "#print(X_test)"
   ]
  },
  {
   "cell_type": "code",
   "execution_count": 6,
   "metadata": {},
   "outputs": [],
   "source": [
    "# Métricas de evaluación.\n",
    "metricas = {\n",
    "  'MAE': 'neg_mean_absolute_error',\n",
    "    \n",
    "  'RMSE': make_scorer(lambda y, y_pred: \n",
    "                      sqrt(mean_squared_error(y, y_pred)), \n",
    "                      greater_is_better=False),\n",
    "    \n",
    "  'MAPE': make_scorer(lambda y, y_pred:\n",
    "                      np.mean(np.abs((y - y_pred) / y)) * 100,\n",
    "                      greater_is_better=False)}"
   ]
  },
  {
   "cell_type": "code",
   "execution_count": 7,
   "metadata": {},
   "outputs": [],
   "source": [
    "# Definimos un algoritmo SVM de regresión\n",
    "algoritmo = SVR(C=10, gamma='auto', kernel ='rbf')"
   ]
  },
  {
   "cell_type": "code",
   "execution_count": 8,
   "metadata": {},
   "outputs": [
    {
     "name": "stdout",
     "output_type": "stream",
     "text": [
      "{'fit_time': array([0.00747585, 0.        , 0.00800395, 0.00460577, 0.        ]), 'score_time': array([0., 0., 0., 0., 0.]), 'test_MAE': array([-48.19465445, -52.08683245, -42.14032046, -45.83818585,\n",
      "       -50.26385213]), 'test_RMSE': array([-57.5792896 , -60.34473321, -51.87286075, -55.62971345,\n",
      "       -63.84954959]), 'test_MAPE': array([-32.86189838, -46.03289975, -37.61633112, -43.18731583,\n",
      "       -44.04644318])}\n"
     ]
    }
   ],
   "source": [
    "# Validación y evaluación del modelo.\n",
    "# en \"cv = KFold(n_splits=5)\" se hace un cross-validation INTERNO!! \n",
    "results = cross_validate(algoritmo, X_train, y_train, cv = KFold(n_splits=5, shuffle=True, random_state=42), scoring = metricas)\n",
    "print(results)"
   ]
  },
  {
   "cell_type": "code",
   "execution_count": 9,
   "metadata": {},
   "outputs": [
    {
     "name": "stdout",
     "output_type": "stream",
     "text": [
      "{'fit_time': array([0.00747585, 0.        , 0.00800395, 0.00460577, 0.        ]),\n",
      " 'score_time': array([0., 0., 0., 0., 0.]),\n",
      " 'test_MAE': array([-48.19465445, -52.08683245, -42.14032046, -45.83818585,\n",
      "       -50.26385213]),\n",
      " 'test_MAPE': array([-32.86189838, -46.03289975, -37.61633112, -43.18731583,\n",
      "       -44.04644318]),\n",
      " 'test_RMSE': array([-57.5792896 , -60.34473321, -51.87286075, -55.62971345,\n",
      "       -63.84954959])}\n"
     ]
    }
   ],
   "source": [
    "# Presentación de los resultados de la evaluación.\n",
    "pprint(results)"
   ]
  },
  {
   "cell_type": "code",
   "execution_count": 17,
   "metadata": {},
   "outputs": [
    {
     "name": "stdout",
     "output_type": "stream",
     "text": [
      "rbf 5\n",
      "Resultados por bolsa:  [0.29813825 0.4042702  0.39791019 0.4040912  0.32612295] \n",
      "Accuracy (media +/- desv.): 0.3661 +/- 0.0450\n",
      "\n",
      "linear 5\n",
      "Resultados por bolsa:  [0.43451898 0.53920538 0.38176959 0.50098323 0.47326506] \n",
      "Accuracy (media +/- desv.): 0.4659 +/- 0.0543\n",
      "\n",
      "poly 5\n",
      "Resultados por bolsa:  [0.18257252 0.35277875 0.30127783 0.33218255 0.3714445 ] \n",
      "Accuracy (media +/- desv.): 0.3081 +/- 0.0669\n",
      "\n",
      "sigmoid 5\n",
      "Resultados por bolsa:  [0.42277251 0.49981758 0.44504834 0.48240203 0.5066943 ] \n",
      "Accuracy (media +/- desv.): 0.4713 +/- 0.0324\n",
      "\n",
      "rbf 10\n",
      "Resultados por bolsa:  [0.3833323  0.4764796  0.43678243 0.46920202 0.41235397] \n",
      "Accuracy (media +/- desv.): 0.4356 +/- 0.0349\n",
      "\n",
      "linear 10\n",
      "Resultados por bolsa:  [0.42788394 0.54180516 0.36246536 0.5024406  0.46866942] \n",
      "Accuracy (media +/- desv.): 0.4607 +/- 0.0618\n",
      "\n",
      "poly 10\n",
      "Resultados por bolsa:  [0.20128764 0.35496254 0.30260812 0.36000356 0.39901157] \n",
      "Accuracy (media +/- desv.): 0.3236 +/- 0.0684\n",
      "\n",
      "sigmoid 10\n",
      "Resultados por bolsa:  [0.45535008 0.51465288 0.4128186  0.50186864 0.50381981] \n",
      "Accuracy (media +/- desv.): 0.4777 +/- 0.0383\n",
      "\n",
      "rbf 25\n",
      "Resultados por bolsa:  [0.39621519 0.49826444 0.37801156 0.50267592 0.44197239] \n",
      "Accuracy (media +/- desv.): 0.4434 +/- 0.0510\n",
      "\n",
      "linear 25\n",
      "Resultados por bolsa:  [0.42273626 0.54132882 0.37606369 0.50592818 0.4685686 ] \n",
      "Accuracy (media +/- desv.): 0.4629 +/- 0.0586\n",
      "\n",
      "poly 25\n",
      "Resultados por bolsa:  [0.20893812 0.32929581 0.26563669 0.36355919 0.39316074] \n",
      "Accuracy (media +/- desv.): 0.3121 +/- 0.0668\n",
      "\n",
      "sigmoid 25\n",
      "Resultados por bolsa:  [-0.28991685  0.02618998 -0.75037644 -0.18390415  0.08240287] \n",
      "Accuracy (media +/- desv.): -0.2231 +/- 0.2965\n",
      "\n",
      "rbf 50\n",
      "Resultados por bolsa:  [0.36966262 0.50489602 0.32960708 0.51739735 0.40122143] \n",
      "Accuracy (media +/- desv.): 0.4246 +/- 0.0744\n",
      "\n",
      "linear 50\n",
      "Resultados por bolsa:  [0.42152214 0.54359685 0.37667516 0.50612809 0.46600632] \n",
      "Accuracy (media +/- desv.): 0.4628 +/- 0.0592\n",
      "\n",
      "poly 50\n",
      "Resultados por bolsa:  [0.22091447 0.28926674 0.18857362 0.35209485 0.37993626] \n",
      "Accuracy (media +/- desv.): 0.2862 +/- 0.0734\n",
      "\n",
      "sigmoid 50\n",
      "Resultados por bolsa:  [-3.43742361 -2.49410828 -7.28571986 -5.76035637 -3.75027478] \n",
      "Accuracy (media +/- desv.): -4.5456 +/- 1.7351\n",
      "\n",
      "rbf 100\n",
      "Resultados por bolsa:  [0.33285133 0.49116649 0.2846894  0.52496388 0.36612864] \n",
      "Accuracy (media +/- desv.): 0.4000 +/- 0.0926\n",
      "\n",
      "linear 100\n",
      "Resultados por bolsa:  [0.42202346 0.54382366 0.38014011 0.50413242 0.45638885] \n",
      "Accuracy (media +/- desv.): 0.4613 +/- 0.0580\n",
      "\n",
      "poly 100\n",
      "Resultados por bolsa:  [0.17374942 0.23706608 0.11418951 0.35897043 0.33999151] \n",
      "Accuracy (media +/- desv.): 0.2448 +/- 0.0941\n",
      "\n",
      "sigmoid 100\n",
      "Resultados por bolsa:  [-17.18526372 -13.9618403  -37.83463056 -32.07613124 -23.88969989] \n",
      "Accuracy (media +/- desv.): -24.9895 +/- 8.9324\n",
      "\n",
      "rbf 200\n",
      "Resultados por bolsa:  [0.29109678 0.46127137 0.26964573 0.48015522 0.31006172] \n",
      "Accuracy (media +/- desv.): 0.3624 +/- 0.0895\n",
      "\n",
      "linear 200\n",
      "Resultados por bolsa:  [0.42205691 0.54366918 0.38085755 0.5045698  0.45153076] \n",
      "Accuracy (media +/- desv.): 0.4605 +/- 0.0579\n",
      "\n",
      "poly 200\n",
      "Resultados por bolsa:  [0.081078   0.16935579 0.0943308  0.32944891 0.26729771] \n",
      "Accuracy (media +/- desv.): 0.1883 +/- 0.0968\n",
      "\n",
      "sigmoid 200\n",
      "Resultados por bolsa:  [ -73.39547278  -63.1337352  -155.43958547 -133.63645116  -94.05057971] \n",
      "Accuracy (media +/- desv.): -103.9312 +/- 35.2987\n",
      "\n",
      "Mejor modelo obtenido con\n",
      " C=  10 Kernel:  sigmoid \n",
      "Accuracy (mejor media +/- desv.): 0.4777 +/- 0.0383\n"
     ]
    }
   ],
   "source": [
    "C=[5,10,25,50,100,200]\n",
    "kernel=['rbf','linear','poly','sigmoid']\n",
    "\n",
    "best_kernel=''\n",
    "best_mean=0\n",
    "hiper_c=''\n",
    "best_std=0\n",
    "best_model_svr= SVR(C=0.1 ,kernel='poly') #inicializado random\n",
    "\n",
    "def evaluacion(svr):\n",
    "    \n",
    "    results = cross_val_score(svr, X_train, y_train, cv = KFold(n_splits=5,shuffle=True,random_state=42))\n",
    "    print(k,c)\n",
    "    print(\"Resultados por bolsa: \", results,'')\n",
    "    print(\"Accuracy (media +/- desv.): %0.4f +/- %0.4f\\n\" % (results.mean(), results.std()))\n",
    "    \n",
    "    return k , results.mean(), c , results.std()\n",
    "    \n",
    "for c in C:\n",
    "    for k in kernel:\n",
    "        \n",
    "        svr = SVR(C=c ,kernel=k , gamma='auto')\n",
    "        current_kernel, current_mean, current_c ,current_std = evaluacion(svr)\n",
    "        \n",
    "        if current_mean>best_mean:\n",
    "            best_kernel=current_kernel\n",
    "            best_mean= current_mean\n",
    "            hiper_c= current_c\n",
    "            best_std= current_std\n",
    "            best_model_svr=svr\n",
    "\n",
    "            \n",
    "print(\"Mejor modelo obtenido con\\n C= \", hiper_c ,'Kernel: ',best_kernel, \"\\nAccuracy (mejor media +/- desv.): %0.4f +/- %0.4f\" % (best_mean, best_std))       \n"
   ]
  },
  {
   "cell_type": "code",
   "execution_count": 21,
   "metadata": {},
   "outputs": [],
   "source": [
    "# Una vez hemos optimizado los hiperparámetros en el conjunto de validación, entrenamos un nuevo modelo que contenga\n",
    "# todos los datos de entrenamiento (es decir, train + validation) para evaluar el test\n",
    "model = SVR(C=10, gamma='scale', kernel='sigmoid')\n",
    "model = model.fit(X_train, y_train)"
   ]
  },
  {
   "cell_type": "code",
   "execution_count": 19,
   "metadata": {},
   "outputs": [
    {
     "name": "stdout",
     "output_type": "stream",
     "text": [
      "Test results (MAE):  43.29220177251938\n",
      "Test results (r2 score):  0.44181583945834646\n"
     ]
    }
   ],
   "source": [
    "# Extraemos el error absoluto promedio (MAE) del conjunto de test\n",
    "y_pred = model.predict(X_test)\n",
    "mae = mean_absolute_error(y_test, y_pred)\n",
    "r2=r2_score(y_test, y_pred)\n",
    "print('Test results (MAE): ', mae)\n",
    "print('Test results (r2 score): ', r2)"
   ]
  },
  {
   "cell_type": "code",
   "execution_count": 20,
   "metadata": {},
   "outputs": [
    {
     "name": "stdout",
     "output_type": "stream",
     "text": [
      "Predicciones:    [143.7 181.3 126.  275.4 114.   83.9 233.5 192.1  92.7 102. ]\n",
      "Valores reales:  [219.  70. 202. 230. 111.  84. 242. 272.  94.  96.]\n"
     ]
    }
   ],
   "source": [
    "# También podemos extraer las predicciones para cuánto difieren los valores predichos de los reales\n",
    "print('Predicciones:   ', np.round(y_pred[:10], 1))\n",
    "print('Valores reales: ', y_test[:10])"
   ]
  },
  {
   "cell_type": "code",
   "execution_count": 14,
   "metadata": {},
   "outputs": [],
   "source": [
    "# Grafica de realidad -vs- prediccion.\n",
    "def grafica_real_vs_pred(y_test, y_pred, metricas, algoritmo):\n",
    "    fig, ax = plt.subplots()\n",
    "    ax.scatter(y_test, y_pred, edgecolors=(0, 0, 0))\n",
    "    ax.plot([y_test.min(), y_test.max()], [y_test.min(), y_test.max()], 'k--', lw=4)\n",
    "    ax.set_xlabel('Valor real de la clase')\n",
    "    ax.set_ylabel('Predicción')\n",
    "    plt.show()"
   ]
  },
  {
   "cell_type": "code",
   "execution_count": 15,
   "metadata": {},
   "outputs": [
    {
     "data": {
      "image/png": "[encoded data removed]",
      "text/plain": [
       "<Figure size 640x480 with 1 Axes>"
      ]
     },
     "metadata": {},
     "output_type": "display_data"
    }
   ],
   "source": [
    "grafica_real_vs_pred(y_test, y_pred, metricas, model)"
   ]
  },
  {
   "cell_type": "code",
   "execution_count": null,
   "metadata": {},
   "outputs": [],
   "source": []
  }
 ],
 "metadata": {
  "kernelspec": {
   "display_name": "Python 3 (ipykernel)",
   "language": "python",
   "name": "python3"
  },
  "language_info": {
   "codemirror_mode": {
    "name": "ipython",
    "version": 3
   },
   "file_extension": ".py",
   "mimetype": "text/x-python",
   "name": "python",
   "nbconvert_exporter": "python",
   "pygments_lexer": "ipython3",
   "version": "3.10.9"
  }
 },
 "nbformat": 4,
 "nbformat_minor": 4
}
