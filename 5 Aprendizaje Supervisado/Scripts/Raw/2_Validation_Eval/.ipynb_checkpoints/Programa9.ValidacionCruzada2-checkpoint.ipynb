{
 "cells": [
  {
   "cell_type": "code",
   "execution_count": 1,
   "metadata": {},
   "outputs": [],
   "source": [
    "import numpy as np\n",
    "from sklearn import datasets\n",
    "from sklearn.dummy import DummyClassifier\n",
    "from sklearn.model_selection import cross_val_score\n",
    "from sklearn.model_selection import KFold\n",
    "from sklearn.model_selection import train_test_split\n",
    "from sklearn.preprocessing import StandardScaler"
   ]
  },
  {
   "cell_type": "code",
   "execution_count": 7,
   "metadata": {},
   "outputs": [
    {
     "name": "stdout",
     "output_type": "stream",
     "text": [
      "['setosa' 'versicolor' 'virginica']\n"
     ]
    }
   ],
   "source": [
    "# Carga de datos.\n",
    "iris = datasets.load_iris()\n",
    "print(iris.target_names)\n",
    "#print(iris)\n",
    "#print(iris.target)"
   ]
  },
  {
   "cell_type": "code",
   "execution_count": 8,
   "metadata": {},
   "outputs": [
    {
     "name": "stdout",
     "output_type": "stream",
     "text": [
      "Tabla de datos: 150 instancias y 4 atributos\n",
      "Valores de la clase: {0, 1, 2}\n"
     ]
    }
   ],
   "source": [
    "# Mostrar características de la tabla de datos.\n",
    "print(\"Tabla de datos: %d instancias y %d atributos\" % (iris.data.shape[0], iris.data.shape[1]))\n",
    "print(\"Valores de la clase:\", set(iris.target))"
   ]
  },
  {
   "cell_type": "code",
   "execution_count": 55,
   "metadata": {},
   "outputs": [
    {
     "name": "stdout",
     "output_type": "stream",
     "text": [
      "Test:  clases: [0 1 2]  ocurrencias:  [10 10 10]\n"
     ]
    }
   ],
   "source": [
    "# Test: hold-out split 80-20%. PARTICIÓN EXTERNA\n",
    "# ???\n",
    "X_train, X_test, y_train, y_test = train_test_split(iris.data, iris.target, test_size= 0.2, random_state=42, stratify= iris.target)\n",
    "\n",
    "valores_test, ocur_test = np.unique(y_test, return_counts=True)\n",
    "print('Test: ', 'clases:', valores_test, ' ocurrencias: ', ocur_test)"
   ]
  },
  {
   "cell_type": "code",
   "execution_count": 56,
   "metadata": {},
   "outputs": [],
   "source": [
    "# Estandarizar las características de entrenamiento y de test\n",
    "standardizer = StandardScaler()\n",
    "X_train = standardizer.fit_transform(X_train)\n",
    "X_test = standardizer.transform(X_test)"
   ]
  },
  {
   "cell_type": "code",
   "execution_count": 57,
   "metadata": {},
   "outputs": [
    {
     "name": "stdout",
     "output_type": "stream",
     "text": [
      "rbf 0.1\n",
      "Resultados por bolsa:  [0.91666667 0.875      0.875      0.91666667 0.91666667] \n",
      "Accuracy (media +/- desv.): 0.9000 +/- 0.0204\n",
      "\n",
      "linear 0.1\n",
      "Resultados por bolsa:  [0.91666667 1.         1.         0.95833333 1.        ] \n",
      "Accuracy (media +/- desv.): 0.9750 +/- 0.0333\n",
      "\n",
      "poly 0.1\n",
      "Resultados por bolsa:  [0.79166667 0.79166667 0.83333333 0.79166667 0.91666667] \n",
      "Accuracy (media +/- desv.): 0.8250 +/- 0.0486\n",
      "\n",
      "sigmoid 0.1\n",
      "Resultados por bolsa:  [0.91666667 0.91666667 0.91666667 0.875      0.91666667] \n",
      "Accuracy (media +/- desv.): 0.9083 +/- 0.0167\n",
      "\n",
      "rbf 0.2\n",
      "Resultados por bolsa:  [0.91666667 0.95833333 1.         0.95833333 0.95833333] \n",
      "Accuracy (media +/- desv.): 0.9583 +/- 0.0264\n",
      "\n",
      "linear 0.2\n",
      "Resultados por bolsa:  [0.91666667 1.         0.95833333 1.         1.        ] \n",
      "Accuracy (media +/- desv.): 0.9750 +/- 0.0333\n",
      "\n",
      "poly 0.2\n",
      "Resultados por bolsa:  [0.83333333 0.83333333 0.875      0.83333333 0.95833333] \n",
      "Accuracy (media +/- desv.): 0.8667 +/- 0.0486\n",
      "\n",
      "sigmoid 0.2\n",
      "Resultados por bolsa:  [0.875      0.91666667 0.91666667 0.91666667 0.91666667] \n",
      "Accuracy (media +/- desv.): 0.9083 +/- 0.0167\n",
      "\n",
      "rbf 0.3\n",
      "Resultados por bolsa:  [0.91666667 1.         1.         0.95833333 0.95833333] \n",
      "Accuracy (media +/- desv.): 0.9667 +/- 0.0312\n",
      "\n",
      "linear 0.3\n",
      "Resultados por bolsa:  [0.875      0.95833333 0.95833333 1.         1.        ] \n",
      "Accuracy (media +/- desv.): 0.9583 +/- 0.0456\n",
      "\n",
      "poly 0.3\n",
      "Resultados por bolsa:  [0.83333333 0.83333333 0.875      0.875      0.95833333] \n",
      "Accuracy (media +/- desv.): 0.8750 +/- 0.0456\n",
      "\n",
      "sigmoid 0.3\n",
      "Resultados por bolsa:  [0.875      0.91666667 0.91666667 0.95833333 0.95833333] \n",
      "Accuracy (media +/- desv.): 0.9250 +/- 0.0312\n",
      "\n",
      "rbf 0.4\n",
      "Resultados por bolsa:  [0.91666667 1.         1.         0.95833333 0.95833333] \n",
      "Accuracy (media +/- desv.): 0.9667 +/- 0.0312\n",
      "\n",
      "linear 0.4\n",
      "Resultados por bolsa:  [0.91666667 0.95833333 0.95833333 1.         1.        ] \n",
      "Accuracy (media +/- desv.): 0.9667 +/- 0.0312\n",
      "\n",
      "poly 0.4\n",
      "Resultados por bolsa:  [0.83333333 0.875      0.875      0.875      0.95833333] \n",
      "Accuracy (media +/- desv.): 0.8833 +/- 0.0408\n",
      "\n",
      "sigmoid 0.4\n",
      "Resultados por bolsa:  [0.875      0.91666667 0.91666667 0.95833333 0.95833333] \n",
      "Accuracy (media +/- desv.): 0.9250 +/- 0.0312\n",
      "\n",
      "rbf 0.5\n",
      "Resultados por bolsa:  [0.91666667 1.         0.95833333 0.95833333 1.        ] \n",
      "Accuracy (media +/- desv.): 0.9667 +/- 0.0312\n",
      "\n",
      "linear 0.5\n",
      "Resultados por bolsa:  [0.91666667 0.95833333 0.95833333 1.         1.        ] \n",
      "Accuracy (media +/- desv.): 0.9667 +/- 0.0312\n",
      "\n",
      "poly 0.5\n",
      "Resultados por bolsa:  [0.875      0.875      0.91666667 0.875      0.95833333] \n",
      "Accuracy (media +/- desv.): 0.9000 +/- 0.0333\n",
      "\n",
      "sigmoid 0.5\n",
      "Resultados por bolsa:  [0.875      0.91666667 0.91666667 0.91666667 0.95833333] \n",
      "Accuracy (media +/- desv.): 0.9167 +/- 0.0264\n",
      "\n",
      "rbf 0.95\n",
      "Resultados por bolsa:  [0.91666667 1.         0.95833333 0.95833333 1.        ] \n",
      "Accuracy (media +/- desv.): 0.9667 +/- 0.0312\n",
      "\n",
      "linear 0.95\n",
      "Resultados por bolsa:  [0.95833333 0.95833333 0.95833333 1.         1.        ] \n",
      "Accuracy (media +/- desv.): 0.9750 +/- 0.0204\n",
      "\n",
      "poly 0.95\n",
      "Resultados por bolsa:  [0.875      0.875      0.91666667 0.91666667 0.95833333] \n",
      "Accuracy (media +/- desv.): 0.9083 +/- 0.0312\n",
      "\n",
      "sigmoid 0.95\n",
      "Resultados por bolsa:  [0.91666667 0.91666667 0.91666667 0.875      0.91666667] \n",
      "Accuracy (media +/- desv.): 0.9083 +/- 0.0167\n",
      "\n",
      "Mejor modelo obtenido con\n",
      " C=  0.1 Kernel:  linear \n",
      "Accuracy (mejor media +/- desv.): 0.9750 +/- 0.0333\n"
     ]
    }
   ],
   "source": [
    "# Definimos el algoritmo SVM para clasificación\n",
    "from sklearn.svm import SVC\n",
    "\n",
    "C=[0.1,0.2,0.3,0.4,0.5,0.95]\n",
    "kernel=['rbf','linear','poly','sigmoid']\n",
    "\n",
    "best_kernel=''\n",
    "best_mean=0\n",
    "hiper_c=''\n",
    "best_std=0\n",
    "best_model_svc= SVC(C=0.1 ,kernel='poly') #inicializado random\n",
    "\n",
    "def evaluacion(svc):\n",
    "    \n",
    "    results = cross_val_score(svc, X_train, y_train, cv = KFold(n_splits=5))\n",
    "    print(k,c)\n",
    "    print(\"Resultados por bolsa: \", results,'')\n",
    "    print(\"Accuracy (media +/- desv.): %0.4f +/- %0.4f\\n\" % (results.mean(), results.std()))\n",
    "    \n",
    "    return k , results.mean(), c , results.std()\n",
    "    \n",
    "for c in C:\n",
    "    for k in kernel:\n",
    "        \n",
    "        svc = SVC(C=c ,kernel=k , gamma='auto')\n",
    "        current_kernel, current_mean, current_c ,current_std = evaluacion(svc)\n",
    "        \n",
    "        if current_mean>best_mean:\n",
    "            best_kernel=current_kernel\n",
    "            best_mean= current_mean\n",
    "            hiper_c= current_c\n",
    "            best_std= current_std\n",
    "            best_model_svc=svc\n",
    "\n",
    "            \n",
    "print(\"Mejor modelo obtenido con\\n C= \", hiper_c ,'Kernel: ',best_kernel, \"\\nAccuracy (mejor media +/- desv.): %0.4f +/- %0.4f\" % (best_mean, best_std))       \n",
    "\n",
    "# Hacemos el cross-validation interno para seleccionar los mejores hiperparámetros\n"
   ]
  },
  {
   "cell_type": "code",
   "execution_count": 58,
   "metadata": {},
   "outputs": [
    {
     "data": {
      "text/html": [
       "<style>#sk-container-id-5 {color: black;background-color: white;}#sk-container-id-5 pre{padding: 0;}#sk-container-id-5 div.sk-toggleable {background-color: white;}#sk-container-id-5 label.sk-toggleable__label {cursor: pointer;display: block;width: 100%;margin-bottom: 0;padding: 0.3em;box-sizing: border-box;text-align: center;}#sk-container-id-5 label.sk-toggleable__label-arrow:before {content: \"▸\";float: left;margin-right: 0.25em;color: #696969;}#sk-container-id-5 label.sk-toggleable__label-arrow:hover:before {color: black;}#sk-container-id-5 div.sk-estimator:hover label.sk-toggleable__label-arrow:before {color: black;}#sk-container-id-5 div.sk-toggleable__content {max-height: 0;max-width: 0;overflow: hidden;text-align: left;background-color: #f0f8ff;}#sk-container-id-5 div.sk-toggleable__content pre {margin: 0.2em;color: black;border-radius: 0.25em;background-color: #f0f8ff;}#sk-container-id-5 input.sk-toggleable__control:checked~div.sk-toggleable__content {max-height: 200px;max-width: 100%;overflow: auto;}#sk-container-id-5 input.sk-toggleable__control:checked~label.sk-toggleable__label-arrow:before {content: \"▾\";}#sk-container-id-5 div.sk-estimator input.sk-toggleable__control:checked~label.sk-toggleable__label {background-color: #d4ebff;}#sk-container-id-5 div.sk-label input.sk-toggleable__control:checked~label.sk-toggleable__label {background-color: #d4ebff;}#sk-container-id-5 input.sk-hidden--visually {border: 0;clip: rect(1px 1px 1px 1px);clip: rect(1px, 1px, 1px, 1px);height: 1px;margin: -1px;overflow: hidden;padding: 0;position: absolute;width: 1px;}#sk-container-id-5 div.sk-estimator {font-family: monospace;background-color: #f0f8ff;border: 1px dotted black;border-radius: 0.25em;box-sizing: border-box;margin-bottom: 0.5em;}#sk-container-id-5 div.sk-estimator:hover {background-color: #d4ebff;}#sk-container-id-5 div.sk-parallel-item::after {content: \"\";width: 100%;border-bottom: 1px solid gray;flex-grow: 1;}#sk-container-id-5 div.sk-label:hover label.sk-toggleable__label {background-color: #d4ebff;}#sk-container-id-5 div.sk-serial::before {content: \"\";position: absolute;border-left: 1px solid gray;box-sizing: border-box;top: 0;bottom: 0;left: 50%;z-index: 0;}#sk-container-id-5 div.sk-serial {display: flex;flex-direction: column;align-items: center;background-color: white;padding-right: 0.2em;padding-left: 0.2em;position: relative;}#sk-container-id-5 div.sk-item {position: relative;z-index: 1;}#sk-container-id-5 div.sk-parallel {display: flex;align-items: stretch;justify-content: center;background-color: white;position: relative;}#sk-container-id-5 div.sk-item::before, #sk-container-id-5 div.sk-parallel-item::before {content: \"\";position: absolute;border-left: 1px solid gray;box-sizing: border-box;top: 0;bottom: 0;left: 50%;z-index: -1;}#sk-container-id-5 div.sk-parallel-item {display: flex;flex-direction: column;z-index: 1;position: relative;background-color: white;}#sk-container-id-5 div.sk-parallel-item:first-child::after {align-self: flex-end;width: 50%;}#sk-container-id-5 div.sk-parallel-item:last-child::after {align-self: flex-start;width: 50%;}#sk-container-id-5 div.sk-parallel-item:only-child::after {width: 0;}#sk-container-id-5 div.sk-dashed-wrapped {border: 1px dashed gray;margin: 0 0.4em 0.5em 0.4em;box-sizing: border-box;padding-bottom: 0.4em;background-color: white;}#sk-container-id-5 div.sk-label label {font-family: monospace;font-weight: bold;display: inline-block;line-height: 1.2em;}#sk-container-id-5 div.sk-label-container {text-align: center;}#sk-container-id-5 div.sk-container {/* jupyter's `normalize.less` sets `[hidden] { display: none; }` but bootstrap.min.css set `[hidden] { display: none !important; }` so we also need the `!important` here to be able to override the default hidden behavior on the sphinx rendered scikit-learn.org. See: https://github.com/scikit-learn/scikit-learn/issues/21755 */display: inline-block !important;position: relative;}#sk-container-id-5 div.sk-text-repr-fallback {display: none;}</style><div id=\"sk-container-id-5\" class=\"sk-top-container\"><div class=\"sk-text-repr-fallback\"><pre>SVC(C=0.1, gamma=&#x27;auto&#x27;, kernel=&#x27;linear&#x27;)</pre><b>In a Jupyter environment, please rerun this cell to show the HTML representation or trust the notebook. <br />On GitHub, the HTML representation is unable to render, please try loading this page with nbviewer.org.</b></div><div class=\"sk-container\" hidden><div class=\"sk-item\"><div class=\"sk-estimator sk-toggleable\"><input class=\"sk-toggleable__control sk-hidden--visually\" id=\"sk-estimator-id-5\" type=\"checkbox\" checked><label for=\"sk-estimator-id-5\" class=\"sk-toggleable__label sk-toggleable__label-arrow\">SVC</label><div class=\"sk-toggleable__content\"><pre>SVC(C=0.1, gamma=&#x27;auto&#x27;, kernel=&#x27;linear&#x27;)</pre></div></div></div></div></div>"
      ],
      "text/plain": [
       "SVC(C=0.1, gamma='auto', kernel='linear')"
      ]
     },
     "execution_count": 58,
     "metadata": {},
     "output_type": "execute_result"
    }
   ],
   "source": [
    "# Una vez entrenado y validado el modelo para seleccionar los mejores hyperparameters, utilizamos todos los datos de \n",
    "# \"train\" y \"val\" para entrenar el modelo definitivo\n",
    "\n",
    "# svc = ???\n",
    "best_model_svc.fit(X_train, y_train)  #El obtenido haciendo las iteraciones de hiperparametros"
   ]
  },
  {
   "cell_type": "code",
   "execution_count": 59,
   "metadata": {},
   "outputs": [
    {
     "name": "stdout",
     "output_type": "stream",
     "text": [
      "Exactitud en test  93.3333 %\n"
     ]
    }
   ],
   "source": [
    "# Calcular la accuracy del conjunto de test\n",
    "# test_results = ???\n",
    "test_accuracy = best_model_svc.score(X_test, y_test) # Evaluamos modelo en test\n",
    "print('Exactitud en test ', np.round(test_accuracy*100, 4), '%')\n"
   ]
  },
  {
   "cell_type": "code",
   "execution_count": 60,
   "metadata": {},
   "outputs": [
    {
     "name": "stdout",
     "output_type": "stream",
     "text": [
      "Predicciones:      [0 2 1 1 0 1 0 0 2 1 2 2 2 1 0 0 0 1 1 2 0 2 1 1 2 2 1 0 2 0]\n",
      "Etiquetas reales:  [0 2 1 1 0 1 0 0 2 1 2 2 2 1 0 0 0 1 1 2 0 2 1 2 2 1 1 0 2 0]\n"
     ]
    }
   ],
   "source": [
    "# Extraer las predicciones, en lugar de directamente la accuracy\n",
    "y_pred = best_model_svc.predict(X_test)\n",
    "print('Predicciones:     ', y_pred)\n",
    "print('Etiquetas reales: ', y_test)"
   ]
  },
  {
   "cell_type": "code",
   "execution_count": null,
   "metadata": {},
   "outputs": [],
   "source": []
  }
 ],
 "metadata": {
  "kernelspec": {
   "display_name": "Python 3 (ipykernel)",
   "language": "python",
   "name": "python3"
  },
  "language_info": {
   "codemirror_mode": {
    "name": "ipython",
    "version": 3
   },
   "file_extension": ".py",
   "mimetype": "text/x-python",
   "name": "python",
   "nbconvert_exporter": "python",
   "pygments_lexer": "ipython3",
   "version": "3.10.9"
  }
 },
 "nbformat": 4,
 "nbformat_minor": 4
}
