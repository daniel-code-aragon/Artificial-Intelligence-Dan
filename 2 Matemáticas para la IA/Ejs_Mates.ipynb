{
 "cells": [
  {
   "cell_type": "code",
   "execution_count": 1,
   "metadata": {
    "id": "8VU0zVLTC9Wm"
   },
   "outputs": [],
   "source": [
    "import numpy as np\n",
    "import matplotlib.pyplot as plt\n",
    "import math\n",
    "import time"
   ]
  },
  {
   "cell_type": "code",
   "execution_count": 34,
   "metadata": {
    "colab": {
     "base_uri": "https://localhost:8080/"
    },
    "id": "LUOXwTP-Gzlj",
    "outputId": "a2340354-1d51-4b28-ed9e-9290e88a622b"
   },
   "outputs": [
    {
     "name": "stdout",
     "output_type": "stream",
     "text": [
      "[[8 2 7]\n",
      " [6 7 5]\n",
      " [8 4 6]] \n",
      "\n",
      "3 \n",
      "\n"
     ]
    }
   ],
   "source": [
    "\n",
    "#Matriz de trabajo aleatoria\n",
    "a = np.random.randint(0,9, size=(3,3))\n",
    "print(a,'\\n')\n",
    "print(len(a),'\\n')\n"
   ]
  },
  {
   "cell_type": "code",
   "execution_count": 35,
   "metadata": {
    "colab": {
     "base_uri": "https://localhost:8080/"
    },
    "id": "VhkvSyypHWeg",
    "outputId": "88b27148-0b1d-4825-dc57-6f9ab07743d0"
   },
   "outputs": [
    {
     "name": "stdout",
     "output_type": "stream",
     "text": [
      "True\n"
     ]
    }
   ],
   "source": [
    "def isSquare (m):\n",
    "  for row in m:\n",
    "    if len(row)== len(m):\n",
    "      return True\n",
    "print(isSquare(a))"
   ]
  },
  {
   "cell_type": "code",
   "execution_count": 36,
   "metadata": {
    "id": "c7wyI-J-NX4w"
   },
   "outputs": [],
   "source": [
    "#1a)\n",
    "\n",
    "def laplace_det(matrix):\n",
    "    n = matrix.shape[0] \n",
    "    \n",
    "    # matriz 1x1\n",
    "    if n == 1:\n",
    "        return matrix[0, 0]\n",
    "    \n",
    "    det_matrix = 0  # Det inicializado a 0\n",
    "    \n",
    "    for j in range(n):\n",
    "        #print('Matriz que tomo:\\n',np.delete(np.delete(matrix, 0, 0), j, 1),'\\n')\n",
    "        \n",
    "        cofactor = (-1) ** j * laplace_det(np.delete(np.delete(matrix, 0, 0), j, 1)) #Borro filas coluumnas quedandome con lo que borro\n",
    "        \n",
    "        det_matrix += matrix[0, j] * cofactor\n",
    "    \n",
    "    return det_matrix\n",
    "\n",
    "\n"
   ]
  },
  {
   "cell_type": "code",
   "execution_count": 37,
   "metadata": {
    "colab": {
     "base_uri": "https://localhost:8080/"
    },
    "id": "9qSVMUooP0q0",
    "outputId": "79f8425d-4340-42a2-8f0e-c0209864ef4b"
   },
   "outputs": [
    {
     "name": "stdout",
     "output_type": "stream",
     "text": [
      "det=  -40\n"
     ]
    }
   ],
   "source": [
    "print('det= ',laplace_det(a))\n"
   ]
  },
  {
   "cell_type": "code",
   "execution_count": 38,
   "metadata": {
    "colab": {
     "base_uri": "https://localhost:8080/"
    },
    "id": "gLl28svXP_4o",
    "outputId": "3e1890d7-07d6-4242-c8eb-7655609cbf43"
   },
   "outputs": [
    {
     "name": "stdout",
     "output_type": "stream",
     "text": [
      "[[ 1  2 -6]\n",
      " [ 0  0  3]\n",
      " [ 0  0  4]]\n",
      "Det=  0\n"
     ]
    }
   ],
   "source": [
    "#1b)\n",
    "A=np.array([[1,2,-6],[0,0,3],[0,0,4]])\n",
    "print(A)\n",
    "\n",
    "\n",
    "det =1\n",
    "for k in range(len(A)):\n",
    "  det*=A[k][k]\n",
    "\n",
    "print('Det= ', det)\n"
   ]
  },
  {
   "cell_type": "code",
   "execution_count": 39,
   "metadata": {
    "colab": {
     "base_uri": "https://localhost:8080/"
    },
    "id": "zE4VRTi5n3Hc",
    "outputId": "b8920387-dd87-4103-d3f0-dfca210f1a11"
   },
   "outputs": [
    {
     "name": "stdout",
     "output_type": "stream",
     "text": [
      "[[8 2 7]\n",
      " [6 7 5]\n",
      " [8 4 6]] \n",
      "\n",
      "det=  -40\n",
      "[[6 7 5]\n",
      " [8 2 7]\n",
      " [8 4 6]]\n",
      "det=  40\n"
     ]
    }
   ],
   "source": [
    "# 1C.1)\n",
    "\n",
    "B=a  #Matriz del primer bloque\n",
    "print(B,'\\n')\n",
    "\n",
    "print('det= ', round(np.linalg.det(a)))\n",
    "B[[0, 1]] = B[[1, 0]]\n",
    "\n",
    "print(B)\n",
    "print('det= ', round(np.linalg.det(a)))\n",
    "#Intercambiando filas/ columnas cambia el signo del determinante."
   ]
  },
  {
   "cell_type": "code",
   "execution_count": 8,
   "metadata": {
    "id": "jsvlgiYcpoqQ"
   },
   "outputs": [
    {
     "name": "stdout",
     "output_type": "stream",
     "text": [
      "[[6 1 0]\n",
      " [7 6 5]\n",
      " [2 7 0]] \n",
      "\n",
      "Determinante inicial: -200\n",
      "Determinante después de la suma: -200\n",
      "Determinante después de la suma multiplicada por escalar: -200\n"
     ]
    }
   ],
   "source": [
    "#1C.2)\n",
    "print(a,'\\n')\n",
    "det_inicial = np.linalg.det(a)\n",
    "print(\"Determinante inicial:\", round(det_inicial))\n",
    "\n",
    "# fila + fila\n",
    "a[2] = a[2] + a[0]\n",
    "det_suma = np.linalg.det(a)\n",
    "print(\"Determinante después de la suma:\", round(det_suma))\n",
    "\n",
    "# fila por otra fila multiplicada por un escalar\n",
    "a[2] = a[2] + 2 * a[0]\n",
    "\n",
    "det_suma_escalar = np.linalg.det(a)\n",
    "print(\"Determinante después de la suma * escalar:\", round(det_suma_escalar))\n",
    "\n",
    "#sumar una combinación lineal de filas (o columnas) no cambian el determinante."
   ]
  },
  {
   "cell_type": "code",
   "execution_count": 9,
   "metadata": {},
   "outputs": [
    {
     "name": "stdout",
     "output_type": "stream",
     "text": [
      "[[20.  10.   0. ]\n",
      " [ 0.   2.5  5. ]\n",
      " [ 0.   0.   4. ]]\n"
     ]
    }
   ],
   "source": [
    "#1D)\n",
    "import numpy as np\n",
    "\n",
    "def eliminacion_gauss(A):\n",
    "    A = A.astype('float64')  # Convertir la matriz a float64\n",
    "    \n",
    "    m, n = A.shape\n",
    "    for i in range(m):\n",
    "        # Encuentra el pivote máximo en la columna actual\n",
    "        pivot_row = np.argmax(np.abs(A[i:, i])) + i\n",
    "        \n",
    "        # Intercambia filas si es necesario\n",
    "        if pivot_row != i:\n",
    "            A[[i, pivot_row]] = A[[pivot_row, i]]\n",
    "        \n",
    "        # Aplica eliminación gaussiana a las filas siguientes\n",
    "        for j in range(i+1, m):\n",
    "            factor = A[j, i] / A[i, i]\n",
    "            A[j, i:] -= factor * A[i, i:]\n",
    "    \n",
    "    return A\n",
    "\n",
    "# Ejemplo de uso\n",
    "matriz = np.array([[2, -1, 1],\n",
    "                   [4, 1, -3],\n",
    "                   [-2, 2, 1]], dtype=float)\n",
    "\n",
    "matriz_triangular = eliminacion_gauss(a)\n",
    "print(matriz_triangular)\n"
   ]
  },
  {
   "cell_type": "code",
   "execution_count": 31,
   "metadata": {},
   "outputs": [
    {
     "name": "stdout",
     "output_type": "stream",
     "text": [
      "[[20.  10.   0. ]\n",
      " [ 0.   2.5  5. ]\n",
      " [ 0.   0.   4. ]]\n",
      "Det=  200.0\n"
     ]
    }
   ],
   "source": [
    "#1E)\n",
    "\n",
    "def determinante_gauss(A):\n",
    "    A = A.astype('float64')  #matriz a float\n",
    "    \n",
    "    m, n = A.shape\n",
    "    for i in range(m):\n",
    "        # Encuentra el pivote máximo en la columna actual\n",
    "        pivot_row = np.argmax(np.abs(A[i:, i])) + i\n",
    "        \n",
    "        # Intercambia filas si es necesario\n",
    "        if pivot_row != i:\n",
    "            A[[i, pivot_row]] = A[[pivot_row, i]]\n",
    "        \n",
    "        # Aplica eliminación gaussiana a las filas siguientes\n",
    "        for j in range(i+1, m):\n",
    "            factor = A[j, i] / A[i, i]\n",
    "            A[j, i:] -= factor * A[i, i:]\n",
    "            \n",
    "            \n",
    "    #print(A)\n",
    "            \n",
    "    det =1\n",
    "    for k in range(len(A)):\n",
    "      det*=A[k][k]\n",
    "    return det\n",
    "\n",
    "print('Det= ', determinante_gauss(matriz_triangular))"
   ]
  },
  {
   "cell_type": "code",
   "execution_count": 11,
   "metadata": {},
   "outputs": [
    {
     "name": "stdout",
     "output_type": "stream",
     "text": [
      "Complejidad computacional gauss =  27\n",
      "Complejidad computacional eliminacion recursiva Laplace=  6 \n",
      "\n",
      "Es mas optimo utilizar la eliminacion de gauss a medida que las matrices son mas grandes\n"
     ]
    }
   ],
   "source": [
    "#1F)\n",
    "\n",
    "print('Complejidad computacional gauss = ', len(a)**3)\n",
    "print('Complejidad computacional eliminacion recursiva Laplace= ', math.factorial(len(a)), '\\n' )\n",
    "print('Es mas optimo utilizar la eliminacion de gauss a medida que las matrices son mas grandes')\n",
    "\n"
   ]
  },
  {
   "cell_type": "code",
   "execution_count": 29,
   "metadata": {},
   "outputs": [],
   "source": [
    "#1G)\n",
    "\n",
    "\n",
    "def comparacion_tiempos():\n",
    "    \n",
    "    for i in range (2,11):\n",
    "        a=np.random.rand(i,i)\n",
    "        \n",
    "        inicio_1 = time.time()\n",
    "        laplace_det(a)\n",
    "        fin_1 = time.time()\n",
    "        tiempo_1 = fin_1 - inicio_1\n",
    "\n",
    "\n",
    "        inicio_2 = time.time()\n",
    "        determinante_gauss(a)\n",
    "        fin_2 = time.time()\n",
    "        tiempo_2 = fin_2 - inicio_2\n",
    "\n",
    "\n",
    "        inicio_3 = time.time()\n",
    "        np.linalg.det(a)\n",
    "        fin_3 = time.time()\n",
    "        tiempo_3 = fin_3 - inicio_3\n",
    "\n",
    "\n",
    "        print(\"Tiempo de ejecución de Laplace:\", tiempo_1, \"segundos\")\n",
    "        print(\"Tiempo de ejecución de Gauss:\", tiempo_2, \"segundos\")\n",
    "        print(\"Tiempo de ejecución de funcion predeterminada:\", tiempo_3, \"segundos\")\n",
    "        print(f'\\n Matrices {i}x{i}\\n\\n')"
   ]
  },
  {
   "cell_type": "code",
   "execution_count": 30,
   "metadata": {},
   "outputs": [
    {
     "name": "stdout",
     "output_type": "stream",
     "text": [
      "Tiempo de ejecución de Laplace: 0.0 segundos\n",
      "Tiempo de ejecución de Gauss: 0.0 segundos\n",
      "Tiempo de ejecución de funcion predeterminada: 0.0 segundos\n",
      "\n",
      " Matrices 2x2\n",
      "\n",
      "\n",
      "Tiempo de ejecución de Laplace: 0.0009963512420654297 segundos\n",
      "Tiempo de ejecución de Gauss: 0.0 segundos\n",
      "Tiempo de ejecución de funcion predeterminada: 0.0 segundos\n",
      "\n",
      " Matrices 3x3\n",
      "\n",
      "\n",
      "Tiempo de ejecución de Laplace: 0.003003835678100586 segundos\n",
      "Tiempo de ejecución de Gauss: 0.0 segundos\n",
      "Tiempo de ejecución de funcion predeterminada: 0.0 segundos\n",
      "\n",
      " Matrices 4x4\n",
      "\n",
      "\n",
      "Tiempo de ejecución de Laplace: 0.007971048355102539 segundos\n",
      "Tiempo de ejecución de Gauss: 0.0 segundos\n",
      "Tiempo de ejecución de funcion predeterminada: 0.0 segundos\n",
      "\n",
      " Matrices 5x5\n",
      "\n",
      "\n",
      "Tiempo de ejecución de Laplace: 0.04123258590698242 segundos\n",
      "Tiempo de ejecución de Gauss: 0.0 segundos\n",
      "Tiempo de ejecución de funcion predeterminada: 0.0 segundos\n",
      "\n",
      " Matrices 6x6\n",
      "\n",
      "\n",
      "Tiempo de ejecución de Laplace: 0.12576889991760254 segundos\n",
      "Tiempo de ejecución de Gauss: 0.0 segundos\n",
      "Tiempo de ejecución de funcion predeterminada: 0.0 segundos\n",
      "\n",
      " Matrices 7x7\n",
      "\n",
      "\n",
      "Tiempo de ejecución de Laplace: 1.0277600288391113 segundos\n",
      "Tiempo de ejecución de Gauss: 0.0 segundos\n",
      "Tiempo de ejecución de funcion predeterminada: 0.0 segundos\n",
      "\n",
      " Matrices 8x8\n",
      "\n",
      "\n",
      "Tiempo de ejecución de Laplace: 8.985455513000488 segundos\n",
      "Tiempo de ejecución de Gauss: 0.0 segundos\n",
      "Tiempo de ejecución de funcion predeterminada: 0.0 segundos\n",
      "\n",
      " Matrices 9x9\n",
      "\n",
      "\n",
      "Tiempo de ejecución de Laplace: 92.3234806060791 segundos\n",
      "Tiempo de ejecución de Gauss: 0.0 segundos\n",
      "Tiempo de ejecución de funcion predeterminada: 0.0 segundos\n",
      "\n",
      " Matrices 10x10\n",
      "\n",
      "\n"
     ]
    }
   ],
   "source": [
    "comparacion_tiempos()"
   ]
  },
  {
   "cell_type": "code",
   "execution_count": null,
   "metadata": {},
   "outputs": [],
   "source": []
  }
 ],
 "metadata": {
  "colab": {
   "provenance": []
  },
  "kernelspec": {
   "display_name": "Python 3 (ipykernel)",
   "language": "python",
   "name": "python3"
  },
  "language_info": {
   "codemirror_mode": {
    "name": "ipython",
    "version": 3
   },
   "file_extension": ".py",
   "mimetype": "text/x-python",
   "name": "python",
   "nbconvert_exporter": "python",
   "pygments_lexer": "ipython3",
   "version": "3.10.9"
  }
 },
 "nbformat": 4,
 "nbformat_minor": 4
}
