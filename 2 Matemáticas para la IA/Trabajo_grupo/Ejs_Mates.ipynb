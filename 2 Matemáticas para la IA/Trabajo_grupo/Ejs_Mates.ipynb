{
 "cells": [
  {
   "cell_type": "code",
   "execution_count": 1,
   "metadata": {
    "id": "8VU0zVLTC9Wm"
   },
   "outputs": [],
   "source": [
    "import numpy as np\n",
    "import matplotlib.pyplot as plt\n",
    "import math\n",
    "import time"
   ]
  },
  {
   "cell_type": "markdown",
   "metadata": {},
   "source": [
    "En esta celda se crea una matriz $nxn$ aleatoria para trabajar con los siguientes ejercicios"
   ]
  },
  {
   "cell_type": "code",
   "execution_count": 2,
   "metadata": {
    "colab": {
     "base_uri": "https://localhost:8080/"
    },
    "id": "LUOXwTP-Gzlj",
    "outputId": "a2340354-1d51-4b28-ed9e-9290e88a622b"
   },
   "outputs": [
    {
     "name": "stdout",
     "output_type": "stream",
     "text": [
      "[[4 3 5]\n",
      " [1 0 5]\n",
      " [8 5 4]] \n",
      "\n",
      "3 \n",
      "\n"
     ]
    }
   ],
   "source": [
    "\n",
    "#Matriz de trabajo aleatoria\n",
    "a = np.random.randint(0,9, size=(3,3))\n",
    "print(a,'\\n')\n",
    "print(len(a),'\\n')\n"
   ]
  },
  {
   "cell_type": "code",
   "execution_count": 3,
   "metadata": {
    "colab": {
     "base_uri": "https://localhost:8080/"
    },
    "id": "VhkvSyypHWeg",
    "outputId": "88b27148-0b1d-4825-dc57-6f9ab07743d0"
   },
   "outputs": [
    {
     "name": "stdout",
     "output_type": "stream",
     "text": [
      "True\n"
     ]
    }
   ],
   "source": [
    "def isSquare (m):\n",
    "  for row in m:\n",
    "    if len(row)== len(m):\n",
    "      return True\n",
    "print(isSquare(a))"
   ]
  },
  {
   "cell_type": "markdown",
   "metadata": {},
   "source": [
    "**Ejercicio 1)**"
   ]
  },
  {
   "cell_type": "code",
   "execution_count": 4,
   "metadata": {
    "id": "c7wyI-J-NX4w"
   },
   "outputs": [
    {
     "name": "stdout",
     "output_type": "stream",
     "text": [
      "det=  33\n"
     ]
    }
   ],
   "source": [
    "#1a)\n",
    "\n",
    "def laplace_det(matrix):\n",
    "    n = matrix.shape[0] \n",
    "    \n",
    "    # matriz 1x1\n",
    "    if n == 1:\n",
    "        return matrix[0, 0]\n",
    "    \n",
    "    det_matrix = 0  # Det inicializado a 0\n",
    "    \n",
    "    for j in range(n):\n",
    "        #print('Matriz que tomo:\\n',np.delete(np.delete(matrix, 0, 0), j, 1),'\\n')\n",
    "        \n",
    "        cofactor = (-1) ** j * laplace_det(np.delete(np.delete(matrix, 0, 0), j, 1)) #Borro filas coluumnas quedandome con lo que borro\n",
    "        \n",
    "        det_matrix += matrix[0, j] * cofactor\n",
    "    \n",
    "    return det_matrix\n",
    "\n",
    "\n",
    "print('det= ',laplace_det(a))"
   ]
  },
  {
   "cell_type": "code",
   "execution_count": 5,
   "metadata": {
    "colab": {
     "base_uri": "https://localhost:8080/"
    },
    "id": "gLl28svXP_4o",
    "outputId": "3e1890d7-07d6-4242-c8eb-7655609cbf43"
   },
   "outputs": [
    {
     "name": "stdout",
     "output_type": "stream",
     "text": [
      "[[ 1  2 -6]\n",
      " [ 0  0  3]\n",
      " [ 0  0  4]]\n",
      "Det=  0\n"
     ]
    }
   ],
   "source": [
    "#1b)\n",
    "\n",
    "A=np.array([[1,2,-6],[0,0,3],[0,0,4]])\n",
    "print(A)\n",
    "\n",
    "\n",
    "det =1\n",
    "for k in range(len(A)):\n",
    "  det*=A[k][k]            #Multiplicacion de los elementos de la diagonal\n",
    "\n",
    "print('Det= ', det)\n"
   ]
  },
  {
   "cell_type": "code",
   "execution_count": 6,
   "metadata": {
    "colab": {
     "base_uri": "https://localhost:8080/"
    },
    "id": "zE4VRTi5n3Hc",
    "outputId": "b8920387-dd87-4103-d3f0-dfca210f1a11"
   },
   "outputs": [
    {
     "name": "stdout",
     "output_type": "stream",
     "text": [
      "[[4 3 5]\n",
      " [1 0 5]\n",
      " [8 5 4]]\n",
      "det=  33 \n",
      "\n",
      "[[1 0 5]\n",
      " [4 3 5]\n",
      " [8 5 4]]\n",
      "det=  -33\n"
     ]
    }
   ],
   "source": [
    "# 1C.1)\n",
    "\n",
    "B=a  #Matriz del primer bloque\n",
    "print(B)\n",
    "\n",
    "print('det= ', round(np.linalg.det(a)),'\\n')\n",
    "B[[0, 1]] = B[[1, 0]]\n",
    "\n",
    "print(B)\n",
    "print('det= ', round(np.linalg.det(a)))\n",
    "#Intercambiando filas/ columnas cambia el signo del determinante."
   ]
  },
  {
   "cell_type": "code",
   "execution_count": 7,
   "metadata": {
    "id": "jsvlgiYcpoqQ"
   },
   "outputs": [
    {
     "name": "stdout",
     "output_type": "stream",
     "text": [
      "[[1 0 5]\n",
      " [4 3 5]\n",
      " [8 5 4]] \n",
      "\n",
      "Determinante inicial: -33\n",
      "Determinante después de la suma: -33\n",
      "Determinante después de la suma * escalar: -33\n"
     ]
    }
   ],
   "source": [
    "#1C.2)\n",
    "\n",
    "\n",
    "print(a,'\\n')\n",
    "det_inicial = np.linalg.det(a)\n",
    "print(\"Determinante inicial:\", round(det_inicial))\n",
    "\n",
    "# fila + fila\n",
    "a[2] = a[2] + a[0]\n",
    "det_suma = np.linalg.det(a)\n",
    "print(\"Determinante después de la suma:\", round(det_suma))\n",
    "\n",
    "# fila por otra fila multiplicada por un escalar\n",
    "a[2] = a[2] + 2 * a[0]\n",
    "\n",
    "det_suma_escalar = np.linalg.det(a)\n",
    "print(\"Determinante después de la suma * escalar:\", round(det_suma_escalar))\n",
    "\n",
    "#sumar una combinación lineal de filas (o columnas) no cambian el determinante."
   ]
  },
  {
   "cell_type": "markdown",
   "metadata": {},
   "source": [
    "**Eliminación Gauss**\n",
    "\n",
    "Para el convertir la matriz en una triangular inferior , se ha hecho la eliminacion gauss para convertirla en una triangular superior y posteriormente se ha transpuesto la matriz , ya que esa transformacion no afecta al coste computacional."
   ]
  },
  {
   "cell_type": "code",
   "execution_count": 8,
   "metadata": {},
   "outputs": [
    {
     "name": "stdout",
     "output_type": "stream",
     "text": [
      "[[11.          5.         19.        ]\n",
      " [ 0.          1.18181818 -1.90909091]\n",
      " [ 0.          0.          2.53846154]]\n",
      "[[11.          0.          0.        ]\n",
      " [ 5.          1.18181818  0.        ]\n",
      " [19.         -1.90909091  2.53846154]] \n",
      "\n",
      "\n"
     ]
    }
   ],
   "source": [
    "#1D)\n",
    "import numpy as np\n",
    "\n",
    "def eliminacion_gauss(A):\n",
    "    A = A.astype('float64')  #matriz a float\n",
    "    \n",
    "    m, n = A.shape\n",
    "    for i in range(m):\n",
    "        # Encuentra el pivote máximo en la columna actual\n",
    "        pivot_row = np.argmax(np.abs(A[i:, i])) + i\n",
    "        \n",
    "        # Intercambia filas si es necesario\n",
    "        if pivot_row != i:\n",
    "            A[[i, pivot_row]] = A[[pivot_row, i]]\n",
    "        \n",
    "        # Aplica eliminación gaussiana a las filas siguientes\n",
    "        for j in range(i+1, m):\n",
    "            factor = A[j, i] / A[i, i]\n",
    "            A[j, i:] -= factor * A[i, i:]\n",
    "                        \n",
    "    print(A)\n",
    "    A=A.T      \n",
    "            \n",
    "    return A\n",
    "\n",
    "matriz_triangular = eliminacion_gauss(a)\n",
    "#print(a)\n",
    "print(matriz_triangular,'\\n\\n')"
   ]
  },
  {
   "cell_type": "code",
   "execution_count": 9,
   "metadata": {},
   "outputs": [
    {
     "name": "stdout",
     "output_type": "stream",
     "text": [
      "Det=  -33\n"
     ]
    }
   ],
   "source": [
    "#1E)\n",
    "\n",
    "def determinante_gauss(A):\n",
    "    A = A.astype('float64')  #matriz a float\n",
    "    \n",
    "    m, n = A.shape\n",
    "    for i in range(m):\n",
    "        \n",
    "        pivot_row = np.argmax(np.abs(A[i:, i])) + i\n",
    "        \n",
    "        if pivot_row != i:\n",
    "            A[[i, pivot_row]] = A[[pivot_row, i]]\n",
    "        \n",
    "        for j in range(i+1, m):\n",
    "            factor = A[j, i] / A[i, i]\n",
    "            A[j, i:] -= factor * A[i, i:]\n",
    "                       \n",
    "    #print(A)\n",
    "    A=A.T        \n",
    "    det =1\n",
    "    for k in range(len(A)):\n",
    "      det*=A[k][k]\n",
    "    return det\n",
    "\n",
    "print('Det= ', round(determinante_gauss(matriz_triangular)))"
   ]
  },
  {
   "cell_type": "markdown",
   "metadata": {},
   "source": [
    "**Para comprobar como varia la complejidad computacional en funcion del tamaño de la matriz basta con ajustar la matriz inicial del documento**"
   ]
  },
  {
   "cell_type": "code",
   "execution_count": 10,
   "metadata": {},
   "outputs": [
    {
     "name": "stdout",
     "output_type": "stream",
     "text": [
      "Complejidad computacional gauss =  27\n",
      "Complejidad computacional eliminacion recursiva Laplace=  6 \n",
      "\n"
     ]
    }
   ],
   "source": [
    "#1F)\n",
    "\n",
    "print('Complejidad computacional gauss = ', len(a)**3)\n",
    "print('Complejidad computacional eliminacion recursiva Laplace= ', math.factorial(len(a)), '\\n' )"
   ]
  },
  {
   "cell_type": "markdown",
   "metadata": {},
   "source": [
    "**Es mas optimo utilizar la eliminacion de gauss a medida que las matrices son mas grandes**"
   ]
  },
  {
   "cell_type": "code",
   "execution_count": 11,
   "metadata": {},
   "outputs": [],
   "source": [
    "#1G)\n",
    "\n",
    "\n",
    "def comparacion_tiempos():\n",
    "    \n",
    "    for i in range (2,11):\n",
    "        a=np.random.rand(i,i)\n",
    "        \n",
    "        inicio_1 = time.time()\n",
    "        laplace_det(a)\n",
    "        fin_1 = time.time()\n",
    "        tiempo_1 = (fin_1 - inicio_1)*1e6\n",
    "        \n",
    "\n",
    "        inicio_2 = time.time()\n",
    "        determinante_gauss(a)\n",
    "        fin_2 = time.time()\n",
    "        tiempo_2 = (fin_2 - inicio_2)*1e6\n",
    "\n",
    "\n",
    "        inicio_3 = time.time()\n",
    "        np.linalg.det(a)\n",
    "        fin_3 = time.time()\n",
    "        tiempo_3 = (fin_3 - inicio_3)*1e6\n",
    "\n",
    "\n",
    "        print(\"Tiempo de ejecución de Laplace:\", tiempo_1, \"microsegundos\")\n",
    "        print(\"Tiempo de ejecución de Gauss:\", tiempo_2, \"microsegundos\")\n",
    "        print(\"Tiempo de ejecución de funcion predeterminada:\", tiempo_3, \"microsegundos\")\n",
    "        print(f'\\n Matrices {i}x{i}\\n\\n')"
   ]
  },
  {
   "cell_type": "code",
   "execution_count": 12,
   "metadata": {},
   "outputs": [
    {
     "name": "stdout",
     "output_type": "stream",
     "text": [
      "Tiempo de ejecución de Laplace: 0.0 microsegundos\n",
      "Tiempo de ejecución de Gauss: 0.0 microsegundos\n",
      "Tiempo de ejecución de funcion predeterminada: 996.8280792236328 microsegundos\n",
      "\n",
      " Matrices 2x2\n",
      "\n",
      "\n",
      "Tiempo de ejecución de Laplace: 0.0 microsegundos\n",
      "Tiempo de ejecución de Gauss: 996.3512420654297 microsegundos\n",
      "Tiempo de ejecución de funcion predeterminada: 0.0 microsegundos\n",
      "\n",
      " Matrices 3x3\n",
      "\n",
      "\n",
      "Tiempo de ejecución de Laplace: 2993.345260620117 microsegundos\n",
      "Tiempo de ejecución de Gauss: 0.0 microsegundos\n",
      "Tiempo de ejecución de funcion predeterminada: 0.0 microsegundos\n",
      "\n",
      " Matrices 4x4\n",
      "\n",
      "\n",
      "Tiempo de ejecución de Laplace: 9816.884994506836 microsegundos\n",
      "Tiempo de ejecución de Gauss: 0.0 microsegundos\n",
      "Tiempo de ejecución de funcion predeterminada: 0.0 microsegundos\n",
      "\n",
      " Matrices 5x5\n",
      "\n",
      "\n",
      "Tiempo de ejecución de Laplace: 26467.323303222656 microsegundos\n",
      "Tiempo de ejecución de Gauss: 998.9738464355469 microsegundos\n",
      "Tiempo de ejecución de funcion predeterminada: 0.0 microsegundos\n",
      "\n",
      " Matrices 6x6\n",
      "\n",
      "\n",
      "Tiempo de ejecución de Laplace: 135537.38594055176 microsegundos\n",
      "Tiempo de ejecución de Gauss: 0.0 microsegundos\n",
      "Tiempo de ejecución de funcion predeterminada: 0.0 microsegundos\n",
      "\n",
      " Matrices 7x7\n",
      "\n",
      "\n",
      "Tiempo de ejecución de Laplace: 1009803.056716919 microsegundos\n",
      "Tiempo de ejecución de Gauss: 0.0 microsegundos\n",
      "Tiempo de ejecución de funcion predeterminada: 0.0 microsegundos\n",
      "\n",
      " Matrices 8x8\n",
      "\n",
      "\n",
      "Tiempo de ejecución de Laplace: 8974531.650543213 microsegundos\n",
      "Tiempo de ejecución de Gauss: 0.0 microsegundos\n",
      "Tiempo de ejecución de funcion predeterminada: 0.0 microsegundos\n",
      "\n",
      " Matrices 9x9\n",
      "\n",
      "\n",
      "Tiempo de ejecución de Laplace: 87632291.31698608 microsegundos\n",
      "Tiempo de ejecución de Gauss: 0.0 microsegundos\n",
      "Tiempo de ejecución de funcion predeterminada: 0.0 microsegundos\n",
      "\n",
      " Matrices 10x10\n",
      "\n",
      "\n"
     ]
    }
   ],
   "source": [
    "comparacion_tiempos()"
   ]
  },
  {
   "cell_type": "code",
   "execution_count": null,
   "metadata": {},
   "outputs": [],
   "source": []
  }
 ],
 "metadata": {
  "colab": {
   "provenance": []
  },
  "kernelspec": {
   "display_name": "Python 3 (ipykernel)",
   "language": "python",
   "name": "python3"
  },
  "language_info": {
   "codemirror_mode": {
    "name": "ipython",
    "version": 3
   },
   "file_extension": ".py",
   "mimetype": "text/x-python",
   "name": "python",
   "nbconvert_exporter": "python",
   "pygments_lexer": "ipython3",
   "version": "3.10.9"
  }
 },
 "nbformat": 4,
 "nbformat_minor": 4
}
