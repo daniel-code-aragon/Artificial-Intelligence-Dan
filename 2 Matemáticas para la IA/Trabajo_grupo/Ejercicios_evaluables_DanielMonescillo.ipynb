{
  "cells": [
    {
      "cell_type": "markdown",
      "id": "614baf4b-b7d2-4269-b2f5-dc655cdec49b",
      "metadata": {
        "tags": [],
        "id": "614baf4b-b7d2-4269-b2f5-dc655cdec49b"
      },
      "source": [
        "# Ejercicios evaluables - Matemáticas para la IA"
      ]
    },
    {
      "cell_type": "code",
      "execution_count": null,
      "id": "886cb707-50b1-47d2-b356-2bbf78a9cea6",
      "metadata": {
        "id": "886cb707-50b1-47d2-b356-2bbf78a9cea6"
      },
      "outputs": [],
      "source": [
        "import numpy as np\n",
        "import numpy.linalg as linalg\n",
        "import math\n",
        "import time"
      ]
    },
    {
      "cell_type": "markdown",
      "id": "8166a47e-28d5-454b-a254-a525e1fc16fc",
      "metadata": {
        "id": "8166a47e-28d5-454b-a254-a525e1fc16fc"
      },
      "source": [
        "### Ejercicio 1"
      ]
    },
    {
      "cell_type": "markdown",
      "id": "87541bf1-bc94-4cf8-a6bb-133889a35ad6",
      "metadata": {
        "id": "87541bf1-bc94-4cf8-a6bb-133889a35ad6"
      },
      "source": [
        "#### Apartado a)\n",
        "\n",
        "Se implementa una función que calcule el determinante con la definición de Laplace."
      ]
    },
    {
      "cell_type": "code",
      "execution_count": null,
      "id": "9dce4b9a-4630-45b8-9f40-505b54d98ac6",
      "metadata": {
        "id": "9dce4b9a-4630-45b8-9f40-505b54d98ac6"
      },
      "outputs": [],
      "source": [
        "def determinante_recursivo(matrix):\n",
        "    n = matrix.shape[0]\n",
        "\n",
        "    if n != matrix.shape[1]:\n",
        "        return 'No existe, la matriz no es cuadrada'\n",
        "\n",
        "    if n == 1:\n",
        "        return matrix[0, 0]\n",
        "\n",
        "    det_matrix = 0  # Det inicializado a 0\n",
        "\n",
        "    for j in range(n):\n",
        "        cofactor = (-1) ** j * determinante_recursivo(np.delete(np.delete(matrix, 0, 0), j, 1))\n",
        "        det_matrix += matrix[0, j] * cofactor\n",
        "\n",
        "    return det_matrix"
      ]
    },
    {
      "cell_type": "markdown",
      "id": "0407e11e-52a0-4caf-9bf7-5edf9fa490c8",
      "metadata": {
        "id": "0407e11e-52a0-4caf-9bf7-5edf9fa490c8"
      },
      "source": [
        "Matriz de prueba:"
      ]
    },
    {
      "cell_type": "code",
      "execution_count": null,
      "id": "db7a4b15-f04a-4cd6-bab9-fd1e222f599e",
      "metadata": {
        "id": "db7a4b15-f04a-4cd6-bab9-fd1e222f599e",
        "outputId": "14580c51-8507-4bbe-9384-658fbdac0d23"
      },
      "outputs": [
        {
          "name": "stdout",
          "output_type": "stream",
          "text": [
            "[[6 4 2 8 7]\n",
            " [0 2 0 7 3]\n",
            " [5 5 8 4 3]\n",
            " [6 0 4 1 4]\n",
            " [1 0 8 3 2]] \n",
            "\n",
            "det(A) = 1014\n"
          ]
        }
      ],
      "source": [
        "A = np.random.randint(0,9, size=(5,5))\n",
        "det = determinante_recursivo(A)\n",
        "print(A, '\\n')\n",
        "print('det(A) =', det)"
      ]
    },
    {
      "cell_type": "markdown",
      "id": "8b0780e4-890b-4fbd-8c31-dc82608b8c3e",
      "metadata": {
        "id": "8b0780e4-890b-4fbd-8c31-dc82608b8c3e"
      },
      "source": [
        "#### Apartado b)\n",
        "\n",
        "Si la matriz es triangular, el determinante será igual al producto de la diagonal. Esto se debe a que basta calcular el determinante por la fila o columna donde son todo ceros menos un elemento, y así sucesivamente. Se crea ahora una función que calcule el determinante de una matriz triangular:"
      ]
    },
    {
      "cell_type": "code",
      "execution_count": null,
      "id": "32fac171-8446-471e-bf42-b6acbcdf5a8c",
      "metadata": {
        "id": "32fac171-8446-471e-bf42-b6acbcdf5a8c"
      },
      "outputs": [],
      "source": [
        "def determinante_triangular(matrix):\n",
        "\n",
        "    det = 1\n",
        "\n",
        "    for i in range(matrix.shape[0]):\n",
        "        det *= matrix[i,i]\n",
        "\n",
        "    return det"
      ]
    },
    {
      "cell_type": "markdown",
      "id": "c96373e0-249f-4522-afb5-f78f08795516",
      "metadata": {
        "id": "c96373e0-249f-4522-afb5-f78f08795516"
      },
      "source": [
        "#### Apartado c)\n",
        "Si se intercambia una fila por otra fila o una columna por otra columna entonces el determinante queda multiplicado por -1.\n",
        "\n",
        "\n",
        "\n",
        "Por otro lado, si a una fila (o columna) se le suma otra fila (o columna) multiplicada por un escalar $\\alpha$, el determinante no se ve afectado."
      ]
    },
    {
      "cell_type": "markdown",
      "id": "e78884be-d715-47f9-b4ba-36c8e783d5c6",
      "metadata": {
        "id": "e78884be-d715-47f9-b4ba-36c8e783d5c6"
      },
      "source": [
        "#### Apartado d)"
      ]
    },
    {
      "cell_type": "code",
      "execution_count": null,
      "id": "c56bf137-402e-4942-b9df-7f2dcd695366",
      "metadata": {
        "id": "c56bf137-402e-4942-b9df-7f2dcd695366",
        "outputId": "44b9b211-8376-42ad-f389-8056e646a11e"
      },
      "outputs": [
        {
          "name": "stdout",
          "output_type": "stream",
          "text": [
            "[[ 6.          0.          0.          0.          0.        ]\n",
            " [ 4.         -4.          0.          0.          0.        ]\n",
            " [ 2.          2.          7.33333333  0.          0.        ]\n",
            " [ 8.         -7.          2.83333333 -8.35227273  0.        ]\n",
            " [ 7.         -3.          1.33333333 -5.38636364 -0.68979592]] \n",
            "\n",
            "\n"
          ]
        },
        {
          "data": {
            "text/plain": [
              "3"
            ]
          },
          "execution_count": 7,
          "metadata": {},
          "output_type": "execute_result"
        }
      ],
      "source": [
        "def eliminacion_gauss(A):\n",
        "    A = A.astype('float64')  #matriz a float\n",
        "    cont = 0 # Contador que cuenta los cambios de filas\n",
        "\n",
        "    m, n = A.shape\n",
        "    for i in range(m):\n",
        "        # Encuentra el pivote máximo en la columna actual\n",
        "        pivot_row = np.argmax(np.abs(A[i:, i])) + i\n",
        "\n",
        "        # Intercambia filas si es necesario\n",
        "        if pivot_row != i:\n",
        "            A[[i, pivot_row]] = A[[pivot_row, i]]\n",
        "            cont += 1\n",
        "\n",
        "        # Aplica eliminación gaussiana a las filas siguientes\n",
        "        for j in range(i+1, m):\n",
        "            factor = A[j, i] / A[i, i]\n",
        "            A[j, i:] -= factor * A[i, i:]\n",
        "\n",
        "    A = A.T\n",
        "\n",
        "    return (A,cont)\n",
        "\n",
        "matriz_triangular, n_cambio_filas = eliminacion_gauss(A)\n",
        "print(matriz_triangular,'\\n\\n')\n",
        "n_cambio_filas"
      ]
    },
    {
      "cell_type": "markdown",
      "id": "06700378-8e49-45d9-bcc2-fb390c94bbd0",
      "metadata": {
        "tags": [],
        "id": "06700378-8e49-45d9-bcc2-fb390c94bbd0"
      },
      "source": [
        "#### Apartado e)\n",
        "\n",
        "Basta realizar a una matriz el método de eliminación de Gauss con pivoteo parcial y luego calcular el determinante a partir del producto de los elementos de la diagonal. Esto es consecuencia de que sumar a una fila otra fila multiplicada por un escalar no altera el determinante. También hay que tener en cuenta que al usar pivotaje parcial estamos intercambiando filas, luego hay que multiplicar por el determinante por $(-1)^j$, siendo $j$ el número total de veces que hemos intercambiado dos filas.\n",
        "\n",
        "Se implementa a continuación dicha función:"
      ]
    },
    {
      "cell_type": "code",
      "execution_count": null,
      "id": "b903cad6-d5f3-47f9-b5c9-cdf0414b7948",
      "metadata": {
        "id": "b903cad6-d5f3-47f9-b5c9-cdf0414b7948"
      },
      "outputs": [],
      "source": [
        "def determinante_gauss(matrix):\n",
        "    triang, j = eliminacion_gauss(matrix)\n",
        "    return determinante_triangular(triang)*(-1)**j"
      ]
    },
    {
      "cell_type": "code",
      "execution_count": null,
      "id": "1dc8d964-6a0e-4a65-9582-006a058a2798",
      "metadata": {
        "id": "1dc8d964-6a0e-4a65-9582-006a058a2798",
        "outputId": "831cef62-16ef-41e3-d7ac-8588ad872e89"
      },
      "outputs": [
        {
          "name": "stdout",
          "output_type": "stream",
          "text": [
            "[[6 4 2 8 7]\n",
            " [0 2 0 7 3]\n",
            " [5 5 8 4 3]\n",
            " [6 0 4 1 4]\n",
            " [1 0 8 3 2]] \n",
            "\n",
            "det(A) = 1014\n"
          ]
        }
      ],
      "source": [
        "det = determinante_gauss(A)\n",
        "print(A, '\\n')\n",
        "print('det(A) =', round(det))"
      ]
    },
    {
      "cell_type": "markdown",
      "id": "a9f78c3c-c9e2-4bf8-8683-223b9897c450",
      "metadata": {
        "id": "a9f78c3c-c9e2-4bf8-8683-223b9897c450"
      },
      "source": [
        "Observamos como obtenemos el mismo resultado que usando la función *determinante_recursivo*."
      ]
    },
    {
      "cell_type": "markdown",
      "id": "3314e86d-560f-4d26-b365-1fc17eeaba4d",
      "metadata": {
        "tags": [],
        "id": "3314e86d-560f-4d26-b365-1fc17eeaba4d"
      },
      "source": [
        "#### Apartado f)\n",
        "\n",
        "El número total de operaciones para realizar eliminación gaussiana sobre una matriz cuadrada de tamaño $n$ es:\n",
        "\n",
        "$$\\frac{n(n+1)}{2}+ \\frac{2n^3+3n^2-5n}{6} + \\frac{2n^3+3n^2-5n}{6},$$\n",
        "\n",
        "correspondientes al número de divisiones, número de multiplicaciones y números de restas respectivamente. El número de operaciones para calcular el determinante una vez hecha la eliminación gaussiana es exactamente $n-1$ productos, luego el coste computacional es del orden de $O(n^3)$.\n",
        "\n",
        "Por otro lado, utilizando la definición de determinante, al ser una función recursiva, el coste computacional se comporta asintóticamente como $O(n!)$.\n",
        "\n",
        "Todo esto nos indica que para matrices pequeñas ($n$ aproximadamente menor que 6) es mejor usar la definición recursiva, pero para tamaños mayores es mucho más eficiente utilizar el metodo de eliminación de Gauss con pivoteo parcial."
      ]
    },
    {
      "cell_type": "markdown",
      "id": "d102c116-843a-4503-b91e-85edfa41f09e",
      "metadata": {
        "id": "d102c116-843a-4503-b91e-85edfa41f09e"
      },
      "source": [
        "#### Apartado g)"
      ]
    },
    {
      "cell_type": "code",
      "execution_count": null,
      "id": "6b8bc458-7ffe-4eb6-ae60-6b3b979e1af3",
      "metadata": {
        "id": "6b8bc458-7ffe-4eb6-ae60-6b3b979e1af3"
      },
      "outputs": [],
      "source": [
        "def comparacion_tiempos():\n",
        "\n",
        "    for i in range (2,11):\n",
        "        a=np.random.rand(i,i)\n",
        "\n",
        "        inicio_1 = time.time()\n",
        "        determinante_recursivo(a)\n",
        "        fin_1 = time.time()\n",
        "        tiempo_1 = (fin_1 - inicio_1)*1e6\n",
        "\n",
        "        inicio_2 = time.time()\n",
        "        determinante_gauss(a)\n",
        "        fin_2 = time.time()\n",
        "        tiempo_2 = (fin_2 - inicio_2)*1e6\n",
        "\n",
        "        inicio_3 = time.time()\n",
        "        np.linalg.det(a)\n",
        "        fin_3 = time.time()\n",
        "        tiempo_3 = (fin_3 - inicio_3)*1e6\n",
        "\n",
        "        print(f'\\n Matrices {i}x{i}:\\n')\n",
        "        print(\"Tiempo de ejecución de Laplace:\", tiempo_1, \"microsegundos\")\n",
        "        print(\"Tiempo de ejecución de Gauss:\", tiempo_2, \"microsegundos\")\n",
        "        print(\"Tiempo de ejecución de funcion predeterminada:\", tiempo_3, \"microsegundos\")"
      ]
    },
    {
      "cell_type": "code",
      "execution_count": null,
      "id": "0e261f7b-4a68-4e38-b97b-7c7c4f5f93b7",
      "metadata": {
        "id": "0e261f7b-4a68-4e38-b97b-7c7c4f5f93b7",
        "outputId": "968ceef5-4488-4ee9-cc26-1b7a08bd966b"
      },
      "outputs": [
        {
          "name": "stdout",
          "output_type": "stream",
          "text": [
            "\n",
            " Matrices 2x2:\n",
            "\n",
            "Tiempo de ejecución de Laplace: 0.0 microsegundos\n",
            "Tiempo de ejecución de Gauss: 0.0 microsegundos\n",
            "Tiempo de ejecución de funcion predeterminada: 0.0 microsegundos\n",
            "\n",
            " Matrices 3x3:\n",
            "\n",
            "Tiempo de ejecución de Laplace: 0.0 microsegundos\n",
            "Tiempo de ejecución de Gauss: 0.0 microsegundos\n",
            "Tiempo de ejecución de funcion predeterminada: 0.0 microsegundos\n",
            "\n",
            " Matrices 4x4:\n",
            "\n",
            "Tiempo de ejecución de Laplace: 0.0 microsegundos\n",
            "Tiempo de ejecución de Gauss: 0.0 microsegundos\n",
            "Tiempo de ejecución de funcion predeterminada: 0.0 microsegundos\n",
            "\n",
            " Matrices 5x5:\n",
            "\n",
            "Tiempo de ejecución de Laplace: 8005.857467651367 microsegundos\n",
            "Tiempo de ejecución de Gauss: 0.0 microsegundos\n",
            "Tiempo de ejecución de funcion predeterminada: 0.0 microsegundos\n",
            "\n",
            " Matrices 6x6:\n",
            "\n",
            "Tiempo de ejecución de Laplace: 12289.047241210938 microsegundos\n",
            "Tiempo de ejecución de Gauss: 0.0 microsegundos\n",
            "Tiempo de ejecución de funcion predeterminada: 0.0 microsegundos\n",
            "\n",
            " Matrices 7x7:\n",
            "\n",
            "Tiempo de ejecución de Laplace: 81802.1297454834 microsegundos\n",
            "Tiempo de ejecución de Gauss: 0.0 microsegundos\n",
            "Tiempo de ejecución de funcion predeterminada: 0.0 microsegundos\n",
            "\n",
            " Matrices 8x8:\n",
            "\n",
            "Tiempo de ejecución de Laplace: 568659.0671539307 microsegundos\n",
            "Tiempo de ejecución de Gauss: 0.0 microsegundos\n",
            "Tiempo de ejecución de funcion predeterminada: 0.0 microsegundos\n",
            "\n",
            " Matrices 9x9:\n",
            "\n",
            "Tiempo de ejecución de Laplace: 5273430.585861206 microsegundos\n",
            "Tiempo de ejecución de Gauss: 0.0 microsegundos\n",
            "Tiempo de ejecución de funcion predeterminada: 0.0 microsegundos\n",
            "\n",
            " Matrices 10x10:\n",
            "\n",
            "Tiempo de ejecución de Laplace: 49730126.61933899 microsegundos\n",
            "Tiempo de ejecución de Gauss: 0.0 microsegundos\n",
            "Tiempo de ejecución de funcion predeterminada: 0.0 microsegundos\n"
          ]
        }
      ],
      "source": [
        "comparacion_tiempos()"
      ]
    },
    {
      "cell_type": "markdown",
      "id": "2fbb1c4d-ed8d-4557-9247-1f7f242b4807",
      "metadata": {
        "id": "2fbb1c4d-ed8d-4557-9247-1f7f242b4807"
      },
      "source": [
        "Observamos como el tiempo de ejecución en para Laplace es mucho mayor que en los otros dos casos, que son prácticamente inmediatos. Esto es consecuencia de lo comentado en el apartado de la complejidad computacional."
      ]
    },
    {
      "cell_type": "markdown",
      "id": "80d549f8-88ef-4554-a239-b5811383bac7",
      "metadata": {
        "id": "80d549f8-88ef-4554-a239-b5811383bac7"
      },
      "source": [
        "### Ejercicio 2"
      ]
    },
    {
      "cell_type": "markdown",
      "id": "6beff7b7-f4bc-4502-bda7-7f21127b7e0a",
      "metadata": {
        "id": "6beff7b7-f4bc-4502-bda7-7f21127b7e0a"
      },
      "source": [
        "#### Apartado a)"
      ]
    },
    {
      "cell_type": "markdown",
      "id": "4c8fbe46-3950-4948-bde4-f31217ef8367",
      "metadata": {
        "id": "4c8fbe46-3950-4948-bde4-f31217ef8367"
      },
      "source": [
        "Se define en primer lugar la función *grad_func*, que tiene dos parámetros: el punto donde se evalua el gradiente y la función cuyo gradiente hay que calcular (o derivada en el caso unidimensional). Aquí es donde se crean los gradientes de las funciones f y g del enunciado.\n"
      ]
    },
    {
      "cell_type": "code",
      "execution_count": null,
      "id": "09356b01-36f5-4e12-8f5a-87bd9388b092",
      "metadata": {
        "id": "09356b01-36f5-4e12-8f5a-87bd9388b092"
      },
      "outputs": [],
      "source": [
        "def grad_func(x, funcion):\n",
        "\n",
        "    if funcion == 'f':\n",
        "        y = 12*(x**3)+12*(x**2)-24*x\n",
        "    else:\n",
        "        y = np.array([2*x[0]+3*x[1], 3*(x[1]**2)+3*x[0]])\n",
        "    return y"
      ]
    },
    {
      "cell_type": "markdown",
      "id": "86595d44-0a49-4d58-b33a-bca02c963ac8",
      "metadata": {
        "id": "86595d44-0a49-4d58-b33a-bca02c963ac8"
      },
      "source": [
        "Diseñamos ahora la funcion que implementa el método de descenso de gradiente con los parámetros descritos más la función:"
      ]
    },
    {
      "cell_type": "code",
      "execution_count": null,
      "id": "093f8b67-9355-48de-95eb-e1bcacee3fa7",
      "metadata": {
        "id": "093f8b67-9355-48de-95eb-e1bcacee3fa7"
      },
      "outputs": [],
      "source": [
        "def descenso_grad(x, ratio, tol, maxit, funcion):\n",
        "\n",
        "    grad_norm = linalg.norm(grad_func(x, funcion))\n",
        "    cont = 0 #contador de iteraciones\n",
        "\n",
        "    while grad_norm >= tol and cont <= maxit:\n",
        "        grad = grad_func(x, funcion)\n",
        "        x = x - ratio*grad\n",
        "        grad_norm = linalg.norm(grad)\n",
        "        cont += 1\n",
        "\n",
        "    return x"
      ]
    },
    {
      "cell_type": "markdown",
      "id": "9e117ab3-f89c-4aac-b97e-669d4660f375",
      "metadata": {
        "id": "9e117ab3-f89c-4aac-b97e-669d4660f375"
      },
      "source": [
        "#### Apartado b)"
      ]
    },
    {
      "cell_type": "markdown",
      "id": "4b1cf424-d77a-45ed-91ed-c5c5fcdb23fb",
      "metadata": {
        "id": "4b1cf424-d77a-45ed-91ed-c5c5fcdb23fb"
      },
      "source": [
        "1) Se aplica el método sobre $f(x)$ con los parámetros indicados:"
      ]
    },
    {
      "cell_type": "code",
      "execution_count": null,
      "id": "40ebe5c0-1d33-4116-bd22-ec53935f2d18",
      "metadata": {
        "id": "40ebe5c0-1d33-4116-bd22-ec53935f2d18",
        "outputId": "d83afbf4-4875-4832-dd86-44a2b0cd3566"
      },
      "outputs": [
        {
          "data": {
            "text/plain": [
              "1.0000000000000266"
            ]
          },
          "execution_count": 56,
          "metadata": {},
          "output_type": "execute_result"
        }
      ],
      "source": [
        "descenso_grad(3, 0.001, 1e-12, 1e5, 'f')"
      ]
    },
    {
      "cell_type": "markdown",
      "id": "bc53c53b-c965-4156-af80-cd0dec2c4819",
      "metadata": {
        "id": "bc53c53b-c965-4156-af80-cd0dec2c4819"
      },
      "source": [
        "2) Se aplica el método sobre $f(x)$ con los parámetros indicados:"
      ]
    },
    {
      "cell_type": "code",
      "execution_count": null,
      "id": "2b4a53e6-5b44-47ff-9133-077d8c276111",
      "metadata": {
        "id": "2b4a53e6-5b44-47ff-9133-077d8c276111",
        "outputId": "8f374e3d-8e87-4eec-fdc4-99f522266d19"
      },
      "outputs": [
        {
          "data": {
            "text/plain": [
              "-1.9999999999999967"
            ]
          },
          "execution_count": 36,
          "metadata": {},
          "output_type": "execute_result"
        }
      ],
      "source": [
        "descenso_grad(3, 0.01, 1e-12, 1e5, 'f')"
      ]
    },
    {
      "cell_type": "markdown",
      "id": "dd5f6552-a332-4bff-975e-ee975f157ebd",
      "metadata": {
        "id": "dd5f6552-a332-4bff-975e-ee975f157ebd"
      },
      "source": [
        "3) Como $f'(x) = 12x(x^2+x-2)$, se deduce fácilmente que los ceros de la derivada son x=0, 1, -2. Evaluando dichos puntos en la segunda derivada\n",
        "\n",
        "$$f''(x) = 36x^2 +24x-24,$$\n",
        "\n",
        "se obtiene que:\n",
        "- $f''(0) = -24 < 0    ->0$ es un máximo.\n",
        "- $f''(1) = 36 > 0    -> 1$  es un mínimo.\n",
        "- $f''(-2) = 72 > 0    ->2$ es un mínimo.\n",
        "\n",
        "Aunque el punto inicial era el mismo para los apartados 1 y 2, el ratio era distinto. El ratio marca cuanto nos movemos en la dirección de máximo descenso. Por tanto, la elección de un ratio relativamente grande puede llegar a tener como consecuencia que converjamos a un mínimo que no es el más cercano al punto de partida. Incluso si el ratio es demasiado grande, el método puede llegar a no converger como se verá en el siguiente apartado."
      ]
    },
    {
      "cell_type": "markdown",
      "id": "fe0212b7-0191-4818-9bc3-928461397b0f",
      "metadata": {
        "id": "fe0212b7-0191-4818-9bc3-928461397b0f"
      },
      "source": [
        "4) Aplicamos el método sobre $f(x)$ con los parámetros indicados, pero al ejecutar nos da un error de que el valor es demasiado grande de calcular."
      ]
    },
    {
      "cell_type": "code",
      "execution_count": null,
      "id": "f9cc781d-563b-4cf4-b130-879a1288c40c",
      "metadata": {
        "id": "f9cc781d-563b-4cf4-b130-879a1288c40c",
        "outputId": "a504c048-166c-444f-d06a-a9bfd988381c"
      },
      "outputs": [
        {
          "ename": "OverflowError",
          "evalue": "(34, 'Result too large')",
          "output_type": "error",
          "traceback": [
            "\u001b[1;31m---------------------------------------------------------------------------\u001b[0m",
            "\u001b[1;31mOverflowError\u001b[0m                             Traceback (most recent call last)",
            "Input \u001b[1;32mIn [59]\u001b[0m, in \u001b[0;36m<cell line: 1>\u001b[1;34m()\u001b[0m\n\u001b[1;32m----> 1\u001b[0m \u001b[43mdescenso_grad\u001b[49m\u001b[43m(\u001b[49m\u001b[38;5;241;43m3\u001b[39;49m\u001b[43m,\u001b[49m\u001b[43m \u001b[49m\u001b[38;5;241;43m0.1\u001b[39;49m\u001b[43m,\u001b[49m\u001b[43m \u001b[49m\u001b[38;5;241;43m1e-12\u001b[39;49m\u001b[43m,\u001b[49m\u001b[43m \u001b[49m\u001b[38;5;241;43m1e5\u001b[39;49m\u001b[43m,\u001b[49m\u001b[43m \u001b[49m\u001b[38;5;124;43m'\u001b[39;49m\u001b[38;5;124;43mf\u001b[39;49m\u001b[38;5;124;43m'\u001b[39;49m\u001b[43m)\u001b[49m\n",
            "Input \u001b[1;32mIn [34]\u001b[0m, in \u001b[0;36mdescenso_grad\u001b[1;34m(x, ratio, tol, maxit, funcion)\u001b[0m\n\u001b[0;32m      4\u001b[0m cont \u001b[38;5;241m=\u001b[39m \u001b[38;5;241m0\u001b[39m\n\u001b[0;32m      6\u001b[0m \u001b[38;5;28;01mwhile\u001b[39;00m grad_norm \u001b[38;5;241m>\u001b[39m\u001b[38;5;241m=\u001b[39m tol \u001b[38;5;129;01mand\u001b[39;00m cont \u001b[38;5;241m<\u001b[39m\u001b[38;5;241m=\u001b[39m maxit:\n\u001b[1;32m----> 7\u001b[0m     grad \u001b[38;5;241m=\u001b[39m \u001b[43mgrad_func\u001b[49m\u001b[43m(\u001b[49m\u001b[43mx\u001b[49m\u001b[43m,\u001b[49m\u001b[43m \u001b[49m\u001b[43mfuncion\u001b[49m\u001b[43m)\u001b[49m\n\u001b[0;32m      8\u001b[0m     x \u001b[38;5;241m=\u001b[39m x \u001b[38;5;241m-\u001b[39m ratio\u001b[38;5;241m*\u001b[39mgrad\n\u001b[0;32m      9\u001b[0m     grad_norm \u001b[38;5;241m=\u001b[39m linalg\u001b[38;5;241m.\u001b[39mnorm(grad)\n",
            "Input \u001b[1;32mIn [33]\u001b[0m, in \u001b[0;36mgrad_func\u001b[1;34m(x, funcion)\u001b[0m\n\u001b[0;32m      1\u001b[0m \u001b[38;5;28;01mdef\u001b[39;00m \u001b[38;5;21mgrad_func\u001b[39m(x, funcion):\n\u001b[0;32m      3\u001b[0m     \u001b[38;5;28;01mif\u001b[39;00m funcion \u001b[38;5;241m==\u001b[39m \u001b[38;5;124m'\u001b[39m\u001b[38;5;124mf\u001b[39m\u001b[38;5;124m'\u001b[39m:\n\u001b[1;32m----> 4\u001b[0m         y \u001b[38;5;241m=\u001b[39m \u001b[38;5;241m12\u001b[39m\u001b[38;5;241m*\u001b[39m(\u001b[43mx\u001b[49m\u001b[38;5;241;43m*\u001b[39;49m\u001b[38;5;241;43m*\u001b[39;49m\u001b[38;5;241;43m3\u001b[39;49m)\u001b[38;5;241m+\u001b[39m\u001b[38;5;241m12\u001b[39m\u001b[38;5;241m*\u001b[39m(x\u001b[38;5;241m*\u001b[39m\u001b[38;5;241m*\u001b[39m\u001b[38;5;241m2\u001b[39m)\u001b[38;5;241m-\u001b[39m\u001b[38;5;241m24\u001b[39m\u001b[38;5;241m*\u001b[39mx\n\u001b[0;32m      5\u001b[0m     \u001b[38;5;28;01melse\u001b[39;00m:\n\u001b[0;32m      6\u001b[0m         y \u001b[38;5;241m=\u001b[39m np\u001b[38;5;241m.\u001b[39marray([\u001b[38;5;241m2\u001b[39m\u001b[38;5;241m*\u001b[39mx[\u001b[38;5;241m0\u001b[39m]\u001b[38;5;241m+\u001b[39m\u001b[38;5;241m3\u001b[39m\u001b[38;5;241m*\u001b[39mx[\u001b[38;5;241m1\u001b[39m], \u001b[38;5;241m3\u001b[39m\u001b[38;5;241m*\u001b[39m(x[\u001b[38;5;241m1\u001b[39m]\u001b[38;5;241m*\u001b[39m\u001b[38;5;241m*\u001b[39m\u001b[38;5;241m2\u001b[39m)\u001b[38;5;241m+\u001b[39m\u001b[38;5;241m3\u001b[39m\u001b[38;5;241m*\u001b[39mx[\u001b[38;5;241m0\u001b[39m]])\n",
            "\u001b[1;31mOverflowError\u001b[0m: (34, 'Result too large')"
          ]
        }
      ],
      "source": [
        "descenso_grad(3, 0.1, 1e-12, 1e5, 'f') # Si se ejecuta da error"
      ]
    },
    {
      "cell_type": "markdown",
      "id": "d330ca5e-36fb-41a0-a34e-c9693048eb4d",
      "metadata": {
        "id": "d330ca5e-36fb-41a0-a34e-c9693048eb4d"
      },
      "source": [
        "El motivo de que de error es que se está tomando un ratio demasiado grande.\n",
        "\n",
        "Lo que esta ocurriendo es que en cada iteración se desplace en el sentido del mínimo, se esta desplazando 'de más' y por tanto el método no converge. Es decir, los puntos $x_n$ calculados van apareciendo a la izquierda y derecha del mínimo alternadamente  pero cada vez más lejos del mínimo."
      ]
    },
    {
      "cell_type": "markdown",
      "id": "0e6c14f0-39dc-432c-8071-7f64053defce",
      "metadata": {
        "id": "0e6c14f0-39dc-432c-8071-7f64053defce"
      },
      "source": [
        "5. Si aplicamos ahora el método con punto inicial 0:"
      ]
    },
    {
      "cell_type": "code",
      "execution_count": null,
      "id": "3290d639-e916-4611-afe0-bd5221f9a648",
      "metadata": {
        "id": "3290d639-e916-4611-afe0-bd5221f9a648",
        "outputId": "9a3db923-348e-4052-8269-81d851388bed"
      },
      "outputs": [
        {
          "data": {
            "text/plain": [
              "0"
            ]
          },
          "execution_count": 38,
          "metadata": {},
          "output_type": "execute_result"
        }
      ],
      "source": [
        "descenso_grad(0, 0.001, 1e-12, 1e5, 'f')"
      ]
    },
    {
      "cell_type": "markdown",
      "id": "6d1ab0ea-75f7-496a-8b42-cf84e3f48d12",
      "metadata": {
        "id": "6d1ab0ea-75f7-496a-8b42-cf84e3f48d12"
      },
      "source": [
        "Esto no es un resultado deseable puesto que es un máximo. Al ser un máximo la derivada se anula y nuestro método no  funciona y en consecuencia todos los $x_n$ sucesivos serán también cero, luego el método converge al mismo punto de inicio si es un máximo."
      ]
    },
    {
      "cell_type": "markdown",
      "id": "cde02618-e9be-45c1-a312-f4c57019dbc1",
      "metadata": {
        "id": "cde02618-e9be-45c1-a312-f4c57019dbc1"
      },
      "source": [
        "#### Apartado c)"
      ]
    },
    {
      "cell_type": "markdown",
      "id": "8205cd94-2059-463a-9d02-8a92810fd69b",
      "metadata": {
        "id": "8205cd94-2059-463a-9d02-8a92810fd69b"
      },
      "source": [
        "1) Se aplica el método con los parámetros indicados, se obtiene el punto donde se alcanza el mínimo, como se verá en el último apartado:"
      ]
    },
    {
      "cell_type": "code",
      "execution_count": null,
      "id": "52cbcd84-5360-48cc-b3c2-965b8dac10a1",
      "metadata": {
        "id": "52cbcd84-5360-48cc-b3c2-965b8dac10a1",
        "outputId": "16d45b2d-b3a5-4e7e-f893-49b609c00644"
      },
      "outputs": [
        {
          "data": {
            "text/plain": [
              "array([-2.25,  1.5 ])"
            ]
          },
          "execution_count": 43,
          "metadata": {},
          "output_type": "execute_result"
        }
      ],
      "source": [
        "descenso_grad(np.array([-1,1]), 0.01, 1e-12, 1e5, 'g')"
      ]
    },
    {
      "cell_type": "markdown",
      "id": "8e611164-dcc7-45c3-aaa0-62d87ef47509",
      "metadata": {
        "id": "8e611164-dcc7-45c3-aaa0-62d87ef47509"
      },
      "source": [
        "2. Si se parte ahora del punto origen, se obtiene un resultado no deseable pues (0,0) no es un mínimo como se verá en el siguiente apartado."
      ]
    },
    {
      "cell_type": "code",
      "execution_count": null,
      "id": "517dabd6-6bc4-42a1-a8a7-9137ea4fc37b",
      "metadata": {
        "id": "517dabd6-6bc4-42a1-a8a7-9137ea4fc37b",
        "outputId": "349b0332-05e2-46c4-d694-3bb3588fb897"
      },
      "outputs": [
        {
          "data": {
            "text/plain": [
              "array([0, 0])"
            ]
          },
          "execution_count": 51,
          "metadata": {},
          "output_type": "execute_result"
        }
      ],
      "source": [
        "descenso_grad(np.array([0,0]), 0.01, 1e-12, 1e5, 'g')"
      ]
    },
    {
      "cell_type": "markdown",
      "id": "8ce0cdaa-21f4-4523-8479-9ab4e6f2f26a",
      "metadata": {
        "id": "8ce0cdaa-21f4-4523-8479-9ab4e6f2f26a"
      },
      "source": [
        "3. En el primer apartado a) obtuvimos el gradiente de $g(x,y)$. Igualando el gradiente al vector nulo se obtienen los puntos críticos (resolviendo un sistema de dos ecuaciones con dos incógnitas), que son: $a=(0,0)$ y $b=(-2.25, 1.5)$"
      ]
    },
    {
      "cell_type": "code",
      "execution_count": null,
      "id": "ec994b78-7a16-4c24-9262-03c52c6c8c54",
      "metadata": {
        "id": "ec994b78-7a16-4c24-9262-03c52c6c8c54"
      },
      "outputs": [],
      "source": []
    }
  ],
  "metadata": {
    "kernelspec": {
      "display_name": "Python 3 (ipykernel)",
      "language": "python",
      "name": "python3"
    },
    "language_info": {
      "codemirror_mode": {
        "name": "ipython",
        "version": 3
      },
      "file_extension": ".py",
      "mimetype": "text/x-python",
      "name": "python",
      "nbconvert_exporter": "python",
      "pygments_lexer": "ipython3",
      "version": "3.9.12"
    },
    "colab": {
      "provenance": [],
      "collapsed_sections": [
        "e78884be-d715-47f9-b4ba-36c8e783d5c6"
      ]
    }
  },
  "nbformat": 4,
  "nbformat_minor": 5
}