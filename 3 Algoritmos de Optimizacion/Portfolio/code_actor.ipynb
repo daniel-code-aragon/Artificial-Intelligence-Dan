{
 "cells": [
  {
   "cell_type": "markdown",
   "metadata": {
    "id": "8Ak40wrHPrn0"
   },
   "source": []
  },
  {
   "cell_type": "code",
   "execution_count": 25,
   "metadata": {
    "colab": {
     "base_uri": "https://localhost:8080/",
     "height": 628
    },
    "id": "HUVIhfwbW7C9",
    "outputId": "deeb3ee6-519a-4040-f146-a829af0be53f"
   },
   "outputs": [
    {
     "name": "stdout",
     "output_type": "stream",
     "text": [
      "      1  2  3  4  5  6  7  8  9  10\n",
      "Toma                               \n",
      "1     1  1  1  1  1  0  0  0  0   0\n",
      "2     0  0  1  1  1  0  0  0  0   0\n",
      "3     0  1  0  0  1  0  1  0  0   0\n",
      "4     1  1  0  0  0  0  1  1  0   0\n",
      "5     0  1  0  1  0  0  0  1  0   0\n",
      "6     1  1  0  1  1  0  0  0  0   0\n",
      "7     1  1  0  1  1  0  0  0  0   0\n",
      "8     1  1  0  0  0  1  0  0  0   0\n",
      "9     1  1  0  1  0  0  0  0  0   0\n",
      "10    1  1  0  0  0  1  0  0  1   0\n",
      "11    1  1  1  0  1  0  0  1  0   0\n",
      "12    1  1  1  1  0  1  0  0  0   0\n",
      "13    1  0  0  1  1  0  0  0  0   0\n",
      "14    1  0  1  0  0  1  0  0  0   0\n",
      "15    1  1  0  0  0  0  1  0  0   0\n",
      "16    0  0  0  1  0  0  0  0  0   1\n",
      "17    1  0  1  0  0  0  0  0  0   0\n",
      "18    0  0  1  0  0  1  0  0  0   0\n",
      "19    1  0  1  0  0  0  0  0  0   0\n",
      "20    1  0  1  1  1  0  0  0  0   0\n",
      "21    0  0  0  0  0  1  0  1  0   0\n",
      "22    1  1  1  1  0  0  0  0  0   0\n",
      "23    1  0  1  0  0  0  0  0  0   0\n",
      "24    0  0  1  0  0  1  0  0  0   0\n",
      "25    1  1  0  1  0  0  0  0  0   1\n",
      "26    1  0  1  0  1  0  0  0  1   0\n",
      "27    0  0  0  1  1  0  0  0  0   0\n",
      "28    1  0  0  1  0  0  0  0  0   0\n",
      "29    1  0  0  0  1  1  0  0  0   0\n",
      "30    1  0  0  1  0  0  0  0  0   0\n"
     ]
    }
   ],
   "source": [
    "import pandas as pd\n",
    "import os\n",
    "import numpy as np\n",
    "\n",
    "# Ruta relativa al archivo\n",
    "ruta_archivo = os.path.join('data', 'Tomas.csv')\n",
    "\n",
    "# Obtener la ruta del directorio actual del cuaderno\n",
    "directorio = os.getcwd()\n",
    "\n",
    "# Combinar la ruta del directorio actual con la ruta relativa al archivo\n",
    "ruta_absoluta = os.path.join(directorio, ruta_archivo)\n",
    "\n",
    "df=pd.read_csv(ruta_absoluta, delimiter=';', index_col=0)\n",
    "print(df)\n"
   ]
  },
  {
   "cell_type": "code",
   "execution_count": 26,
   "metadata": {
    "colab": {
     "base_uri": "https://localhost:8080/",
     "height": 238
    },
    "id": "i49pCDh0vbld",
    "outputId": "77f94e5d-3f83-49ea-dc69-347548a75cb7"
   },
   "outputs": [
    {
     "data": {
      "text/html": [
       "<div>\n",
       "<style scoped>\n",
       "    .dataframe tbody tr th:only-of-type {\n",
       "        vertical-align: middle;\n",
       "    }\n",
       "\n",
       "    .dataframe tbody tr th {\n",
       "        vertical-align: top;\n",
       "    }\n",
       "\n",
       "    .dataframe thead th {\n",
       "        text-align: right;\n",
       "    }\n",
       "</style>\n",
       "<table border=\"1\" class=\"dataframe\">\n",
       "  <thead>\n",
       "    <tr style=\"text-align: right;\">\n",
       "      <th></th>\n",
       "      <th>Total_Actores</th>\n",
       "    </tr>\n",
       "    <tr>\n",
       "      <th>Toma</th>\n",
       "      <th></th>\n",
       "    </tr>\n",
       "  </thead>\n",
       "  <tbody>\n",
       "    <tr>\n",
       "      <th>1</th>\n",
       "      <td>5</td>\n",
       "    </tr>\n",
       "    <tr>\n",
       "      <th>2</th>\n",
       "      <td>3</td>\n",
       "    </tr>\n",
       "    <tr>\n",
       "      <th>3</th>\n",
       "      <td>3</td>\n",
       "    </tr>\n",
       "    <tr>\n",
       "      <th>4</th>\n",
       "      <td>4</td>\n",
       "    </tr>\n",
       "    <tr>\n",
       "      <th>5</th>\n",
       "      <td>3</td>\n",
       "    </tr>\n",
       "  </tbody>\n",
       "</table>\n",
       "</div>"
      ],
      "text/plain": [
       "      Total_Actores\n",
       "Toma               \n",
       "1                 5\n",
       "2                 3\n",
       "3                 3\n",
       "4                 4\n",
       "5                 3"
      ]
     },
     "execution_count": 26,
     "metadata": {},
     "output_type": "execute_result"
    }
   ],
   "source": [
    "df2=pd.DataFrame()\n",
    "df2['Total_Actores'] = df[list(df.columns)].sum(axis=1)\n",
    "df2.head()"
   ]
  },
  {
   "cell_type": "code",
   "execution_count": 27,
   "metadata": {
    "colab": {
     "base_uri": "https://localhost:8080/"
    },
    "id": "_83RE3nBuFtH",
    "outputId": "101fd0d4-9577-48ec-c6b8-d3aec71c4623"
   },
   "outputs": [
    {
     "name": "stdout",
     "output_type": "stream",
     "text": [
      "<class 'pandas.core.frame.DataFrame'>\n",
      "Int64Index: 30 entries, 1 to 30\n",
      "Data columns (total 10 columns):\n",
      " #   Column  Non-Null Count  Dtype\n",
      "---  ------  --------------  -----\n",
      " 0   1       30 non-null     int64\n",
      " 1   2       30 non-null     int64\n",
      " 2   3       30 non-null     int64\n",
      " 3   4       30 non-null     int64\n",
      " 4   5       30 non-null     int64\n",
      " 5   6       30 non-null     int64\n",
      " 6   7       30 non-null     int64\n",
      " 7   8       30 non-null     int64\n",
      " 8   9       30 non-null     int64\n",
      " 9   10      30 non-null     int64\n",
      "dtypes: int64(10)\n",
      "memory usage: 2.6 KB\n"
     ]
    }
   ],
   "source": [
    "df.info()"
   ]
  },
  {
   "cell_type": "code",
   "execution_count": 56,
   "metadata": {},
   "outputs": [],
   "source": [
    "def coste (grupos, costes):\n",
    "    \n",
    "    coste =0\n",
    "    print('grupos es:\\n', grupos)\n",
    "    \n",
    "    for g in grupos:\n",
    "        print(f'Grupo {g}')\n",
    "        actores=np.sum(g, axis=0)\n",
    "        dias = np.ceil(np.sum(actores)/6)\n",
    "        coste+=dias\n",
    "        \n",
    "    return coste\n",
    "\n",
    "def mejor_grupo_recursivo( index, actores, costes, memo):\n",
    "        \n",
    "        if index==len(actores):\n",
    "            return [], 0\n",
    "        \n",
    "        if index in memo:\n",
    "            return memo[index]\n",
    "        \n",
    "        grupos=None\n",
    "        coste=np.inf\n",
    "        \n",
    "        for i in range(index, len(actores)):\n",
    "            \n",
    "            actor= actores[i]\n",
    "            coste= costes [i]\n",
    "            #print(actor, coste)\n",
    "            \n",
    "            \n",
    "            grupos_restantes , coste_restante = mejor_grupo_recursivo(i+1, actores, costes, memo)\n",
    "            \n",
    "            grupos_actuales= [actor] + grupos_restantes\n",
    "            coste_actual= coste+ coste_restante\n",
    "            \n",
    "            if grupos is None or coste_actual <coste:\n",
    "                \n",
    "                coste= coste_actual\n",
    "                grupos= grupos_actuales\n",
    "                \n",
    "            memo[index]=(grupos , coste )\n",
    "            \n",
    "            return grupos , coste\n",
    "        \n",
    "        \n",
    "        \n",
    "def mejor_grupo(actores,costes):\n",
    "       \n",
    "    memo={}\n",
    "        \n",
    "    grupos, coste= mejor_grupo_recursivo(0,actores, costes, memo)\n",
    "    #print(memo)\n",
    "        \n",
    "    return grupos\n",
    "        \n",
    "        "
   ]
  },
  {
   "cell_type": "code",
   "execution_count": 61,
   "metadata": {
    "id": "oCoxXo2B5Sq4"
   },
   "outputs": [
    {
     "name": "stdout",
     "output_type": "stream",
     "text": [
      "[array([1, 1, 1, 1, 1, 0, 0, 0, 0, 0]), array([0, 0, 1, 1, 1, 0, 0, 0, 0, 0]), array([0, 1, 0, 0, 1, 0, 1, 0, 0, 0]), array([1, 1, 0, 0, 0, 0, 1, 1, 0, 0]), array([0, 1, 0, 1, 0, 0, 0, 1, 0, 0]), array([1, 1, 0, 1, 1, 0, 0, 0, 0, 0]), array([1, 1, 0, 1, 1, 0, 0, 0, 0, 0]), array([1, 1, 0, 0, 0, 1, 0, 0, 0, 0]), array([1, 1, 0, 1, 0, 0, 0, 0, 0, 0]), array([1, 1, 0, 0, 0, 1, 0, 0, 1, 0]), array([1, 1, 1, 0, 1, 0, 0, 1, 0, 0]), array([1, 1, 1, 1, 0, 1, 0, 0, 0, 0]), array([1, 0, 0, 1, 1, 0, 0, 0, 0, 0]), array([1, 0, 1, 0, 0, 1, 0, 0, 0, 0]), array([1, 1, 0, 0, 0, 0, 1, 0, 0, 0]), array([0, 0, 0, 1, 0, 0, 0, 0, 0, 1]), array([1, 0, 1, 0, 0, 0, 0, 0, 0, 0]), array([0, 0, 1, 0, 0, 1, 0, 0, 0, 0]), array([1, 0, 1, 0, 0, 0, 0, 0, 0, 0]), array([1, 0, 1, 1, 1, 0, 0, 0, 0, 0]), array([0, 0, 0, 0, 0, 1, 0, 1, 0, 0]), array([1, 1, 1, 1, 0, 0, 0, 0, 0, 0]), array([1, 0, 1, 0, 0, 0, 0, 0, 0, 0]), array([0, 0, 1, 0, 0, 1, 0, 0, 0, 0]), array([1, 1, 0, 1, 0, 0, 0, 0, 0, 1]), array([1, 0, 1, 0, 1, 0, 0, 0, 1, 0]), array([0, 0, 0, 1, 1, 0, 0, 0, 0, 0]), array([1, 0, 0, 1, 0, 0, 0, 0, 0, 0]), array([1, 0, 0, 0, 1, 1, 0, 0, 0, 0]), array([1, 0, 0, 1, 0, 0, 0, 0, 0, 0])]\n",
      "Grupo1: [1 1 1 1 1 0 0 0 0 0]\n",
      "Grupo2: [0 0 1 1 1 0 0 0 0 0]\n",
      "Grupo3: [0 1 0 0 1 0 1 0 0 0]\n",
      "Grupo4: [1 1 0 0 0 0 1 1 0 0]\n",
      "Grupo5: [0 1 0 1 0 0 0 1 0 0]\n",
      "Grupo6: [1 1 0 1 1 0 0 0 0 0]\n",
      "Grupo7: [1 1 0 1 1 0 0 0 0 0]\n",
      "Grupo8: [1 1 0 0 0 1 0 0 0 0]\n",
      "Grupo9: [1 1 0 1 0 0 0 0 0 0]\n",
      "Grupo10: [1 1 0 0 0 1 0 0 1 0]\n",
      "Grupo11: [1 1 1 0 1 0 0 1 0 0]\n",
      "Grupo12: [1 1 1 1 0 1 0 0 0 0]\n",
      "Grupo13: [1 0 0 1 1 0 0 0 0 0]\n",
      "Grupo14: [1 0 1 0 0 1 0 0 0 0]\n",
      "Grupo15: [1 1 0 0 0 0 1 0 0 0]\n",
      "Grupo16: [0 0 0 1 0 0 0 0 0 1]\n",
      "Grupo17: [1 0 1 0 0 0 0 0 0 0]\n",
      "Grupo18: [0 0 1 0 0 1 0 0 0 0]\n",
      "Grupo19: [1 0 1 0 0 0 0 0 0 0]\n",
      "Grupo20: [1 0 1 1 1 0 0 0 0 0]\n",
      "Grupo21: [0 0 0 0 0 1 0 1 0 0]\n",
      "Grupo22: [1 1 1 1 0 0 0 0 0 0]\n",
      "Grupo23: [1 0 1 0 0 0 0 0 0 0]\n",
      "Grupo24: [0 0 1 0 0 1 0 0 0 0]\n",
      "Grupo25: [1 1 0 1 0 0 0 0 0 1]\n",
      "Grupo26: [1 0 1 0 1 0 0 0 1 0]\n",
      "Grupo27: [0 0 0 1 1 0 0 0 0 0]\n",
      "Grupo28: [1 0 0 1 0 0 0 0 0 0]\n",
      "Grupo29: [1 0 0 0 1 1 0 0 0 0]\n",
      "Grupo30: [1 0 0 1 0 0 0 0 0 0]\n"
     ]
    }
   ],
   "source": [
    "actores = df.values.tolist()\n",
    "costes =df2.values.tolist()\n",
    "#print(actores,cost)\n",
    "actores_np=np.array(actores)\n",
    "costes_np=np.array(costes)\n",
    "\n",
    "a =mejor_grupo(actores_np,costes_np)\n",
    "print(a)\n",
    "\n",
    "for i, grupo in enumerate(a):\n",
    "    print(f'Grupo{i+1}: {grupo}')"
   ]
  },
  {
   "cell_type": "code",
   "execution_count": null,
   "metadata": {},
   "outputs": [],
   "source": []
  }
 ],
 "metadata": {
  "colab": {
   "provenance": []
  },
  "kernelspec": {
   "display_name": "Python 3 (ipykernel)",
   "language": "python",
   "name": "python3"
  },
  "language_info": {
   "codemirror_mode": {
    "name": "ipython",
    "version": 3
   },
   "file_extension": ".py",
   "mimetype": "text/x-python",
   "name": "python",
   "nbconvert_exporter": "python",
   "pygments_lexer": "ipython3",
   "version": "3.10.9"
  }
 },
 "nbformat": 4,
 "nbformat_minor": 4
}
