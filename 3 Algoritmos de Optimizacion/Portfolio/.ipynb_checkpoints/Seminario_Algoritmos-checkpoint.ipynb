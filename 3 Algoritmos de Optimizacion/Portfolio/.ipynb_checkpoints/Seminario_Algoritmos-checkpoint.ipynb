{
 "cells": [
  {
   "cell_type": "markdown",
   "metadata": {
    "id": "hVbXYX-RfPWh"
   },
   "source": [
    "# Algoritmos de optimización - Seminario<br>\n",
    "Nombre y Apellidos:   <br>\n",
    "Url: https://github.com/.../03MAIR---Algoritmos-de-Optimizacion---2019/tree/master/SEMINARIO<br>\n",
    "Problema:\n",
    "> 1. Sesiones de doblaje <br>\n",
    ">2. Organizar los horarios de partidos de La Liga<br>\n",
    ">3. Combinar cifras y operaciones\n",
    "\n",
    "Descripción del problema:(copiar enunciado)\n",
    "\n",
    ">3.Combinar cifras y operaciones:\n",
    "\n",
    "El problema consiste en analizar el siguiente problema y diseñar un algoritmo que lo resuelva.\n",
    "\n",
    "• Disponemos de las 9 cifras del 1 al 9 (excluimos el cero) y de los 4 signos básicos de las\n",
    "operaciones fundamentales: suma(+), resta(-), multiplicación(*) y división(/)\n",
    "\n",
    "• Debemos combinarlos alternativamente sin repetir ninguno de ellos para obtener una\n",
    "cantidad dada. Un ejemplo sería para obtener el 4:\n",
    "4+2-6/3*1 = 4\n",
    "\n",
    "Debe analizarse el problema para encontrar todos los valores enteros posibles planteando las\n",
    "siguientes cuestiones:\n",
    "- ¿Qué valor máximo y mínimo se pueden obtener según las condiciones del problema?\n",
    "- ¿Es posible encontrar todos los valores enteros posibles entre dicho mínimo y máximo ?\n",
    "\n",
    "(*) La respuesta es obligatoria\n",
    "\n",
    "\n",
    "                                        "
   ]
  },
  {
   "cell_type": "code",
   "execution_count": 1,
   "metadata": {},
   "outputs": [
    {
     "name": "stdout",
     "output_type": "stream",
     "text": [
      "1 + 2 / 3 * 6 = 5\n"
     ]
    }
   ],
   "source": [
    "import itertools\n",
    "\n",
    "def evaluate_expression(expression):\n",
    "    \n",
    "    try:\n",
    "        return eval(expression)\n",
    "    except ZeroDivisionError:\n",
    "        return None\n",
    "\n",
    "def find_combinations(target):\n",
    "    digits = [1, 2, 3, 4, 5, 6, 7, 8, 9]\n",
    "    operators = ['+', '-', '*', '/']\n",
    "    results = []\n",
    "    result=''\n",
    "\n",
    "    for digits_perm in itertools.permutations(digits, 4):\n",
    "        for ops_perm in itertools.permutations(operators, 3):\n",
    "            expression = f\"{digits_perm[0]} {ops_perm[0]} {digits_perm[1]} {ops_perm[1]} {digits_perm[2]} {ops_perm[2]} {digits_perm[3]}\"\n",
    "            result = evaluate_expression(expression)\n",
    "            if result is not None and result == target:\n",
    "                #results.append(expression)\n",
    "                result=expression\n",
    "                return result\n",
    "\n",
    "    #return results\n",
    "\n",
    "\n",
    "target_number = 5\n",
    "combinations = find_combinations(target_number)\n",
    "print(f'{combinations} = {target_number}')"
   ]
  },
  {
   "cell_type": "markdown",
   "metadata": {},
   "source": [
    "A las dos preguntas del enunciado:\n",
    ">1. El rango de valores posibles de este problema es el $[-70 ,71]$ siendo sus extremos el valor máximo y mínimo.\n",
    "\n",
    "\n",
    ">2. Si, es posible encontrar todos los numeros enteros en este intervalo, adjunto codigo:"
   ]
  },
  {
   "cell_type": "code",
   "execution_count": 2,
   "metadata": {},
   "outputs": [
    {
     "name": "stdout",
     "output_type": "stream",
     "text": [
      "1 - 2 * 3 + 5 = 0\n",
      "1 * 2 + 3 - 4 = 1\n",
      "1 + 2 * 3 - 5 = 2\n",
      "1 + 2 * 3 - 4 = 3\n",
      "1 * 2 - 3 + 5 = 4\n",
      "1 + 2 / 3 * 6 = 5\n",
      "1 * 2 - 3 + 7 = 6\n",
      "1 * 2 - 3 + 8 = 7\n",
      "1 * 2 - 3 + 9 = 8\n",
      "1 / 2 * 4 + 7 = 9\n",
      "1 / 2 * 4 + 8 = 10\n",
      "1 - 2 + 3 * 4 = 11\n",
      "1 / 2 * 6 + 9 = 12\n",
      "1 + 2 * 8 - 4 = 13\n",
      "1 - 2 + 3 * 5 = 14\n",
      "1 + 2 * 9 - 4 = 15\n",
      "1 + 2 * 9 - 3 = 16\n",
      "1 - 2 + 3 * 6 = 17\n",
      "1 - 3 + 4 * 5 = 18\n",
      "1 - 2 + 4 * 5 = 19\n",
      "1 - 2 + 3 * 7 = 20\n",
      "1 + 3 * 8 - 4 = 21\n",
      "1 - 3 + 4 * 6 = 22\n",
      "1 - 2 + 3 * 8 = 23\n",
      "1 + 3 * 9 - 4 = 24\n",
      "1 + 6 / 2 * 8 = 25\n",
      "1 - 2 + 3 * 9 = 26\n",
      "1 - 2 + 4 * 7 = 27\n",
      "1 - 3 + 5 * 6 = 28\n",
      "1 - 2 + 5 * 6 = 29\n",
      "1 - 3 + 4 * 8 = 30\n",
      "1 - 2 + 4 * 8 = 31\n",
      "1 - 4 + 5 * 7 = 32\n",
      "1 - 3 + 5 * 7 = 33\n",
      "1 - 2 + 5 * 7 = 34\n",
      "1 - 2 + 4 * 9 = 35\n",
      "2 - 1 + 5 * 7 = 36\n",
      "1 - 4 + 5 * 8 = 37\n",
      "1 - 3 + 5 * 8 = 38\n",
      "1 - 2 + 5 * 8 = 39\n",
      "1 - 3 + 6 * 7 = 40\n",
      "1 - 2 + 6 * 7 = 41\n",
      "1 - 4 + 5 * 9 = 42\n",
      "1 - 3 + 5 * 9 = 43\n",
      "1 - 2 + 5 * 9 = 44\n",
      "1 - 4 + 6 * 8 = 45\n",
      "1 - 3 + 6 * 8 = 46\n",
      "1 - 2 + 6 * 8 = 47\n",
      "1 + 6 * 9 - 7 = 48\n",
      "2 - 1 + 6 * 8 = 49\n",
      "1 - 5 + 6 * 9 = 50\n",
      "1 - 4 + 6 * 9 = 51\n",
      "1 - 3 + 6 * 9 = 52\n",
      "1 - 2 + 6 * 9 = 53\n",
      "1 - 3 + 7 * 8 = 54\n",
      "1 - 2 + 7 * 8 = 55\n",
      "1 + 7 * 9 - 8 = 56\n",
      "2 - 1 + 7 * 8 = 57\n",
      "1 - 6 + 7 * 9 = 58\n",
      "1 - 5 + 7 * 9 = 59\n",
      "1 - 4 + 7 * 9 = 60\n",
      "1 - 3 + 7 * 9 = 61\n",
      "1 - 2 + 7 * 9 = 62\n",
      "7 * 8 - 2 + 9 = 63\n",
      "2 - 1 + 7 * 9 = 64\n",
      "2 / 1 + 7 * 9 = 65\n",
      "1 - 7 + 8 * 9 = 66\n",
      "1 - 6 + 8 * 9 = 67\n",
      "1 - 5 + 8 * 9 = 68\n",
      "1 - 4 + 8 * 9 = 69\n",
      "1 - 3 + 8 * 9 = 70\n",
      "1 - 2 + 8 * 9 = 71\n",
      "None = 72\n",
      "1 - 2 * 3 + 5 = 0\n",
      "1 - 2 * 3 + 4 = -1\n",
      "1 * 2 + 3 - 7 = -2\n",
      "1 - 2 / 3 * 6 = -3\n",
      "1 * 2 + 3 - 9 = -4\n",
      "1 - 2 / 3 * 9 = -5\n",
      "1 / 2 * 4 - 8 = -6\n",
      "1 / 2 * 4 - 9 = -7\n",
      "1 - 2 * 6 + 3 = -8\n",
      "1 + 2 - 3 * 4 = -9\n",
      "1 - 2 * 7 + 3 = -10\n",
      "1 - 2 * 8 + 4 = -11\n",
      "1 + 2 - 3 * 5 = -12\n",
      "1 - 2 * 9 + 4 = -13\n",
      "1 - 2 * 9 + 3 = -14\n",
      "1 + 2 - 3 * 6 = -15\n",
      "1 + 3 - 4 * 5 = -16\n",
      "1 + 2 - 4 * 5 = -17\n",
      "1 + 2 - 3 * 7 = -18\n",
      "1 - 3 * 8 + 4 = -19\n",
      "1 + 3 - 4 * 6 = -20\n",
      "1 + 2 - 3 * 8 = -21\n",
      "1 - 3 * 9 + 4 = -22\n",
      "1 - 6 / 2 * 8 = -23\n",
      "1 + 2 - 3 * 9 = -24\n",
      "1 + 2 - 4 * 7 = -25\n",
      "1 + 3 - 5 * 6 = -26\n",
      "1 + 2 - 5 * 6 = -27\n",
      "1 + 3 - 4 * 8 = -28\n",
      "1 + 2 - 4 * 8 = -29\n",
      "1 + 4 - 5 * 7 = -30\n",
      "1 + 3 - 5 * 7 = -31\n",
      "1 + 2 - 5 * 7 = -32\n",
      "1 + 2 - 4 * 9 = -33\n",
      "2 / 1 - 4 * 9 = -34\n",
      "1 + 4 - 5 * 8 = -35\n",
      "1 + 3 - 5 * 8 = -36\n",
      "1 + 2 - 5 * 8 = -37\n",
      "1 + 3 - 6 * 7 = -38\n",
      "1 + 2 - 6 * 7 = -39\n",
      "1 + 4 - 5 * 9 = -40\n",
      "1 + 3 - 5 * 9 = -41\n",
      "1 + 2 - 5 * 9 = -42\n",
      "1 + 4 - 6 * 8 = -43\n",
      "1 + 3 - 6 * 8 = -44\n",
      "1 + 2 - 6 * 8 = -45\n",
      "1 - 6 * 9 + 7 = -46\n",
      "2 + 5 - 6 * 9 = -47\n",
      "1 + 5 - 6 * 9 = -48\n",
      "1 + 4 - 6 * 9 = -49\n",
      "1 + 3 - 6 * 9 = -50\n",
      "1 + 2 - 6 * 9 = -51\n",
      "1 + 3 - 7 * 8 = -52\n",
      "1 + 2 - 7 * 8 = -53\n",
      "1 - 7 * 9 + 8 = -54\n",
      "2 + 6 - 7 * 9 = -55\n",
      "1 + 6 - 7 * 9 = -56\n",
      "1 + 5 - 7 * 9 = -57\n",
      "1 + 4 - 7 * 9 = -58\n",
      "1 + 3 - 7 * 9 = -59\n",
      "1 + 2 - 7 * 9 = -60\n",
      "2 / 1 - 7 * 9 = -61\n",
      "3 + 7 - 8 * 9 = -62\n",
      "2 + 7 - 8 * 9 = -63\n",
      "1 + 7 - 8 * 9 = -64\n",
      "1 + 6 - 8 * 9 = -65\n",
      "1 + 5 - 8 * 9 = -66\n",
      "1 + 4 - 8 * 9 = -67\n",
      "1 + 3 - 8 * 9 = -68\n",
      "1 + 2 - 8 * 9 = -69\n",
      "2 / 1 - 8 * 9 = -70\n",
      "None = -71\n"
     ]
    }
   ],
   "source": [
    "c=0\n",
    "result=1\n",
    "while result!= None:\n",
    "    result = find_combinations(c)\n",
    "    print(f'{result} = {c}')\n",
    "    c+=1\n",
    "    \n",
    "    \n",
    "c=0\n",
    "result=1\n",
    "while result!= None:\n",
    "    result = find_combinations(c)\n",
    "    print(f'{result} = {c}')\n",
    "    c-=1"
   ]
  },
  {
   "cell_type": "markdown",
   "metadata": {
    "id": "3_-exlrTgLd-"
   },
   "source": [
    "(*)¿Cuantas posibilidades hay sin tener en cuenta las restricciones?<br>\n",
    "\n",
    "\n",
    "\n",
    "¿Cuantas posibilidades hay teniendo en cuenta todas las restricciones.\n",
    "\n",
    "\n"
   ]
  },
  {
   "cell_type": "markdown",
   "metadata": {
    "id": "WfCUqJyKhPcw"
   },
   "source": [
    "Respuesta"
   ]
  },
  {
   "cell_type": "markdown",
   "metadata": {
    "id": "iq6Fe32MgpDX"
   },
   "source": [
    "Para el caso en el que no hay ninguna restriccion yo entiendo que se podrian combinar absolutamente todos los elementos de cada lista con todos los elementos de la otra sin que no se puedan repetir, sin que tenga que ser de forma alternativa (numero, operador, numero ...) y pudiendo llegar a un string de 9 + 4 caracteres que no tiene porque tener sentido.\n",
    "\n",
    "Ejemplo:\n",
    "\n",
    "$/3+456+6-+133$\n",
    "\n",
    "Por lo que estariamos en un caso de combinacion con repeticion. La fórmula de combinación con repetición se utiliza para calcular el número de formas posibles de combinar r elementos tomados de un conjunto de n elementos con repetición. La fórmula se representa como:\n",
    "\n",
    "\n",
    "$C(n+r−1,r)$\n",
    "\n",
    "Siendo en este caso 13 elementos (9 digitos + 4 operadores) y suponiendo que se hacen cadenas de 13 elementos la cantidad de posibilidades es :\n",
    "\n",
    "$C(13 + 13 - 1, 13) = C(25, 13) = 3,268,760$\n",
    "\n",
    "Caso Permutacion sin repeticion , conseguir las posibilidades de seleccionar 4 elementos de una lista de 9 sin repeticion con la seleccion de 3 operadores de una lista de 4 sin repeticion.\n",
    "\n",
    "$P(n,r)= (n−r)! / n!$\n",
    "\n",
    "\n",
    "Codigo abajo:"
   ]
  },
  {
   "cell_type": "code",
   "execution_count": 3,
   "metadata": {},
   "outputs": [
    {
     "name": "stdout",
     "output_type": "stream",
     "text": [
      "El número total de posibilidades de permutación es: 72576\n"
     ]
    }
   ],
   "source": [
    "def factorial(n):\n",
    "    if n == 0:\n",
    "        return 1\n",
    "    else:\n",
    "        return n * factorial(n-1)\n",
    "\n",
    "num_digits = 9\n",
    "num_operators = 4\n",
    "\n",
    "\n",
    "num_digits_selected = 4\n",
    "\n",
    "num_operators_selected = 3\n",
    "\n",
    "\n",
    "possibilities_digits = factorial(num_digits) // factorial(num_digits - num_digits_selected)\n",
    "possibilities_operators = factorial(num_operators) // factorial(num_operators - num_operators_selected)\n",
    "\n",
    "total_possibilities = possibilities_digits * possibilities_operators\n",
    "print(f\"El número total de posibilidades de permutación es: {total_possibilities}\")\n"
   ]
  },
  {
   "cell_type": "markdown",
   "metadata": {
    "id": "dzynfVJahHoY"
   },
   "source": [
    "Modelo para el espacio de soluciones<br>\n",
    "(*) ¿Cual es la estructura de datos que mejor se adapta al problema? Argumentalo.(Es posible que hayas elegido una al principio y veas la necesidad de cambiar, arguentalo)\n"
   ]
  },
  {
   "cell_type": "markdown",
   "metadata": {
    "id": "xFIJrOwKi2Ti"
   },
   "source": [
    "Respuesta"
   ]
  },
  {
   "cell_type": "markdown",
   "metadata": {
    "id": "38c-7-ejhJmA"
   },
   "source": [
    "La estructura de datos que mejor se adapta al problema son las Python Lists ya que nos permiten trabajar con los elementos que estan dentro de este tipo de dato directamente y funciona muy bien con la libreria itertools Desde el primer momento se eligio la lista como tipo de dato."
   ]
  },
  {
   "cell_type": "markdown",
   "metadata": {
    "id": "7Z9U2W7bi-XS"
   },
   "source": [
    "Según el modelo para el espacio de soluciones<br>\n",
    "(*)¿Cual es la función objetivo?\n",
    "\n",
    "(*)¿Es un problema de maximización o minimización?"
   ]
  },
  {
   "cell_type": "markdown",
   "metadata": {
    "id": "hBalWLM7j1_d"
   },
   "source": [
    "Respuesta"
   ]
  },
  {
   "cell_type": "markdown",
   "metadata": {
    "id": "pDA-rg3Gj5Lz"
   },
   "source": [
    "No estamos buscando optimizar o maximizar algún valor específico, simplemente estamos explorando todas las combinaciones posibles para encontrar aquellas que cumplan la condición de igualar el valor objetivo."
   ]
  },
  {
   "cell_type": "markdown",
   "metadata": {
    "id": "rlnTYgY1j6I2"
   },
   "source": [
    "Diseña un algoritmo para resolver el problema por fuerza bruta"
   ]
  },
  {
   "cell_type": "markdown",
   "metadata": {
    "id": "70rDgxYXkC8r"
   },
   "source": [
    "Respuesta"
   ]
  },
  {
   "cell_type": "code",
   "execution_count": 4,
   "metadata": {
    "id": "CJb5sQ0qkENy"
   },
   "outputs": [],
   "source": [
    "import itertools\n",
    "\n",
    "def evaluate_expression(expression):\n",
    "  \n",
    "    try:\n",
    "        return eval(expression)\n",
    "    except ZeroDivisionError:\n",
    "        return None\n",
    "\n",
    "def find_combinations(target):\n",
    "    digits = [1, 2, 3, 4, 5, 6, 7, 8, 9]\n",
    "    operators = ['+', '-', '*', '/']\n",
    "    results = []\n",
    "    result=''\n",
    "\n",
    "    for digits_perm in itertools.permutations(digits, 4):\n",
    "        for ops_perm in itertools.permutations(operators, 3):\n",
    "            expression = f\"{digits_perm[0]} {ops_perm[0]} {digits_perm[1]} {ops_perm[1]} {digits_perm[2]} {ops_perm[2]} {digits_perm[3]}\"\n",
    "            result = evaluate_expression(expression)\n",
    "            if result is not None and result == target:\n",
    "                #results.append(expression)\n",
    "                result=expression\n",
    "                return result"
   ]
  },
  {
   "cell_type": "markdown",
   "metadata": {
    "id": "tgrnsC2nkFa8"
   },
   "source": [
    "Calcula la complejidad del algoritmo por fuerza bruta"
   ]
  },
  {
   "cell_type": "markdown",
   "metadata": {
    "id": "9eUd3xwckP68"
   },
   "source": [
    "Respuesta"
   ]
  },
  {
   "cell_type": "markdown",
   "metadata": {
    "id": "rvZWwL-ckRST"
   },
   "source": [
    "La complejidad de este algoritmo por fuerza bruta es del orden de $O(n!)$ ya que se exploran todas las permutaciones hasta que se encuantra un valor que cumple la condicion.\n",
    "\n",
    "Este algoritmo es óptimo para valores de entrada pequeños, pero a medida que entra un nuevo elemento u operado la complejidad crece considerablemente.\n"
   ]
  },
  {
   "cell_type": "markdown",
   "metadata": {
    "id": "txbrmLmskReM"
   },
   "source": [
    "(*)Diseña un algoritmo que mejore la complejidad del algortimo por fuerza bruta. Argumenta porque crees que mejora el algoritmo por fuerza bruta"
   ]
  },
  {
   "cell_type": "markdown",
   "metadata": {
    "id": "hLrVwt5QkZPD"
   },
   "source": [
    "Respuesta"
   ]
  },
  {
   "cell_type": "code",
   "execution_count": 5,
   "metadata": {
    "id": "m1eyM21Vkabg"
   },
   "outputs": [
    {
     "name": "stdout",
     "output_type": "stream",
     "text": [
      "Expresiones que dan como resultado el valor deseado:\n"
     ]
    }
   ],
   "source": [
    "\n",
    "  def evaluate_expression(expression):\n",
    "    try:\n",
    "        return eval(expression)\n",
    "    except ZeroDivisionError:\n",
    "        return None\n",
    "\n",
    "def find_combinations(target, digits, operators):\n",
    "    def backtrack(expression, used_digits, used_operators):\n",
    "        if len(expression) == 7:\n",
    "            result = evaluate_expression(expression)\n",
    "            if result is not None and result == target:\n",
    "                return expression\n",
    "            return None\n",
    "\n",
    "        results = []\n",
    "        for digit in digits:\n",
    "            if not used_digits[digit]:\n",
    "                for op in operators:\n",
    "                    if not used_operators[op]:\n",
    "                        if len(expression) == 0 or expression[-1].isdigit() != str(digit).isdigit():\n",
    "                            new_expression = expression + str(digit) + \" \" + op + \" \"\n",
    "                            used_digits[digit] = True\n",
    "                            used_operators[op] = True\n",
    "                            result = backtrack(new_expression, used_digits, used_operators)\n",
    "                            if result:\n",
    "                                results.append(result)\n",
    "                            used_digits[digit] = False\n",
    "                            used_operators[op] = False\n",
    "\n",
    "        return results\n",
    "\n",
    "    used_digits = {digit: False for digit in digits}\n",
    "    used_operators = {op: False for op in operators}\n",
    "    return backtrack(\"\", used_digits, used_operators)\n",
    "\n",
    "target = 42\n",
    "digits = [1, 2, 3, 4, 5, 6, 7, 8, 9]\n",
    "operators = ['+', '-', '*', '/']\n",
    "\n",
    "results = find_combinations(target, digits, operators)\n",
    "print(\"Expresiones que dan como resultado el valor deseado:\")\n",
    "for result in results:\n",
    "    print(result)\n",
    "\n"
   ]
  },
  {
   "cell_type": "markdown",
   "metadata": {
    "id": "eGDB4K6uk1iN"
   },
   "source": [
    "(*)Calcula la complejidad del algoritmo"
   ]
  },
  {
   "cell_type": "markdown",
   "metadata": {
    "id": "NhpTh_BPk1ms"
   },
   "source": [
    "Respuesta"
   ]
  },
  {
   "cell_type": "markdown",
   "metadata": {
    "id": "nREzhkStlCq8"
   },
   "source": [
    "Si añadiesemos recursividad a este algoritmo por fuerza bruta la nueva complejidad seria exponencial y no factorial"
   ]
  },
  {
   "cell_type": "markdown",
   "metadata": {
    "id": "3M6QjTsSkmYe"
   },
   "source": [
    "Según el problema (y tenga sentido), diseña un juego de datos de entrada aleatorios"
   ]
  },
  {
   "cell_type": "markdown",
   "metadata": {
    "id": "Jc3_OlyNkvjZ"
   },
   "source": [
    "Respuesta"
   ]
  },
  {
   "cell_type": "code",
   "execution_count": 6,
   "metadata": {
    "id": "sJ-N2etjkyWc"
   },
   "outputs": [
    {
     "name": "stdout",
     "output_type": "stream",
     "text": [
      "[1, 10, 12, 22, 22, 60, 64, 75, 81]\n"
     ]
    }
   ],
   "source": [
    "import random\n",
    "\n",
    "random_digits = [random.randint(1, 99) for _ in range(9)]\n",
    "\n",
    "random_digits.sort()\n",
    "print(random_digits)"
   ]
  },
  {
   "cell_type": "markdown",
   "metadata": {
    "id": "zy5ZROmjlGo1"
   },
   "source": [
    "Aplica el algoritmo al juego de datos generado"
   ]
  },
  {
   "cell_type": "markdown",
   "metadata": {
    "id": "_Cmj-PVylMsa"
   },
   "source": [
    "Respuesta"
   ]
  },
  {
   "cell_type": "code",
   "execution_count": 7,
   "metadata": {
    "id": "Jkx8GeiYlUz1"
   },
   "outputs": [
    {
     "name": "stdout",
     "output_type": "stream",
     "text": [
      "1 * 10 - 60 / 12 = 5\n"
     ]
    }
   ],
   "source": [
    "import itertools\n",
    "\n",
    "def evaluate_expression(expression):\n",
    "   \n",
    "    try:\n",
    "        return eval(expression)\n",
    "    except ZeroDivisionError:\n",
    "        return None\n",
    "\n",
    "def find_combinations(target, digits):\n",
    "    \n",
    "    operators = ['+', '-', '*', '/']\n",
    "    results = []\n",
    "    result=''\n",
    "\n",
    "    for digits_perm in itertools.permutations(digits, 4):\n",
    "        for ops_perm in itertools.permutations(operators, 3):\n",
    "            expression = f\"{digits_perm[0]} {ops_perm[0]} {digits_perm[1]} {ops_perm[1]} {digits_perm[2]} {ops_perm[2]} {digits_perm[3]}\"\n",
    "            result = evaluate_expression(expression)\n",
    "            if result is not None and result == target:\n",
    "                #results.append(expression)\n",
    "                result=expression\n",
    "                return result\n",
    "\n",
    "    #return results\n",
    "\n",
    "\n",
    "target_number = 5\n",
    "combinations = find_combinations(target_number, random_digits)\n",
    "print(f'{combinations} = {target_number}')"
   ]
  },
  {
   "cell_type": "markdown",
   "metadata": {
    "id": "eTFWUJQrtGcv"
   },
   "source": [
    "Enumera las referencias que has utilizado(si ha sido necesario) para llevar a cabo el trabajo"
   ]
  },
  {
   "cell_type": "markdown",
   "metadata": {
    "id": "YKQ_mRBttWsP"
   },
   "source": [
    "ChatGPT uso de la libreria itertools , no sabia utilizarla y es una buena libreria para hacer combinaciones, permutaciones , etc..."
   ]
  },
  {
   "cell_type": "markdown",
   "metadata": {
    "id": "kAkDPUyRtYyH"
   },
   "source": [
    "Describe brevemente las lineas de como crees que es posible avanzar en el estudio del problema. Ten en cuenta incluso posibles variaciones del problema y/o variaciones al alza del tamaño"
   ]
  },
  {
   "cell_type": "markdown",
   "metadata": {
    "id": "IE0uZmo-tZu-"
   },
   "source": [
    "Respuesta"
   ]
  }
 ],
 "metadata": {
  "colab": {
   "provenance": []
  },
  "kernelspec": {
   "display_name": "Python 3 (ipykernel)",
   "language": "python",
   "name": "python3"
  },
  "language_info": {
   "codemirror_mode": {
    "name": "ipython",
    "version": 3
   },
   "file_extension": ".py",
   "mimetype": "text/x-python",
   "name": "python",
   "nbconvert_exporter": "python",
   "pygments_lexer": "ipython3",
   "version": "3.10.9"
  }
 },
 "nbformat": 4,
 "nbformat_minor": 4
}
