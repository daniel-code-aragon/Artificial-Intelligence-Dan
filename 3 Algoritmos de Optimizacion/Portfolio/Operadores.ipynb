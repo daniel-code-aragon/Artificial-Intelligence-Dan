{
 "cells": [
  {
   "cell_type": "code",
   "execution_count": 19,
   "id": "b0688362-4353-473d-9a85-d29cfa74343c",
   "metadata": {
    "tags": []
   },
   "outputs": [
    {
     "name": "stdout",
     "output_type": "stream",
     "text": [
      "1 + 2 / 3 * 6 = 5\n"
     ]
    }
   ],
   "source": [
    "import itertools\n",
    "\n",
    "def evaluate_expression(expression):\n",
    "    # Función para evaluar una expresión matemática dada\n",
    "    try:\n",
    "        return eval(expression)\n",
    "    except ZeroDivisionError:\n",
    "        return None\n",
    "\n",
    "def find_combinations(target):\n",
    "    digits = [1, 2, 3, 4, 5, 6, 7, 8, 9]\n",
    "    operators = ['+', '-', '*', '/']\n",
    "    results = []\n",
    "    result=''\n",
    "\n",
    "    for digits_perm in itertools.permutations(digits, 4):\n",
    "        for ops_perm in itertools.permutations(operators, 3):\n",
    "            expression = f\"{digits_perm[0]} {ops_perm[0]} {digits_perm[1]} {ops_perm[1]} {digits_perm[2]} {ops_perm[2]} {digits_perm[3]}\"\n",
    "            result = evaluate_expression(expression)\n",
    "            if result is not None and result == target:\n",
    "                #results.append(expression)\n",
    "                result=expression\n",
    "                return result\n",
    "\n",
    "    #return results\n",
    "\n",
    "# Ejemplo de uso:\n",
    "target_number = 5\n",
    "combinations = find_combinations(target_number)\n",
    "print(f'{combinations} = {target_number}')\n",
    "#if combinations:\n",
    "    #print(f\"Combinaciones para obtener {target_number}:\")\n",
    "    #for combination in combinations:\n",
    "        #print(f\"{combination} = {target_number}\")\n",
    "#else:\n",
    "    #print(f\"No se encontraron combinaciones para obtener {target_number}.\")\n"
   ]
  },
  {
   "cell_type": "code",
   "execution_count": 22,
   "id": "5107a1a5-346b-4c2f-b895-e94f593863df",
   "metadata": {},
   "outputs": [
    {
     "name": "stdout",
     "output_type": "stream",
     "text": [
      "1 - 2 * 3 + 4 = -1\n",
      "1 + 2 * 3 - 5 = 2\n",
      "1 + 2 * 3 - 4 = 3\n",
      "1 * 2 - 3 + 5 = 4\n",
      "1 + 2 / 3 * 6 = 5\n",
      "1 * 2 - 3 + 7 = 6\n",
      "1 * 2 - 3 + 8 = 7\n",
      "1 * 2 - 3 + 9 = 8\n",
      "1 / 2 * 4 + 7 = 9\n"
     ]
    }
   ],
   "source": [
    "digits = [-1, 2, 3, 4, 5, 6, 7, 8, 9]\n",
    "for i in digits:\n",
    "    a = find_combinations(i)\n",
    "    print(f'{a} = {i}')"
   ]
  },
  {
   "cell_type": "code",
   "execution_count": 26,
   "id": "c8045b78-a328-4ae3-a007-569e3f4e5ac4",
   "metadata": {},
   "outputs": [
    {
     "name": "stdout",
     "output_type": "stream",
     "text": [
      "1 * 2 + 3 - 4 = 1\n",
      "1 - 2 * 3 + 5 = 0\n",
      "1 - 2 * 3 + 4 = -1\n",
      "1 * 2 + 3 - 7 = -2\n",
      "1 - 2 / 3 * 6 = -3\n",
      "1 * 2 + 3 - 9 = -4\n",
      "1 - 2 / 3 * 9 = -5\n",
      "1 / 2 * 4 - 8 = -6\n",
      "1 / 2 * 4 - 9 = -7\n",
      "1 - 2 * 6 + 3 = -8\n",
      "1 + 2 - 3 * 4 = -9\n",
      "1 - 2 * 7 + 3 = -10\n",
      "1 - 2 * 8 + 4 = -11\n",
      "1 + 2 - 3 * 5 = -12\n",
      "1 - 2 * 9 + 4 = -13\n",
      "1 - 2 * 9 + 3 = -14\n",
      "1 + 2 - 3 * 6 = -15\n",
      "1 + 3 - 4 * 5 = -16\n",
      "1 + 2 - 4 * 5 = -17\n",
      "1 + 2 - 3 * 7 = -18\n",
      "1 - 3 * 8 + 4 = -19\n",
      "1 + 3 - 4 * 6 = -20\n",
      "1 + 2 - 3 * 8 = -21\n",
      "1 - 3 * 9 + 4 = -22\n",
      "1 - 6 / 2 * 8 = -23\n",
      "1 + 2 - 3 * 9 = -24\n",
      "1 + 2 - 4 * 7 = -25\n",
      "1 + 3 - 5 * 6 = -26\n",
      "1 + 2 - 5 * 6 = -27\n",
      "1 + 3 - 4 * 8 = -28\n",
      "1 + 2 - 4 * 8 = -29\n",
      "1 + 4 - 5 * 7 = -30\n",
      "1 + 3 - 5 * 7 = -31\n",
      "1 + 2 - 5 * 7 = -32\n",
      "1 + 2 - 4 * 9 = -33\n",
      "2 / 1 - 4 * 9 = -34\n",
      "1 + 4 - 5 * 8 = -35\n",
      "1 + 3 - 5 * 8 = -36\n",
      "1 + 2 - 5 * 8 = -37\n",
      "1 + 3 - 6 * 7 = -38\n",
      "1 + 2 - 6 * 7 = -39\n",
      "1 + 4 - 5 * 9 = -40\n",
      "1 + 3 - 5 * 9 = -41\n",
      "1 + 2 - 5 * 9 = -42\n",
      "1 + 4 - 6 * 8 = -43\n",
      "1 + 3 - 6 * 8 = -44\n",
      "1 + 2 - 6 * 8 = -45\n",
      "1 - 6 * 9 + 7 = -46\n",
      "2 + 5 - 6 * 9 = -47\n",
      "1 + 5 - 6 * 9 = -48\n",
      "1 + 4 - 6 * 9 = -49\n",
      "1 + 3 - 6 * 9 = -50\n",
      "1 + 2 - 6 * 9 = -51\n",
      "1 + 3 - 7 * 8 = -52\n",
      "1 + 2 - 7 * 8 = -53\n",
      "1 - 7 * 9 + 8 = -54\n",
      "2 + 6 - 7 * 9 = -55\n",
      "1 + 6 - 7 * 9 = -56\n",
      "1 + 5 - 7 * 9 = -57\n",
      "1 + 4 - 7 * 9 = -58\n",
      "1 + 3 - 7 * 9 = -59\n",
      "1 + 2 - 7 * 9 = -60\n",
      "2 / 1 - 7 * 9 = -61\n",
      "3 + 7 - 8 * 9 = -62\n",
      "2 + 7 - 8 * 9 = -63\n",
      "1 + 7 - 8 * 9 = -64\n",
      "1 + 6 - 8 * 9 = -65\n",
      "1 + 5 - 8 * 9 = -66\n",
      "1 + 4 - 8 * 9 = -67\n",
      "1 + 3 - 8 * 9 = -68\n",
      "1 + 2 - 8 * 9 = -69\n",
      "2 / 1 - 8 * 9 = -70\n",
      "None = -71\n"
     ]
    }
   ],
   "source": [
    "c=1\n",
    "result=1\n",
    "while result!= None:\n",
    "    result = find_combinations(c)\n",
    "    print(f'{result} = {c}')\n",
    "    c-=1"
   ]
  },
  {
   "cell_type": "code",
   "execution_count": null,
   "id": "6d1d8046-9600-48e2-be4b-27568e99cbe1",
   "metadata": {},
   "outputs": [],
   "source": []
  }
 ],
 "metadata": {
  "kernelspec": {
   "display_name": "Python 3 (ipykernel)",
   "language": "python",
   "name": "python3"
  },
  "language_info": {
   "codemirror_mode": {
    "name": "ipython",
    "version": 3
   },
   "file_extension": ".py",
   "mimetype": "text/x-python",
   "name": "python",
   "nbconvert_exporter": "python",
   "pygments_lexer": "ipython3",
   "version": "3.10.9"
  }
 },
 "nbformat": 4,
 "nbformat_minor": 5
}
