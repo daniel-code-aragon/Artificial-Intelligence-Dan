{
 "cells": [
  {
   "cell_type": "markdown",
   "id": "5bae1ac7",
   "metadata": {},
   "source": [
    "<font color=\"#002856\"><h1 align=\"left\">Algoritmos de optimización</h1></font>\n",
    "<font color=\"#002856\"><h2 align=\"left\">VC-1 Introducción a los algoritmos</h2></font> \n",
    "\n",
    "#### Profesor: Juan Francisco Vallalta Rueda\n",
    "---"
   ]
  },
  {
   "cell_type": "markdown",
   "id": "d6a8c0a8",
   "metadata": {},
   "source": [
    "# Medir el tiempo de ejecución"
   ]
  },
  {
   "cell_type": "markdown",
   "id": "e37d9b38",
   "metadata": {},
   "source": [
    "Medir el tiempo de ejecución de un programa es una tarea muy importante, ya que programar no sólo consiste en crear código que funcione, sino código que pueda ser ejecutado en un tiempo razonable.\n",
    "\n",
    "La librería **time** nos permite medir el tiempo de ejecución en Python, utilizando el método  `time()`."
   ]
  },
  {
   "cell_type": "code",
   "execution_count": null,
   "id": "dc20e4d2",
   "metadata": {},
   "outputs": [],
   "source": [
    "# Medida del tiempo de ejecucion con time\n",
    "import time\n",
    "inicio = time.time()\n",
    "\n",
    "# Código a medir\n",
    "time.sleep(10)\n",
    "# -------------\n",
    "\n",
    "fin = time.time()\n",
    "print(fin-inicio) # 1.0005340576171875"
   ]
  },
  {
   "cell_type": "markdown",
   "id": "52b5fc0a",
   "metadata": {},
   "source": [
    "# Generación de números enteros aleatorios "
   ]
  },
  {
   "cell_type": "code",
   "execution_count": 6,
   "id": "ca5148de",
   "metadata": {},
   "outputs": [
    {
     "name": "stdout",
     "output_type": "stream",
     "text": [
      "[247, 388, 238, 812, 869, 300, 68, 627, 425, 258, 79, 54, 851, 666, 446, 811, 653, 85, 851, 689, 239, 136, 582, 27, 842, 781, 588, 840, 156, 164, 977, 453, 959, 567, 737, 784, 364, 141, 22, 548, 449, 577, 343, 142, 17, 97, 52, 283, 269, 126, 779, 983, 264, 675, 338, 529, 332, 640, 111, 626, 782, 208, 446, 821, 555, 687, 329, 396, 63, 922, 720, 717, 280, 859, 861, 374, 582, 976, 690, 142, 161, 885, 747, 71, 353, 795, 919, 650, 766, 19, 589, 243, 134, 827, 579, 292, 46, 254, 596, 132]\n"
     ]
    }
   ],
   "source": [
    "# Mödulo random\n",
    "import random\n",
    "\n",
    "# Inicialización del rango de números a generar\n",
    "inicio= 0\n",
    "fin = 1000\n",
    "cantidad = 100\n",
    "\n",
    "# Lista de números aleatorios\n",
    "numeros_aleatorios = [random.randint(inicio,fin) for i in range(cantidad)]\n",
    "print(numeros_aleatorios)"
   ]
  },
  {
   "cell_type": "markdown",
   "id": "c43d5913",
   "metadata": {},
   "source": [
    "# Ejercicios\n",
    "\n",
    "## Implementa  el algoritmo de Euclides para el cálculo del máximo común divisor de dos números enteros"
   ]
  },
  {
   "cell_type": "code",
   "execution_count": 7,
   "id": "af0a8a64",
   "metadata": {},
   "outputs": [
    {
     "name": "stdout",
     "output_type": "stream",
     "text": [
      "81 58\n"
     ]
    }
   ],
   "source": [
    "# Algoritmos de Euclides. \n",
    "a = random.randint(0,100)\n",
    "b= random.randint(0,100)\n",
    "print(a , b)\n",
    "\n",
    "def mcd(a,b):\n",
    "    \n",
    "    while b!=0:\n",
    "        a, b = b , a%b\n",
    "        print (a, b)\n",
    "        \n",
    "    return a, b\n",
    "\n"
   ]
  },
  {
   "cell_type": "code",
   "execution_count": 9,
   "id": "81bea47d",
   "metadata": {
    "tags": []
   },
   "outputs": [
    {
     "name": "stdout",
     "output_type": "stream",
     "text": [
      "24 12\n",
      "12 0\n",
      "(12, 0)\n"
     ]
    }
   ],
   "source": [
    "# Prueba del algoritmo\n",
    "print(mcd(60,24))\n",
    "\n"
   ]
  },
  {
   "cell_type": "markdown",
   "id": "fab2198d",
   "metadata": {},
   "source": [
    "## Implementa el algoritmo de Herón para el cálculo de la raiz cuadrada de un número entero. Calcula la raiz cuadrada de 13 con un error inferior a 0.000001"
   ]
  },
  {
   "cell_type": "code",
   "execution_count": 24,
   "id": "5108153f",
   "metadata": {},
   "outputs": [],
   "source": [
    "# Algoritmo de Herón\n",
    "import math\n",
    "\n",
    "\n",
    "def heron(n):\n",
    "    x=1\n",
    "    tol=1\n",
    "    while tol>= 1e-6:\n",
    "        x=0.5*(x+(n/x))\n",
    "        tol= x- math.sqrt(n)\n",
    "        print(x)\n",
    "        print(tol)\n",
    "    return x\n",
    "            \n",
    "    \n",
    "\n"
   ]
  },
  {
   "cell_type": "code",
   "execution_count": 26,
   "id": "32bfcfe8",
   "metadata": {},
   "outputs": [
    {
     "name": "stdout",
     "output_type": "stream",
     "text": [
      "8.5\n",
      "4.5\n",
      "5.1911764705882355\n",
      "1.1911764705882355\n",
      "4.136664722546242\n",
      "0.13666472254624207\n",
      "4.002257524798522\n",
      "0.002257524798522148\n",
      "4.000000636692939\n",
      "6.366929392598308e-07\n"
     ]
    },
    {
     "data": {
      "text/plain": [
       "4.000000636692939"
      ]
     },
     "execution_count": 26,
     "metadata": {},
     "output_type": "execute_result"
    }
   ],
   "source": [
    "# Prueba del algoritmo\n",
    "\n",
    "heron(16)\n",
    "\n"
   ]
  },
  {
   "cell_type": "markdown",
   "id": "9cbf8561",
   "metadata": {},
   "source": [
    "# Reto VC-1\n",
    "\n",
    "## Implementa el algoritmo de la Criba de Erastótenes para encontrar número primos. Encuentra los números primos entre los 10.000 primeros números naturales"
   ]
  },
  {
   "cell_type": "code",
   "execution_count": 2,
   "id": "288b5db6",
   "metadata": {},
   "outputs": [
    {
     "data": {
      "text/plain": [
       "True"
      ]
     },
     "execution_count": 2,
     "metadata": {},
     "output_type": "execute_result"
    }
   ],
   "source": [
    "# Criba de Erastótenes\n",
    "# Escribe a ti tu código\n",
    "    \n",
    "def es_primo(numero):\n",
    "    if numero <= 1:\n",
    "        return False\n",
    "    for i in range(2, int(numero**0.5) + 1):\n",
    "        if numero % i == 0:\n",
    "            return False\n",
    "    return True    \n",
    "    \n",
    "es_primo(11)\n"
   ]
  },
  {
   "cell_type": "code",
   "execution_count": null,
   "id": "0354b66a-ad1e-4ff7-bef3-e02968a92d16",
   "metadata": {},
   "outputs": [],
   "source": []
  }
 ],
 "metadata": {
  "kernelspec": {
   "display_name": "Python 3 (ipykernel)",
   "language": "python",
   "name": "python3"
  },
  "language_info": {
   "codemirror_mode": {
    "name": "ipython",
    "version": 3
   },
   "file_extension": ".py",
   "mimetype": "text/x-python",
   "name": "python",
   "nbconvert_exporter": "python",
   "pygments_lexer": "ipython3",
   "version": "3.10.9"
  }
 },
 "nbformat": 4,
 "nbformat_minor": 5
}
